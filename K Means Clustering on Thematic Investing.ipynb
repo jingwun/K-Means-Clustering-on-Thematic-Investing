{
 "cells": [
  {
   "cell_type": "markdown",
   "id": "strong-tulsa",
   "metadata": {},
   "source": [
    " "
   ]
  },
  {
   "cell_type": "markdown",
   "id": "adequate-rider",
   "metadata": {},
   "source": [
    "<br><font color = darkblue size=6><strong>K Means Clustering on Thematic Investing</strong></font>\n",
    "\n",
    "Identify the clusters of mega trends by analyzing thematic ETFs "
   ]
  },
  {
   "cell_type": "markdown",
   "id": "organized-cemetery",
   "metadata": {},
   "source": [
    "Thematic investing is a form of investment which aims to capture mega trends that can grow faster than the average economy over the long run. For example, if we want to capture the mega trend of aging population, then our thematic investing can be buying stocks related to senior housing, health care, etc.    \n",
    "\n",
    "Although the popularity of thematic investing is <a href=\"https://www.etftrends.com/thematic-investing-channel/newfound-popularity-of-thematic-etfs/\">increasing</a></div>, the categorization of stocks by mega trend is vague. For instance, some ETF providers have offerings on broad mega trends such as Energy Transition, whereas some providers further split this trend into two separate offerings on Smart Mobility and Clean Energy mega trends. \n",
    "\n",
    "With so many different definitions on mega trends, understanding the thematic investing landscape can be challenging. It would be nice if we could group these mega trends into a small number of classifications, according to some similarities.\n",
    "\n",
    "This article illustrates my application of K Means Clustering on grouping the mega trends. The Python implementation of this project is available on my GitHub."
   ]
  },
  {
   "cell_type": "markdown",
   "id": "beginning-bikini",
   "metadata": {},
   "source": [
    "# Data collection"
   ]
  },
  {
   "cell_type": "markdown",
   "id": "elegant-technician",
   "metadata": {},
   "source": [
    "To collect varied definitions on mega trends, I used <a href=\"https://www.etf.com/channels/theme-investing\">etf.com</a></div> database to compile a list of thematic ETFs. At the time of writing, there were 143 ETFs in total. I saved the list in an Excel file named `Thematic ETFs.xlsx` and here shows the first five:"
   ]
  },
  {
   "cell_type": "code",
   "execution_count": 1,
   "id": "raised-national",
   "metadata": {
    "scrolled": true
   },
   "outputs": [
    {
     "data": {
      "text/html": [
       "<div>\n",
       "<style scoped>\n",
       "    .dataframe tbody tr th:only-of-type {\n",
       "        vertical-align: middle;\n",
       "    }\n",
       "\n",
       "    .dataframe tbody tr th {\n",
       "        vertical-align: top;\n",
       "    }\n",
       "\n",
       "    .dataframe thead th {\n",
       "        text-align: right;\n",
       "    }\n",
       "</style>\n",
       "<table border=\"1\" class=\"dataframe\">\n",
       "  <thead>\n",
       "    <tr style=\"text-align: right;\">\n",
       "      <th></th>\n",
       "      <th>Fund Name</th>\n",
       "      <th>Issuer</th>\n",
       "      <th>AUM</th>\n",
       "      <th>Expense Ratio</th>\n",
       "      <th>3-Mo TR</th>\n",
       "      <th>Segment</th>\n",
       "    </tr>\n",
       "    <tr>\n",
       "      <th>Ticker</th>\n",
       "      <th></th>\n",
       "      <th></th>\n",
       "      <th></th>\n",
       "      <th></th>\n",
       "      <th></th>\n",
       "      <th></th>\n",
       "    </tr>\n",
       "  </thead>\n",
       "  <tbody>\n",
       "    <tr>\n",
       "      <th>ARKK</th>\n",
       "      <td>ARK Innovation ETF</td>\n",
       "      <td>ARK</td>\n",
       "      <td>$23.69B</td>\n",
       "      <td>0.0075</td>\n",
       "      <td>-0.1588</td>\n",
       "      <td>Equity: Global Theme Broad-based</td>\n",
       "    </tr>\n",
       "    <tr>\n",
       "      <th>ARKW</th>\n",
       "      <td>ARK Next Generation Internet ETF</td>\n",
       "      <td>ARK</td>\n",
       "      <td>$6.79B</td>\n",
       "      <td>0.0079</td>\n",
       "      <td>-0.0806</td>\n",
       "      <td>Equity: Global Internet</td>\n",
       "    </tr>\n",
       "    <tr>\n",
       "      <th>ICLN</th>\n",
       "      <td>iShares Global Clean Energy ETF</td>\n",
       "      <td>Blackrock</td>\n",
       "      <td>$5.59B</td>\n",
       "      <td>0.0046</td>\n",
       "      <td>-0.2811</td>\n",
       "      <td>Equity:Global Renewable Energy</td>\n",
       "    </tr>\n",
       "    <tr>\n",
       "      <th>GUNR</th>\n",
       "      <td>FlexShares Morningstar Global Upstream Natural...</td>\n",
       "      <td>Northern Trust</td>\n",
       "      <td>$5.05B</td>\n",
       "      <td>0.0046</td>\n",
       "      <td>0.0889</td>\n",
       "      <td>Equity: Global Natural Resources</td>\n",
       "    </tr>\n",
       "    <tr>\n",
       "      <th>ARKF</th>\n",
       "      <td>ARK Fintech Innovation ETF</td>\n",
       "      <td>ARK</td>\n",
       "      <td>$4.20B</td>\n",
       "      <td>0.0075</td>\n",
       "      <td>-0.0303</td>\n",
       "      <td>Equity: Global Technology</td>\n",
       "    </tr>\n",
       "  </tbody>\n",
       "</table>\n",
       "</div>"
      ],
      "text/plain": [
       "                                                Fund Name          Issuer  \\\n",
       "Ticker                                                                      \n",
       "ARKK                                   ARK Innovation ETF             ARK   \n",
       "ARKW                     ARK Next Generation Internet ETF             ARK   \n",
       "ICLN                      iShares Global Clean Energy ETF       Blackrock   \n",
       "GUNR    FlexShares Morningstar Global Upstream Natural...  Northern Trust   \n",
       "ARKF                           ARK Fintech Innovation ETF             ARK   \n",
       "\n",
       "            AUM  Expense Ratio 3-Mo TR                           Segment  \n",
       "Ticker                                                                    \n",
       "ARKK    $23.69B         0.0075 -0.1588  Equity: Global Theme Broad-based  \n",
       "ARKW     $6.79B         0.0079 -0.0806           Equity: Global Internet  \n",
       "ICLN     $5.59B         0.0046 -0.2811    Equity:Global Renewable Energy  \n",
       "GUNR     $5.05B         0.0046  0.0889  Equity: Global Natural Resources  \n",
       "ARKF     $4.20B         0.0075 -0.0303         Equity: Global Technology  "
      ]
     },
     "execution_count": 1,
     "metadata": {},
     "output_type": "execute_result"
    }
   ],
   "source": [
    "# import libraries\n",
    "import pandas as pd\n",
    "\n",
    "# load the list of thematic ETFs\n",
    "ETF = pd.read_excel('Thematic ETFs.xlsx', skiprows=1, index_col=0)\n",
    "ETF.head()"
   ]
  },
  {
   "cell_type": "markdown",
   "id": "usual-subdivision",
   "metadata": {},
   "source": [
    "These ETFs are provided by a wide variety of issuers, 41 in total. This is ideal because we get to capture a wide variety of mega trend definitions."
   ]
  },
  {
   "cell_type": "code",
   "execution_count": 2,
   "id": "combined-briefing",
   "metadata": {
    "scrolled": false
   },
   "outputs": [
    {
     "data": {
      "text/html": [
       "        <script type=\"text/javascript\">\n",
       "        window.PlotlyConfig = {MathJaxConfig: 'local'};\n",
       "        if (window.MathJax) {MathJax.Hub.Config({SVG: {font: \"STIX-Web\"}});}\n",
       "        if (typeof require !== 'undefined') {\n",
       "        require.undef(\"plotly\");\n",
       "        requirejs.config({\n",
       "            paths: {\n",
       "                'plotly': ['https://cdn.plot.ly/plotly-latest.min']\n",
       "            }\n",
       "        });\n",
       "        require(['plotly'], function(Plotly) {\n",
       "            window._Plotly = Plotly;\n",
       "        });\n",
       "        }\n",
       "        </script>\n",
       "        "
      ]
     },
     "metadata": {},
     "output_type": "display_data"
    },
    {
     "data": {
      "application/vnd.plotly.v1+json": {
       "config": {
        "linkText": "Export to plot.ly",
        "plotlyServerURL": "https://plot.ly",
        "showLink": true
       },
       "data": [
        {
         "marker": {
          "color": "rgba(255, 153, 51, 0.6)",
          "line": {
           "color": "rgba(255, 153, 51, 1.0)",
           "width": 1
          }
         },
         "name": "None",
         "orientation": "v",
         "text": "",
         "type": "bar",
         "x": [
          "AGF",
          "ARK",
          "AdvisorShares",
          "Amplify Investments",
          "BMO",
          "Blackrock",
          "CICC",
          "Cambria",
          "Columbia Management Investment Advisers, LLC",
          "Defiance ETFs",
          "Direxion",
          "ETFMG",
          "Emles Advisors LLC",
          "Esoterica",
          "Exchange Traded Concepts",
          "Fidelity",
          "First Trust",
          "Franklin Templeton",
          "Goldman Sachs",
          "Guinness Atkinson Asset Management",
          "Invesco",
          "JPMorgan Chase",
          "Janus Henderson",
          "Main Management",
          "Mirae Asset",
          "New York Life",
          "Northern Trust",
          "OBP Capital LLC",
          "Principal",
          "ProShares",
          "Roundhill Investments",
          "SRN Advisors",
          "SS&C",
          "Simplify Asset Management Inc.",
          "State Street Global Advisors",
          "The Hartford",
          "Toroso Investments",
          "Tortoise",
          "TrueMark Investments",
          "VanEck",
          "WisdomTree Investments, Inc."
         ],
         "y": [
          1,
          5,
          2,
          4,
          2,
          14,
          3,
          1,
          2,
          2,
          6,
          4,
          2,
          1,
          6,
          1,
          11,
          2,
          1,
          2,
          9,
          1,
          1,
          1,
          22,
          2,
          2,
          1,
          1,
          4,
          1,
          1,
          1,
          3,
          8,
          1,
          1,
          2,
          1,
          7,
          1
         ]
        }
       ],
       "layout": {
        "legend": {
         "bgcolor": "#F5F6F9",
         "font": {
          "color": "#4D5663"
         }
        },
        "paper_bgcolor": "#F5F6F9",
        "plot_bgcolor": "#F5F6F9",
        "template": {
         "data": {
          "bar": [
           {
            "error_x": {
             "color": "#2a3f5f"
            },
            "error_y": {
             "color": "#2a3f5f"
            },
            "marker": {
             "line": {
              "color": "#E5ECF6",
              "width": 0.5
             }
            },
            "type": "bar"
           }
          ],
          "barpolar": [
           {
            "marker": {
             "line": {
              "color": "#E5ECF6",
              "width": 0.5
             }
            },
            "type": "barpolar"
           }
          ],
          "carpet": [
           {
            "aaxis": {
             "endlinecolor": "#2a3f5f",
             "gridcolor": "white",
             "linecolor": "white",
             "minorgridcolor": "white",
             "startlinecolor": "#2a3f5f"
            },
            "baxis": {
             "endlinecolor": "#2a3f5f",
             "gridcolor": "white",
             "linecolor": "white",
             "minorgridcolor": "white",
             "startlinecolor": "#2a3f5f"
            },
            "type": "carpet"
           }
          ],
          "choropleth": [
           {
            "colorbar": {
             "outlinewidth": 0,
             "ticks": ""
            },
            "type": "choropleth"
           }
          ],
          "contour": [
           {
            "colorbar": {
             "outlinewidth": 0,
             "ticks": ""
            },
            "colorscale": [
             [
              0,
              "#0d0887"
             ],
             [
              0.1111111111111111,
              "#46039f"
             ],
             [
              0.2222222222222222,
              "#7201a8"
             ],
             [
              0.3333333333333333,
              "#9c179e"
             ],
             [
              0.4444444444444444,
              "#bd3786"
             ],
             [
              0.5555555555555556,
              "#d8576b"
             ],
             [
              0.6666666666666666,
              "#ed7953"
             ],
             [
              0.7777777777777778,
              "#fb9f3a"
             ],
             [
              0.8888888888888888,
              "#fdca26"
             ],
             [
              1,
              "#f0f921"
             ]
            ],
            "type": "contour"
           }
          ],
          "contourcarpet": [
           {
            "colorbar": {
             "outlinewidth": 0,
             "ticks": ""
            },
            "type": "contourcarpet"
           }
          ],
          "heatmap": [
           {
            "colorbar": {
             "outlinewidth": 0,
             "ticks": ""
            },
            "colorscale": [
             [
              0,
              "#0d0887"
             ],
             [
              0.1111111111111111,
              "#46039f"
             ],
             [
              0.2222222222222222,
              "#7201a8"
             ],
             [
              0.3333333333333333,
              "#9c179e"
             ],
             [
              0.4444444444444444,
              "#bd3786"
             ],
             [
              0.5555555555555556,
              "#d8576b"
             ],
             [
              0.6666666666666666,
              "#ed7953"
             ],
             [
              0.7777777777777778,
              "#fb9f3a"
             ],
             [
              0.8888888888888888,
              "#fdca26"
             ],
             [
              1,
              "#f0f921"
             ]
            ],
            "type": "heatmap"
           }
          ],
          "heatmapgl": [
           {
            "colorbar": {
             "outlinewidth": 0,
             "ticks": ""
            },
            "colorscale": [
             [
              0,
              "#0d0887"
             ],
             [
              0.1111111111111111,
              "#46039f"
             ],
             [
              0.2222222222222222,
              "#7201a8"
             ],
             [
              0.3333333333333333,
              "#9c179e"
             ],
             [
              0.4444444444444444,
              "#bd3786"
             ],
             [
              0.5555555555555556,
              "#d8576b"
             ],
             [
              0.6666666666666666,
              "#ed7953"
             ],
             [
              0.7777777777777778,
              "#fb9f3a"
             ],
             [
              0.8888888888888888,
              "#fdca26"
             ],
             [
              1,
              "#f0f921"
             ]
            ],
            "type": "heatmapgl"
           }
          ],
          "histogram": [
           {
            "marker": {
             "colorbar": {
              "outlinewidth": 0,
              "ticks": ""
             }
            },
            "type": "histogram"
           }
          ],
          "histogram2d": [
           {
            "colorbar": {
             "outlinewidth": 0,
             "ticks": ""
            },
            "colorscale": [
             [
              0,
              "#0d0887"
             ],
             [
              0.1111111111111111,
              "#46039f"
             ],
             [
              0.2222222222222222,
              "#7201a8"
             ],
             [
              0.3333333333333333,
              "#9c179e"
             ],
             [
              0.4444444444444444,
              "#bd3786"
             ],
             [
              0.5555555555555556,
              "#d8576b"
             ],
             [
              0.6666666666666666,
              "#ed7953"
             ],
             [
              0.7777777777777778,
              "#fb9f3a"
             ],
             [
              0.8888888888888888,
              "#fdca26"
             ],
             [
              1,
              "#f0f921"
             ]
            ],
            "type": "histogram2d"
           }
          ],
          "histogram2dcontour": [
           {
            "colorbar": {
             "outlinewidth": 0,
             "ticks": ""
            },
            "colorscale": [
             [
              0,
              "#0d0887"
             ],
             [
              0.1111111111111111,
              "#46039f"
             ],
             [
              0.2222222222222222,
              "#7201a8"
             ],
             [
              0.3333333333333333,
              "#9c179e"
             ],
             [
              0.4444444444444444,
              "#bd3786"
             ],
             [
              0.5555555555555556,
              "#d8576b"
             ],
             [
              0.6666666666666666,
              "#ed7953"
             ],
             [
              0.7777777777777778,
              "#fb9f3a"
             ],
             [
              0.8888888888888888,
              "#fdca26"
             ],
             [
              1,
              "#f0f921"
             ]
            ],
            "type": "histogram2dcontour"
           }
          ],
          "mesh3d": [
           {
            "colorbar": {
             "outlinewidth": 0,
             "ticks": ""
            },
            "type": "mesh3d"
           }
          ],
          "parcoords": [
           {
            "line": {
             "colorbar": {
              "outlinewidth": 0,
              "ticks": ""
             }
            },
            "type": "parcoords"
           }
          ],
          "pie": [
           {
            "automargin": true,
            "type": "pie"
           }
          ],
          "scatter": [
           {
            "marker": {
             "colorbar": {
              "outlinewidth": 0,
              "ticks": ""
             }
            },
            "type": "scatter"
           }
          ],
          "scatter3d": [
           {
            "line": {
             "colorbar": {
              "outlinewidth": 0,
              "ticks": ""
             }
            },
            "marker": {
             "colorbar": {
              "outlinewidth": 0,
              "ticks": ""
             }
            },
            "type": "scatter3d"
           }
          ],
          "scattercarpet": [
           {
            "marker": {
             "colorbar": {
              "outlinewidth": 0,
              "ticks": ""
             }
            },
            "type": "scattercarpet"
           }
          ],
          "scattergeo": [
           {
            "marker": {
             "colorbar": {
              "outlinewidth": 0,
              "ticks": ""
             }
            },
            "type": "scattergeo"
           }
          ],
          "scattergl": [
           {
            "marker": {
             "colorbar": {
              "outlinewidth": 0,
              "ticks": ""
             }
            },
            "type": "scattergl"
           }
          ],
          "scattermapbox": [
           {
            "marker": {
             "colorbar": {
              "outlinewidth": 0,
              "ticks": ""
             }
            },
            "type": "scattermapbox"
           }
          ],
          "scatterpolar": [
           {
            "marker": {
             "colorbar": {
              "outlinewidth": 0,
              "ticks": ""
             }
            },
            "type": "scatterpolar"
           }
          ],
          "scatterpolargl": [
           {
            "marker": {
             "colorbar": {
              "outlinewidth": 0,
              "ticks": ""
             }
            },
            "type": "scatterpolargl"
           }
          ],
          "scatterternary": [
           {
            "marker": {
             "colorbar": {
              "outlinewidth": 0,
              "ticks": ""
             }
            },
            "type": "scatterternary"
           }
          ],
          "surface": [
           {
            "colorbar": {
             "outlinewidth": 0,
             "ticks": ""
            },
            "colorscale": [
             [
              0,
              "#0d0887"
             ],
             [
              0.1111111111111111,
              "#46039f"
             ],
             [
              0.2222222222222222,
              "#7201a8"
             ],
             [
              0.3333333333333333,
              "#9c179e"
             ],
             [
              0.4444444444444444,
              "#bd3786"
             ],
             [
              0.5555555555555556,
              "#d8576b"
             ],
             [
              0.6666666666666666,
              "#ed7953"
             ],
             [
              0.7777777777777778,
              "#fb9f3a"
             ],
             [
              0.8888888888888888,
              "#fdca26"
             ],
             [
              1,
              "#f0f921"
             ]
            ],
            "type": "surface"
           }
          ],
          "table": [
           {
            "cells": {
             "fill": {
              "color": "#EBF0F8"
             },
             "line": {
              "color": "white"
             }
            },
            "header": {
             "fill": {
              "color": "#C8D4E3"
             },
             "line": {
              "color": "white"
             }
            },
            "type": "table"
           }
          ]
         },
         "layout": {
          "annotationdefaults": {
           "arrowcolor": "#2a3f5f",
           "arrowhead": 0,
           "arrowwidth": 1
          },
          "autotypenumbers": "strict",
          "coloraxis": {
           "colorbar": {
            "outlinewidth": 0,
            "ticks": ""
           }
          },
          "colorscale": {
           "diverging": [
            [
             0,
             "#8e0152"
            ],
            [
             0.1,
             "#c51b7d"
            ],
            [
             0.2,
             "#de77ae"
            ],
            [
             0.3,
             "#f1b6da"
            ],
            [
             0.4,
             "#fde0ef"
            ],
            [
             0.5,
             "#f7f7f7"
            ],
            [
             0.6,
             "#e6f5d0"
            ],
            [
             0.7,
             "#b8e186"
            ],
            [
             0.8,
             "#7fbc41"
            ],
            [
             0.9,
             "#4d9221"
            ],
            [
             1,
             "#276419"
            ]
           ],
           "sequential": [
            [
             0,
             "#0d0887"
            ],
            [
             0.1111111111111111,
             "#46039f"
            ],
            [
             0.2222222222222222,
             "#7201a8"
            ],
            [
             0.3333333333333333,
             "#9c179e"
            ],
            [
             0.4444444444444444,
             "#bd3786"
            ],
            [
             0.5555555555555556,
             "#d8576b"
            ],
            [
             0.6666666666666666,
             "#ed7953"
            ],
            [
             0.7777777777777778,
             "#fb9f3a"
            ],
            [
             0.8888888888888888,
             "#fdca26"
            ],
            [
             1,
             "#f0f921"
            ]
           ],
           "sequentialminus": [
            [
             0,
             "#0d0887"
            ],
            [
             0.1111111111111111,
             "#46039f"
            ],
            [
             0.2222222222222222,
             "#7201a8"
            ],
            [
             0.3333333333333333,
             "#9c179e"
            ],
            [
             0.4444444444444444,
             "#bd3786"
            ],
            [
             0.5555555555555556,
             "#d8576b"
            ],
            [
             0.6666666666666666,
             "#ed7953"
            ],
            [
             0.7777777777777778,
             "#fb9f3a"
            ],
            [
             0.8888888888888888,
             "#fdca26"
            ],
            [
             1,
             "#f0f921"
            ]
           ]
          },
          "colorway": [
           "#636efa",
           "#EF553B",
           "#00cc96",
           "#ab63fa",
           "#FFA15A",
           "#19d3f3",
           "#FF6692",
           "#B6E880",
           "#FF97FF",
           "#FECB52"
          ],
          "font": {
           "color": "#2a3f5f"
          },
          "geo": {
           "bgcolor": "white",
           "lakecolor": "white",
           "landcolor": "#E5ECF6",
           "showlakes": true,
           "showland": true,
           "subunitcolor": "white"
          },
          "hoverlabel": {
           "align": "left"
          },
          "hovermode": "closest",
          "mapbox": {
           "style": "light"
          },
          "paper_bgcolor": "white",
          "plot_bgcolor": "#E5ECF6",
          "polar": {
           "angularaxis": {
            "gridcolor": "white",
            "linecolor": "white",
            "ticks": ""
           },
           "bgcolor": "#E5ECF6",
           "radialaxis": {
            "gridcolor": "white",
            "linecolor": "white",
            "ticks": ""
           }
          },
          "scene": {
           "xaxis": {
            "backgroundcolor": "#E5ECF6",
            "gridcolor": "white",
            "gridwidth": 2,
            "linecolor": "white",
            "showbackground": true,
            "ticks": "",
            "zerolinecolor": "white"
           },
           "yaxis": {
            "backgroundcolor": "#E5ECF6",
            "gridcolor": "white",
            "gridwidth": 2,
            "linecolor": "white",
            "showbackground": true,
            "ticks": "",
            "zerolinecolor": "white"
           },
           "zaxis": {
            "backgroundcolor": "#E5ECF6",
            "gridcolor": "white",
            "gridwidth": 2,
            "linecolor": "white",
            "showbackground": true,
            "ticks": "",
            "zerolinecolor": "white"
           }
          },
          "shapedefaults": {
           "line": {
            "color": "#2a3f5f"
           }
          },
          "ternary": {
           "aaxis": {
            "gridcolor": "white",
            "linecolor": "white",
            "ticks": ""
           },
           "baxis": {
            "gridcolor": "white",
            "linecolor": "white",
            "ticks": ""
           },
           "bgcolor": "#E5ECF6",
           "caxis": {
            "gridcolor": "white",
            "linecolor": "white",
            "ticks": ""
           }
          },
          "title": {
           "x": 0.05
          },
          "xaxis": {
           "automargin": true,
           "gridcolor": "white",
           "linecolor": "white",
           "ticks": "",
           "title": {
            "standoff": 15
           },
           "zerolinecolor": "white",
           "zerolinewidth": 2
          },
          "yaxis": {
           "automargin": true,
           "gridcolor": "white",
           "linecolor": "white",
           "ticks": "",
           "title": {
            "standoff": 15
           },
           "zerolinecolor": "white",
           "zerolinewidth": 2
          }
         }
        },
        "title": {
         "font": {
          "color": "#4D5663"
         },
         "text": "ETF Issuers"
        },
        "xaxis": {
         "gridcolor": "#E1E5ED",
         "showgrid": true,
         "tickfont": {
          "color": "#4D5663"
         },
         "title": {
          "font": {
           "color": "#4D5663"
          },
          "text": ""
         },
         "zerolinecolor": "#E1E5ED"
        },
        "yaxis": {
         "gridcolor": "#E1E5ED",
         "showgrid": true,
         "tickfont": {
          "color": "#4D5663"
         },
         "title": {
          "font": {
           "color": "#4D5663"
          },
          "text": "Number of ETFs"
         },
         "zerolinecolor": "#E1E5ED"
        }
       }
      },
      "text/html": [
       "<div>                            <div id=\"aeba718c-23b8-4ecf-89a0-abaf91ab559b\" class=\"plotly-graph-div\" style=\"height:525px; width:100%;\"></div>            <script type=\"text/javascript\">                require([\"plotly\"], function(Plotly) {                    window.PLOTLYENV=window.PLOTLYENV || {};\n",
       "                    window.PLOTLYENV.BASE_URL='https://plot.ly';                                    if (document.getElementById(\"aeba718c-23b8-4ecf-89a0-abaf91ab559b\")) {                    Plotly.newPlot(                        \"aeba718c-23b8-4ecf-89a0-abaf91ab559b\",                        [{\"marker\": {\"color\": \"rgba(255, 153, 51, 0.6)\", \"line\": {\"color\": \"rgba(255, 153, 51, 1.0)\", \"width\": 1}}, \"name\": \"None\", \"orientation\": \"v\", \"text\": \"\", \"type\": \"bar\", \"x\": [\"AGF\", \"ARK\", \"AdvisorShares\", \"Amplify Investments\", \"BMO\", \"Blackrock\", \"CICC\", \"Cambria\", \"Columbia Management Investment Advisers, LLC\", \"Defiance ETFs\", \"Direxion\", \"ETFMG\", \"Emles Advisors LLC\", \"Esoterica\", \"Exchange Traded Concepts\", \"Fidelity\", \"First Trust\", \"Franklin Templeton\", \"Goldman Sachs\", \"Guinness Atkinson Asset Management\", \"Invesco\", \"JPMorgan Chase\", \"Janus Henderson\", \"Main Management\", \"Mirae Asset\", \"New York Life\", \"Northern Trust\", \"OBP Capital LLC\", \"Principal\", \"ProShares\", \"Roundhill Investments\", \"SRN Advisors\", \"SS&C\", \"Simplify Asset Management Inc.\", \"State Street Global Advisors\", \"The Hartford\", \"Toroso Investments\", \"Tortoise\", \"TrueMark Investments\", \"VanEck\", \"WisdomTree Investments, Inc.\"], \"y\": [1, 5, 2, 4, 2, 14, 3, 1, 2, 2, 6, 4, 2, 1, 6, 1, 11, 2, 1, 2, 9, 1, 1, 1, 22, 2, 2, 1, 1, 4, 1, 1, 1, 3, 8, 1, 1, 2, 1, 7, 1]}],                        {\"legend\": {\"bgcolor\": \"#F5F6F9\", \"font\": {\"color\": \"#4D5663\"}}, \"paper_bgcolor\": \"#F5F6F9\", \"plot_bgcolor\": \"#F5F6F9\", \"template\": {\"data\": {\"bar\": [{\"error_x\": {\"color\": \"#2a3f5f\"}, \"error_y\": {\"color\": \"#2a3f5f\"}, \"marker\": {\"line\": {\"color\": \"#E5ECF6\", \"width\": 0.5}}, \"type\": \"bar\"}], \"barpolar\": [{\"marker\": {\"line\": {\"color\": \"#E5ECF6\", \"width\": 0.5}}, \"type\": \"barpolar\"}], \"carpet\": [{\"aaxis\": {\"endlinecolor\": \"#2a3f5f\", \"gridcolor\": \"white\", \"linecolor\": \"white\", \"minorgridcolor\": \"white\", \"startlinecolor\": \"#2a3f5f\"}, \"baxis\": {\"endlinecolor\": \"#2a3f5f\", \"gridcolor\": \"white\", \"linecolor\": \"white\", \"minorgridcolor\": \"white\", \"startlinecolor\": \"#2a3f5f\"}, \"type\": \"carpet\"}], \"choropleth\": [{\"colorbar\": {\"outlinewidth\": 0, \"ticks\": \"\"}, \"type\": \"choropleth\"}], \"contour\": [{\"colorbar\": {\"outlinewidth\": 0, \"ticks\": \"\"}, \"colorscale\": [[0.0, \"#0d0887\"], [0.1111111111111111, \"#46039f\"], [0.2222222222222222, \"#7201a8\"], [0.3333333333333333, \"#9c179e\"], [0.4444444444444444, \"#bd3786\"], [0.5555555555555556, \"#d8576b\"], [0.6666666666666666, \"#ed7953\"], [0.7777777777777778, \"#fb9f3a\"], [0.8888888888888888, \"#fdca26\"], [1.0, \"#f0f921\"]], \"type\": \"contour\"}], \"contourcarpet\": [{\"colorbar\": {\"outlinewidth\": 0, \"ticks\": \"\"}, \"type\": \"contourcarpet\"}], \"heatmap\": [{\"colorbar\": {\"outlinewidth\": 0, \"ticks\": \"\"}, \"colorscale\": [[0.0, \"#0d0887\"], [0.1111111111111111, \"#46039f\"], [0.2222222222222222, \"#7201a8\"], [0.3333333333333333, \"#9c179e\"], [0.4444444444444444, \"#bd3786\"], [0.5555555555555556, \"#d8576b\"], [0.6666666666666666, \"#ed7953\"], [0.7777777777777778, \"#fb9f3a\"], [0.8888888888888888, \"#fdca26\"], [1.0, \"#f0f921\"]], \"type\": \"heatmap\"}], \"heatmapgl\": [{\"colorbar\": {\"outlinewidth\": 0, \"ticks\": \"\"}, \"colorscale\": [[0.0, \"#0d0887\"], [0.1111111111111111, \"#46039f\"], [0.2222222222222222, \"#7201a8\"], [0.3333333333333333, \"#9c179e\"], [0.4444444444444444, \"#bd3786\"], [0.5555555555555556, \"#d8576b\"], [0.6666666666666666, \"#ed7953\"], [0.7777777777777778, \"#fb9f3a\"], [0.8888888888888888, \"#fdca26\"], [1.0, \"#f0f921\"]], \"type\": \"heatmapgl\"}], \"histogram\": [{\"marker\": {\"colorbar\": {\"outlinewidth\": 0, \"ticks\": \"\"}}, \"type\": \"histogram\"}], \"histogram2d\": [{\"colorbar\": {\"outlinewidth\": 0, \"ticks\": \"\"}, \"colorscale\": [[0.0, \"#0d0887\"], [0.1111111111111111, \"#46039f\"], [0.2222222222222222, \"#7201a8\"], [0.3333333333333333, \"#9c179e\"], [0.4444444444444444, \"#bd3786\"], [0.5555555555555556, \"#d8576b\"], [0.6666666666666666, \"#ed7953\"], [0.7777777777777778, \"#fb9f3a\"], [0.8888888888888888, \"#fdca26\"], [1.0, \"#f0f921\"]], \"type\": \"histogram2d\"}], \"histogram2dcontour\": [{\"colorbar\": {\"outlinewidth\": 0, \"ticks\": \"\"}, \"colorscale\": [[0.0, \"#0d0887\"], [0.1111111111111111, \"#46039f\"], [0.2222222222222222, \"#7201a8\"], [0.3333333333333333, \"#9c179e\"], [0.4444444444444444, \"#bd3786\"], [0.5555555555555556, \"#d8576b\"], [0.6666666666666666, \"#ed7953\"], [0.7777777777777778, \"#fb9f3a\"], [0.8888888888888888, \"#fdca26\"], [1.0, \"#f0f921\"]], \"type\": \"histogram2dcontour\"}], \"mesh3d\": [{\"colorbar\": {\"outlinewidth\": 0, \"ticks\": \"\"}, \"type\": \"mesh3d\"}], \"parcoords\": [{\"line\": {\"colorbar\": {\"outlinewidth\": 0, \"ticks\": \"\"}}, \"type\": \"parcoords\"}], \"pie\": [{\"automargin\": true, \"type\": \"pie\"}], \"scatter\": [{\"marker\": {\"colorbar\": {\"outlinewidth\": 0, \"ticks\": \"\"}}, \"type\": \"scatter\"}], \"scatter3d\": [{\"line\": {\"colorbar\": {\"outlinewidth\": 0, \"ticks\": \"\"}}, \"marker\": {\"colorbar\": {\"outlinewidth\": 0, \"ticks\": \"\"}}, \"type\": \"scatter3d\"}], \"scattercarpet\": [{\"marker\": {\"colorbar\": {\"outlinewidth\": 0, \"ticks\": \"\"}}, \"type\": \"scattercarpet\"}], \"scattergeo\": [{\"marker\": {\"colorbar\": {\"outlinewidth\": 0, \"ticks\": \"\"}}, \"type\": \"scattergeo\"}], \"scattergl\": [{\"marker\": {\"colorbar\": {\"outlinewidth\": 0, \"ticks\": \"\"}}, \"type\": \"scattergl\"}], \"scattermapbox\": [{\"marker\": {\"colorbar\": {\"outlinewidth\": 0, \"ticks\": \"\"}}, \"type\": \"scattermapbox\"}], \"scatterpolar\": [{\"marker\": {\"colorbar\": {\"outlinewidth\": 0, \"ticks\": \"\"}}, \"type\": \"scatterpolar\"}], \"scatterpolargl\": [{\"marker\": {\"colorbar\": {\"outlinewidth\": 0, \"ticks\": \"\"}}, \"type\": \"scatterpolargl\"}], \"scatterternary\": [{\"marker\": {\"colorbar\": {\"outlinewidth\": 0, \"ticks\": \"\"}}, \"type\": \"scatterternary\"}], \"surface\": [{\"colorbar\": {\"outlinewidth\": 0, \"ticks\": \"\"}, \"colorscale\": [[0.0, \"#0d0887\"], [0.1111111111111111, \"#46039f\"], [0.2222222222222222, \"#7201a8\"], [0.3333333333333333, \"#9c179e\"], [0.4444444444444444, \"#bd3786\"], [0.5555555555555556, \"#d8576b\"], [0.6666666666666666, \"#ed7953\"], [0.7777777777777778, \"#fb9f3a\"], [0.8888888888888888, \"#fdca26\"], [1.0, \"#f0f921\"]], \"type\": \"surface\"}], \"table\": [{\"cells\": {\"fill\": {\"color\": \"#EBF0F8\"}, \"line\": {\"color\": \"white\"}}, \"header\": {\"fill\": {\"color\": \"#C8D4E3\"}, \"line\": {\"color\": \"white\"}}, \"type\": \"table\"}]}, \"layout\": {\"annotationdefaults\": {\"arrowcolor\": \"#2a3f5f\", \"arrowhead\": 0, \"arrowwidth\": 1}, \"autotypenumbers\": \"strict\", \"coloraxis\": {\"colorbar\": {\"outlinewidth\": 0, \"ticks\": \"\"}}, \"colorscale\": {\"diverging\": [[0, \"#8e0152\"], [0.1, \"#c51b7d\"], [0.2, \"#de77ae\"], [0.3, \"#f1b6da\"], [0.4, \"#fde0ef\"], [0.5, \"#f7f7f7\"], [0.6, \"#e6f5d0\"], [0.7, \"#b8e186\"], [0.8, \"#7fbc41\"], [0.9, \"#4d9221\"], [1, \"#276419\"]], \"sequential\": [[0.0, \"#0d0887\"], [0.1111111111111111, \"#46039f\"], [0.2222222222222222, \"#7201a8\"], [0.3333333333333333, \"#9c179e\"], [0.4444444444444444, \"#bd3786\"], [0.5555555555555556, \"#d8576b\"], [0.6666666666666666, \"#ed7953\"], [0.7777777777777778, \"#fb9f3a\"], [0.8888888888888888, \"#fdca26\"], [1.0, \"#f0f921\"]], \"sequentialminus\": [[0.0, \"#0d0887\"], [0.1111111111111111, \"#46039f\"], [0.2222222222222222, \"#7201a8\"], [0.3333333333333333, \"#9c179e\"], [0.4444444444444444, \"#bd3786\"], [0.5555555555555556, \"#d8576b\"], [0.6666666666666666, \"#ed7953\"], [0.7777777777777778, \"#fb9f3a\"], [0.8888888888888888, \"#fdca26\"], [1.0, \"#f0f921\"]]}, \"colorway\": [\"#636efa\", \"#EF553B\", \"#00cc96\", \"#ab63fa\", \"#FFA15A\", \"#19d3f3\", \"#FF6692\", \"#B6E880\", \"#FF97FF\", \"#FECB52\"], \"font\": {\"color\": \"#2a3f5f\"}, \"geo\": {\"bgcolor\": \"white\", \"lakecolor\": \"white\", \"landcolor\": \"#E5ECF6\", \"showlakes\": true, \"showland\": true, \"subunitcolor\": \"white\"}, \"hoverlabel\": {\"align\": \"left\"}, \"hovermode\": \"closest\", \"mapbox\": {\"style\": \"light\"}, \"paper_bgcolor\": \"white\", \"plot_bgcolor\": \"#E5ECF6\", \"polar\": {\"angularaxis\": {\"gridcolor\": \"white\", \"linecolor\": \"white\", \"ticks\": \"\"}, \"bgcolor\": \"#E5ECF6\", \"radialaxis\": {\"gridcolor\": \"white\", \"linecolor\": \"white\", \"ticks\": \"\"}}, \"scene\": {\"xaxis\": {\"backgroundcolor\": \"#E5ECF6\", \"gridcolor\": \"white\", \"gridwidth\": 2, \"linecolor\": \"white\", \"showbackground\": true, \"ticks\": \"\", \"zerolinecolor\": \"white\"}, \"yaxis\": {\"backgroundcolor\": \"#E5ECF6\", \"gridcolor\": \"white\", \"gridwidth\": 2, \"linecolor\": \"white\", \"showbackground\": true, \"ticks\": \"\", \"zerolinecolor\": \"white\"}, \"zaxis\": {\"backgroundcolor\": \"#E5ECF6\", \"gridcolor\": \"white\", \"gridwidth\": 2, \"linecolor\": \"white\", \"showbackground\": true, \"ticks\": \"\", \"zerolinecolor\": \"white\"}}, \"shapedefaults\": {\"line\": {\"color\": \"#2a3f5f\"}}, \"ternary\": {\"aaxis\": {\"gridcolor\": \"white\", \"linecolor\": \"white\", \"ticks\": \"\"}, \"baxis\": {\"gridcolor\": \"white\", \"linecolor\": \"white\", \"ticks\": \"\"}, \"bgcolor\": \"#E5ECF6\", \"caxis\": {\"gridcolor\": \"white\", \"linecolor\": \"white\", \"ticks\": \"\"}}, \"title\": {\"x\": 0.05}, \"xaxis\": {\"automargin\": true, \"gridcolor\": \"white\", \"linecolor\": \"white\", \"ticks\": \"\", \"title\": {\"standoff\": 15}, \"zerolinecolor\": \"white\", \"zerolinewidth\": 2}, \"yaxis\": {\"automargin\": true, \"gridcolor\": \"white\", \"linecolor\": \"white\", \"ticks\": \"\", \"title\": {\"standoff\": 15}, \"zerolinecolor\": \"white\", \"zerolinewidth\": 2}}}, \"title\": {\"font\": {\"color\": \"#4D5663\"}, \"text\": \"ETF Issuers\"}, \"xaxis\": {\"gridcolor\": \"#E1E5ED\", \"showgrid\": true, \"tickfont\": {\"color\": \"#4D5663\"}, \"title\": {\"font\": {\"color\": \"#4D5663\"}, \"text\": \"\"}, \"zerolinecolor\": \"#E1E5ED\"}, \"yaxis\": {\"gridcolor\": \"#E1E5ED\", \"showgrid\": true, \"tickfont\": {\"color\": \"#4D5663\"}, \"title\": {\"font\": {\"color\": \"#4D5663\"}, \"text\": \"Number of ETFs\"}, \"zerolinecolor\": \"#E1E5ED\"}},                        {\"showLink\": true, \"linkText\": \"Export to plot.ly\", \"plotlyServerURL\": \"https://plot.ly\", \"responsive\": true}                    ).then(function(){\n",
       "                            \n",
       "var gd = document.getElementById('aeba718c-23b8-4ecf-89a0-abaf91ab559b');\n",
       "var x = new MutationObserver(function (mutations, observer) {{\n",
       "        var display = window.getComputedStyle(gd).display;\n",
       "        if (!display || display === 'none') {{\n",
       "            console.log([gd, 'removed!']);\n",
       "            Plotly.purge(gd);\n",
       "            observer.disconnect();\n",
       "        }}\n",
       "}});\n",
       "\n",
       "// Listen for the removal of the full notebook cells\n",
       "var notebookContainer = gd.closest('#notebook-container');\n",
       "if (notebookContainer) {{\n",
       "    x.observe(notebookContainer, {childList: true});\n",
       "}}\n",
       "\n",
       "// Listen for the clearing of the current output cell\n",
       "var outputEl = gd.closest('.output');\n",
       "if (outputEl) {{\n",
       "    x.observe(outputEl, {childList: true});\n",
       "}}\n",
       "\n",
       "                        })                };                });            </script>        </div>"
      ]
     },
     "metadata": {},
     "output_type": "display_data"
    }
   ],
   "source": [
    "# check number of issuers\n",
    "issuers = ETF.groupby('Issuer').size()\n",
    "\n",
    "# plot the issuers\n",
    "import cufflinks as cf\n",
    "issuers.iplot(kind='bar', title='ETF Issuers', yTitle='Number of ETFs')"
   ]
  },
  {
   "cell_type": "markdown",
   "id": "handmade-flavor",
   "metadata": {},
   "source": [
    "## Price data"
   ]
  },
  {
   "cell_type": "markdown",
   "id": "classical-premises",
   "metadata": {},
   "source": [
    "Features related to an ETF could be its price data as well as holdings data. I first downloaded the price data for individual ETFs from Yahoo! Finance. The length of the return history varies across the ETFs. For example, ACES has a history of 713 days, whereas AGNG has 1,252 days. The majority of the ETFs have less than 2 years of history.  "
   ]
  },
  {
   "cell_type": "code",
   "execution_count": 3,
   "id": "vocal-priest",
   "metadata": {
    "scrolled": true
   },
   "outputs": [
    {
     "data": {
      "text/html": [
       "<div>\n",
       "<style scoped>\n",
       "    .dataframe tbody tr th:only-of-type {\n",
       "        vertical-align: middle;\n",
       "    }\n",
       "\n",
       "    .dataframe tbody tr th {\n",
       "        vertical-align: top;\n",
       "    }\n",
       "\n",
       "    .dataframe thead th {\n",
       "        text-align: right;\n",
       "    }\n",
       "</style>\n",
       "<table border=\"1\" class=\"dataframe\">\n",
       "  <thead>\n",
       "    <tr style=\"text-align: right;\">\n",
       "      <th></th>\n",
       "      <th>ACES</th>\n",
       "      <th>AGNG</th>\n",
       "      <th>AIQ</th>\n",
       "      <th>ANEW</th>\n",
       "      <th>AQWA</th>\n",
       "      <th>ARKF</th>\n",
       "      <th>ARKK</th>\n",
       "      <th>ARKQ</th>\n",
       "      <th>ARKW</th>\n",
       "      <th>BATT</th>\n",
       "      <th>...</th>\n",
       "      <th>VCAR</th>\n",
       "      <th>VCLO</th>\n",
       "      <th>VEGI</th>\n",
       "      <th>VFIN</th>\n",
       "      <th>WCBR</th>\n",
       "      <th>WFH</th>\n",
       "      <th>WOOD</th>\n",
       "      <th>WUGI</th>\n",
       "      <th>WWOW</th>\n",
       "      <th>YOLO</th>\n",
       "    </tr>\n",
       "  </thead>\n",
       "  <tbody>\n",
       "    <tr>\n",
       "      <th>count</th>\n",
       "      <td>718.000000</td>\n",
       "      <td>1257.000000</td>\n",
       "      <td>749.000000</td>\n",
       "      <td>139.000000</td>\n",
       "      <td>19.000000</td>\n",
       "      <td>569.000000</td>\n",
       "      <td>1639.000000</td>\n",
       "      <td>1662.000000</td>\n",
       "      <td>1662.000000</td>\n",
       "      <td>735.000000</td>\n",
       "      <td>...</td>\n",
       "      <td>89.000000</td>\n",
       "      <td>89.000000</td>\n",
       "      <td>2330.000000</td>\n",
       "      <td>89.000000</td>\n",
       "      <td>69.000000</td>\n",
       "      <td>218.000000</td>\n",
       "      <td>3239.000000</td>\n",
       "      <td>278.000000</td>\n",
       "      <td>96.000000</td>\n",
       "      <td>517.000000</td>\n",
       "    </tr>\n",
       "    <tr>\n",
       "      <th>mean</th>\n",
       "      <td>40.451674</td>\n",
       "      <td>20.595142</td>\n",
       "      <td>18.832375</td>\n",
       "      <td>42.413257</td>\n",
       "      <td>15.565332</td>\n",
       "      <td>31.710579</td>\n",
       "      <td>42.039328</td>\n",
       "      <td>32.465094</td>\n",
       "      <td>47.543240</td>\n",
       "      <td>12.115934</td>\n",
       "      <td>...</td>\n",
       "      <td>12.838992</td>\n",
       "      <td>11.616221</td>\n",
       "      <td>24.863447</td>\n",
       "      <td>11.886564</td>\n",
       "      <td>22.914812</td>\n",
       "      <td>61.792922</td>\n",
       "      <td>46.837862</td>\n",
       "      <td>44.006259</td>\n",
       "      <td>26.681873</td>\n",
       "      <td>15.269677</td>\n",
       "    </tr>\n",
       "    <tr>\n",
       "      <th>std</th>\n",
       "      <td>20.068181</td>\n",
       "      <td>3.843397</td>\n",
       "      <td>4.948656</td>\n",
       "      <td>2.355340</td>\n",
       "      <td>0.136457</td>\n",
       "      <td>12.416958</td>\n",
       "      <td>30.099693</td>\n",
       "      <td>17.229812</td>\n",
       "      <td>36.912885</td>\n",
       "      <td>2.815209</td>\n",
       "      <td>...</td>\n",
       "      <td>1.397953</td>\n",
       "      <td>0.970815</td>\n",
       "      <td>3.846773</td>\n",
       "      <td>1.638937</td>\n",
       "      <td>1.562174</td>\n",
       "      <td>8.066844</td>\n",
       "      <td>15.170888</td>\n",
       "      <td>8.821878</td>\n",
       "      <td>1.179040</td>\n",
       "      <td>5.564856</td>\n",
       "    </tr>\n",
       "    <tr>\n",
       "      <th>min</th>\n",
       "      <td>20.787355</td>\n",
       "      <td>14.271149</td>\n",
       "      <td>12.044546</td>\n",
       "      <td>36.954193</td>\n",
       "      <td>15.296000</td>\n",
       "      <td>17.693396</td>\n",
       "      <td>13.863289</td>\n",
       "      <td>13.743156</td>\n",
       "      <td>13.829743</td>\n",
       "      <td>5.966866</td>\n",
       "      <td>...</td>\n",
       "      <td>10.789000</td>\n",
       "      <td>9.910000</td>\n",
       "      <td>18.202040</td>\n",
       "      <td>9.352200</td>\n",
       "      <td>20.549999</td>\n",
       "      <td>49.829693</td>\n",
       "      <td>14.486030</td>\n",
       "      <td>24.396999</td>\n",
       "      <td>24.474001</td>\n",
       "      <td>5.790076</td>\n",
       "    </tr>\n",
       "    <tr>\n",
       "      <th>25%</th>\n",
       "      <td>26.364106</td>\n",
       "      <td>18.198317</td>\n",
       "      <td>15.343655</td>\n",
       "      <td>40.607327</td>\n",
       "      <td>15.509500</td>\n",
       "      <td>21.721891</td>\n",
       "      <td>19.491617</td>\n",
       "      <td>19.112825</td>\n",
       "      <td>19.806904</td>\n",
       "      <td>10.344819</td>\n",
       "      <td>...</td>\n",
       "      <td>11.726000</td>\n",
       "      <td>10.746000</td>\n",
       "      <td>22.337907</td>\n",
       "      <td>10.462000</td>\n",
       "      <td>21.729000</td>\n",
       "      <td>53.535914</td>\n",
       "      <td>35.369858</td>\n",
       "      <td>37.734249</td>\n",
       "      <td>25.655250</td>\n",
       "      <td>11.039744</td>\n",
       "    </tr>\n",
       "    <tr>\n",
       "      <th>50%</th>\n",
       "      <td>30.957672</td>\n",
       "      <td>20.291855</td>\n",
       "      <td>16.550764</td>\n",
       "      <td>42.529999</td>\n",
       "      <td>15.576000</td>\n",
       "      <td>24.956055</td>\n",
       "      <td>36.920673</td>\n",
       "      <td>30.766008</td>\n",
       "      <td>41.866030</td>\n",
       "      <td>11.206928</td>\n",
       "      <td>...</td>\n",
       "      <td>12.266000</td>\n",
       "      <td>11.697000</td>\n",
       "      <td>24.073727</td>\n",
       "      <td>11.203000</td>\n",
       "      <td>22.548000</td>\n",
       "      <td>60.925390</td>\n",
       "      <td>44.721169</td>\n",
       "      <td>45.126501</td>\n",
       "      <td>26.620999</td>\n",
       "      <td>12.638284</td>\n",
       "    </tr>\n",
       "    <tr>\n",
       "      <th>75%</th>\n",
       "      <td>49.846800</td>\n",
       "      <td>23.021683</td>\n",
       "      <td>22.404268</td>\n",
       "      <td>44.357500</td>\n",
       "      <td>15.652500</td>\n",
       "      <td>41.453953</td>\n",
       "      <td>45.993221</td>\n",
       "      <td>34.695930</td>\n",
       "      <td>51.798170</td>\n",
       "      <td>14.091374</td>\n",
       "      <td>...</td>\n",
       "      <td>14.120000</td>\n",
       "      <td>12.529000</td>\n",
       "      <td>26.917101</td>\n",
       "      <td>13.225000</td>\n",
       "      <td>23.830000</td>\n",
       "      <td>69.547503</td>\n",
       "      <td>57.360104</td>\n",
       "      <td>50.699000</td>\n",
       "      <td>27.270750</td>\n",
       "      <td>20.821682</td>\n",
       "    </tr>\n",
       "    <tr>\n",
       "      <th>max</th>\n",
       "      <td>100.257912</td>\n",
       "      <td>29.490000</td>\n",
       "      <td>30.620001</td>\n",
       "      <td>47.064999</td>\n",
       "      <td>15.770000</td>\n",
       "      <td>63.599998</td>\n",
       "      <td>156.580002</td>\n",
       "      <td>99.199997</td>\n",
       "      <td>187.470001</td>\n",
       "      <td>19.487913</td>\n",
       "      <td>...</td>\n",
       "      <td>15.635000</td>\n",
       "      <td>13.105000</td>\n",
       "      <td>42.300201</td>\n",
       "      <td>15.138000</td>\n",
       "      <td>26.104000</td>\n",
       "      <td>75.919998</td>\n",
       "      <td>95.629997</td>\n",
       "      <td>61.134998</td>\n",
       "      <td>29.555000</td>\n",
       "      <td>30.559999</td>\n",
       "    </tr>\n",
       "  </tbody>\n",
       "</table>\n",
       "<p>8 rows × 143 columns</p>\n",
       "</div>"
      ],
      "text/plain": [
       "             ACES         AGNG         AIQ        ANEW       AQWA        ARKF  \\\n",
       "count  718.000000  1257.000000  749.000000  139.000000  19.000000  569.000000   \n",
       "mean    40.451674    20.595142   18.832375   42.413257  15.565332   31.710579   \n",
       "std     20.068181     3.843397    4.948656    2.355340   0.136457   12.416958   \n",
       "min     20.787355    14.271149   12.044546   36.954193  15.296000   17.693396   \n",
       "25%     26.364106    18.198317   15.343655   40.607327  15.509500   21.721891   \n",
       "50%     30.957672    20.291855   16.550764   42.529999  15.576000   24.956055   \n",
       "75%     49.846800    23.021683   22.404268   44.357500  15.652500   41.453953   \n",
       "max    100.257912    29.490000   30.620001   47.064999  15.770000   63.599998   \n",
       "\n",
       "              ARKK         ARKQ         ARKW        BATT  ...       VCAR  \\\n",
       "count  1639.000000  1662.000000  1662.000000  735.000000  ...  89.000000   \n",
       "mean     42.039328    32.465094    47.543240   12.115934  ...  12.838992   \n",
       "std      30.099693    17.229812    36.912885    2.815209  ...   1.397953   \n",
       "min      13.863289    13.743156    13.829743    5.966866  ...  10.789000   \n",
       "25%      19.491617    19.112825    19.806904   10.344819  ...  11.726000   \n",
       "50%      36.920673    30.766008    41.866030   11.206928  ...  12.266000   \n",
       "75%      45.993221    34.695930    51.798170   14.091374  ...  14.120000   \n",
       "max     156.580002    99.199997   187.470001   19.487913  ...  15.635000   \n",
       "\n",
       "            VCLO         VEGI       VFIN       WCBR         WFH         WOOD  \\\n",
       "count  89.000000  2330.000000  89.000000  69.000000  218.000000  3239.000000   \n",
       "mean   11.616221    24.863447  11.886564  22.914812   61.792922    46.837862   \n",
       "std     0.970815     3.846773   1.638937   1.562174    8.066844    15.170888   \n",
       "min     9.910000    18.202040   9.352200  20.549999   49.829693    14.486030   \n",
       "25%    10.746000    22.337907  10.462000  21.729000   53.535914    35.369858   \n",
       "50%    11.697000    24.073727  11.203000  22.548000   60.925390    44.721169   \n",
       "75%    12.529000    26.917101  13.225000  23.830000   69.547503    57.360104   \n",
       "max    13.105000    42.300201  15.138000  26.104000   75.919998    95.629997   \n",
       "\n",
       "             WUGI       WWOW        YOLO  \n",
       "count  278.000000  96.000000  517.000000  \n",
       "mean    44.006259  26.681873   15.269677  \n",
       "std      8.821878   1.179040    5.564856  \n",
       "min     24.396999  24.474001    5.790076  \n",
       "25%     37.734249  25.655250   11.039744  \n",
       "50%     45.126501  26.620999   12.638284  \n",
       "75%     50.699000  27.270750   20.821682  \n",
       "max     61.134998  29.555000   30.559999  \n",
       "\n",
       "[8 rows x 143 columns]"
      ]
     },
     "execution_count": 3,
     "metadata": {},
     "output_type": "execute_result"
    }
   ],
   "source": [
    "# download price data from Yahoo! Finance\n",
    "import yfinance as yf\n",
    "ticker = list(ETF.index)\n",
    "price = yf.download(ticker, progress=False)['Adj Close']\n",
    "\n",
    "# check the length of price data history\n",
    "price.describe()"
   ]
  },
  {
   "cell_type": "code",
   "execution_count": 4,
   "id": "short-fleece",
   "metadata": {
    "scrolled": false
   },
   "outputs": [
    {
     "data": {
      "application/vnd.plotly.v1+json": {
       "config": {
        "linkText": "Export to plot.ly",
        "plotlyServerURL": "https://plot.ly",
        "showLink": true
       },
       "data": [
        {
         "histfunc": "count",
         "histnorm": "",
         "marker": {
          "color": "rgba(255, 153, 51, 1.0)",
          "line": {
           "color": "#4D5663",
           "width": 1.3
          }
         },
         "name": "count",
         "opacity": 0.8,
         "orientation": "v",
         "type": "histogram",
         "x": [
          718,
          1257,
          749,
          139,
          19,
          569,
          1639,
          1662,
          1662,
          735,
          1257,
          832,
          826,
          102,
          1170,
          380,
          301,
          175,
          3521,
          1470,
          452,
          638,
          1611,
          130,
          3395,
          16,
          770,
          611,
          1063,
          431,
          2680,
          205,
          813,
          2991,
          3658,
          642,
          3664,
          120,
          3237,
          1170,
          549,
          3522,
          232,
          2795,
          2795,
          1299,
          10,
          1185,
          504,
          3592,
          123,
          493,
          2680,
          2901,
          2886,
          2421,
          379,
          1631,
          845,
          3142,
          78,
          41,
          381,
          30,
          35,
          3239,
          517,
          778,
          4895,
          3373,
          478,
          2451,
          1094,
          1463,
          719,
          149,
          100,
          826,
          101,
          823,
          638,
          21,
          21,
          826,
          503,
          2716,
          111,
          1621,
          299,
          111,
          1259,
          1365,
          352,
          353,
          3442,
          120,
          370,
          170,
          1354,
          486,
          1907,
          3456,
          2570,
          917,
          1236,
          1049,
          625,
          3500,
          4073,
          3880,
          3500,
          405,
          1208,
          3582,
          1497,
          1898,
          800,
          845,
          3524,
          1167,
          2383,
          116,
          3289,
          462,
          245,
          68,
          450,
          1791,
          544,
          768,
          73,
          2642,
          358,
          89,
          89,
          2330,
          89,
          69,
          218,
          3239,
          278,
          96,
          517
         ]
        }
       ],
       "layout": {
        "barmode": "overlay",
        "legend": {
         "bgcolor": "#F5F6F9",
         "font": {
          "color": "#4D5663"
         }
        },
        "paper_bgcolor": "#F5F6F9",
        "plot_bgcolor": "#F5F6F9",
        "template": {
         "data": {
          "bar": [
           {
            "error_x": {
             "color": "#2a3f5f"
            },
            "error_y": {
             "color": "#2a3f5f"
            },
            "marker": {
             "line": {
              "color": "#E5ECF6",
              "width": 0.5
             }
            },
            "type": "bar"
           }
          ],
          "barpolar": [
           {
            "marker": {
             "line": {
              "color": "#E5ECF6",
              "width": 0.5
             }
            },
            "type": "barpolar"
           }
          ],
          "carpet": [
           {
            "aaxis": {
             "endlinecolor": "#2a3f5f",
             "gridcolor": "white",
             "linecolor": "white",
             "minorgridcolor": "white",
             "startlinecolor": "#2a3f5f"
            },
            "baxis": {
             "endlinecolor": "#2a3f5f",
             "gridcolor": "white",
             "linecolor": "white",
             "minorgridcolor": "white",
             "startlinecolor": "#2a3f5f"
            },
            "type": "carpet"
           }
          ],
          "choropleth": [
           {
            "colorbar": {
             "outlinewidth": 0,
             "ticks": ""
            },
            "type": "choropleth"
           }
          ],
          "contour": [
           {
            "colorbar": {
             "outlinewidth": 0,
             "ticks": ""
            },
            "colorscale": [
             [
              0,
              "#0d0887"
             ],
             [
              0.1111111111111111,
              "#46039f"
             ],
             [
              0.2222222222222222,
              "#7201a8"
             ],
             [
              0.3333333333333333,
              "#9c179e"
             ],
             [
              0.4444444444444444,
              "#bd3786"
             ],
             [
              0.5555555555555556,
              "#d8576b"
             ],
             [
              0.6666666666666666,
              "#ed7953"
             ],
             [
              0.7777777777777778,
              "#fb9f3a"
             ],
             [
              0.8888888888888888,
              "#fdca26"
             ],
             [
              1,
              "#f0f921"
             ]
            ],
            "type": "contour"
           }
          ],
          "contourcarpet": [
           {
            "colorbar": {
             "outlinewidth": 0,
             "ticks": ""
            },
            "type": "contourcarpet"
           }
          ],
          "heatmap": [
           {
            "colorbar": {
             "outlinewidth": 0,
             "ticks": ""
            },
            "colorscale": [
             [
              0,
              "#0d0887"
             ],
             [
              0.1111111111111111,
              "#46039f"
             ],
             [
              0.2222222222222222,
              "#7201a8"
             ],
             [
              0.3333333333333333,
              "#9c179e"
             ],
             [
              0.4444444444444444,
              "#bd3786"
             ],
             [
              0.5555555555555556,
              "#d8576b"
             ],
             [
              0.6666666666666666,
              "#ed7953"
             ],
             [
              0.7777777777777778,
              "#fb9f3a"
             ],
             [
              0.8888888888888888,
              "#fdca26"
             ],
             [
              1,
              "#f0f921"
             ]
            ],
            "type": "heatmap"
           }
          ],
          "heatmapgl": [
           {
            "colorbar": {
             "outlinewidth": 0,
             "ticks": ""
            },
            "colorscale": [
             [
              0,
              "#0d0887"
             ],
             [
              0.1111111111111111,
              "#46039f"
             ],
             [
              0.2222222222222222,
              "#7201a8"
             ],
             [
              0.3333333333333333,
              "#9c179e"
             ],
             [
              0.4444444444444444,
              "#bd3786"
             ],
             [
              0.5555555555555556,
              "#d8576b"
             ],
             [
              0.6666666666666666,
              "#ed7953"
             ],
             [
              0.7777777777777778,
              "#fb9f3a"
             ],
             [
              0.8888888888888888,
              "#fdca26"
             ],
             [
              1,
              "#f0f921"
             ]
            ],
            "type": "heatmapgl"
           }
          ],
          "histogram": [
           {
            "marker": {
             "colorbar": {
              "outlinewidth": 0,
              "ticks": ""
             }
            },
            "type": "histogram"
           }
          ],
          "histogram2d": [
           {
            "colorbar": {
             "outlinewidth": 0,
             "ticks": ""
            },
            "colorscale": [
             [
              0,
              "#0d0887"
             ],
             [
              0.1111111111111111,
              "#46039f"
             ],
             [
              0.2222222222222222,
              "#7201a8"
             ],
             [
              0.3333333333333333,
              "#9c179e"
             ],
             [
              0.4444444444444444,
              "#bd3786"
             ],
             [
              0.5555555555555556,
              "#d8576b"
             ],
             [
              0.6666666666666666,
              "#ed7953"
             ],
             [
              0.7777777777777778,
              "#fb9f3a"
             ],
             [
              0.8888888888888888,
              "#fdca26"
             ],
             [
              1,
              "#f0f921"
             ]
            ],
            "type": "histogram2d"
           }
          ],
          "histogram2dcontour": [
           {
            "colorbar": {
             "outlinewidth": 0,
             "ticks": ""
            },
            "colorscale": [
             [
              0,
              "#0d0887"
             ],
             [
              0.1111111111111111,
              "#46039f"
             ],
             [
              0.2222222222222222,
              "#7201a8"
             ],
             [
              0.3333333333333333,
              "#9c179e"
             ],
             [
              0.4444444444444444,
              "#bd3786"
             ],
             [
              0.5555555555555556,
              "#d8576b"
             ],
             [
              0.6666666666666666,
              "#ed7953"
             ],
             [
              0.7777777777777778,
              "#fb9f3a"
             ],
             [
              0.8888888888888888,
              "#fdca26"
             ],
             [
              1,
              "#f0f921"
             ]
            ],
            "type": "histogram2dcontour"
           }
          ],
          "mesh3d": [
           {
            "colorbar": {
             "outlinewidth": 0,
             "ticks": ""
            },
            "type": "mesh3d"
           }
          ],
          "parcoords": [
           {
            "line": {
             "colorbar": {
              "outlinewidth": 0,
              "ticks": ""
             }
            },
            "type": "parcoords"
           }
          ],
          "pie": [
           {
            "automargin": true,
            "type": "pie"
           }
          ],
          "scatter": [
           {
            "marker": {
             "colorbar": {
              "outlinewidth": 0,
              "ticks": ""
             }
            },
            "type": "scatter"
           }
          ],
          "scatter3d": [
           {
            "line": {
             "colorbar": {
              "outlinewidth": 0,
              "ticks": ""
             }
            },
            "marker": {
             "colorbar": {
              "outlinewidth": 0,
              "ticks": ""
             }
            },
            "type": "scatter3d"
           }
          ],
          "scattercarpet": [
           {
            "marker": {
             "colorbar": {
              "outlinewidth": 0,
              "ticks": ""
             }
            },
            "type": "scattercarpet"
           }
          ],
          "scattergeo": [
           {
            "marker": {
             "colorbar": {
              "outlinewidth": 0,
              "ticks": ""
             }
            },
            "type": "scattergeo"
           }
          ],
          "scattergl": [
           {
            "marker": {
             "colorbar": {
              "outlinewidth": 0,
              "ticks": ""
             }
            },
            "type": "scattergl"
           }
          ],
          "scattermapbox": [
           {
            "marker": {
             "colorbar": {
              "outlinewidth": 0,
              "ticks": ""
             }
            },
            "type": "scattermapbox"
           }
          ],
          "scatterpolar": [
           {
            "marker": {
             "colorbar": {
              "outlinewidth": 0,
              "ticks": ""
             }
            },
            "type": "scatterpolar"
           }
          ],
          "scatterpolargl": [
           {
            "marker": {
             "colorbar": {
              "outlinewidth": 0,
              "ticks": ""
             }
            },
            "type": "scatterpolargl"
           }
          ],
          "scatterternary": [
           {
            "marker": {
             "colorbar": {
              "outlinewidth": 0,
              "ticks": ""
             }
            },
            "type": "scatterternary"
           }
          ],
          "surface": [
           {
            "colorbar": {
             "outlinewidth": 0,
             "ticks": ""
            },
            "colorscale": [
             [
              0,
              "#0d0887"
             ],
             [
              0.1111111111111111,
              "#46039f"
             ],
             [
              0.2222222222222222,
              "#7201a8"
             ],
             [
              0.3333333333333333,
              "#9c179e"
             ],
             [
              0.4444444444444444,
              "#bd3786"
             ],
             [
              0.5555555555555556,
              "#d8576b"
             ],
             [
              0.6666666666666666,
              "#ed7953"
             ],
             [
              0.7777777777777778,
              "#fb9f3a"
             ],
             [
              0.8888888888888888,
              "#fdca26"
             ],
             [
              1,
              "#f0f921"
             ]
            ],
            "type": "surface"
           }
          ],
          "table": [
           {
            "cells": {
             "fill": {
              "color": "#EBF0F8"
             },
             "line": {
              "color": "white"
             }
            },
            "header": {
             "fill": {
              "color": "#C8D4E3"
             },
             "line": {
              "color": "white"
             }
            },
            "type": "table"
           }
          ]
         },
         "layout": {
          "annotationdefaults": {
           "arrowcolor": "#2a3f5f",
           "arrowhead": 0,
           "arrowwidth": 1
          },
          "autotypenumbers": "strict",
          "coloraxis": {
           "colorbar": {
            "outlinewidth": 0,
            "ticks": ""
           }
          },
          "colorscale": {
           "diverging": [
            [
             0,
             "#8e0152"
            ],
            [
             0.1,
             "#c51b7d"
            ],
            [
             0.2,
             "#de77ae"
            ],
            [
             0.3,
             "#f1b6da"
            ],
            [
             0.4,
             "#fde0ef"
            ],
            [
             0.5,
             "#f7f7f7"
            ],
            [
             0.6,
             "#e6f5d0"
            ],
            [
             0.7,
             "#b8e186"
            ],
            [
             0.8,
             "#7fbc41"
            ],
            [
             0.9,
             "#4d9221"
            ],
            [
             1,
             "#276419"
            ]
           ],
           "sequential": [
            [
             0,
             "#0d0887"
            ],
            [
             0.1111111111111111,
             "#46039f"
            ],
            [
             0.2222222222222222,
             "#7201a8"
            ],
            [
             0.3333333333333333,
             "#9c179e"
            ],
            [
             0.4444444444444444,
             "#bd3786"
            ],
            [
             0.5555555555555556,
             "#d8576b"
            ],
            [
             0.6666666666666666,
             "#ed7953"
            ],
            [
             0.7777777777777778,
             "#fb9f3a"
            ],
            [
             0.8888888888888888,
             "#fdca26"
            ],
            [
             1,
             "#f0f921"
            ]
           ],
           "sequentialminus": [
            [
             0,
             "#0d0887"
            ],
            [
             0.1111111111111111,
             "#46039f"
            ],
            [
             0.2222222222222222,
             "#7201a8"
            ],
            [
             0.3333333333333333,
             "#9c179e"
            ],
            [
             0.4444444444444444,
             "#bd3786"
            ],
            [
             0.5555555555555556,
             "#d8576b"
            ],
            [
             0.6666666666666666,
             "#ed7953"
            ],
            [
             0.7777777777777778,
             "#fb9f3a"
            ],
            [
             0.8888888888888888,
             "#fdca26"
            ],
            [
             1,
             "#f0f921"
            ]
           ]
          },
          "colorway": [
           "#636efa",
           "#EF553B",
           "#00cc96",
           "#ab63fa",
           "#FFA15A",
           "#19d3f3",
           "#FF6692",
           "#B6E880",
           "#FF97FF",
           "#FECB52"
          ],
          "font": {
           "color": "#2a3f5f"
          },
          "geo": {
           "bgcolor": "white",
           "lakecolor": "white",
           "landcolor": "#E5ECF6",
           "showlakes": true,
           "showland": true,
           "subunitcolor": "white"
          },
          "hoverlabel": {
           "align": "left"
          },
          "hovermode": "closest",
          "mapbox": {
           "style": "light"
          },
          "paper_bgcolor": "white",
          "plot_bgcolor": "#E5ECF6",
          "polar": {
           "angularaxis": {
            "gridcolor": "white",
            "linecolor": "white",
            "ticks": ""
           },
           "bgcolor": "#E5ECF6",
           "radialaxis": {
            "gridcolor": "white",
            "linecolor": "white",
            "ticks": ""
           }
          },
          "scene": {
           "xaxis": {
            "backgroundcolor": "#E5ECF6",
            "gridcolor": "white",
            "gridwidth": 2,
            "linecolor": "white",
            "showbackground": true,
            "ticks": "",
            "zerolinecolor": "white"
           },
           "yaxis": {
            "backgroundcolor": "#E5ECF6",
            "gridcolor": "white",
            "gridwidth": 2,
            "linecolor": "white",
            "showbackground": true,
            "ticks": "",
            "zerolinecolor": "white"
           },
           "zaxis": {
            "backgroundcolor": "#E5ECF6",
            "gridcolor": "white",
            "gridwidth": 2,
            "linecolor": "white",
            "showbackground": true,
            "ticks": "",
            "zerolinecolor": "white"
           }
          },
          "shapedefaults": {
           "line": {
            "color": "#2a3f5f"
           }
          },
          "ternary": {
           "aaxis": {
            "gridcolor": "white",
            "linecolor": "white",
            "ticks": ""
           },
           "baxis": {
            "gridcolor": "white",
            "linecolor": "white",
            "ticks": ""
           },
           "bgcolor": "#E5ECF6",
           "caxis": {
            "gridcolor": "white",
            "linecolor": "white",
            "ticks": ""
           }
          },
          "title": {
           "x": 0.05
          },
          "xaxis": {
           "automargin": true,
           "gridcolor": "white",
           "linecolor": "white",
           "ticks": "",
           "title": {
            "standoff": 15
           },
           "zerolinecolor": "white",
           "zerolinewidth": 2
          },
          "yaxis": {
           "automargin": true,
           "gridcolor": "white",
           "linecolor": "white",
           "ticks": "",
           "title": {
            "standoff": 15
           },
           "zerolinecolor": "white",
           "zerolinewidth": 2
          }
         }
        },
        "title": {
         "font": {
          "color": "#4D5663"
         },
         "text": "Histogram of ETFs Price History Length"
        },
        "xaxis": {
         "gridcolor": "#E1E5ED",
         "showgrid": true,
         "tickfont": {
          "color": "#4D5663"
         },
         "title": {
          "font": {
           "color": "#4D5663"
          },
          "text": "Days of Price History"
         },
         "zerolinecolor": "#E1E5ED"
        },
        "yaxis": {
         "gridcolor": "#E1E5ED",
         "showgrid": true,
         "tickfont": {
          "color": "#4D5663"
         },
         "title": {
          "font": {
           "color": "#4D5663"
          },
          "text": "Number of ETFs"
         },
         "zerolinecolor": "#E1E5ED"
        }
       }
      },
      "text/html": [
       "<div>                            <div id=\"496f08e8-b893-49c6-8d0a-a6f4e2e84dc1\" class=\"plotly-graph-div\" style=\"height:525px; width:100%;\"></div>            <script type=\"text/javascript\">                require([\"plotly\"], function(Plotly) {                    window.PLOTLYENV=window.PLOTLYENV || {};\n",
       "                    window.PLOTLYENV.BASE_URL='https://plot.ly';                                    if (document.getElementById(\"496f08e8-b893-49c6-8d0a-a6f4e2e84dc1\")) {                    Plotly.newPlot(                        \"496f08e8-b893-49c6-8d0a-a6f4e2e84dc1\",                        [{\"histfunc\": \"count\", \"histnorm\": \"\", \"marker\": {\"color\": \"rgba(255, 153, 51, 1.0)\", \"line\": {\"color\": \"#4D5663\", \"width\": 1.3}}, \"name\": \"count\", \"opacity\": 0.8, \"orientation\": \"v\", \"type\": \"histogram\", \"x\": [718.0, 1257.0, 749.0, 139.0, 19.0, 569.0, 1639.0, 1662.0, 1662.0, 735.0, 1257.0, 832.0, 826.0, 102.0, 1170.0, 380.0, 301.0, 175.0, 3521.0, 1470.0, 452.0, 638.0, 1611.0, 130.0, 3395.0, 16.0, 770.0, 611.0, 1063.0, 431.0, 2680.0, 205.0, 813.0, 2991.0, 3658.0, 642.0, 3664.0, 120.0, 3237.0, 1170.0, 549.0, 3522.0, 232.0, 2795.0, 2795.0, 1299.0, 10.0, 1185.0, 504.0, 3592.0, 123.0, 493.0, 2680.0, 2901.0, 2886.0, 2421.0, 379.0, 1631.0, 845.0, 3142.0, 78.0, 41.0, 381.0, 30.0, 35.0, 3239.0, 517.0, 778.0, 4895.0, 3373.0, 478.0, 2451.0, 1094.0, 1463.0, 719.0, 149.0, 100.0, 826.0, 101.0, 823.0, 638.0, 21.0, 21.0, 826.0, 503.0, 2716.0, 111.0, 1621.0, 299.0, 111.0, 1259.0, 1365.0, 352.0, 353.0, 3442.0, 120.0, 370.0, 170.0, 1354.0, 486.0, 1907.0, 3456.0, 2570.0, 917.0, 1236.0, 1049.0, 625.0, 3500.0, 4073.0, 3880.0, 3500.0, 405.0, 1208.0, 3582.0, 1497.0, 1898.0, 800.0, 845.0, 3524.0, 1167.0, 2383.0, 116.0, 3289.0, 462.0, 245.0, 68.0, 450.0, 1791.0, 544.0, 768.0, 73.0, 2642.0, 358.0, 89.0, 89.0, 2330.0, 89.0, 69.0, 218.0, 3239.0, 278.0, 96.0, 517.0]}],                        {\"barmode\": \"overlay\", \"legend\": {\"bgcolor\": \"#F5F6F9\", \"font\": {\"color\": \"#4D5663\"}}, \"paper_bgcolor\": \"#F5F6F9\", \"plot_bgcolor\": \"#F5F6F9\", \"template\": {\"data\": {\"bar\": [{\"error_x\": {\"color\": \"#2a3f5f\"}, \"error_y\": {\"color\": \"#2a3f5f\"}, \"marker\": {\"line\": {\"color\": \"#E5ECF6\", \"width\": 0.5}}, \"type\": \"bar\"}], \"barpolar\": [{\"marker\": {\"line\": {\"color\": \"#E5ECF6\", \"width\": 0.5}}, \"type\": \"barpolar\"}], \"carpet\": [{\"aaxis\": {\"endlinecolor\": \"#2a3f5f\", \"gridcolor\": \"white\", \"linecolor\": \"white\", \"minorgridcolor\": \"white\", \"startlinecolor\": \"#2a3f5f\"}, \"baxis\": {\"endlinecolor\": \"#2a3f5f\", \"gridcolor\": \"white\", \"linecolor\": \"white\", \"minorgridcolor\": \"white\", \"startlinecolor\": \"#2a3f5f\"}, \"type\": \"carpet\"}], \"choropleth\": [{\"colorbar\": {\"outlinewidth\": 0, \"ticks\": \"\"}, \"type\": \"choropleth\"}], \"contour\": [{\"colorbar\": {\"outlinewidth\": 0, \"ticks\": \"\"}, \"colorscale\": [[0.0, \"#0d0887\"], [0.1111111111111111, \"#46039f\"], [0.2222222222222222, \"#7201a8\"], [0.3333333333333333, \"#9c179e\"], [0.4444444444444444, \"#bd3786\"], [0.5555555555555556, \"#d8576b\"], [0.6666666666666666, \"#ed7953\"], [0.7777777777777778, \"#fb9f3a\"], [0.8888888888888888, \"#fdca26\"], [1.0, \"#f0f921\"]], \"type\": \"contour\"}], \"contourcarpet\": [{\"colorbar\": {\"outlinewidth\": 0, \"ticks\": \"\"}, \"type\": \"contourcarpet\"}], \"heatmap\": [{\"colorbar\": {\"outlinewidth\": 0, \"ticks\": \"\"}, \"colorscale\": [[0.0, \"#0d0887\"], [0.1111111111111111, \"#46039f\"], [0.2222222222222222, \"#7201a8\"], [0.3333333333333333, \"#9c179e\"], [0.4444444444444444, \"#bd3786\"], [0.5555555555555556, \"#d8576b\"], [0.6666666666666666, \"#ed7953\"], [0.7777777777777778, \"#fb9f3a\"], [0.8888888888888888, \"#fdca26\"], [1.0, \"#f0f921\"]], \"type\": \"heatmap\"}], \"heatmapgl\": [{\"colorbar\": {\"outlinewidth\": 0, \"ticks\": \"\"}, \"colorscale\": [[0.0, \"#0d0887\"], [0.1111111111111111, \"#46039f\"], [0.2222222222222222, \"#7201a8\"], [0.3333333333333333, \"#9c179e\"], [0.4444444444444444, \"#bd3786\"], [0.5555555555555556, \"#d8576b\"], [0.6666666666666666, \"#ed7953\"], [0.7777777777777778, \"#fb9f3a\"], [0.8888888888888888, \"#fdca26\"], [1.0, \"#f0f921\"]], \"type\": \"heatmapgl\"}], \"histogram\": [{\"marker\": {\"colorbar\": {\"outlinewidth\": 0, \"ticks\": \"\"}}, \"type\": \"histogram\"}], \"histogram2d\": [{\"colorbar\": {\"outlinewidth\": 0, \"ticks\": \"\"}, \"colorscale\": [[0.0, \"#0d0887\"], [0.1111111111111111, \"#46039f\"], [0.2222222222222222, \"#7201a8\"], [0.3333333333333333, \"#9c179e\"], [0.4444444444444444, \"#bd3786\"], [0.5555555555555556, \"#d8576b\"], [0.6666666666666666, \"#ed7953\"], [0.7777777777777778, \"#fb9f3a\"], [0.8888888888888888, \"#fdca26\"], [1.0, \"#f0f921\"]], \"type\": \"histogram2d\"}], \"histogram2dcontour\": [{\"colorbar\": {\"outlinewidth\": 0, \"ticks\": \"\"}, \"colorscale\": [[0.0, \"#0d0887\"], [0.1111111111111111, \"#46039f\"], [0.2222222222222222, \"#7201a8\"], [0.3333333333333333, \"#9c179e\"], [0.4444444444444444, \"#bd3786\"], [0.5555555555555556, \"#d8576b\"], [0.6666666666666666, \"#ed7953\"], [0.7777777777777778, \"#fb9f3a\"], [0.8888888888888888, \"#fdca26\"], [1.0, \"#f0f921\"]], \"type\": \"histogram2dcontour\"}], \"mesh3d\": [{\"colorbar\": {\"outlinewidth\": 0, \"ticks\": \"\"}, \"type\": \"mesh3d\"}], \"parcoords\": [{\"line\": {\"colorbar\": {\"outlinewidth\": 0, \"ticks\": \"\"}}, \"type\": \"parcoords\"}], \"pie\": [{\"automargin\": true, \"type\": \"pie\"}], \"scatter\": [{\"marker\": {\"colorbar\": {\"outlinewidth\": 0, \"ticks\": \"\"}}, \"type\": \"scatter\"}], \"scatter3d\": [{\"line\": {\"colorbar\": {\"outlinewidth\": 0, \"ticks\": \"\"}}, \"marker\": {\"colorbar\": {\"outlinewidth\": 0, \"ticks\": \"\"}}, \"type\": \"scatter3d\"}], \"scattercarpet\": [{\"marker\": {\"colorbar\": {\"outlinewidth\": 0, \"ticks\": \"\"}}, \"type\": \"scattercarpet\"}], \"scattergeo\": [{\"marker\": {\"colorbar\": {\"outlinewidth\": 0, \"ticks\": \"\"}}, \"type\": \"scattergeo\"}], \"scattergl\": [{\"marker\": {\"colorbar\": {\"outlinewidth\": 0, \"ticks\": \"\"}}, \"type\": \"scattergl\"}], \"scattermapbox\": [{\"marker\": {\"colorbar\": {\"outlinewidth\": 0, \"ticks\": \"\"}}, \"type\": \"scattermapbox\"}], \"scatterpolar\": [{\"marker\": {\"colorbar\": {\"outlinewidth\": 0, \"ticks\": \"\"}}, \"type\": \"scatterpolar\"}], \"scatterpolargl\": [{\"marker\": {\"colorbar\": {\"outlinewidth\": 0, \"ticks\": \"\"}}, \"type\": \"scatterpolargl\"}], \"scatterternary\": [{\"marker\": {\"colorbar\": {\"outlinewidth\": 0, \"ticks\": \"\"}}, \"type\": \"scatterternary\"}], \"surface\": [{\"colorbar\": {\"outlinewidth\": 0, \"ticks\": \"\"}, \"colorscale\": [[0.0, \"#0d0887\"], [0.1111111111111111, \"#46039f\"], [0.2222222222222222, \"#7201a8\"], [0.3333333333333333, \"#9c179e\"], [0.4444444444444444, \"#bd3786\"], [0.5555555555555556, \"#d8576b\"], [0.6666666666666666, \"#ed7953\"], [0.7777777777777778, \"#fb9f3a\"], [0.8888888888888888, \"#fdca26\"], [1.0, \"#f0f921\"]], \"type\": \"surface\"}], \"table\": [{\"cells\": {\"fill\": {\"color\": \"#EBF0F8\"}, \"line\": {\"color\": \"white\"}}, \"header\": {\"fill\": {\"color\": \"#C8D4E3\"}, \"line\": {\"color\": \"white\"}}, \"type\": \"table\"}]}, \"layout\": {\"annotationdefaults\": {\"arrowcolor\": \"#2a3f5f\", \"arrowhead\": 0, \"arrowwidth\": 1}, \"autotypenumbers\": \"strict\", \"coloraxis\": {\"colorbar\": {\"outlinewidth\": 0, \"ticks\": \"\"}}, \"colorscale\": {\"diverging\": [[0, \"#8e0152\"], [0.1, \"#c51b7d\"], [0.2, \"#de77ae\"], [0.3, \"#f1b6da\"], [0.4, \"#fde0ef\"], [0.5, \"#f7f7f7\"], [0.6, \"#e6f5d0\"], [0.7, \"#b8e186\"], [0.8, \"#7fbc41\"], [0.9, \"#4d9221\"], [1, \"#276419\"]], \"sequential\": [[0.0, \"#0d0887\"], [0.1111111111111111, \"#46039f\"], [0.2222222222222222, \"#7201a8\"], [0.3333333333333333, \"#9c179e\"], [0.4444444444444444, \"#bd3786\"], [0.5555555555555556, \"#d8576b\"], [0.6666666666666666, \"#ed7953\"], [0.7777777777777778, \"#fb9f3a\"], [0.8888888888888888, \"#fdca26\"], [1.0, \"#f0f921\"]], \"sequentialminus\": [[0.0, \"#0d0887\"], [0.1111111111111111, \"#46039f\"], [0.2222222222222222, \"#7201a8\"], [0.3333333333333333, \"#9c179e\"], [0.4444444444444444, \"#bd3786\"], [0.5555555555555556, \"#d8576b\"], [0.6666666666666666, \"#ed7953\"], [0.7777777777777778, \"#fb9f3a\"], [0.8888888888888888, \"#fdca26\"], [1.0, \"#f0f921\"]]}, \"colorway\": [\"#636efa\", \"#EF553B\", \"#00cc96\", \"#ab63fa\", \"#FFA15A\", \"#19d3f3\", \"#FF6692\", \"#B6E880\", \"#FF97FF\", \"#FECB52\"], \"font\": {\"color\": \"#2a3f5f\"}, \"geo\": {\"bgcolor\": \"white\", \"lakecolor\": \"white\", \"landcolor\": \"#E5ECF6\", \"showlakes\": true, \"showland\": true, \"subunitcolor\": \"white\"}, \"hoverlabel\": {\"align\": \"left\"}, \"hovermode\": \"closest\", \"mapbox\": {\"style\": \"light\"}, \"paper_bgcolor\": \"white\", \"plot_bgcolor\": \"#E5ECF6\", \"polar\": {\"angularaxis\": {\"gridcolor\": \"white\", \"linecolor\": \"white\", \"ticks\": \"\"}, \"bgcolor\": \"#E5ECF6\", \"radialaxis\": {\"gridcolor\": \"white\", \"linecolor\": \"white\", \"ticks\": \"\"}}, \"scene\": {\"xaxis\": {\"backgroundcolor\": \"#E5ECF6\", \"gridcolor\": \"white\", \"gridwidth\": 2, \"linecolor\": \"white\", \"showbackground\": true, \"ticks\": \"\", \"zerolinecolor\": \"white\"}, \"yaxis\": {\"backgroundcolor\": \"#E5ECF6\", \"gridcolor\": \"white\", \"gridwidth\": 2, \"linecolor\": \"white\", \"showbackground\": true, \"ticks\": \"\", \"zerolinecolor\": \"white\"}, \"zaxis\": {\"backgroundcolor\": \"#E5ECF6\", \"gridcolor\": \"white\", \"gridwidth\": 2, \"linecolor\": \"white\", \"showbackground\": true, \"ticks\": \"\", \"zerolinecolor\": \"white\"}}, \"shapedefaults\": {\"line\": {\"color\": \"#2a3f5f\"}}, \"ternary\": {\"aaxis\": {\"gridcolor\": \"white\", \"linecolor\": \"white\", \"ticks\": \"\"}, \"baxis\": {\"gridcolor\": \"white\", \"linecolor\": \"white\", \"ticks\": \"\"}, \"bgcolor\": \"#E5ECF6\", \"caxis\": {\"gridcolor\": \"white\", \"linecolor\": \"white\", \"ticks\": \"\"}}, \"title\": {\"x\": 0.05}, \"xaxis\": {\"automargin\": true, \"gridcolor\": \"white\", \"linecolor\": \"white\", \"ticks\": \"\", \"title\": {\"standoff\": 15}, \"zerolinecolor\": \"white\", \"zerolinewidth\": 2}, \"yaxis\": {\"automargin\": true, \"gridcolor\": \"white\", \"linecolor\": \"white\", \"ticks\": \"\", \"title\": {\"standoff\": 15}, \"zerolinecolor\": \"white\", \"zerolinewidth\": 2}}}, \"title\": {\"font\": {\"color\": \"#4D5663\"}, \"text\": \"Histogram of ETFs Price History Length\"}, \"xaxis\": {\"gridcolor\": \"#E1E5ED\", \"showgrid\": true, \"tickfont\": {\"color\": \"#4D5663\"}, \"title\": {\"font\": {\"color\": \"#4D5663\"}, \"text\": \"Days of Price History\"}, \"zerolinecolor\": \"#E1E5ED\"}, \"yaxis\": {\"gridcolor\": \"#E1E5ED\", \"showgrid\": true, \"tickfont\": {\"color\": \"#4D5663\"}, \"title\": {\"font\": {\"color\": \"#4D5663\"}, \"text\": \"Number of ETFs\"}, \"zerolinecolor\": \"#E1E5ED\"}},                        {\"showLink\": true, \"linkText\": \"Export to plot.ly\", \"plotlyServerURL\": \"https://plot.ly\", \"responsive\": true}                    ).then(function(){\n",
       "                            \n",
       "var gd = document.getElementById('496f08e8-b893-49c6-8d0a-a6f4e2e84dc1');\n",
       "var x = new MutationObserver(function (mutations, observer) {{\n",
       "        var display = window.getComputedStyle(gd).display;\n",
       "        if (!display || display === 'none') {{\n",
       "            console.log([gd, 'removed!']);\n",
       "            Plotly.purge(gd);\n",
       "            observer.disconnect();\n",
       "        }}\n",
       "}});\n",
       "\n",
       "// Listen for the removal of the full notebook cells\n",
       "var notebookContainer = gd.closest('#notebook-container');\n",
       "if (notebookContainer) {{\n",
       "    x.observe(notebookContainer, {childList: true});\n",
       "}}\n",
       "\n",
       "// Listen for the clearing of the current output cell\n",
       "var outputEl = gd.closest('.output');\n",
       "if (outputEl) {{\n",
       "    x.observe(outputEl, {childList: true});\n",
       "}}\n",
       "\n",
       "                        })                };                });            </script>        </div>"
      ]
     },
     "metadata": {},
     "output_type": "display_data"
    }
   ],
   "source": [
    "# check the distribution by ETF price history length\n",
    "count = price.describe().loc['count']\n",
    "count.iplot(kind='histogram', xTitle='Days of Price History', yTitle='Number of ETFs', \n",
    "            title ='Histogram of ETFs Price History Length')"
   ]
  },
  {
   "cell_type": "markdown",
   "id": "dress-funds",
   "metadata": {},
   "source": [
    "2 years of daily price looks short but could be a reasonable length for gauging the price pattern, especially given that we have gone through a market cycle since the onset of the COVID-19 crisis. I calculated the annualized returns and volatilities of ETFs with longer than 2 years of history. For ETFs with shorter than 2 years of history, I marked N/A for both annualized returns and volatilities."
   ]
  },
  {
   "cell_type": "code",
   "execution_count": 6,
   "id": "fewer-short",
   "metadata": {},
   "outputs": [
    {
     "data": {
      "text/html": [
       "<div>\n",
       "<style scoped>\n",
       "    .dataframe tbody tr th:only-of-type {\n",
       "        vertical-align: middle;\n",
       "    }\n",
       "\n",
       "    .dataframe tbody tr th {\n",
       "        vertical-align: top;\n",
       "    }\n",
       "\n",
       "    .dataframe thead th {\n",
       "        text-align: right;\n",
       "    }\n",
       "</style>\n",
       "<table border=\"1\" class=\"dataframe\">\n",
       "  <thead>\n",
       "    <tr style=\"text-align: right;\">\n",
       "      <th></th>\n",
       "      <th>ACES</th>\n",
       "      <th>AGNG</th>\n",
       "      <th>AIQ</th>\n",
       "      <th>ANEW</th>\n",
       "      <th>AQWA</th>\n",
       "      <th>ARKF</th>\n",
       "      <th>ARKK</th>\n",
       "      <th>ARKQ</th>\n",
       "      <th>ARKW</th>\n",
       "      <th>BATT</th>\n",
       "      <th>...</th>\n",
       "      <th>VCAR</th>\n",
       "      <th>VCLO</th>\n",
       "      <th>VEGI</th>\n",
       "      <th>VFIN</th>\n",
       "      <th>WCBR</th>\n",
       "      <th>WFH</th>\n",
       "      <th>WOOD</th>\n",
       "      <th>WUGI</th>\n",
       "      <th>WWOW</th>\n",
       "      <th>YOLO</th>\n",
       "    </tr>\n",
       "    <tr>\n",
       "      <th>Date</th>\n",
       "      <th></th>\n",
       "      <th></th>\n",
       "      <th></th>\n",
       "      <th></th>\n",
       "      <th></th>\n",
       "      <th></th>\n",
       "      <th></th>\n",
       "      <th></th>\n",
       "      <th></th>\n",
       "      <th></th>\n",
       "      <th></th>\n",
       "      <th></th>\n",
       "      <th></th>\n",
       "      <th></th>\n",
       "      <th></th>\n",
       "      <th></th>\n",
       "      <th></th>\n",
       "      <th></th>\n",
       "      <th></th>\n",
       "      <th></th>\n",
       "      <th></th>\n",
       "    </tr>\n",
       "  </thead>\n",
       "  <tbody>\n",
       "    <tr>\n",
       "      <th>2019-05-07</th>\n",
       "      <td>28.129927</td>\n",
       "      <td>20.573341</td>\n",
       "      <td>16.134563</td>\n",
       "      <td>NaN</td>\n",
       "      <td>NaN</td>\n",
       "      <td>21.872444</td>\n",
       "      <td>46.383392</td>\n",
       "      <td>34.092728</td>\n",
       "      <td>52.064159</td>\n",
       "      <td>11.196300</td>\n",
       "      <td>...</td>\n",
       "      <td>NaN</td>\n",
       "      <td>NaN</td>\n",
       "      <td>26.750879</td>\n",
       "      <td>NaN</td>\n",
       "      <td>NaN</td>\n",
       "      <td>NaN</td>\n",
       "      <td>60.105728</td>\n",
       "      <td>NaN</td>\n",
       "      <td>NaN</td>\n",
       "      <td>22.768497</td>\n",
       "    </tr>\n",
       "    <tr>\n",
       "      <th>2019-05-08</th>\n",
       "      <td>27.882622</td>\n",
       "      <td>20.421240</td>\n",
       "      <td>16.302631</td>\n",
       "      <td>NaN</td>\n",
       "      <td>NaN</td>\n",
       "      <td>22.011187</td>\n",
       "      <td>45.530251</td>\n",
       "      <td>33.567310</td>\n",
       "      <td>52.103642</td>\n",
       "      <td>11.115148</td>\n",
       "      <td>...</td>\n",
       "      <td>NaN</td>\n",
       "      <td>NaN</td>\n",
       "      <td>26.750879</td>\n",
       "      <td>NaN</td>\n",
       "      <td>NaN</td>\n",
       "      <td>NaN</td>\n",
       "      <td>59.506214</td>\n",
       "      <td>NaN</td>\n",
       "      <td>NaN</td>\n",
       "      <td>22.844521</td>\n",
       "    </tr>\n",
       "    <tr>\n",
       "      <th>2019-05-09</th>\n",
       "      <td>27.560053</td>\n",
       "      <td>20.427164</td>\n",
       "      <td>16.183996</td>\n",
       "      <td>NaN</td>\n",
       "      <td>NaN</td>\n",
       "      <td>21.865557</td>\n",
       "      <td>45.138000</td>\n",
       "      <td>33.220333</td>\n",
       "      <td>51.689026</td>\n",
       "      <td>11.013704</td>\n",
       "      <td>...</td>\n",
       "      <td>NaN</td>\n",
       "      <td>NaN</td>\n",
       "      <td>26.384823</td>\n",
       "      <td>NaN</td>\n",
       "      <td>NaN</td>\n",
       "      <td>NaN</td>\n",
       "      <td>59.448200</td>\n",
       "      <td>NaN</td>\n",
       "      <td>NaN</td>\n",
       "      <td>22.416222</td>\n",
       "    </tr>\n",
       "    <tr>\n",
       "      <th>2019-05-10</th>\n",
       "      <td>27.618702</td>\n",
       "      <td>20.395559</td>\n",
       "      <td>16.187952</td>\n",
       "      <td>NaN</td>\n",
       "      <td>NaN</td>\n",
       "      <td>21.923613</td>\n",
       "      <td>45.343933</td>\n",
       "      <td>33.299644</td>\n",
       "      <td>51.767998</td>\n",
       "      <td>11.090994</td>\n",
       "      <td>...</td>\n",
       "      <td>NaN</td>\n",
       "      <td>NaN</td>\n",
       "      <td>26.827942</td>\n",
       "      <td>NaN</td>\n",
       "      <td>NaN</td>\n",
       "      <td>NaN</td>\n",
       "      <td>59.641590</td>\n",
       "      <td>NaN</td>\n",
       "      <td>NaN</td>\n",
       "      <td>23.096678</td>\n",
       "    </tr>\n",
       "    <tr>\n",
       "      <th>2019-05-13</th>\n",
       "      <td>27.090858</td>\n",
       "      <td>19.921474</td>\n",
       "      <td>15.650131</td>\n",
       "      <td>NaN</td>\n",
       "      <td>NaN</td>\n",
       "      <td>21.077368</td>\n",
       "      <td>42.843346</td>\n",
       "      <td>31.743216</td>\n",
       "      <td>49.487602</td>\n",
       "      <td>10.748023</td>\n",
       "      <td>...</td>\n",
       "      <td>NaN</td>\n",
       "      <td>NaN</td>\n",
       "      <td>26.009134</td>\n",
       "      <td>NaN</td>\n",
       "      <td>NaN</td>\n",
       "      <td>NaN</td>\n",
       "      <td>57.417599</td>\n",
       "      <td>NaN</td>\n",
       "      <td>NaN</td>\n",
       "      <td>22.193726</td>\n",
       "    </tr>\n",
       "  </tbody>\n",
       "</table>\n",
       "<p>5 rows × 143 columns</p>\n",
       "</div>"
      ],
      "text/plain": [
       "                 ACES       AGNG        AIQ  ANEW  AQWA       ARKF       ARKK  \\\n",
       "Date                                                                            \n",
       "2019-05-07  28.129927  20.573341  16.134563   NaN   NaN  21.872444  46.383392   \n",
       "2019-05-08  27.882622  20.421240  16.302631   NaN   NaN  22.011187  45.530251   \n",
       "2019-05-09  27.560053  20.427164  16.183996   NaN   NaN  21.865557  45.138000   \n",
       "2019-05-10  27.618702  20.395559  16.187952   NaN   NaN  21.923613  45.343933   \n",
       "2019-05-13  27.090858  19.921474  15.650131   NaN   NaN  21.077368  42.843346   \n",
       "\n",
       "                 ARKQ       ARKW       BATT  ...  VCAR  VCLO       VEGI  VFIN  \\\n",
       "Date                                         ...                                \n",
       "2019-05-07  34.092728  52.064159  11.196300  ...   NaN   NaN  26.750879   NaN   \n",
       "2019-05-08  33.567310  52.103642  11.115148  ...   NaN   NaN  26.750879   NaN   \n",
       "2019-05-09  33.220333  51.689026  11.013704  ...   NaN   NaN  26.384823   NaN   \n",
       "2019-05-10  33.299644  51.767998  11.090994  ...   NaN   NaN  26.827942   NaN   \n",
       "2019-05-13  31.743216  49.487602  10.748023  ...   NaN   NaN  26.009134   NaN   \n",
       "\n",
       "            WCBR  WFH       WOOD  WUGI  WWOW       YOLO  \n",
       "Date                                                     \n",
       "2019-05-07   NaN  NaN  60.105728   NaN   NaN  22.768497  \n",
       "2019-05-08   NaN  NaN  59.506214   NaN   NaN  22.844521  \n",
       "2019-05-09   NaN  NaN  59.448200   NaN   NaN  22.416222  \n",
       "2019-05-10   NaN  NaN  59.641590   NaN   NaN  23.096678  \n",
       "2019-05-13   NaN  NaN  57.417599   NaN   NaN  22.193726  \n",
       "\n",
       "[5 rows x 143 columns]"
      ]
     },
     "execution_count": 6,
     "metadata": {},
     "output_type": "execute_result"
    }
   ],
   "source": [
    "# shortern the price data collection to 2 years of history\n",
    "price2Y = yf.download(ticker, period = '2Y', progress=False)['Adj Close']\n",
    "\n",
    "# display the first 5 rows\n",
    "price2Y.head()"
   ]
  },
  {
   "cell_type": "code",
   "execution_count": 7,
   "id": "sorted-lounge",
   "metadata": {
    "scrolled": false
   },
   "outputs": [
    {
     "data": {
      "text/html": [
       "<div>\n",
       "<style scoped>\n",
       "    .dataframe tbody tr th:only-of-type {\n",
       "        vertical-align: middle;\n",
       "    }\n",
       "\n",
       "    .dataframe tbody tr th {\n",
       "        vertical-align: top;\n",
       "    }\n",
       "\n",
       "    .dataframe thead th {\n",
       "        text-align: right;\n",
       "    }\n",
       "</style>\n",
       "<table border=\"1\" class=\"dataframe\">\n",
       "  <thead>\n",
       "    <tr style=\"text-align: right;\">\n",
       "      <th></th>\n",
       "      <th>Return</th>\n",
       "      <th>Volatility</th>\n",
       "    </tr>\n",
       "  </thead>\n",
       "  <tbody>\n",
       "    <tr>\n",
       "      <th>ACES</th>\n",
       "      <td>0.434750</td>\n",
       "      <td>0.400089</td>\n",
       "    </tr>\n",
       "    <tr>\n",
       "      <th>AGNG</th>\n",
       "      <td>0.164705</td>\n",
       "      <td>0.225248</td>\n",
       "    </tr>\n",
       "    <tr>\n",
       "      <th>AIQ</th>\n",
       "      <td>0.284747</td>\n",
       "      <td>0.275157</td>\n",
       "    </tr>\n",
       "    <tr>\n",
       "      <th>ARKF</th>\n",
       "      <td>0.401354</td>\n",
       "      <td>0.340954</td>\n",
       "    </tr>\n",
       "    <tr>\n",
       "      <th>ARKK</th>\n",
       "      <td>0.424166</td>\n",
       "      <td>0.429980</td>\n",
       "    </tr>\n",
       "    <tr>\n",
       "      <th>...</th>\n",
       "      <td>...</td>\n",
       "      <td>...</td>\n",
       "    </tr>\n",
       "    <tr>\n",
       "      <th>UBOT</th>\n",
       "      <td>0.329302</td>\n",
       "      <td>0.864715</td>\n",
       "    </tr>\n",
       "    <tr>\n",
       "      <th>URA</th>\n",
       "      <td>0.318153</td>\n",
       "      <td>0.331906</td>\n",
       "    </tr>\n",
       "    <tr>\n",
       "      <th>VEGI</th>\n",
       "      <td>0.229112</td>\n",
       "      <td>0.270628</td>\n",
       "    </tr>\n",
       "    <tr>\n",
       "      <th>WOOD</th>\n",
       "      <td>0.232191</td>\n",
       "      <td>0.327433</td>\n",
       "    </tr>\n",
       "    <tr>\n",
       "      <th>YOLO</th>\n",
       "      <td>-0.048347</td>\n",
       "      <td>0.464381</td>\n",
       "    </tr>\n",
       "  </tbody>\n",
       "</table>\n",
       "<p>89 rows × 2 columns</p>\n",
       "</div>"
      ],
      "text/plain": [
       "        Return  Volatility\n",
       "ACES  0.434750    0.400089\n",
       "AGNG  0.164705    0.225248\n",
       "AIQ   0.284747    0.275157\n",
       "ARKF  0.401354    0.340954\n",
       "ARKK  0.424166    0.429980\n",
       "...        ...         ...\n",
       "UBOT  0.329302    0.864715\n",
       "URA   0.318153    0.331906\n",
       "VEGI  0.229112    0.270628\n",
       "WOOD  0.232191    0.327433\n",
       "YOLO -0.048347    0.464381\n",
       "\n",
       "[89 rows x 2 columns]"
      ]
     },
     "execution_count": 7,
     "metadata": {},
     "output_type": "execute_result"
    }
   ],
   "source": [
    "# drop ETFs with history shortern than 2 years\n",
    "price2Yclean = price2Y.dropna(axis=1)\n",
    "\n",
    "# Calculate annualized returns and volatilities\n",
    "import numpy as np\n",
    "rtn = np.log(price2Yclean).diff()\n",
    "rtn_ann = rtn.mean()*252\n",
    "vol_ann = rtn.std()*np.sqrt(252)\n",
    "\n",
    "# create a dataframe for annualized returns and volatilities\n",
    "rtn_vol = pd.DataFrame({'Return': rtn_ann, 'Volatility':vol_ann})\n",
    "\n",
    "# display the return / volatility dataframe\n",
    "rtn_vol"
   ]
  },
  {
   "cell_type": "code",
   "execution_count": 8,
   "id": "stuffed-calvin",
   "metadata": {
    "scrolled": false
   },
   "outputs": [
    {
     "data": {
      "text/html": [
       "<div>\n",
       "<style scoped>\n",
       "    .dataframe tbody tr th:only-of-type {\n",
       "        vertical-align: middle;\n",
       "    }\n",
       "\n",
       "    .dataframe tbody tr th {\n",
       "        vertical-align: top;\n",
       "    }\n",
       "\n",
       "    .dataframe thead th {\n",
       "        text-align: right;\n",
       "    }\n",
       "</style>\n",
       "<table border=\"1\" class=\"dataframe\">\n",
       "  <thead>\n",
       "    <tr style=\"text-align: right;\">\n",
       "      <th></th>\n",
       "      <th>Return</th>\n",
       "      <th>Volatility</th>\n",
       "    </tr>\n",
       "  </thead>\n",
       "  <tbody>\n",
       "    <tr>\n",
       "      <th>ACES</th>\n",
       "      <td>0.434750</td>\n",
       "      <td>0.400089</td>\n",
       "    </tr>\n",
       "    <tr>\n",
       "      <th>AGNG</th>\n",
       "      <td>0.164705</td>\n",
       "      <td>0.225248</td>\n",
       "    </tr>\n",
       "    <tr>\n",
       "      <th>AIQ</th>\n",
       "      <td>0.284747</td>\n",
       "      <td>0.275157</td>\n",
       "    </tr>\n",
       "    <tr>\n",
       "      <th>ARKF</th>\n",
       "      <td>0.401354</td>\n",
       "      <td>0.340954</td>\n",
       "    </tr>\n",
       "    <tr>\n",
       "      <th>ARKK</th>\n",
       "      <td>0.424166</td>\n",
       "      <td>0.429980</td>\n",
       "    </tr>\n",
       "    <tr>\n",
       "      <th>...</th>\n",
       "      <td>...</td>\n",
       "      <td>...</td>\n",
       "    </tr>\n",
       "    <tr>\n",
       "      <th>VFIN</th>\n",
       "      <td>NaN</td>\n",
       "      <td>NaN</td>\n",
       "    </tr>\n",
       "    <tr>\n",
       "      <th>WCBR</th>\n",
       "      <td>NaN</td>\n",
       "      <td>NaN</td>\n",
       "    </tr>\n",
       "    <tr>\n",
       "      <th>WFH</th>\n",
       "      <td>NaN</td>\n",
       "      <td>NaN</td>\n",
       "    </tr>\n",
       "    <tr>\n",
       "      <th>WUGI</th>\n",
       "      <td>NaN</td>\n",
       "      <td>NaN</td>\n",
       "    </tr>\n",
       "    <tr>\n",
       "      <th>WWOW</th>\n",
       "      <td>NaN</td>\n",
       "      <td>NaN</td>\n",
       "    </tr>\n",
       "  </tbody>\n",
       "</table>\n",
       "<p>143 rows × 2 columns</p>\n",
       "</div>"
      ],
      "text/plain": [
       "        Return  Volatility\n",
       "ACES  0.434750    0.400089\n",
       "AGNG  0.164705    0.225248\n",
       "AIQ   0.284747    0.275157\n",
       "ARKF  0.401354    0.340954\n",
       "ARKK  0.424166    0.429980\n",
       "...        ...         ...\n",
       "VFIN       NaN         NaN\n",
       "WCBR       NaN         NaN\n",
       "WFH        NaN         NaN\n",
       "WUGI       NaN         NaN\n",
       "WWOW       NaN         NaN\n",
       "\n",
       "[143 rows x 2 columns]"
      ]
     },
     "execution_count": 8,
     "metadata": {},
     "output_type": "execute_result"
    }
   ],
   "source": [
    "# append ETFs shorter than 2 years with N/A for returns and volatilities\n",
    "ETFshort = [item for item in list(price2Y.columns) if item not in list(price2Yclean.columns)]\n",
    "\n",
    "for i in ETFshort:\n",
    "    rtn_vol=rtn_vol.append(pd.Series(name=i))\n",
    "    \n",
    "# display the updated ETF return / volatility dataframe that includes all 143 ETFs\n",
    "rtn_vol"
   ]
  },
  {
   "cell_type": "markdown",
   "id": "clinical-therapy",
   "metadata": {},
   "source": [
    "## Holdings data"
   ]
  },
  {
   "cell_type": "markdown",
   "id": "committed-incidence",
   "metadata": {},
   "source": [
    "We can now move on to collect the holding data. I noticed that thematic funds generally have strong tilts to selected sectors based on the mega trends the funds are capturing. Therefore, a good starting point could be to gather the sector allocation for each ETF. I used <a href=\"https://github.com/dpguthrie/yahooquery\">yahooquery</a> API to extract sector allocation from Yahoo! finance for individual ETFs."
   ]
  },
  {
   "cell_type": "code",
   "execution_count": 9,
   "id": "played-bronze",
   "metadata": {
    "scrolled": false
   },
   "outputs": [
    {
     "data": {
      "text/html": [
       "<div>\n",
       "<style scoped>\n",
       "    .dataframe tbody tr th:only-of-type {\n",
       "        vertical-align: middle;\n",
       "    }\n",
       "\n",
       "    .dataframe tbody tr th {\n",
       "        vertical-align: top;\n",
       "    }\n",
       "\n",
       "    .dataframe thead th {\n",
       "        text-align: right;\n",
       "    }\n",
       "</style>\n",
       "<table border=\"1\" class=\"dataframe\">\n",
       "  <thead>\n",
       "    <tr style=\"text-align: right;\">\n",
       "      <th></th>\n",
       "      <th>realestate</th>\n",
       "      <th>consumer_cyclical</th>\n",
       "      <th>basic_materials</th>\n",
       "      <th>consumer_defensive</th>\n",
       "      <th>technology</th>\n",
       "      <th>communication_services</th>\n",
       "      <th>financial_services</th>\n",
       "      <th>utilities</th>\n",
       "      <th>industrials</th>\n",
       "      <th>energy</th>\n",
       "      <th>healthcare</th>\n",
       "    </tr>\n",
       "  </thead>\n",
       "  <tbody>\n",
       "    <tr>\n",
       "      <th>ACES</th>\n",
       "      <td>0.0401</td>\n",
       "      <td>0.0926</td>\n",
       "      <td>0.0127</td>\n",
       "      <td>0.0000</td>\n",
       "      <td>0.3196</td>\n",
       "      <td>0.0000</td>\n",
       "      <td>0.0000</td>\n",
       "      <td>0.2844</td>\n",
       "      <td>0.2261</td>\n",
       "      <td>0.0244</td>\n",
       "      <td>0.0000</td>\n",
       "    </tr>\n",
       "    <tr>\n",
       "      <th>AGNG</th>\n",
       "      <td>0.0520</td>\n",
       "      <td>0.0000</td>\n",
       "      <td>0.0000</td>\n",
       "      <td>0.0000</td>\n",
       "      <td>0.0000</td>\n",
       "      <td>0.0000</td>\n",
       "      <td>0.0000</td>\n",
       "      <td>0.0000</td>\n",
       "      <td>0.0000</td>\n",
       "      <td>0.0000</td>\n",
       "      <td>0.9480</td>\n",
       "    </tr>\n",
       "    <tr>\n",
       "      <th>AIQ</th>\n",
       "      <td>0.0000</td>\n",
       "      <td>0.0885</td>\n",
       "      <td>0.0000</td>\n",
       "      <td>0.0027</td>\n",
       "      <td>0.6367</td>\n",
       "      <td>0.1782</td>\n",
       "      <td>0.0000</td>\n",
       "      <td>0.0000</td>\n",
       "      <td>0.0878</td>\n",
       "      <td>0.0000</td>\n",
       "      <td>0.0059</td>\n",
       "    </tr>\n",
       "    <tr>\n",
       "      <th>ARKF</th>\n",
       "      <td>0.0352</td>\n",
       "      <td>0.1446</td>\n",
       "      <td>0.0000</td>\n",
       "      <td>0.0000</td>\n",
       "      <td>0.3411</td>\n",
       "      <td>0.2393</td>\n",
       "      <td>0.2155</td>\n",
       "      <td>0.0000</td>\n",
       "      <td>0.0000</td>\n",
       "      <td>0.0000</td>\n",
       "      <td>0.0242</td>\n",
       "    </tr>\n",
       "    <tr>\n",
       "      <th>ARKK</th>\n",
       "      <td>0.0133</td>\n",
       "      <td>0.1167</td>\n",
       "      <td>0.0000</td>\n",
       "      <td>0.0110</td>\n",
       "      <td>0.2294</td>\n",
       "      <td>0.2945</td>\n",
       "      <td>0.0221</td>\n",
       "      <td>0.0000</td>\n",
       "      <td>0.0204</td>\n",
       "      <td>0.0000</td>\n",
       "      <td>0.2927</td>\n",
       "    </tr>\n",
       "    <tr>\n",
       "      <th>...</th>\n",
       "      <td>...</td>\n",
       "      <td>...</td>\n",
       "      <td>...</td>\n",
       "      <td>...</td>\n",
       "      <td>...</td>\n",
       "      <td>...</td>\n",
       "      <td>...</td>\n",
       "      <td>...</td>\n",
       "      <td>...</td>\n",
       "      <td>...</td>\n",
       "      <td>...</td>\n",
       "    </tr>\n",
       "    <tr>\n",
       "      <th>VFIN</th>\n",
       "      <td>0.0000</td>\n",
       "      <td>0.1509</td>\n",
       "      <td>0.0000</td>\n",
       "      <td>0.0204</td>\n",
       "      <td>0.4714</td>\n",
       "      <td>0.0815</td>\n",
       "      <td>0.2322</td>\n",
       "      <td>0.0041</td>\n",
       "      <td>0.0115</td>\n",
       "      <td>0.0000</td>\n",
       "      <td>0.0281</td>\n",
       "    </tr>\n",
       "    <tr>\n",
       "      <th>WCBR</th>\n",
       "      <td>0.0000</td>\n",
       "      <td>0.0000</td>\n",
       "      <td>0.0000</td>\n",
       "      <td>0.0000</td>\n",
       "      <td>1.0000</td>\n",
       "      <td>0.0000</td>\n",
       "      <td>0.0000</td>\n",
       "      <td>0.0000</td>\n",
       "      <td>0.0000</td>\n",
       "      <td>0.0000</td>\n",
       "      <td>0.0000</td>\n",
       "    </tr>\n",
       "    <tr>\n",
       "      <th>WFH</th>\n",
       "      <td>0.0000</td>\n",
       "      <td>0.0348</td>\n",
       "      <td>0.0000</td>\n",
       "      <td>0.0000</td>\n",
       "      <td>0.8086</td>\n",
       "      <td>0.1566</td>\n",
       "      <td>0.0000</td>\n",
       "      <td>0.0000</td>\n",
       "      <td>0.0000</td>\n",
       "      <td>0.0000</td>\n",
       "      <td>0.0000</td>\n",
       "    </tr>\n",
       "    <tr>\n",
       "      <th>WUGI</th>\n",
       "      <td>0.0000</td>\n",
       "      <td>0.1062</td>\n",
       "      <td>0.0000</td>\n",
       "      <td>0.0000</td>\n",
       "      <td>0.6405</td>\n",
       "      <td>0.2372</td>\n",
       "      <td>0.0161</td>\n",
       "      <td>0.0000</td>\n",
       "      <td>0.0000</td>\n",
       "      <td>0.0000</td>\n",
       "      <td>0.0000</td>\n",
       "    </tr>\n",
       "    <tr>\n",
       "      <th>WWOW</th>\n",
       "      <td>0.0000</td>\n",
       "      <td>0.1371</td>\n",
       "      <td>0.0206</td>\n",
       "      <td>0.0000</td>\n",
       "      <td>0.3339</td>\n",
       "      <td>0.1968</td>\n",
       "      <td>0.0000</td>\n",
       "      <td>0.0913</td>\n",
       "      <td>0.1997</td>\n",
       "      <td>0.0000</td>\n",
       "      <td>0.0206</td>\n",
       "    </tr>\n",
       "  </tbody>\n",
       "</table>\n",
       "<p>143 rows × 11 columns</p>\n",
       "</div>"
      ],
      "text/plain": [
       "      realestate  consumer_cyclical  basic_materials  consumer_defensive  \\\n",
       "ACES      0.0401             0.0926           0.0127              0.0000   \n",
       "AGNG      0.0520             0.0000           0.0000              0.0000   \n",
       "AIQ       0.0000             0.0885           0.0000              0.0027   \n",
       "ARKF      0.0352             0.1446           0.0000              0.0000   \n",
       "ARKK      0.0133             0.1167           0.0000              0.0110   \n",
       "...          ...                ...              ...                 ...   \n",
       "VFIN      0.0000             0.1509           0.0000              0.0204   \n",
       "WCBR      0.0000             0.0000           0.0000              0.0000   \n",
       "WFH       0.0000             0.0348           0.0000              0.0000   \n",
       "WUGI      0.0000             0.1062           0.0000              0.0000   \n",
       "WWOW      0.0000             0.1371           0.0206              0.0000   \n",
       "\n",
       "      technology  communication_services  financial_services  utilities  \\\n",
       "ACES      0.3196                  0.0000              0.0000     0.2844   \n",
       "AGNG      0.0000                  0.0000              0.0000     0.0000   \n",
       "AIQ       0.6367                  0.1782              0.0000     0.0000   \n",
       "ARKF      0.3411                  0.2393              0.2155     0.0000   \n",
       "ARKK      0.2294                  0.2945              0.0221     0.0000   \n",
       "...          ...                     ...                 ...        ...   \n",
       "VFIN      0.4714                  0.0815              0.2322     0.0041   \n",
       "WCBR      1.0000                  0.0000              0.0000     0.0000   \n",
       "WFH       0.8086                  0.1566              0.0000     0.0000   \n",
       "WUGI      0.6405                  0.2372              0.0161     0.0000   \n",
       "WWOW      0.3339                  0.1968              0.0000     0.0913   \n",
       "\n",
       "      industrials  energy  healthcare  \n",
       "ACES       0.2261  0.0244      0.0000  \n",
       "AGNG       0.0000  0.0000      0.9480  \n",
       "AIQ        0.0878  0.0000      0.0059  \n",
       "ARKF       0.0000  0.0000      0.0242  \n",
       "ARKK       0.0204  0.0000      0.2927  \n",
       "...           ...     ...         ...  \n",
       "VFIN       0.0115  0.0000      0.0281  \n",
       "WCBR       0.0000  0.0000      0.0000  \n",
       "WFH        0.0000  0.0000      0.0000  \n",
       "WUGI       0.0000  0.0000      0.0000  \n",
       "WWOW       0.1997  0.0000      0.0206  \n",
       "\n",
       "[143 rows x 11 columns]"
      ]
     },
     "execution_count": 9,
     "metadata": {},
     "output_type": "execute_result"
    }
   ],
   "source": [
    "# import yahooquery library\n",
    "from yahooquery import Ticker\n",
    "\n",
    "# create an empty dataframe\n",
    "sector =pd.DataFrame()\n",
    "\n",
    "# collect sector allocation for each ETF via yahooquery API\n",
    "for i in range(0,len(rtn_vol)):\n",
    "    t = Ticker(list(rtn_vol.index)[i])\n",
    "    if type(t.fund_sector_weightings) == dict:\n",
    "        df = pd.Series(name=list(rtn_vol.index)[i])\n",
    "    else:\n",
    "        df = t.fund_sector_weightings.transpose()\n",
    "    sector = sector.append(df)\n",
    "\n",
    "# display the output\n",
    "sector"
   ]
  },
  {
   "cell_type": "markdown",
   "id": "matched-telephone",
   "metadata": {},
   "source": [
    "To check if the sector allocation is complete, I created a \"Total Sector Allocation\" column in the `sector` dataframe to calculate the sum of all sector allocations for each ETF. For those ETFs that are missing sector allocation information on Yahoo! Finance, I used <a href=\"https://finnhub.io/docs/api/etfs-sector-exposure\">Finnhub API</a> as an alternative source to see if those missing sector allocation data are available on Finnhub. If you'd like to replicate this part of implementation, you can request a free token on Finnhub and replace the \"Insert Your Token\" in my code below with your token. Finnhub sets limits on API calls per minute, so if the quantity of calls is large, you may have to split the data extraction to a few batches and wait for 1 minute between each batch extraction."
   ]
  },
  {
   "cell_type": "code",
   "execution_count": 10,
   "id": "proved-portfolio",
   "metadata": {},
   "outputs": [],
   "source": [
    "# check if all 11 sector allocations sum up to 1\n",
    "sector['Total Sector Allocation'] = sector[list(sector.columns)].sum(axis=1)"
   ]
  },
  {
   "cell_type": "code",
   "execution_count": 11,
   "id": "suburban-acceptance",
   "metadata": {},
   "outputs": [
    {
     "data": {
      "text/html": [
       "<div>\n",
       "<style scoped>\n",
       "    .dataframe tbody tr th:only-of-type {\n",
       "        vertical-align: middle;\n",
       "    }\n",
       "\n",
       "    .dataframe tbody tr th {\n",
       "        vertical-align: top;\n",
       "    }\n",
       "\n",
       "    .dataframe thead th {\n",
       "        text-align: right;\n",
       "    }\n",
       "</style>\n",
       "<table border=\"1\" class=\"dataframe\">\n",
       "  <thead>\n",
       "    <tr style=\"text-align: right;\">\n",
       "      <th></th>\n",
       "      <th>realestate</th>\n",
       "      <th>consumer_cyclical</th>\n",
       "      <th>basic_materials</th>\n",
       "      <th>consumer_defensive</th>\n",
       "      <th>technology</th>\n",
       "      <th>communication_services</th>\n",
       "      <th>financial_services</th>\n",
       "      <th>utilities</th>\n",
       "      <th>industrials</th>\n",
       "      <th>energy</th>\n",
       "      <th>healthcare</th>\n",
       "      <th>Total Sector Allocation</th>\n",
       "    </tr>\n",
       "  </thead>\n",
       "  <tbody>\n",
       "    <tr>\n",
       "      <th>ESPO</th>\n",
       "      <td>NaN</td>\n",
       "      <td>NaN</td>\n",
       "      <td>NaN</td>\n",
       "      <td>NaN</td>\n",
       "      <td>NaN</td>\n",
       "      <td>NaN</td>\n",
       "      <td>NaN</td>\n",
       "      <td>NaN</td>\n",
       "      <td>NaN</td>\n",
       "      <td>NaN</td>\n",
       "      <td>NaN</td>\n",
       "      <td>0.0</td>\n",
       "    </tr>\n",
       "    <tr>\n",
       "      <th>IGF</th>\n",
       "      <td>NaN</td>\n",
       "      <td>NaN</td>\n",
       "      <td>NaN</td>\n",
       "      <td>NaN</td>\n",
       "      <td>NaN</td>\n",
       "      <td>NaN</td>\n",
       "      <td>NaN</td>\n",
       "      <td>NaN</td>\n",
       "      <td>NaN</td>\n",
       "      <td>NaN</td>\n",
       "      <td>NaN</td>\n",
       "      <td>0.0</td>\n",
       "    </tr>\n",
       "    <tr>\n",
       "      <th>IRBO</th>\n",
       "      <td>NaN</td>\n",
       "      <td>NaN</td>\n",
       "      <td>NaN</td>\n",
       "      <td>NaN</td>\n",
       "      <td>NaN</td>\n",
       "      <td>NaN</td>\n",
       "      <td>NaN</td>\n",
       "      <td>NaN</td>\n",
       "      <td>NaN</td>\n",
       "      <td>NaN</td>\n",
       "      <td>NaN</td>\n",
       "      <td>0.0</td>\n",
       "    </tr>\n",
       "    <tr>\n",
       "      <th>MOO</th>\n",
       "      <td>NaN</td>\n",
       "      <td>NaN</td>\n",
       "      <td>NaN</td>\n",
       "      <td>NaN</td>\n",
       "      <td>NaN</td>\n",
       "      <td>NaN</td>\n",
       "      <td>NaN</td>\n",
       "      <td>NaN</td>\n",
       "      <td>NaN</td>\n",
       "      <td>NaN</td>\n",
       "      <td>NaN</td>\n",
       "      <td>0.0</td>\n",
       "    </tr>\n",
       "    <tr>\n",
       "      <th>SMOG</th>\n",
       "      <td>NaN</td>\n",
       "      <td>NaN</td>\n",
       "      <td>NaN</td>\n",
       "      <td>NaN</td>\n",
       "      <td>NaN</td>\n",
       "      <td>NaN</td>\n",
       "      <td>NaN</td>\n",
       "      <td>NaN</td>\n",
       "      <td>NaN</td>\n",
       "      <td>NaN</td>\n",
       "      <td>NaN</td>\n",
       "      <td>0.0</td>\n",
       "    </tr>\n",
       "    <tr>\n",
       "      <th>SOCL</th>\n",
       "      <td>NaN</td>\n",
       "      <td>NaN</td>\n",
       "      <td>NaN</td>\n",
       "      <td>NaN</td>\n",
       "      <td>NaN</td>\n",
       "      <td>NaN</td>\n",
       "      <td>NaN</td>\n",
       "      <td>NaN</td>\n",
       "      <td>NaN</td>\n",
       "      <td>NaN</td>\n",
       "      <td>NaN</td>\n",
       "      <td>0.0</td>\n",
       "    </tr>\n",
       "    <tr>\n",
       "      <th>DAPP</th>\n",
       "      <td>NaN</td>\n",
       "      <td>NaN</td>\n",
       "      <td>NaN</td>\n",
       "      <td>NaN</td>\n",
       "      <td>NaN</td>\n",
       "      <td>NaN</td>\n",
       "      <td>NaN</td>\n",
       "      <td>NaN</td>\n",
       "      <td>NaN</td>\n",
       "      <td>NaN</td>\n",
       "      <td>NaN</td>\n",
       "      <td>0.0</td>\n",
       "    </tr>\n",
       "    <tr>\n",
       "      <th>GBLD</th>\n",
       "      <td>NaN</td>\n",
       "      <td>NaN</td>\n",
       "      <td>NaN</td>\n",
       "      <td>NaN</td>\n",
       "      <td>NaN</td>\n",
       "      <td>NaN</td>\n",
       "      <td>NaN</td>\n",
       "      <td>NaN</td>\n",
       "      <td>NaN</td>\n",
       "      <td>NaN</td>\n",
       "      <td>NaN</td>\n",
       "      <td>0.0</td>\n",
       "    </tr>\n",
       "    <tr>\n",
       "      <th>HDRO</th>\n",
       "      <td>0.0</td>\n",
       "      <td>0.0</td>\n",
       "      <td>0.0</td>\n",
       "      <td>0.0</td>\n",
       "      <td>0.0</td>\n",
       "      <td>0.0</td>\n",
       "      <td>0.0</td>\n",
       "      <td>0.0</td>\n",
       "      <td>0.0</td>\n",
       "      <td>0.0</td>\n",
       "      <td>0.0</td>\n",
       "      <td>0.0</td>\n",
       "    </tr>\n",
       "    <tr>\n",
       "      <th>IHAK</th>\n",
       "      <td>NaN</td>\n",
       "      <td>NaN</td>\n",
       "      <td>NaN</td>\n",
       "      <td>NaN</td>\n",
       "      <td>NaN</td>\n",
       "      <td>NaN</td>\n",
       "      <td>NaN</td>\n",
       "      <td>NaN</td>\n",
       "      <td>NaN</td>\n",
       "      <td>NaN</td>\n",
       "      <td>NaN</td>\n",
       "      <td>0.0</td>\n",
       "    </tr>\n",
       "    <tr>\n",
       "      <th>MSOS</th>\n",
       "      <td>0.0</td>\n",
       "      <td>0.0</td>\n",
       "      <td>0.0</td>\n",
       "      <td>0.0</td>\n",
       "      <td>0.0</td>\n",
       "      <td>0.0</td>\n",
       "      <td>0.0</td>\n",
       "      <td>0.0</td>\n",
       "      <td>0.0</td>\n",
       "      <td>0.0</td>\n",
       "      <td>0.0</td>\n",
       "      <td>0.0</td>\n",
       "    </tr>\n",
       "  </tbody>\n",
       "</table>\n",
       "</div>"
      ],
      "text/plain": [
       "      realestate  consumer_cyclical  basic_materials  consumer_defensive  \\\n",
       "ESPO         NaN                NaN              NaN                 NaN   \n",
       "IGF          NaN                NaN              NaN                 NaN   \n",
       "IRBO         NaN                NaN              NaN                 NaN   \n",
       "MOO          NaN                NaN              NaN                 NaN   \n",
       "SMOG         NaN                NaN              NaN                 NaN   \n",
       "SOCL         NaN                NaN              NaN                 NaN   \n",
       "DAPP         NaN                NaN              NaN                 NaN   \n",
       "GBLD         NaN                NaN              NaN                 NaN   \n",
       "HDRO         0.0                0.0              0.0                 0.0   \n",
       "IHAK         NaN                NaN              NaN                 NaN   \n",
       "MSOS         0.0                0.0              0.0                 0.0   \n",
       "\n",
       "      technology  communication_services  financial_services  utilities  \\\n",
       "ESPO         NaN                     NaN                 NaN        NaN   \n",
       "IGF          NaN                     NaN                 NaN        NaN   \n",
       "IRBO         NaN                     NaN                 NaN        NaN   \n",
       "MOO          NaN                     NaN                 NaN        NaN   \n",
       "SMOG         NaN                     NaN                 NaN        NaN   \n",
       "SOCL         NaN                     NaN                 NaN        NaN   \n",
       "DAPP         NaN                     NaN                 NaN        NaN   \n",
       "GBLD         NaN                     NaN                 NaN        NaN   \n",
       "HDRO         0.0                     0.0                 0.0        0.0   \n",
       "IHAK         NaN                     NaN                 NaN        NaN   \n",
       "MSOS         0.0                     0.0                 0.0        0.0   \n",
       "\n",
       "      industrials  energy  healthcare  Total Sector Allocation  \n",
       "ESPO          NaN     NaN         NaN                      0.0  \n",
       "IGF           NaN     NaN         NaN                      0.0  \n",
       "IRBO          NaN     NaN         NaN                      0.0  \n",
       "MOO           NaN     NaN         NaN                      0.0  \n",
       "SMOG          NaN     NaN         NaN                      0.0  \n",
       "SOCL          NaN     NaN         NaN                      0.0  \n",
       "DAPP          NaN     NaN         NaN                      0.0  \n",
       "GBLD          NaN     NaN         NaN                      0.0  \n",
       "HDRO          0.0     0.0         0.0                      0.0  \n",
       "IHAK          NaN     NaN         NaN                      0.0  \n",
       "MSOS          0.0     0.0         0.0                      0.0  "
      ]
     },
     "execution_count": 11,
     "metadata": {},
     "output_type": "execute_result"
    }
   ],
   "source": [
    "# select ETFs with sector allocation not adding up close to 1\n",
    "sectormissing = sector.loc[abs(sector['Total Sector Allocation']-1) > 0.1]\n",
    "\n",
    "# display those ETFs missing sector information\n",
    "sectormissing"
   ]
  },
  {
   "cell_type": "markdown",
   "id": "integral-canadian",
   "metadata": {},
   "source": [
    "Apparently some newer ETFs do not have sector allocation data available yet on Yahoo! Finance. Finnhub has sector allocation for some of these ETFs. In the past I have noticed Finnhub sector allocation doesn't seem to have look-through capability like Yahoo! Finance does. That is, if an ETF holds other ETFs, Yahoo! Finance outputs sector allocation based on the underlying holdings of the underlying ETFs, whereas Finnhub simply categorizes the sector for these underlying ETFs as \"Other. However, the ETFs I'm looking at here don't appear to have significant amount of underlying ETFs and therefore the aforementioned issue doesn't apply here. "
   ]
  },
  {
   "cell_type": "code",
   "execution_count": 12,
   "id": "frozen-tiger",
   "metadata": {
    "scrolled": true
   },
   "outputs": [
    {
     "data": {
      "text/html": [
       "<div>\n",
       "<style scoped>\n",
       "    .dataframe tbody tr th:only-of-type {\n",
       "        vertical-align: middle;\n",
       "    }\n",
       "\n",
       "    .dataframe tbody tr th {\n",
       "        vertical-align: top;\n",
       "    }\n",
       "\n",
       "    .dataframe thead th {\n",
       "        text-align: right;\n",
       "    }\n",
       "</style>\n",
       "<table border=\"1\" class=\"dataframe\">\n",
       "  <thead>\n",
       "    <tr style=\"text-align: right;\">\n",
       "      <th></th>\n",
       "      <th>Communication Services</th>\n",
       "      <th>Information Technology</th>\n",
       "      <th>Consumer Discretionary</th>\n",
       "      <th>Industrials</th>\n",
       "      <th>Utilities</th>\n",
       "      <th>Energy</th>\n",
       "      <th>Health Care</th>\n",
       "      <th>Consumer Staples</th>\n",
       "      <th>Materials</th>\n",
       "      <th>Other</th>\n",
       "      <th>Real Estate</th>\n",
       "      <th>Financials</th>\n",
       "    </tr>\n",
       "  </thead>\n",
       "  <tbody>\n",
       "    <tr>\n",
       "      <th>ESPO</th>\n",
       "      <td>71.19</td>\n",
       "      <td>23.42</td>\n",
       "      <td>4.38</td>\n",
       "      <td>1.02</td>\n",
       "      <td>NaN</td>\n",
       "      <td>NaN</td>\n",
       "      <td>NaN</td>\n",
       "      <td>NaN</td>\n",
       "      <td>NaN</td>\n",
       "      <td>NaN</td>\n",
       "      <td>NaN</td>\n",
       "      <td>NaN</td>\n",
       "    </tr>\n",
       "    <tr>\n",
       "      <th>IGF</th>\n",
       "      <td>0.22</td>\n",
       "      <td>NaN</td>\n",
       "      <td>NaN</td>\n",
       "      <td>36.34</td>\n",
       "      <td>36.86</td>\n",
       "      <td>20.83</td>\n",
       "      <td>NaN</td>\n",
       "      <td>NaN</td>\n",
       "      <td>NaN</td>\n",
       "      <td>NaN</td>\n",
       "      <td>NaN</td>\n",
       "      <td>NaN</td>\n",
       "    </tr>\n",
       "    <tr>\n",
       "      <th>IRBO</th>\n",
       "      <td>19.93</td>\n",
       "      <td>55.34</td>\n",
       "      <td>9.87</td>\n",
       "      <td>10.46</td>\n",
       "      <td>NaN</td>\n",
       "      <td>0.19</td>\n",
       "      <td>1.62</td>\n",
       "      <td>NaN</td>\n",
       "      <td>NaN</td>\n",
       "      <td>NaN</td>\n",
       "      <td>NaN</td>\n",
       "      <td>NaN</td>\n",
       "    </tr>\n",
       "    <tr>\n",
       "      <th>MOO</th>\n",
       "      <td>NaN</td>\n",
       "      <td>NaN</td>\n",
       "      <td>3.65</td>\n",
       "      <td>20.48</td>\n",
       "      <td>NaN</td>\n",
       "      <td>NaN</td>\n",
       "      <td>24.53</td>\n",
       "      <td>27.37</td>\n",
       "      <td>21.73</td>\n",
       "      <td>0.05</td>\n",
       "      <td>NaN</td>\n",
       "      <td>NaN</td>\n",
       "    </tr>\n",
       "    <tr>\n",
       "      <th>SMOG</th>\n",
       "      <td>NaN</td>\n",
       "      <td>36.39</td>\n",
       "      <td>16.07</td>\n",
       "      <td>29.12</td>\n",
       "      <td>9.38</td>\n",
       "      <td>NaN</td>\n",
       "      <td>NaN</td>\n",
       "      <td>NaN</td>\n",
       "      <td>3.95</td>\n",
       "      <td>NaN</td>\n",
       "      <td>0.35</td>\n",
       "      <td>NaN</td>\n",
       "    </tr>\n",
       "    <tr>\n",
       "      <th>SOCL</th>\n",
       "      <td>99.51</td>\n",
       "      <td>NaN</td>\n",
       "      <td>0.27</td>\n",
       "      <td>NaN</td>\n",
       "      <td>NaN</td>\n",
       "      <td>NaN</td>\n",
       "      <td>NaN</td>\n",
       "      <td>NaN</td>\n",
       "      <td>NaN</td>\n",
       "      <td>NaN</td>\n",
       "      <td>NaN</td>\n",
       "      <td>NaN</td>\n",
       "    </tr>\n",
       "    <tr>\n",
       "      <th>DAPP</th>\n",
       "      <td>NaN</td>\n",
       "      <td>NaN</td>\n",
       "      <td>NaN</td>\n",
       "      <td>NaN</td>\n",
       "      <td>NaN</td>\n",
       "      <td>NaN</td>\n",
       "      <td>NaN</td>\n",
       "      <td>NaN</td>\n",
       "      <td>NaN</td>\n",
       "      <td>NaN</td>\n",
       "      <td>NaN</td>\n",
       "      <td>NaN</td>\n",
       "    </tr>\n",
       "    <tr>\n",
       "      <th>GBLD</th>\n",
       "      <td>NaN</td>\n",
       "      <td>NaN</td>\n",
       "      <td>NaN</td>\n",
       "      <td>NaN</td>\n",
       "      <td>NaN</td>\n",
       "      <td>NaN</td>\n",
       "      <td>NaN</td>\n",
       "      <td>NaN</td>\n",
       "      <td>NaN</td>\n",
       "      <td>NaN</td>\n",
       "      <td>NaN</td>\n",
       "      <td>NaN</td>\n",
       "    </tr>\n",
       "    <tr>\n",
       "      <th>HDRO</th>\n",
       "      <td>NaN</td>\n",
       "      <td>NaN</td>\n",
       "      <td>NaN</td>\n",
       "      <td>83.67</td>\n",
       "      <td>NaN</td>\n",
       "      <td>3.89</td>\n",
       "      <td>NaN</td>\n",
       "      <td>3.54</td>\n",
       "      <td>8.52</td>\n",
       "      <td>NaN</td>\n",
       "      <td>NaN</td>\n",
       "      <td>NaN</td>\n",
       "    </tr>\n",
       "    <tr>\n",
       "      <th>IHAK</th>\n",
       "      <td>NaN</td>\n",
       "      <td>88.59</td>\n",
       "      <td>NaN</td>\n",
       "      <td>11.1</td>\n",
       "      <td>NaN</td>\n",
       "      <td>NaN</td>\n",
       "      <td>NaN</td>\n",
       "      <td>NaN</td>\n",
       "      <td>NaN</td>\n",
       "      <td>0.11</td>\n",
       "      <td>NaN</td>\n",
       "      <td>NaN</td>\n",
       "    </tr>\n",
       "    <tr>\n",
       "      <th>MSOS</th>\n",
       "      <td>NaN</td>\n",
       "      <td>NaN</td>\n",
       "      <td>5.07</td>\n",
       "      <td>0.67</td>\n",
       "      <td>NaN</td>\n",
       "      <td>NaN</td>\n",
       "      <td>5.7</td>\n",
       "      <td>NaN</td>\n",
       "      <td>NaN</td>\n",
       "      <td>0.74</td>\n",
       "      <td>87.52</td>\n",
       "      <td>0.3</td>\n",
       "    </tr>\n",
       "  </tbody>\n",
       "</table>\n",
       "</div>"
      ],
      "text/plain": [
       "     Communication Services Information Technology Consumer Discretionary  \\\n",
       "ESPO                  71.19                  23.42                   4.38   \n",
       "IGF                    0.22                    NaN                    NaN   \n",
       "IRBO                  19.93                  55.34                   9.87   \n",
       "MOO                     NaN                    NaN                   3.65   \n",
       "SMOG                    NaN                  36.39                  16.07   \n",
       "SOCL                  99.51                    NaN                   0.27   \n",
       "DAPP                    NaN                    NaN                    NaN   \n",
       "GBLD                    NaN                    NaN                    NaN   \n",
       "HDRO                    NaN                    NaN                    NaN   \n",
       "IHAK                    NaN                  88.59                    NaN   \n",
       "MSOS                    NaN                    NaN                   5.07   \n",
       "\n",
       "     Industrials Utilities Energy Health Care Consumer Staples Materials  \\\n",
       "ESPO        1.02       NaN    NaN         NaN              NaN       NaN   \n",
       "IGF        36.34     36.86  20.83         NaN              NaN       NaN   \n",
       "IRBO       10.46       NaN   0.19        1.62              NaN       NaN   \n",
       "MOO        20.48       NaN    NaN       24.53            27.37     21.73   \n",
       "SMOG       29.12      9.38    NaN         NaN              NaN      3.95   \n",
       "SOCL         NaN       NaN    NaN         NaN              NaN       NaN   \n",
       "DAPP         NaN       NaN    NaN         NaN              NaN       NaN   \n",
       "GBLD         NaN       NaN    NaN         NaN              NaN       NaN   \n",
       "HDRO       83.67       NaN   3.89         NaN             3.54      8.52   \n",
       "IHAK        11.1       NaN    NaN         NaN              NaN       NaN   \n",
       "MSOS        0.67       NaN    NaN         5.7              NaN       NaN   \n",
       "\n",
       "     Other Real Estate Financials  \n",
       "ESPO   NaN         NaN        NaN  \n",
       "IGF    NaN         NaN        NaN  \n",
       "IRBO   NaN         NaN        NaN  \n",
       "MOO   0.05         NaN        NaN  \n",
       "SMOG   NaN        0.35        NaN  \n",
       "SOCL   NaN         NaN        NaN  \n",
       "DAPP   NaN         NaN        NaN  \n",
       "GBLD   NaN         NaN        NaN  \n",
       "HDRO   NaN         NaN        NaN  \n",
       "IHAK  0.11         NaN        NaN  \n",
       "MSOS  0.74       87.52        0.3  "
      ]
     },
     "execution_count": 12,
     "metadata": {},
     "output_type": "execute_result"
    }
   ],
   "source": [
    "# import library\n",
    "import requests\n",
    "\n",
    "# create an empty dataframe\n",
    "sector2=pd.DataFrame()\n",
    "\n",
    "# collect sector allocation via finnhub API\n",
    "for i in range(0,len(sectormissing)):\n",
    "    r = requests.get('https://finnhub.io/api/v1/etf/sector?symbol='+list(sectormissing.index)[i]+'&token=c0ilfqf48v6ot9ddgke0')\n",
    "    x = r.json()['sectorExposure']\n",
    "    \n",
    "    if len(x) ==0:\n",
    "        df = pd.Series(name=list(sectormissing.index)[i])\n",
    "    else:\n",
    "        df = pd.DataFrame(x).transpose()\n",
    "        df.columns=df.iloc[1]\n",
    "        df = df.drop(df.index[1])\n",
    "        df.index=[list(sectormissing.index)[i]]\n",
    "    \n",
    "    sector2 = sector2.append(df)\n",
    "\n",
    "# display sector2\n",
    "sector2"
   ]
  },
  {
   "cell_type": "code",
   "execution_count": 13,
   "id": "nervous-charity",
   "metadata": {},
   "outputs": [
    {
     "data": {
      "text/html": [
       "<div>\n",
       "<style scoped>\n",
       "    .dataframe tbody tr th:only-of-type {\n",
       "        vertical-align: middle;\n",
       "    }\n",
       "\n",
       "    .dataframe tbody tr th {\n",
       "        vertical-align: top;\n",
       "    }\n",
       "\n",
       "    .dataframe thead th {\n",
       "        text-align: right;\n",
       "    }\n",
       "</style>\n",
       "<table border=\"1\" class=\"dataframe\">\n",
       "  <thead>\n",
       "    <tr style=\"text-align: right;\">\n",
       "      <th></th>\n",
       "      <th>Communication Services</th>\n",
       "      <th>Information Technology</th>\n",
       "      <th>Consumer Discretionary</th>\n",
       "      <th>Industrials</th>\n",
       "      <th>Utilities</th>\n",
       "      <th>Energy</th>\n",
       "      <th>Health Care</th>\n",
       "      <th>Consumer Staples</th>\n",
       "      <th>Materials</th>\n",
       "      <th>Other</th>\n",
       "      <th>Real Estate</th>\n",
       "      <th>Financials</th>\n",
       "      <th>Total Sector Allocation</th>\n",
       "    </tr>\n",
       "  </thead>\n",
       "  <tbody>\n",
       "    <tr>\n",
       "      <th>ESPO</th>\n",
       "      <td>71.19</td>\n",
       "      <td>23.42</td>\n",
       "      <td>4.38</td>\n",
       "      <td>1.02</td>\n",
       "      <td>NaN</td>\n",
       "      <td>NaN</td>\n",
       "      <td>NaN</td>\n",
       "      <td>NaN</td>\n",
       "      <td>NaN</td>\n",
       "      <td>NaN</td>\n",
       "      <td>NaN</td>\n",
       "      <td>NaN</td>\n",
       "      <td>100.01</td>\n",
       "    </tr>\n",
       "    <tr>\n",
       "      <th>IGF</th>\n",
       "      <td>0.22</td>\n",
       "      <td>NaN</td>\n",
       "      <td>NaN</td>\n",
       "      <td>36.34</td>\n",
       "      <td>36.86</td>\n",
       "      <td>20.83</td>\n",
       "      <td>NaN</td>\n",
       "      <td>NaN</td>\n",
       "      <td>NaN</td>\n",
       "      <td>NaN</td>\n",
       "      <td>NaN</td>\n",
       "      <td>NaN</td>\n",
       "      <td>94.25</td>\n",
       "    </tr>\n",
       "    <tr>\n",
       "      <th>IRBO</th>\n",
       "      <td>19.93</td>\n",
       "      <td>55.34</td>\n",
       "      <td>9.87</td>\n",
       "      <td>10.46</td>\n",
       "      <td>NaN</td>\n",
       "      <td>0.19</td>\n",
       "      <td>1.62</td>\n",
       "      <td>NaN</td>\n",
       "      <td>NaN</td>\n",
       "      <td>NaN</td>\n",
       "      <td>NaN</td>\n",
       "      <td>NaN</td>\n",
       "      <td>97.41</td>\n",
       "    </tr>\n",
       "    <tr>\n",
       "      <th>MOO</th>\n",
       "      <td>NaN</td>\n",
       "      <td>NaN</td>\n",
       "      <td>3.65</td>\n",
       "      <td>20.48</td>\n",
       "      <td>NaN</td>\n",
       "      <td>NaN</td>\n",
       "      <td>24.53</td>\n",
       "      <td>27.37</td>\n",
       "      <td>21.73</td>\n",
       "      <td>0.05</td>\n",
       "      <td>NaN</td>\n",
       "      <td>NaN</td>\n",
       "      <td>97.81</td>\n",
       "    </tr>\n",
       "    <tr>\n",
       "      <th>SMOG</th>\n",
       "      <td>NaN</td>\n",
       "      <td>36.39</td>\n",
       "      <td>16.07</td>\n",
       "      <td>29.12</td>\n",
       "      <td>9.38</td>\n",
       "      <td>NaN</td>\n",
       "      <td>NaN</td>\n",
       "      <td>NaN</td>\n",
       "      <td>3.95</td>\n",
       "      <td>NaN</td>\n",
       "      <td>0.35</td>\n",
       "      <td>NaN</td>\n",
       "      <td>95.26</td>\n",
       "    </tr>\n",
       "    <tr>\n",
       "      <th>SOCL</th>\n",
       "      <td>99.51</td>\n",
       "      <td>NaN</td>\n",
       "      <td>0.27</td>\n",
       "      <td>NaN</td>\n",
       "      <td>NaN</td>\n",
       "      <td>NaN</td>\n",
       "      <td>NaN</td>\n",
       "      <td>NaN</td>\n",
       "      <td>NaN</td>\n",
       "      <td>NaN</td>\n",
       "      <td>NaN</td>\n",
       "      <td>NaN</td>\n",
       "      <td>99.78</td>\n",
       "    </tr>\n",
       "    <tr>\n",
       "      <th>DAPP</th>\n",
       "      <td>NaN</td>\n",
       "      <td>NaN</td>\n",
       "      <td>NaN</td>\n",
       "      <td>NaN</td>\n",
       "      <td>NaN</td>\n",
       "      <td>NaN</td>\n",
       "      <td>NaN</td>\n",
       "      <td>NaN</td>\n",
       "      <td>NaN</td>\n",
       "      <td>NaN</td>\n",
       "      <td>NaN</td>\n",
       "      <td>NaN</td>\n",
       "      <td>0.00</td>\n",
       "    </tr>\n",
       "    <tr>\n",
       "      <th>GBLD</th>\n",
       "      <td>NaN</td>\n",
       "      <td>NaN</td>\n",
       "      <td>NaN</td>\n",
       "      <td>NaN</td>\n",
       "      <td>NaN</td>\n",
       "      <td>NaN</td>\n",
       "      <td>NaN</td>\n",
       "      <td>NaN</td>\n",
       "      <td>NaN</td>\n",
       "      <td>NaN</td>\n",
       "      <td>NaN</td>\n",
       "      <td>NaN</td>\n",
       "      <td>0.00</td>\n",
       "    </tr>\n",
       "    <tr>\n",
       "      <th>HDRO</th>\n",
       "      <td>NaN</td>\n",
       "      <td>NaN</td>\n",
       "      <td>NaN</td>\n",
       "      <td>83.67</td>\n",
       "      <td>NaN</td>\n",
       "      <td>3.89</td>\n",
       "      <td>NaN</td>\n",
       "      <td>3.54</td>\n",
       "      <td>8.52</td>\n",
       "      <td>NaN</td>\n",
       "      <td>NaN</td>\n",
       "      <td>NaN</td>\n",
       "      <td>99.62</td>\n",
       "    </tr>\n",
       "    <tr>\n",
       "      <th>IHAK</th>\n",
       "      <td>NaN</td>\n",
       "      <td>88.59</td>\n",
       "      <td>NaN</td>\n",
       "      <td>11.1</td>\n",
       "      <td>NaN</td>\n",
       "      <td>NaN</td>\n",
       "      <td>NaN</td>\n",
       "      <td>NaN</td>\n",
       "      <td>NaN</td>\n",
       "      <td>0.11</td>\n",
       "      <td>NaN</td>\n",
       "      <td>NaN</td>\n",
       "      <td>99.80</td>\n",
       "    </tr>\n",
       "    <tr>\n",
       "      <th>MSOS</th>\n",
       "      <td>NaN</td>\n",
       "      <td>NaN</td>\n",
       "      <td>5.07</td>\n",
       "      <td>0.67</td>\n",
       "      <td>NaN</td>\n",
       "      <td>NaN</td>\n",
       "      <td>5.7</td>\n",
       "      <td>NaN</td>\n",
       "      <td>NaN</td>\n",
       "      <td>0.74</td>\n",
       "      <td>87.52</td>\n",
       "      <td>0.3</td>\n",
       "      <td>100.00</td>\n",
       "    </tr>\n",
       "  </tbody>\n",
       "</table>\n",
       "</div>"
      ],
      "text/plain": [
       "     Communication Services Information Technology Consumer Discretionary  \\\n",
       "ESPO                  71.19                  23.42                   4.38   \n",
       "IGF                    0.22                    NaN                    NaN   \n",
       "IRBO                  19.93                  55.34                   9.87   \n",
       "MOO                     NaN                    NaN                   3.65   \n",
       "SMOG                    NaN                  36.39                  16.07   \n",
       "SOCL                  99.51                    NaN                   0.27   \n",
       "DAPP                    NaN                    NaN                    NaN   \n",
       "GBLD                    NaN                    NaN                    NaN   \n",
       "HDRO                    NaN                    NaN                    NaN   \n",
       "IHAK                    NaN                  88.59                    NaN   \n",
       "MSOS                    NaN                    NaN                   5.07   \n",
       "\n",
       "     Industrials Utilities Energy Health Care Consumer Staples Materials  \\\n",
       "ESPO        1.02       NaN    NaN         NaN              NaN       NaN   \n",
       "IGF        36.34     36.86  20.83         NaN              NaN       NaN   \n",
       "IRBO       10.46       NaN   0.19        1.62              NaN       NaN   \n",
       "MOO        20.48       NaN    NaN       24.53            27.37     21.73   \n",
       "SMOG       29.12      9.38    NaN         NaN              NaN      3.95   \n",
       "SOCL         NaN       NaN    NaN         NaN              NaN       NaN   \n",
       "DAPP         NaN       NaN    NaN         NaN              NaN       NaN   \n",
       "GBLD         NaN       NaN    NaN         NaN              NaN       NaN   \n",
       "HDRO       83.67       NaN   3.89         NaN             3.54      8.52   \n",
       "IHAK        11.1       NaN    NaN         NaN              NaN       NaN   \n",
       "MSOS        0.67       NaN    NaN         5.7              NaN       NaN   \n",
       "\n",
       "     Other Real Estate Financials  Total Sector Allocation  \n",
       "ESPO   NaN         NaN        NaN                   100.01  \n",
       "IGF    NaN         NaN        NaN                    94.25  \n",
       "IRBO   NaN         NaN        NaN                    97.41  \n",
       "MOO   0.05         NaN        NaN                    97.81  \n",
       "SMOG   NaN        0.35        NaN                    95.26  \n",
       "SOCL   NaN         NaN        NaN                    99.78  \n",
       "DAPP   NaN         NaN        NaN                     0.00  \n",
       "GBLD   NaN         NaN        NaN                     0.00  \n",
       "HDRO   NaN         NaN        NaN                    99.62  \n",
       "IHAK  0.11         NaN        NaN                    99.80  \n",
       "MSOS  0.74       87.52        0.3                   100.00  "
      ]
     },
     "execution_count": 13,
     "metadata": {},
     "output_type": "execute_result"
    }
   ],
   "source": [
    "# create a Total Sector Allocation column to sum up sector allocations\n",
    "sector2['Total Sector Allocation'] = sector2[list(sector2.columns)].sum(axis=1)\n",
    "\n",
    "# display sector2\n",
    "sector2"
   ]
  },
  {
   "cell_type": "markdown",
   "id": "consecutive-hartford",
   "metadata": {},
   "source": [
    "Finnhub has sector data available for four of the ETFs."
   ]
  },
  {
   "cell_type": "markdown",
   "id": "economic-report",
   "metadata": {},
   "source": [
    "I like the 11-GICS-Sector naming convention that Finnhub uses, and therefore, convert the Yahoo! Finance sector naming convention to match that of Finnhub. I then combine the Yahoo! Finance sector data, Finnhub sector data, and the returns/volatilities data to create the final dataset named `dataset`."
   ]
  },
  {
   "cell_type": "code",
   "execution_count": 14,
   "id": "further-beijing",
   "metadata": {},
   "outputs": [],
   "source": [
    "# map the Yahoo! Finance sector naming convention to Finnhub sector naming convention \n",
    "sector_yahoo = sector.rename(columns={'communication_services':'Communication Services',\n",
    "                                       'consumer_cyclical':'Consumer Discretionary',\n",
    "                                       'industrials':'Industrials',\n",
    "                                       'basic_materials':'Materials',\n",
    "                                       'energy':'Energy',\n",
    "                                       'consumer_defensive':'Consumer Staples',\n",
    "                                       'technology': 'Information Technology',\n",
    "                                       'healthcare': 'Health Care', \n",
    "                                       'financial_services':'Financials', \n",
    "                                       'realestate':'Real Estate', \n",
    "                                       'utilities':'Utilities'})"
   ]
  },
  {
   "cell_type": "code",
   "execution_count": 15,
   "id": "embedded-current",
   "metadata": {},
   "outputs": [],
   "source": [
    "# convert sector 2 to the same unit of sector_yahoo and drop the \"Other\" column\n",
    "sector_finnhub = sector2.drop('Other',axis=1)/100"
   ]
  },
  {
   "cell_type": "code",
   "execution_count": 16,
   "id": "material-track",
   "metadata": {},
   "outputs": [],
   "source": [
    "# update the sector information from Finnhub API to the sector_yahoo dataframe\n",
    "sector_yahoo.update(sector_finnhub)\n",
    "\n",
    "# change the values in the dataframe to float\n",
    "sector_yahoo=sector_yahoo.astype(float) \n",
    "\n",
    "# mark the \"Total Sector Allocation\" to NaN if 0\n",
    "sector_yahoo['Total Sector Allocation'] = sector_yahoo['Total Sector Allocation'].replace(0,np.nan) "
   ]
  },
  {
   "cell_type": "code",
   "execution_count": 17,
   "id": "imposed-trademark",
   "metadata": {
    "scrolled": false
   },
   "outputs": [],
   "source": [
    "# concatenate the return/volatility data with the sector data\n",
    "ETFnew = pd.concat([ETF, rtn_vol,sector_yahoo],axis=1)\n",
    "\n",
    "# reindex the dataframe with \"Fund Name\"\n",
    "dataset = ETFnew.set_index('Fund Name', drop=True)"
   ]
  },
  {
   "cell_type": "markdown",
   "id": "necessary-brazilian",
   "metadata": {},
   "source": [
    "# Exploratory Data Analysis"
   ]
  },
  {
   "cell_type": "markdown",
   "id": "behavioral-uganda",
   "metadata": {},
   "source": [
    "The complete dataset has these 19 variables:"
   ]
  },
  {
   "cell_type": "code",
   "execution_count": 18,
   "id": "related-venue",
   "metadata": {},
   "outputs": [
    {
     "data": {
      "text/plain": [
       "Issuer                      object\n",
       "AUM                         object\n",
       "Expense Ratio              float64\n",
       "3-Mo TR                     object\n",
       "Segment                     object\n",
       "Return                     float64\n",
       "Volatility                 float64\n",
       "Real Estate                float64\n",
       "Consumer Discretionary     float64\n",
       "Materials                  float64\n",
       "Consumer Staples           float64\n",
       "Information Technology     float64\n",
       "Communication Services     float64\n",
       "Financials                 float64\n",
       "Utilities                  float64\n",
       "Industrials                float64\n",
       "Energy                     float64\n",
       "Health Care                float64\n",
       "Total Sector Allocation    float64\n",
       "dtype: object"
      ]
     },
     "execution_count": 18,
     "metadata": {},
     "output_type": "execute_result"
    }
   ],
   "source": [
    "# check the datatypes of each variable\n",
    "dataset.dtypes"
   ]
  },
  {
   "cell_type": "markdown",
   "id": "descending-donor",
   "metadata": {},
   "source": [
    "Here are the definitions of each variable in the dataset:\n",
    "* Issuer: the issuer of the ETF\n",
    "* AUM: assets under management in USD\n",
    "* Expense Ratio: cost of investing in the ETF\n",
    "* 3-Mo TR: 3-month trailing return\n",
    "* Segment: categorization by etf.com\n",
    "* Return: annualized return for the past 2 years. For ETFs with less than 2 years of history, the return is N/A.\n",
    "* Volatility: annualized volatility for the past 2 years. For ETFs with less than 2 years of history, the volatility is N/A.\n",
    "* Real Estate, Consumer Discretionary, Materials, Consumer Staples, Information Technology, Communication Services, Financials, Utilities, Industrials, Energy, Health Care: allocations to respective sectors\n",
    "* Total Sector Allocation: sum of individual sector allocations"
   ]
  },
  {
   "cell_type": "markdown",
   "id": "forced-nebraska",
   "metadata": {},
   "source": [
    "Of these 143 ETFs, 54 are missing price data (Return = 54) and 5 are missing sector data (Total Sector Allocation = 5). ETFs missing either price data or sector data will be removed."
   ]
  },
  {
   "cell_type": "code",
   "execution_count": 19,
   "id": "dangerous-advertising",
   "metadata": {},
   "outputs": [
    {
     "data": {
      "text/plain": [
       "Issuer                      0\n",
       "AUM                         0\n",
       "Expense Ratio               0\n",
       "3-Mo TR                     0\n",
       "Segment                     0\n",
       "Return                     54\n",
       "Volatility                 54\n",
       "Real Estate                 8\n",
       "Consumer Discretionary      4\n",
       "Materials                   7\n",
       "Consumer Staples            8\n",
       "Information Technology      5\n",
       "Communication Services      5\n",
       "Financials                  9\n",
       "Utilities                   7\n",
       "Industrials                 3\n",
       "Energy                      7\n",
       "Health Care                 7\n",
       "Total Sector Allocation     2\n",
       "dtype: int64"
      ]
     },
     "execution_count": 19,
     "metadata": {},
     "output_type": "execute_result"
    }
   ],
   "source": [
    "# check for missing values\n",
    "dataset.isnull().sum()"
   ]
  },
  {
   "cell_type": "markdown",
   "id": "closing-turner",
   "metadata": {},
   "source": [
    "Issuer, AUM, Expense Ratio, 3-Mo TR, and Segment are not relevant and will be removed. Note that etf.com has its own categorization on the thematic ETFs via the \"Segment\" variable. In total, there are 46 segments. This variable could be relevant if Natural Language Processing is applied, but for now I will just focus on the price and holdings data."
   ]
  },
  {
   "cell_type": "code",
   "execution_count": 20,
   "id": "sitting-navigator",
   "metadata": {
    "scrolled": false
   },
   "outputs": [
    {
     "data": {
      "application/vnd.plotly.v1+json": {
       "config": {
        "linkText": "Export to plot.ly",
        "plotlyServerURL": "https://plot.ly",
        "showLink": true
       },
       "data": [
        {
         "marker": {
          "color": "rgba(255, 153, 51, 0.6)",
          "line": {
           "color": "rgba(255, 153, 51, 1.0)",
           "width": 1
          }
         },
         "name": "None",
         "orientation": "h",
         "text": "",
         "type": "bar",
         "x": [
          1,
          1,
          1,
          1,
          1,
          1,
          1,
          1,
          3,
          3,
          3,
          5,
          11,
          1,
          5,
          5,
          1,
          4,
          1,
          2,
          3,
          1,
          10,
          6,
          3,
          1,
          9,
          3,
          8,
          2,
          1,
          2,
          1,
          1,
          2,
          1,
          1,
          3,
          2,
          11,
          7,
          4,
          6,
          1,
          1,
          1
         ],
         "y": [
          "Equity: China Consumer",
          "Equity: Developed Markets Cannabis",
          "Equity: Developed Markets Cybersecurity",
          "Equity: Developed Markets Digital Payments",
          "Equity: Developed Markets Ex-U.S. Low Carbon",
          "Equity: Developed Markets Low Carbon",
          "Equity: Emerging Markets Consumer",
          "Equity: Emerging Markets Infrastructure",
          "Equity: Global 5G",
          "Equity: Global Agriculture",
          "Equity: Global Blockchain",
          "Equity: Global Cannabis",
          "Equity: Global Consumer",
          "Equity: Global Consumer Cyclicals",
          "Equity: Global Cybersecurity",
          "Equity: Global Digital Economy",
          "Equity: Global Digital Payments",
          "Equity: Global Environment",
          "Equity: Global FinTech",
          "Equity: Global Internet",
          "Equity: Global Low Carbon",
          "Equity: Global Millennials",
          "Equity: Global Mobility",
          "Equity: Global Natural Resources",
          "Equity: Global Nuclear Energy",
          "Equity: Global Remote Work",
          "Equity: Global Robotics & AI",
          "Equity: Global Technology",
          "Equity: Global Theme Broad-based",
          "Equity: Global Timber",
          "Equity: India Consumer",
          "Equity: North America Cannabis",
          "Equity: North America Natural Resources",
          "Equity: U.S. Digital Payments",
          "Equity: U.S. Low Carbon",
          "Equity: U.S. Millennials",
          "Equity: U.S. Remote Work",
          "Equity: U.S. Renewable Energy",
          "Equity: U.S. Theme Broad-based",
          "Equity:Global Infrastructure",
          "Equity:Global Renewable Energy",
          "Equity:Global Video Games & eSports",
          "Equity:Global Water",
          "Leveraged Equity: Global Cybersecurity",
          "Leveraged Equity: Global Robotics & AI",
          "Leveraged Equity: North America Cannabis"
         ]
        }
       ],
       "layout": {
        "legend": {
         "bgcolor": "#F5F6F9",
         "font": {
          "color": "#4D5663"
         }
        },
        "paper_bgcolor": "#F5F6F9",
        "plot_bgcolor": "#F5F6F9",
        "template": {
         "data": {
          "bar": [
           {
            "error_x": {
             "color": "#2a3f5f"
            },
            "error_y": {
             "color": "#2a3f5f"
            },
            "marker": {
             "line": {
              "color": "#E5ECF6",
              "width": 0.5
             }
            },
            "type": "bar"
           }
          ],
          "barpolar": [
           {
            "marker": {
             "line": {
              "color": "#E5ECF6",
              "width": 0.5
             }
            },
            "type": "barpolar"
           }
          ],
          "carpet": [
           {
            "aaxis": {
             "endlinecolor": "#2a3f5f",
             "gridcolor": "white",
             "linecolor": "white",
             "minorgridcolor": "white",
             "startlinecolor": "#2a3f5f"
            },
            "baxis": {
             "endlinecolor": "#2a3f5f",
             "gridcolor": "white",
             "linecolor": "white",
             "minorgridcolor": "white",
             "startlinecolor": "#2a3f5f"
            },
            "type": "carpet"
           }
          ],
          "choropleth": [
           {
            "colorbar": {
             "outlinewidth": 0,
             "ticks": ""
            },
            "type": "choropleth"
           }
          ],
          "contour": [
           {
            "colorbar": {
             "outlinewidth": 0,
             "ticks": ""
            },
            "colorscale": [
             [
              0,
              "#0d0887"
             ],
             [
              0.1111111111111111,
              "#46039f"
             ],
             [
              0.2222222222222222,
              "#7201a8"
             ],
             [
              0.3333333333333333,
              "#9c179e"
             ],
             [
              0.4444444444444444,
              "#bd3786"
             ],
             [
              0.5555555555555556,
              "#d8576b"
             ],
             [
              0.6666666666666666,
              "#ed7953"
             ],
             [
              0.7777777777777778,
              "#fb9f3a"
             ],
             [
              0.8888888888888888,
              "#fdca26"
             ],
             [
              1,
              "#f0f921"
             ]
            ],
            "type": "contour"
           }
          ],
          "contourcarpet": [
           {
            "colorbar": {
             "outlinewidth": 0,
             "ticks": ""
            },
            "type": "contourcarpet"
           }
          ],
          "heatmap": [
           {
            "colorbar": {
             "outlinewidth": 0,
             "ticks": ""
            },
            "colorscale": [
             [
              0,
              "#0d0887"
             ],
             [
              0.1111111111111111,
              "#46039f"
             ],
             [
              0.2222222222222222,
              "#7201a8"
             ],
             [
              0.3333333333333333,
              "#9c179e"
             ],
             [
              0.4444444444444444,
              "#bd3786"
             ],
             [
              0.5555555555555556,
              "#d8576b"
             ],
             [
              0.6666666666666666,
              "#ed7953"
             ],
             [
              0.7777777777777778,
              "#fb9f3a"
             ],
             [
              0.8888888888888888,
              "#fdca26"
             ],
             [
              1,
              "#f0f921"
             ]
            ],
            "type": "heatmap"
           }
          ],
          "heatmapgl": [
           {
            "colorbar": {
             "outlinewidth": 0,
             "ticks": ""
            },
            "colorscale": [
             [
              0,
              "#0d0887"
             ],
             [
              0.1111111111111111,
              "#46039f"
             ],
             [
              0.2222222222222222,
              "#7201a8"
             ],
             [
              0.3333333333333333,
              "#9c179e"
             ],
             [
              0.4444444444444444,
              "#bd3786"
             ],
             [
              0.5555555555555556,
              "#d8576b"
             ],
             [
              0.6666666666666666,
              "#ed7953"
             ],
             [
              0.7777777777777778,
              "#fb9f3a"
             ],
             [
              0.8888888888888888,
              "#fdca26"
             ],
             [
              1,
              "#f0f921"
             ]
            ],
            "type": "heatmapgl"
           }
          ],
          "histogram": [
           {
            "marker": {
             "colorbar": {
              "outlinewidth": 0,
              "ticks": ""
             }
            },
            "type": "histogram"
           }
          ],
          "histogram2d": [
           {
            "colorbar": {
             "outlinewidth": 0,
             "ticks": ""
            },
            "colorscale": [
             [
              0,
              "#0d0887"
             ],
             [
              0.1111111111111111,
              "#46039f"
             ],
             [
              0.2222222222222222,
              "#7201a8"
             ],
             [
              0.3333333333333333,
              "#9c179e"
             ],
             [
              0.4444444444444444,
              "#bd3786"
             ],
             [
              0.5555555555555556,
              "#d8576b"
             ],
             [
              0.6666666666666666,
              "#ed7953"
             ],
             [
              0.7777777777777778,
              "#fb9f3a"
             ],
             [
              0.8888888888888888,
              "#fdca26"
             ],
             [
              1,
              "#f0f921"
             ]
            ],
            "type": "histogram2d"
           }
          ],
          "histogram2dcontour": [
           {
            "colorbar": {
             "outlinewidth": 0,
             "ticks": ""
            },
            "colorscale": [
             [
              0,
              "#0d0887"
             ],
             [
              0.1111111111111111,
              "#46039f"
             ],
             [
              0.2222222222222222,
              "#7201a8"
             ],
             [
              0.3333333333333333,
              "#9c179e"
             ],
             [
              0.4444444444444444,
              "#bd3786"
             ],
             [
              0.5555555555555556,
              "#d8576b"
             ],
             [
              0.6666666666666666,
              "#ed7953"
             ],
             [
              0.7777777777777778,
              "#fb9f3a"
             ],
             [
              0.8888888888888888,
              "#fdca26"
             ],
             [
              1,
              "#f0f921"
             ]
            ],
            "type": "histogram2dcontour"
           }
          ],
          "mesh3d": [
           {
            "colorbar": {
             "outlinewidth": 0,
             "ticks": ""
            },
            "type": "mesh3d"
           }
          ],
          "parcoords": [
           {
            "line": {
             "colorbar": {
              "outlinewidth": 0,
              "ticks": ""
             }
            },
            "type": "parcoords"
           }
          ],
          "pie": [
           {
            "automargin": true,
            "type": "pie"
           }
          ],
          "scatter": [
           {
            "marker": {
             "colorbar": {
              "outlinewidth": 0,
              "ticks": ""
             }
            },
            "type": "scatter"
           }
          ],
          "scatter3d": [
           {
            "line": {
             "colorbar": {
              "outlinewidth": 0,
              "ticks": ""
             }
            },
            "marker": {
             "colorbar": {
              "outlinewidth": 0,
              "ticks": ""
             }
            },
            "type": "scatter3d"
           }
          ],
          "scattercarpet": [
           {
            "marker": {
             "colorbar": {
              "outlinewidth": 0,
              "ticks": ""
             }
            },
            "type": "scattercarpet"
           }
          ],
          "scattergeo": [
           {
            "marker": {
             "colorbar": {
              "outlinewidth": 0,
              "ticks": ""
             }
            },
            "type": "scattergeo"
           }
          ],
          "scattergl": [
           {
            "marker": {
             "colorbar": {
              "outlinewidth": 0,
              "ticks": ""
             }
            },
            "type": "scattergl"
           }
          ],
          "scattermapbox": [
           {
            "marker": {
             "colorbar": {
              "outlinewidth": 0,
              "ticks": ""
             }
            },
            "type": "scattermapbox"
           }
          ],
          "scatterpolar": [
           {
            "marker": {
             "colorbar": {
              "outlinewidth": 0,
              "ticks": ""
             }
            },
            "type": "scatterpolar"
           }
          ],
          "scatterpolargl": [
           {
            "marker": {
             "colorbar": {
              "outlinewidth": 0,
              "ticks": ""
             }
            },
            "type": "scatterpolargl"
           }
          ],
          "scatterternary": [
           {
            "marker": {
             "colorbar": {
              "outlinewidth": 0,
              "ticks": ""
             }
            },
            "type": "scatterternary"
           }
          ],
          "surface": [
           {
            "colorbar": {
             "outlinewidth": 0,
             "ticks": ""
            },
            "colorscale": [
             [
              0,
              "#0d0887"
             ],
             [
              0.1111111111111111,
              "#46039f"
             ],
             [
              0.2222222222222222,
              "#7201a8"
             ],
             [
              0.3333333333333333,
              "#9c179e"
             ],
             [
              0.4444444444444444,
              "#bd3786"
             ],
             [
              0.5555555555555556,
              "#d8576b"
             ],
             [
              0.6666666666666666,
              "#ed7953"
             ],
             [
              0.7777777777777778,
              "#fb9f3a"
             ],
             [
              0.8888888888888888,
              "#fdca26"
             ],
             [
              1,
              "#f0f921"
             ]
            ],
            "type": "surface"
           }
          ],
          "table": [
           {
            "cells": {
             "fill": {
              "color": "#EBF0F8"
             },
             "line": {
              "color": "white"
             }
            },
            "header": {
             "fill": {
              "color": "#C8D4E3"
             },
             "line": {
              "color": "white"
             }
            },
            "type": "table"
           }
          ]
         },
         "layout": {
          "annotationdefaults": {
           "arrowcolor": "#2a3f5f",
           "arrowhead": 0,
           "arrowwidth": 1
          },
          "autotypenumbers": "strict",
          "coloraxis": {
           "colorbar": {
            "outlinewidth": 0,
            "ticks": ""
           }
          },
          "colorscale": {
           "diverging": [
            [
             0,
             "#8e0152"
            ],
            [
             0.1,
             "#c51b7d"
            ],
            [
             0.2,
             "#de77ae"
            ],
            [
             0.3,
             "#f1b6da"
            ],
            [
             0.4,
             "#fde0ef"
            ],
            [
             0.5,
             "#f7f7f7"
            ],
            [
             0.6,
             "#e6f5d0"
            ],
            [
             0.7,
             "#b8e186"
            ],
            [
             0.8,
             "#7fbc41"
            ],
            [
             0.9,
             "#4d9221"
            ],
            [
             1,
             "#276419"
            ]
           ],
           "sequential": [
            [
             0,
             "#0d0887"
            ],
            [
             0.1111111111111111,
             "#46039f"
            ],
            [
             0.2222222222222222,
             "#7201a8"
            ],
            [
             0.3333333333333333,
             "#9c179e"
            ],
            [
             0.4444444444444444,
             "#bd3786"
            ],
            [
             0.5555555555555556,
             "#d8576b"
            ],
            [
             0.6666666666666666,
             "#ed7953"
            ],
            [
             0.7777777777777778,
             "#fb9f3a"
            ],
            [
             0.8888888888888888,
             "#fdca26"
            ],
            [
             1,
             "#f0f921"
            ]
           ],
           "sequentialminus": [
            [
             0,
             "#0d0887"
            ],
            [
             0.1111111111111111,
             "#46039f"
            ],
            [
             0.2222222222222222,
             "#7201a8"
            ],
            [
             0.3333333333333333,
             "#9c179e"
            ],
            [
             0.4444444444444444,
             "#bd3786"
            ],
            [
             0.5555555555555556,
             "#d8576b"
            ],
            [
             0.6666666666666666,
             "#ed7953"
            ],
            [
             0.7777777777777778,
             "#fb9f3a"
            ],
            [
             0.8888888888888888,
             "#fdca26"
            ],
            [
             1,
             "#f0f921"
            ]
           ]
          },
          "colorway": [
           "#636efa",
           "#EF553B",
           "#00cc96",
           "#ab63fa",
           "#FFA15A",
           "#19d3f3",
           "#FF6692",
           "#B6E880",
           "#FF97FF",
           "#FECB52"
          ],
          "font": {
           "color": "#2a3f5f"
          },
          "geo": {
           "bgcolor": "white",
           "lakecolor": "white",
           "landcolor": "#E5ECF6",
           "showlakes": true,
           "showland": true,
           "subunitcolor": "white"
          },
          "hoverlabel": {
           "align": "left"
          },
          "hovermode": "closest",
          "mapbox": {
           "style": "light"
          },
          "paper_bgcolor": "white",
          "plot_bgcolor": "#E5ECF6",
          "polar": {
           "angularaxis": {
            "gridcolor": "white",
            "linecolor": "white",
            "ticks": ""
           },
           "bgcolor": "#E5ECF6",
           "radialaxis": {
            "gridcolor": "white",
            "linecolor": "white",
            "ticks": ""
           }
          },
          "scene": {
           "xaxis": {
            "backgroundcolor": "#E5ECF6",
            "gridcolor": "white",
            "gridwidth": 2,
            "linecolor": "white",
            "showbackground": true,
            "ticks": "",
            "zerolinecolor": "white"
           },
           "yaxis": {
            "backgroundcolor": "#E5ECF6",
            "gridcolor": "white",
            "gridwidth": 2,
            "linecolor": "white",
            "showbackground": true,
            "ticks": "",
            "zerolinecolor": "white"
           },
           "zaxis": {
            "backgroundcolor": "#E5ECF6",
            "gridcolor": "white",
            "gridwidth": 2,
            "linecolor": "white",
            "showbackground": true,
            "ticks": "",
            "zerolinecolor": "white"
           }
          },
          "shapedefaults": {
           "line": {
            "color": "#2a3f5f"
           }
          },
          "ternary": {
           "aaxis": {
            "gridcolor": "white",
            "linecolor": "white",
            "ticks": ""
           },
           "baxis": {
            "gridcolor": "white",
            "linecolor": "white",
            "ticks": ""
           },
           "bgcolor": "#E5ECF6",
           "caxis": {
            "gridcolor": "white",
            "linecolor": "white",
            "ticks": ""
           }
          },
          "title": {
           "x": 0.05
          },
          "xaxis": {
           "automargin": true,
           "gridcolor": "white",
           "linecolor": "white",
           "ticks": "",
           "title": {
            "standoff": 15
           },
           "zerolinecolor": "white",
           "zerolinewidth": 2
          },
          "yaxis": {
           "automargin": true,
           "gridcolor": "white",
           "linecolor": "white",
           "ticks": "",
           "title": {
            "standoff": 15
           },
           "zerolinecolor": "white",
           "zerolinewidth": 2
          }
         }
        },
        "title": {
         "font": {
          "color": "#4D5663"
         },
         "text": "ETF Segments"
        },
        "xaxis": {
         "gridcolor": "#E1E5ED",
         "showgrid": true,
         "tickfont": {
          "color": "#4D5663"
         },
         "title": {
          "font": {
           "color": "#4D5663"
          },
          "text": "Number of ETFs"
         },
         "zerolinecolor": "#E1E5ED"
        },
        "yaxis": {
         "gridcolor": "#E1E5ED",
         "showgrid": true,
         "tickfont": {
          "color": "#4D5663"
         },
         "title": {
          "font": {
           "color": "#4D5663"
          },
          "text": ""
         },
         "zerolinecolor": "#E1E5ED"
        }
       }
      },
      "text/html": [
       "<div>                            <div id=\"9632db82-6047-434a-a81b-0a606e3498e7\" class=\"plotly-graph-div\" style=\"height:525px; width:100%;\"></div>            <script type=\"text/javascript\">                require([\"plotly\"], function(Plotly) {                    window.PLOTLYENV=window.PLOTLYENV || {};\n",
       "                    window.PLOTLYENV.BASE_URL='https://plot.ly';                                    if (document.getElementById(\"9632db82-6047-434a-a81b-0a606e3498e7\")) {                    Plotly.newPlot(                        \"9632db82-6047-434a-a81b-0a606e3498e7\",                        [{\"marker\": {\"color\": \"rgba(255, 153, 51, 0.6)\", \"line\": {\"color\": \"rgba(255, 153, 51, 1.0)\", \"width\": 1}}, \"name\": \"None\", \"orientation\": \"h\", \"text\": \"\", \"type\": \"bar\", \"x\": [1, 1, 1, 1, 1, 1, 1, 1, 3, 3, 3, 5, 11, 1, 5, 5, 1, 4, 1, 2, 3, 1, 10, 6, 3, 1, 9, 3, 8, 2, 1, 2, 1, 1, 2, 1, 1, 3, 2, 11, 7, 4, 6, 1, 1, 1], \"y\": [\"Equity: China Consumer\", \"Equity: Developed Markets Cannabis\", \"Equity: Developed Markets Cybersecurity\", \"Equity: Developed Markets Digital Payments\", \"Equity: Developed Markets Ex-U.S. Low Carbon\", \"Equity: Developed Markets Low Carbon\", \"Equity: Emerging Markets Consumer\", \"Equity: Emerging Markets Infrastructure\", \"Equity: Global 5G\", \"Equity: Global Agriculture\", \"Equity: Global Blockchain\", \"Equity: Global Cannabis\", \"Equity: Global Consumer\", \"Equity: Global Consumer Cyclicals\", \"Equity: Global Cybersecurity\", \"Equity: Global Digital Economy\", \"Equity: Global Digital Payments\", \"Equity: Global Environment\", \"Equity: Global FinTech\", \"Equity: Global Internet\", \"Equity: Global Low Carbon\", \"Equity: Global Millennials\", \"Equity: Global Mobility\", \"Equity: Global Natural Resources\", \"Equity: Global Nuclear Energy\", \"Equity: Global Remote Work\", \"Equity: Global Robotics & AI\", \"Equity: Global Technology\", \"Equity: Global Theme Broad-based\", \"Equity: Global Timber\", \"Equity: India Consumer\", \"Equity: North America Cannabis\", \"Equity: North America Natural Resources\", \"Equity: U.S. Digital Payments\", \"Equity: U.S. Low Carbon\", \"Equity: U.S. Millennials\", \"Equity: U.S. Remote Work\", \"Equity: U.S. Renewable Energy\", \"Equity: U.S. Theme Broad-based\", \"Equity:Global Infrastructure\", \"Equity:Global Renewable Energy\", \"Equity:Global Video Games & eSports\", \"Equity:Global Water\", \"Leveraged Equity: Global Cybersecurity\", \"Leveraged Equity: Global Robotics & AI\", \"Leveraged Equity: North America Cannabis\"]}],                        {\"legend\": {\"bgcolor\": \"#F5F6F9\", \"font\": {\"color\": \"#4D5663\"}}, \"paper_bgcolor\": \"#F5F6F9\", \"plot_bgcolor\": \"#F5F6F9\", \"template\": {\"data\": {\"bar\": [{\"error_x\": {\"color\": \"#2a3f5f\"}, \"error_y\": {\"color\": \"#2a3f5f\"}, \"marker\": {\"line\": {\"color\": \"#E5ECF6\", \"width\": 0.5}}, \"type\": \"bar\"}], \"barpolar\": [{\"marker\": {\"line\": {\"color\": \"#E5ECF6\", \"width\": 0.5}}, \"type\": \"barpolar\"}], \"carpet\": [{\"aaxis\": {\"endlinecolor\": \"#2a3f5f\", \"gridcolor\": \"white\", \"linecolor\": \"white\", \"minorgridcolor\": \"white\", \"startlinecolor\": \"#2a3f5f\"}, \"baxis\": {\"endlinecolor\": \"#2a3f5f\", \"gridcolor\": \"white\", \"linecolor\": \"white\", \"minorgridcolor\": \"white\", \"startlinecolor\": \"#2a3f5f\"}, \"type\": \"carpet\"}], \"choropleth\": [{\"colorbar\": {\"outlinewidth\": 0, \"ticks\": \"\"}, \"type\": \"choropleth\"}], \"contour\": [{\"colorbar\": {\"outlinewidth\": 0, \"ticks\": \"\"}, \"colorscale\": [[0.0, \"#0d0887\"], [0.1111111111111111, \"#46039f\"], [0.2222222222222222, \"#7201a8\"], [0.3333333333333333, \"#9c179e\"], [0.4444444444444444, \"#bd3786\"], [0.5555555555555556, \"#d8576b\"], [0.6666666666666666, \"#ed7953\"], [0.7777777777777778, \"#fb9f3a\"], [0.8888888888888888, \"#fdca26\"], [1.0, \"#f0f921\"]], \"type\": \"contour\"}], \"contourcarpet\": [{\"colorbar\": {\"outlinewidth\": 0, \"ticks\": \"\"}, \"type\": \"contourcarpet\"}], \"heatmap\": [{\"colorbar\": {\"outlinewidth\": 0, \"ticks\": \"\"}, \"colorscale\": [[0.0, \"#0d0887\"], [0.1111111111111111, \"#46039f\"], [0.2222222222222222, \"#7201a8\"], [0.3333333333333333, \"#9c179e\"], [0.4444444444444444, \"#bd3786\"], [0.5555555555555556, \"#d8576b\"], [0.6666666666666666, \"#ed7953\"], [0.7777777777777778, \"#fb9f3a\"], [0.8888888888888888, \"#fdca26\"], [1.0, \"#f0f921\"]], \"type\": \"heatmap\"}], \"heatmapgl\": [{\"colorbar\": {\"outlinewidth\": 0, \"ticks\": \"\"}, \"colorscale\": [[0.0, \"#0d0887\"], [0.1111111111111111, \"#46039f\"], [0.2222222222222222, \"#7201a8\"], [0.3333333333333333, \"#9c179e\"], [0.4444444444444444, \"#bd3786\"], [0.5555555555555556, \"#d8576b\"], [0.6666666666666666, \"#ed7953\"], [0.7777777777777778, \"#fb9f3a\"], [0.8888888888888888, \"#fdca26\"], [1.0, \"#f0f921\"]], \"type\": \"heatmapgl\"}], \"histogram\": [{\"marker\": {\"colorbar\": {\"outlinewidth\": 0, \"ticks\": \"\"}}, \"type\": \"histogram\"}], \"histogram2d\": [{\"colorbar\": {\"outlinewidth\": 0, \"ticks\": \"\"}, \"colorscale\": [[0.0, \"#0d0887\"], [0.1111111111111111, \"#46039f\"], [0.2222222222222222, \"#7201a8\"], [0.3333333333333333, \"#9c179e\"], [0.4444444444444444, \"#bd3786\"], [0.5555555555555556, \"#d8576b\"], [0.6666666666666666, \"#ed7953\"], [0.7777777777777778, \"#fb9f3a\"], [0.8888888888888888, \"#fdca26\"], [1.0, \"#f0f921\"]], \"type\": \"histogram2d\"}], \"histogram2dcontour\": [{\"colorbar\": {\"outlinewidth\": 0, \"ticks\": \"\"}, \"colorscale\": [[0.0, \"#0d0887\"], [0.1111111111111111, \"#46039f\"], [0.2222222222222222, \"#7201a8\"], [0.3333333333333333, \"#9c179e\"], [0.4444444444444444, \"#bd3786\"], [0.5555555555555556, \"#d8576b\"], [0.6666666666666666, \"#ed7953\"], [0.7777777777777778, \"#fb9f3a\"], [0.8888888888888888, \"#fdca26\"], [1.0, \"#f0f921\"]], \"type\": \"histogram2dcontour\"}], \"mesh3d\": [{\"colorbar\": {\"outlinewidth\": 0, \"ticks\": \"\"}, \"type\": \"mesh3d\"}], \"parcoords\": [{\"line\": {\"colorbar\": {\"outlinewidth\": 0, \"ticks\": \"\"}}, \"type\": \"parcoords\"}], \"pie\": [{\"automargin\": true, \"type\": \"pie\"}], \"scatter\": [{\"marker\": {\"colorbar\": {\"outlinewidth\": 0, \"ticks\": \"\"}}, \"type\": \"scatter\"}], \"scatter3d\": [{\"line\": {\"colorbar\": {\"outlinewidth\": 0, \"ticks\": \"\"}}, \"marker\": {\"colorbar\": {\"outlinewidth\": 0, \"ticks\": \"\"}}, \"type\": \"scatter3d\"}], \"scattercarpet\": [{\"marker\": {\"colorbar\": {\"outlinewidth\": 0, \"ticks\": \"\"}}, \"type\": \"scattercarpet\"}], \"scattergeo\": [{\"marker\": {\"colorbar\": {\"outlinewidth\": 0, \"ticks\": \"\"}}, \"type\": \"scattergeo\"}], \"scattergl\": [{\"marker\": {\"colorbar\": {\"outlinewidth\": 0, \"ticks\": \"\"}}, \"type\": \"scattergl\"}], \"scattermapbox\": [{\"marker\": {\"colorbar\": {\"outlinewidth\": 0, \"ticks\": \"\"}}, \"type\": \"scattermapbox\"}], \"scatterpolar\": [{\"marker\": {\"colorbar\": {\"outlinewidth\": 0, \"ticks\": \"\"}}, \"type\": \"scatterpolar\"}], \"scatterpolargl\": [{\"marker\": {\"colorbar\": {\"outlinewidth\": 0, \"ticks\": \"\"}}, \"type\": \"scatterpolargl\"}], \"scatterternary\": [{\"marker\": {\"colorbar\": {\"outlinewidth\": 0, \"ticks\": \"\"}}, \"type\": \"scatterternary\"}], \"surface\": [{\"colorbar\": {\"outlinewidth\": 0, \"ticks\": \"\"}, \"colorscale\": [[0.0, \"#0d0887\"], [0.1111111111111111, \"#46039f\"], [0.2222222222222222, \"#7201a8\"], [0.3333333333333333, \"#9c179e\"], [0.4444444444444444, \"#bd3786\"], [0.5555555555555556, \"#d8576b\"], [0.6666666666666666, \"#ed7953\"], [0.7777777777777778, \"#fb9f3a\"], [0.8888888888888888, \"#fdca26\"], [1.0, \"#f0f921\"]], \"type\": \"surface\"}], \"table\": [{\"cells\": {\"fill\": {\"color\": \"#EBF0F8\"}, \"line\": {\"color\": \"white\"}}, \"header\": {\"fill\": {\"color\": \"#C8D4E3\"}, \"line\": {\"color\": \"white\"}}, \"type\": \"table\"}]}, \"layout\": {\"annotationdefaults\": {\"arrowcolor\": \"#2a3f5f\", \"arrowhead\": 0, \"arrowwidth\": 1}, \"autotypenumbers\": \"strict\", \"coloraxis\": {\"colorbar\": {\"outlinewidth\": 0, \"ticks\": \"\"}}, \"colorscale\": {\"diverging\": [[0, \"#8e0152\"], [0.1, \"#c51b7d\"], [0.2, \"#de77ae\"], [0.3, \"#f1b6da\"], [0.4, \"#fde0ef\"], [0.5, \"#f7f7f7\"], [0.6, \"#e6f5d0\"], [0.7, \"#b8e186\"], [0.8, \"#7fbc41\"], [0.9, \"#4d9221\"], [1, \"#276419\"]], \"sequential\": [[0.0, \"#0d0887\"], [0.1111111111111111, \"#46039f\"], [0.2222222222222222, \"#7201a8\"], [0.3333333333333333, \"#9c179e\"], [0.4444444444444444, \"#bd3786\"], [0.5555555555555556, \"#d8576b\"], [0.6666666666666666, \"#ed7953\"], [0.7777777777777778, \"#fb9f3a\"], [0.8888888888888888, \"#fdca26\"], [1.0, \"#f0f921\"]], \"sequentialminus\": [[0.0, \"#0d0887\"], [0.1111111111111111, \"#46039f\"], [0.2222222222222222, \"#7201a8\"], [0.3333333333333333, \"#9c179e\"], [0.4444444444444444, \"#bd3786\"], [0.5555555555555556, \"#d8576b\"], [0.6666666666666666, \"#ed7953\"], [0.7777777777777778, \"#fb9f3a\"], [0.8888888888888888, \"#fdca26\"], [1.0, \"#f0f921\"]]}, \"colorway\": [\"#636efa\", \"#EF553B\", \"#00cc96\", \"#ab63fa\", \"#FFA15A\", \"#19d3f3\", \"#FF6692\", \"#B6E880\", \"#FF97FF\", \"#FECB52\"], \"font\": {\"color\": \"#2a3f5f\"}, \"geo\": {\"bgcolor\": \"white\", \"lakecolor\": \"white\", \"landcolor\": \"#E5ECF6\", \"showlakes\": true, \"showland\": true, \"subunitcolor\": \"white\"}, \"hoverlabel\": {\"align\": \"left\"}, \"hovermode\": \"closest\", \"mapbox\": {\"style\": \"light\"}, \"paper_bgcolor\": \"white\", \"plot_bgcolor\": \"#E5ECF6\", \"polar\": {\"angularaxis\": {\"gridcolor\": \"white\", \"linecolor\": \"white\", \"ticks\": \"\"}, \"bgcolor\": \"#E5ECF6\", \"radialaxis\": {\"gridcolor\": \"white\", \"linecolor\": \"white\", \"ticks\": \"\"}}, \"scene\": {\"xaxis\": {\"backgroundcolor\": \"#E5ECF6\", \"gridcolor\": \"white\", \"gridwidth\": 2, \"linecolor\": \"white\", \"showbackground\": true, \"ticks\": \"\", \"zerolinecolor\": \"white\"}, \"yaxis\": {\"backgroundcolor\": \"#E5ECF6\", \"gridcolor\": \"white\", \"gridwidth\": 2, \"linecolor\": \"white\", \"showbackground\": true, \"ticks\": \"\", \"zerolinecolor\": \"white\"}, \"zaxis\": {\"backgroundcolor\": \"#E5ECF6\", \"gridcolor\": \"white\", \"gridwidth\": 2, \"linecolor\": \"white\", \"showbackground\": true, \"ticks\": \"\", \"zerolinecolor\": \"white\"}}, \"shapedefaults\": {\"line\": {\"color\": \"#2a3f5f\"}}, \"ternary\": {\"aaxis\": {\"gridcolor\": \"white\", \"linecolor\": \"white\", \"ticks\": \"\"}, \"baxis\": {\"gridcolor\": \"white\", \"linecolor\": \"white\", \"ticks\": \"\"}, \"bgcolor\": \"#E5ECF6\", \"caxis\": {\"gridcolor\": \"white\", \"linecolor\": \"white\", \"ticks\": \"\"}}, \"title\": {\"x\": 0.05}, \"xaxis\": {\"automargin\": true, \"gridcolor\": \"white\", \"linecolor\": \"white\", \"ticks\": \"\", \"title\": {\"standoff\": 15}, \"zerolinecolor\": \"white\", \"zerolinewidth\": 2}, \"yaxis\": {\"automargin\": true, \"gridcolor\": \"white\", \"linecolor\": \"white\", \"ticks\": \"\", \"title\": {\"standoff\": 15}, \"zerolinecolor\": \"white\", \"zerolinewidth\": 2}}}, \"title\": {\"font\": {\"color\": \"#4D5663\"}, \"text\": \"ETF Segments\"}, \"xaxis\": {\"gridcolor\": \"#E1E5ED\", \"showgrid\": true, \"tickfont\": {\"color\": \"#4D5663\"}, \"title\": {\"font\": {\"color\": \"#4D5663\"}, \"text\": \"Number of ETFs\"}, \"zerolinecolor\": \"#E1E5ED\"}, \"yaxis\": {\"gridcolor\": \"#E1E5ED\", \"showgrid\": true, \"tickfont\": {\"color\": \"#4D5663\"}, \"title\": {\"font\": {\"color\": \"#4D5663\"}, \"text\": \"\"}, \"zerolinecolor\": \"#E1E5ED\"}},                        {\"showLink\": true, \"linkText\": \"Export to plot.ly\", \"plotlyServerURL\": \"https://plot.ly\", \"responsive\": true}                    ).then(function(){\n",
       "                            \n",
       "var gd = document.getElementById('9632db82-6047-434a-a81b-0a606e3498e7');\n",
       "var x = new MutationObserver(function (mutations, observer) {{\n",
       "        var display = window.getComputedStyle(gd).display;\n",
       "        if (!display || display === 'none') {{\n",
       "            console.log([gd, 'removed!']);\n",
       "            Plotly.purge(gd);\n",
       "            observer.disconnect();\n",
       "        }}\n",
       "}});\n",
       "\n",
       "// Listen for the removal of the full notebook cells\n",
       "var notebookContainer = gd.closest('#notebook-container');\n",
       "if (notebookContainer) {{\n",
       "    x.observe(notebookContainer, {childList: true});\n",
       "}}\n",
       "\n",
       "// Listen for the clearing of the current output cell\n",
       "var outputEl = gd.closest('.output');\n",
       "if (outputEl) {{\n",
       "    x.observe(outputEl, {childList: true});\n",
       "}}\n",
       "\n",
       "                        })                };                });            </script>        </div>"
      ]
     },
     "metadata": {},
     "output_type": "display_data"
    }
   ],
   "source": [
    "# check number of segments\n",
    "segments = dataset.groupby('Segment').size()\n",
    "\n",
    "# plot the issuers\n",
    "segments.iplot(kind='bar', title='ETF Segments', xTitle='Number of ETFs', orientation='h')"
   ]
  },
  {
   "cell_type": "markdown",
   "id": "atmospheric-incidence",
   "metadata": {},
   "source": [
    "As suspected, some sectors (Technology, Industrials, and Consumer Discretionary) are more popular than the others in the thematic investing world."
   ]
  },
  {
   "cell_type": "code",
   "execution_count": 21,
   "id": "prerequisite-membership",
   "metadata": {},
   "outputs": [
    {
     "data": {
      "application/vnd.plotly.v1+json": {
       "config": {
        "linkText": "Export to plot.ly",
        "plotlyServerURL": "https://plot.ly",
        "showLink": true
       },
       "data": [
        {
         "histfunc": "count",
         "histnorm": "",
         "marker": {
          "color": "rgba(255, 153, 51, 1.0)",
          "line": {
           "color": "#4D5663",
           "width": 1.3
          }
         },
         "name": "Real Estate",
         "opacity": 0.8,
         "orientation": "v",
         "type": "histogram",
         "x": [
          0.013300001,
          0.0326,
          0,
          0.0135,
          0.0352,
          0,
          0,
          null,
          0.0247,
          0,
          0,
          0.0143,
          0,
          0.0561,
          0,
          0,
          0,
          0.0185,
          0,
          0,
          0,
          0.03,
          0,
          0,
          0,
          0.0992,
          null,
          0.097399995,
          0.0401,
          0.8752,
          0,
          0,
          0,
          0,
          null,
          0.0297,
          0,
          0,
          0,
          0,
          0.2149,
          null,
          0,
          null,
          0.007900001,
          0,
          0,
          null,
          0.0081,
          0,
          0.0034999999999999996,
          0.2509,
          0,
          0,
          0,
          0.1167,
          0,
          0,
          0,
          0,
          0,
          0.036,
          0.0045,
          0,
          0,
          0,
          0,
          0.0497,
          0,
          0,
          0.1689,
          0,
          0,
          0,
          0.04,
          0,
          0,
          0,
          0.0293,
          0,
          0.0861,
          0.0092,
          0.0068,
          0,
          0,
          0,
          0.0069999998,
          0.016900001,
          0,
          0.0292,
          0,
          0,
          0,
          0.0519,
          0.0373,
          0,
          0.051999997,
          0,
          0.0027,
          0.0128,
          0.0596,
          0,
          0.0036000002,
          0,
          0,
          0,
          0.643,
          0.032,
          0,
          0,
          0.0015,
          0.0519,
          0,
          0,
          0,
          0,
          0,
          0,
          0,
          0.0089,
          0,
          0,
          0,
          0,
          0.0093,
          0,
          0.0047999998,
          0,
          0,
          0,
          0.19229999,
          0,
          0,
          0,
          0.016,
          0,
          0,
          0,
          0,
          null,
          null,
          0.0308,
          0
         ],
         "xaxis": "x",
         "yaxis": "y"
        },
        {
         "histfunc": "count",
         "histnorm": "",
         "marker": {
          "color": "rgba(55, 128, 191, 1.0)",
          "line": {
           "color": "#4D5663",
           "width": 1.3
          }
         },
         "name": "Consumer Discretionary",
         "opacity": 0.8,
         "orientation": "v",
         "type": "histogram",
         "x": [
          0.1167,
          0.188,
          0,
          0,
          0.1446,
          0,
          0.24110001,
          null,
          0.0083,
          0.1447,
          0,
          0.19860001,
          0,
          0,
          0.2379,
          0,
          0.134,
          0.0784,
          0.0195,
          0.0541,
          0,
          0.1262,
          0,
          0.0696,
          0,
          0.01,
          0.0365,
          0,
          0.0926,
          0.0507,
          0,
          0.3183,
          0,
          0,
          0.0438,
          0.119399995,
          0,
          0.0201,
          0,
          0,
          0.1243,
          null,
          0.0109,
          0.0027,
          0.1424,
          0,
          0.0189,
          0.0987,
          0.066300005,
          0,
          0.1607,
          0.1576,
          0.0968,
          0.031400003,
          0.43,
          0.066,
          0.1034,
          0.08930001,
          0.24139999,
          0.0162,
          0.4312,
          0.70669997,
          0.061300002,
          0.0296,
          0,
          0.0885,
          0.3552,
          0.37080002,
          0.32599998,
          0.0128,
          0,
          0.036199998,
          0.0573,
          0.2608,
          0.0375,
          0.0348,
          0,
          0.0168,
          0.1175,
          0,
          0.4084,
          0.0215,
          0.3955,
          0.42810002,
          0.0636,
          0,
          0.0346,
          0.136,
          0.3047,
          0.122600004,
          0,
          0,
          0.0788,
          0,
          0.3053,
          0.19299999,
          0,
          0,
          0.0963,
          0.099700004,
          0.0322,
          0.71410006,
          0,
          0,
          0.053200003,
          0.0307,
          0.0008,
          0.123900004,
          0,
          0.0456,
          0.0327,
          0,
          0,
          0,
          0.074099995,
          0.36180001,
          0,
          0,
          0.0761,
          0,
          0.4055,
          0.0106,
          0.092700005,
          0.4394,
          0.114700004,
          0.1737,
          0.1389,
          0.1371,
          0.1093,
          0.022,
          0.0106,
          0.024400001,
          0.72410005,
          0,
          0.1266,
          0.1509,
          0.30719998,
          0.0478,
          0.0143,
          null,
          null,
          0.105900005,
          0.1062
         ],
         "xaxis": "x2",
         "yaxis": "y2"
        },
        {
         "histfunc": "count",
         "histnorm": "",
         "marker": {
          "color": "rgba(50, 171, 96, 1.0)",
          "line": {
           "color": "#4D5663",
           "width": 1.3
          }
         },
         "name": "Materials",
         "opacity": 0.8,
         "orientation": "v",
         "type": "histogram",
         "x": [
          0,
          0,
          0.0106,
          0.5034,
          0,
          0,
          0,
          null,
          0.004,
          0.42290002,
          0.18959999,
          0.0833,
          0,
          0,
          0.13229999,
          0,
          0.012200001,
          0.5172,
          0,
          0.074200004,
          0.078,
          0.026500002,
          0,
          0,
          0,
          0,
          0.2173,
          0,
          0.0127,
          0,
          0.0392,
          0.1157,
          0.026800001,
          0,
          null,
          0.0374,
          0,
          0.0186,
          0.113400005,
          0.48810002,
          0.0452,
          null,
          0.16870001,
          null,
          0,
          0,
          0.0126,
          null,
          0.089700006,
          0,
          0.0395,
          0.59150004,
          0.2043,
          0.02,
          0.0598,
          0,
          0.00029999999,
          0,
          0,
          0.0382,
          0.0191,
          0,
          0,
          0,
          0.1534,
          0,
          0.088599995,
          0,
          0,
          0,
          0,
          0.0776,
          0.088599995,
          0.4455,
          0,
          0,
          0.0153,
          0,
          0.0385,
          0,
          0.42200002,
          0.0399,
          0.0105,
          0,
          0.0077,
          0.31370002,
          0.35709998,
          0.0044,
          0,
          0.0199,
          0.1547,
          0,
          0,
          0.0461,
          0,
          0,
          0,
          0.0723,
          0.10479999,
          0,
          0.0508,
          0,
          0.16319999,
          0.0852,
          0,
          0,
          0,
          0.0253,
          0,
          0.5527,
          0.48389998,
          0.0461,
          0,
          0,
          0,
          0.0557,
          0,
          0,
          0,
          0,
          0.086,
          0.39,
          0,
          0,
          0.177,
          0,
          0,
          0.020599999,
          0.0719,
          0.5567,
          0,
          0.0836,
          0,
          0,
          0,
          0,
          0.0016,
          0,
          0,
          null,
          null,
          0.077,
          0
         ],
         "xaxis": "x3",
         "yaxis": "y3"
        },
        {
         "histfunc": "count",
         "histnorm": "",
         "marker": {
          "color": "rgba(128, 0, 128, 1.0)",
          "line": {
           "color": "#4D5663",
           "width": 1.3
          }
         },
         "name": "Consumer Staples",
         "opacity": 0.8,
         "orientation": "v",
         "type": "histogram",
         "x": [
          0.011,
          0.0094,
          0,
          0.1543,
          0,
          0,
          0.012200001,
          null,
          0.0019,
          0,
          0,
          0,
          0,
          0,
          0,
          0,
          0,
          0.0429,
          0.0112,
          0.2897,
          0,
          0.056700002,
          0,
          0,
          0,
          0,
          0.2737,
          0,
          0,
          0,
          0.0215,
          0,
          0,
          0,
          null,
          0.077,
          0,
          0.0013,
          0,
          0.0681,
          0.0335,
          null,
          0,
          null,
          0.0225,
          0,
          0,
          null,
          0,
          0,
          null,
          0,
          0,
          0,
          0,
          0.21110001,
          0,
          0.0128,
          0.24340001,
          0,
          0,
          0.032,
          0,
          0,
          0,
          0.0027,
          0,
          0.0539,
          0.2852,
          0,
          0,
          0,
          0.0793,
          0,
          0.0986,
          0,
          0,
          0,
          0.0765,
          0,
          0.0001,
          0.004,
          0.051599998,
          0.5719,
          0.0168,
          0.35799998,
          0.1313,
          0.028299998,
          0.6088,
          0.0365,
          0.0297,
          0,
          0,
          0,
          0.0273,
          0.045,
          0,
          0.0099,
          0.0433,
          0,
          0.2552,
          0.19709998,
          0.0038,
          0.0354,
          0.0425,
          0,
          0,
          0.0677,
          0,
          0.10560001,
          0.14899999,
          0,
          0,
          0,
          0.5232,
          0,
          0,
          0,
          0.2131,
          0,
          0,
          0,
          0.0334,
          0.0344,
          0,
          0.08180001,
          0.0953,
          0,
          0,
          0.0682,
          0,
          0,
          0.2177,
          0,
          0.065,
          0.020399999,
          0.0269,
          0.013099999,
          0,
          null,
          null,
          0.093100004,
          0
         ],
         "xaxis": "x4",
         "yaxis": "y4"
        },
        {
         "histfunc": "count",
         "histnorm": "",
         "marker": {
          "color": "rgba(219, 64, 82, 1.0)",
          "line": {
           "color": "#4D5663",
           "width": 1.3
          }
         },
         "name": "Information Technology",
         "opacity": 0.8,
         "orientation": "v",
         "type": "histogram",
         "x": [
          0.22940001,
          0.3208,
          0.1966,
          0,
          0.3411,
          0.9295,
          0.32,
          null,
          0.7041,
          0.1321,
          0.052399997,
          0.4325,
          0.42540002,
          0.0018000001,
          0.3196,
          0.9249,
          0.4109,
          0,
          0.4962,
          0,
          0.0249,
          0.2408,
          0.6147,
          0.4366,
          0.8119,
          0.7376,
          null,
          0.6833,
          0.3196,
          0,
          0.021300001,
          0.3429,
          0,
          1,
          0.23420000000000002,
          0.1958,
          0.08,
          0.5905,
          0,
          0,
          0.18049999,
          0.8859,
          0.008,
          null,
          0.318,
          0,
          0,
          0.5534,
          0.19399999,
          0.696,
          0.3639,
          0,
          0,
          0.3498,
          0.3795,
          0,
          0.2182,
          0.403,
          0,
          0,
          0.3183,
          0.1179,
          0.6381,
          0.46330002,
          0,
          0.6367,
          0.3532,
          0.1586,
          0.0085,
          0,
          0.0016,
          0.435,
          0.0173,
          0.0937,
          0,
          0.8086,
          0.041500002,
          0.1989,
          0.19680001,
          0.3076,
          0.0002,
          0.4027,
          0.127,
          0,
          0.3318,
          0,
          0.0046,
          0.3406,
          0.0865,
          0.098500006,
          0,
          0.4267,
          0.22389999,
          0,
          0.29770002,
          0.2832,
          0,
          0,
          0.2125,
          0.7046,
          0,
          0,
          0.0461,
          0,
          0.5701,
          0.6891,
          0,
          0.2458,
          0,
          0,
          0.0058999998,
          0,
          1,
          0,
          0.244,
          0.4343,
          0.66269994,
          0.0037,
          0.1594,
          0.0045,
          0.2658,
          0.0018000001,
          0.3943,
          0.045100003,
          0.2502,
          0.2456,
          0.0608,
          0.3339,
          0.3577,
          0,
          0.0184,
          0,
          0.030299999,
          0.9261,
          0.271,
          0.4714,
          0.3632,
          0.8527,
          0.1391,
          null,
          null,
          0.0959,
          0.6405
         ],
         "xaxis": "x5",
         "yaxis": "y5"
        },
        {
         "histfunc": "count",
         "histnorm": "",
         "marker": {
          "color": "rgba(0, 128, 128, 1.0)",
          "line": {
           "color": "#4D5663",
           "width": 1.3
          }
         },
         "name": "Communication Services",
         "opacity": 0.8,
         "orientation": "v",
         "type": "histogram",
         "x": [
          0.2945,
          0.3168,
          0,
          0,
          0.2393,
          0.0019,
          0.1385,
          0.0022,
          0.0039,
          0,
          0,
          0,
          0,
          0.2459,
          0,
          0,
          0.0937,
          0,
          0,
          0,
          0,
          0.1148,
          0,
          0.060900003,
          0,
          0.1533,
          null,
          0.2062,
          0,
          0,
          0,
          0.064899996,
          0,
          0,
          0.7119,
          0.1021,
          0.92,
          0,
          0,
          0,
          0.0004,
          null,
          0,
          0.9951000000000001,
          0.12979999,
          0,
          0,
          0.1993,
          0,
          0.0128999995,
          null,
          0,
          0,
          0.0063,
          0.0505,
          0,
          0,
          0.099300005,
          0,
          0,
          0.048,
          0.075500004,
          0.0155,
          0.0991,
          0,
          0.17819999,
          0.071100004,
          0.3189,
          0.36560002,
          0,
          0.0352,
          0,
          0,
          0,
          0,
          0.1566,
          0,
          0.7843,
          0.1039,
          0.6924,
          0,
          0.1221,
          0.3398,
          0,
          0.0862,
          0,
          0,
          0.111899994,
          0,
          0.06,
          0,
          0,
          0.055,
          0,
          0.2586,
          0.347,
          0,
          0,
          0.18,
          0.1221,
          0,
          0,
          0,
          0,
          0.0619,
          0.0706,
          0,
          0.090299994,
          0,
          0,
          0.003,
          0,
          0,
          0,
          0.1497,
          0.0523,
          0,
          0.0025,
          0.4035,
          0,
          0.091400005,
          0.0019,
          0.42009997,
          0.4573,
          0.0161,
          0.32799998,
          0.0547,
          0.19680001,
          0,
          0,
          0.0396,
          0,
          0,
          0.001,
          0.1338,
          0.081499994,
          0.1423,
          0.0523,
          0.0092,
          null,
          null,
          0.0541,
          0.23719999
         ],
         "xaxis": "x6",
         "yaxis": "y6"
        },
        {
         "histfunc": "count",
         "histnorm": "",
         "marker": {
          "color": "rgba(255, 255, 51, 1.0)",
          "line": {
           "color": "#4D5663",
           "width": 1.3
          }
         },
         "name": "Financials",
         "opacity": 0.8,
         "orientation": "v",
         "type": "histogram",
         "x": [
          0.0221,
          0.0748,
          0,
          0.0005,
          0.2155,
          0,
          0.024400001,
          null,
          0.0034,
          0,
          0,
          0,
          0,
          0,
          0,
          0,
          0.045,
          0,
          0,
          0,
          0,
          0.12979999,
          0.3198,
          0.4329,
          0.1664,
          0,
          null,
          0,
          0,
          0.003,
          0,
          0,
          0,
          0,
          null,
          0.1702,
          0,
          0,
          0.0188,
          0,
          0.0032,
          null,
          0,
          null,
          0.1027,
          0,
          0,
          null,
          0,
          0,
          null,
          0,
          0,
          0,
          0,
          0.003,
          0,
          0.355,
          0.0529,
          0,
          0.0061000003,
          0.028399998,
          0,
          0,
          0,
          0,
          0,
          0.044499997,
          0,
          0,
          0,
          0,
          0,
          0,
          0.0923,
          0,
          0,
          0,
          0.1699,
          0,
          0.0001,
          0.044299997,
          0.056399997,
          0,
          0.38529998,
          0,
          0,
          0.0417,
          0,
          0.2058,
          0,
          0,
          0,
          0,
          0.0475,
          0.0763,
          0,
          0,
          0.0377,
          0,
          0,
          0,
          0,
          0,
          0.2603,
          0,
          0,
          0.1486,
          0,
          0,
          0.0087,
          0,
          0,
          0,
          0,
          0,
          0.2891,
          0,
          0.032899998,
          0,
          0,
          0.111499995,
          0,
          0,
          0,
          0.0572,
          0,
          0,
          0,
          0,
          0,
          0,
          0,
          0,
          0.1106,
          0.2322,
          0.0106,
          0.0061000003,
          0.79580003,
          null,
          null,
          0.18540001,
          0.0161
         ],
         "xaxis": "x7",
         "yaxis": "y7"
        },
        {
         "histfunc": "count",
         "histnorm": "",
         "marker": {
          "color": "rgba(128, 128, 0, 1.0)",
          "line": {
           "color": "#4D5663",
           "width": 1.3
          }
         },
         "name": "Utilities",
         "opacity": 0.8,
         "orientation": "v",
         "type": "histogram",
         "x": [
          0,
          0,
          0.5608,
          0.045700002,
          0,
          0,
          0,
          0.3686,
          0.2236,
          0,
          0.028900001,
          0.0988,
          0,
          0.2598,
          0.0496,
          0,
          0.020599999,
          0,
          0,
          0,
          0.1768,
          0.0227,
          0,
          0,
          0,
          0,
          null,
          0,
          0.28440002,
          0,
          0.2131,
          0,
          0.3782,
          0,
          null,
          0.023699999,
          0,
          0,
          0.0165,
          0,
          0.067600004,
          null,
          0.41830003,
          null,
          0.0176,
          0.42470002,
          0.5855,
          null,
          0.2713,
          0,
          0.09380000000000001,
          0,
          0,
          0.3092,
          0,
          0,
          0.1278,
          0.0011999999,
          0,
          0.2244,
          0,
          0,
          0,
          0,
          0,
          0,
          0,
          0,
          0,
          0,
          0.365,
          0,
          0,
          0,
          0,
          0,
          0.92480004,
          0,
          0.023699999,
          0,
          0,
          0,
          0,
          0,
          0.0369,
          0,
          0.0468,
          0.0365,
          0,
          0.0275,
          0,
          0,
          0.048,
          0,
          0,
          0,
          0,
          0.31440002,
          0,
          0,
          0,
          0,
          0.0428,
          0,
          0.012,
          0,
          0,
          0.023599999,
          0.8611,
          0.056900002,
          0.0417,
          0,
          0,
          0.3787,
          0,
          0,
          0,
          0.48490003,
          0,
          0.8958,
          0,
          0.073,
          0,
          0,
          0.1197,
          0,
          0,
          0.0913,
          0.2523,
          0,
          0.3323,
          0.4802,
          0,
          0,
          0.0117999995,
          0.0041,
          0.0075,
          0.0026,
          0,
          null,
          null,
          0.040700004,
          0
         ],
         "xaxis": "x8",
         "yaxis": "y8"
        },
        {
         "histfunc": "count",
         "histnorm": "",
         "marker": {
          "color": "rgba(251, 128, 114, 1.0)",
          "line": {
           "color": "#4D5663",
           "width": 1.3
          }
         },
         "name": "Industrials",
         "opacity": 0.8,
         "orientation": "v",
         "type": "histogram",
         "x": [
          0.020399999,
          0,
          0.225,
          0.0085,
          0,
          0.0686,
          0.2514,
          0.36340000000000006,
          0.0231,
          0.30040002,
          0.7225,
          0.16389999,
          0.4381,
          0.3305,
          0.233,
          0.075100005,
          0.1816,
          0.0098,
          0.3834,
          0.0107,
          0.59529996,
          0.090299994,
          0.0655,
          0,
          0,
          0,
          0.2048,
          0.013200001,
          0.22610001,
          0.0067,
          0.5834,
          0.1582,
          0.5937,
          0,
          0.0102,
          0.1033,
          0,
          0.2739,
          0.1504,
          0,
          0.3222,
          0.111,
          0.3395,
          null,
          0.064,
          0.4134,
          0.3829,
          0.10460000000000001,
          0.3556,
          0.2489,
          0.2912,
          0,
          0.016900001,
          0.2525,
          0.0802,
          0,
          0.5503,
          0.039300002,
          0,
          0.6042,
          0.17719999,
          0,
          0.2041,
          0.198,
          0,
          0.087799996,
          0.1319,
          0.0036000002,
          0,
          0,
          0.1418,
          0.45119998,
          0.0701,
          0.2,
          0.0482,
          0,
          0.0064999997,
          0,
          0.105100006,
          0,
          0.0828,
          0.0787,
          0.0125,
          0,
          0.056399997,
          0.32819998,
          0.1612,
          0.0714,
          0,
          0.1526,
          0.7456,
          0.4389,
          0.5381,
          0,
          0,
          0.0556,
          0,
          0.6034,
          0.0229,
          0.0153,
          0,
          0.027,
          0.60400003,
          0.8367,
          0,
          0,
          0,
          0.08180001,
          0.0377,
          0,
          0.0809,
          0,
          0,
          0.41990003,
          0.0089,
          0.0958,
          0.0482,
          0.38950002,
          0,
          0.0215,
          0.1513,
          0.3397,
          0,
          0.0021,
          0.2753,
          0.061,
          0.006,
          0.1997,
          0.20879999,
          0.257,
          0.16510001,
          0.41169998,
          0,
          0.0729,
          0.038399998,
          0.0115,
          0.0392,
          0.0074,
          0.041500002,
          null,
          null,
          0.16540001,
          0
         ],
         "xaxis": "x9",
         "yaxis": "y9"
        },
        {
         "histfunc": "count",
         "histnorm": "",
         "marker": {
          "color": "rgba(128, 177, 211, 1.0)",
          "line": {
           "color": "#4D5663",
           "width": 1.3
          }
         },
         "name": "Energy",
         "opacity": 0.8,
         "orientation": "v",
         "type": "histogram",
         "x": [
          0,
          0,
          0.0069999998,
          0.2741,
          0,
          0,
          0,
          0.20829999999999999,
          0.0007,
          0,
          0.0066000004,
          0.0086,
          0.0057,
          0.0748,
          0.0276,
          0,
          0.0081,
          0.33330002,
          0,
          0,
          0,
          0.026400002,
          0,
          0,
          0,
          0,
          null,
          0,
          0.024400001,
          0,
          0,
          0,
          0.0013,
          0,
          null,
          0.0235,
          0,
          0,
          0.7008,
          0.4438,
          0.0074,
          null,
          0.0545,
          null,
          0,
          0.1619,
          0,
          0.0019,
          0.0150999995,
          0,
          null,
          0,
          0.682,
          0.0308,
          0,
          0,
          0,
          0,
          0,
          0,
          0,
          0,
          0,
          0,
          0.84660006,
          0,
          0,
          0,
          0,
          0,
          0.2874,
          0,
          0,
          0,
          0,
          0,
          0.012,
          0,
          0.023699999,
          0,
          0.0001,
          0.0007,
          0,
          0,
          0.0152,
          0,
          0.25620002,
          0.0015,
          0,
          0.0999,
          0,
          0.0058,
          0.0561,
          0,
          0,
          0,
          0,
          0,
          0,
          0,
          0,
          0,
          0.1365,
          0.038900000000000004,
          0,
          0,
          0,
          0.026700001,
          0.1012,
          0.2393,
          0.1865,
          0,
          0,
          0.2014,
          0,
          0,
          0,
          0.119399995,
          0,
          0.069299996,
          0,
          0.0716,
          0,
          0,
          0.0377,
          0,
          0,
          0,
          0,
          0,
          0.2417,
          0,
          0,
          0,
          0,
          0,
          0,
          0,
          0,
          null,
          null,
          0.0401,
          0
         ],
         "xaxis": "x10",
         "yaxis": "y10"
        },
        {
         "histfunc": "count",
         "histnorm": "",
         "marker": {
          "color": "rgba(128, 177, 211, 0.8999999999999999)",
          "line": {
           "color": "#4D5663",
           "width": 1.3
          }
         },
         "name": "Health Care",
         "opacity": 0.8,
         "orientation": "v",
         "type": "histogram",
         "x": [
          0.2927,
          0.057600003,
          0,
          0,
          0.0242,
          0,
          0.0124,
          null,
          0.0023,
          0,
          0,
          0,
          0.1308,
          0.031,
          0,
          0,
          0.0939,
          0,
          0.089700006,
          0.5713,
          0.125,
          0.1359,
          0,
          0,
          0.0217,
          0,
          0.24530000000000002,
          0,
          0,
          0.057,
          0.1216,
          0,
          0,
          0,
          null,
          0.1178,
          0,
          0.0956,
          0,
          0,
          0.0007,
          null,
          0,
          null,
          0.195,
          0,
          0,
          0.016200000000000003,
          0,
          0.0422,
          null,
          0,
          0,
          0,
          0,
          0.6032,
          0,
          0,
          0.4623,
          0.1169,
          0,
          0.0034999999,
          0.0766,
          0.20989999,
          0,
          0.0058999998,
          0,
          0,
          0.0147,
          0.9872,
          0,
          0,
          0.6876,
          0,
          0.6834,
          0,
          0,
          0,
          0.115,
          0,
          0.0001,
          0.277,
          0,
          0,
          0,
          0,
          0.0011,
          0.21069999,
          0,
          0.1475,
          0.07,
          0.1286,
          0,
          0.90190005,
          0.026199998,
          0,
          0.948,
          0,
          0.2998,
          0.0456,
          0.60220003,
          0.0618,
          0,
          0,
          0,
          0.20950001,
          0.35619998,
          0.1344,
          0,
          0,
          0.0062,
          0.90190005,
          0,
          0,
          0,
          0,
          0,
          0,
          0.1149,
          0,
          0,
          0,
          0.0596,
          0.0218,
          0,
          0.0525,
          0.6395,
          0.020599999,
          0,
          0.096099995,
          0,
          0,
          0.0279,
          0,
          0.22680001,
          0.028099999,
          0.1015,
          0.018,
          0,
          null,
          null,
          0.1116,
          0
         ],
         "xaxis": "x11",
         "yaxis": "y11"
        }
       ],
       "layout": {
        "barmode": "overlay",
        "legend": {
         "bgcolor": "#F5F6F9",
         "font": {
          "color": "#4D5663"
         }
        },
        "paper_bgcolor": "#F5F6F9",
        "plot_bgcolor": "#F5F6F9",
        "template": {
         "data": {
          "bar": [
           {
            "error_x": {
             "color": "#2a3f5f"
            },
            "error_y": {
             "color": "#2a3f5f"
            },
            "marker": {
             "line": {
              "color": "#E5ECF6",
              "width": 0.5
             }
            },
            "type": "bar"
           }
          ],
          "barpolar": [
           {
            "marker": {
             "line": {
              "color": "#E5ECF6",
              "width": 0.5
             }
            },
            "type": "barpolar"
           }
          ],
          "carpet": [
           {
            "aaxis": {
             "endlinecolor": "#2a3f5f",
             "gridcolor": "white",
             "linecolor": "white",
             "minorgridcolor": "white",
             "startlinecolor": "#2a3f5f"
            },
            "baxis": {
             "endlinecolor": "#2a3f5f",
             "gridcolor": "white",
             "linecolor": "white",
             "minorgridcolor": "white",
             "startlinecolor": "#2a3f5f"
            },
            "type": "carpet"
           }
          ],
          "choropleth": [
           {
            "colorbar": {
             "outlinewidth": 0,
             "ticks": ""
            },
            "type": "choropleth"
           }
          ],
          "contour": [
           {
            "colorbar": {
             "outlinewidth": 0,
             "ticks": ""
            },
            "colorscale": [
             [
              0,
              "#0d0887"
             ],
             [
              0.1111111111111111,
              "#46039f"
             ],
             [
              0.2222222222222222,
              "#7201a8"
             ],
             [
              0.3333333333333333,
              "#9c179e"
             ],
             [
              0.4444444444444444,
              "#bd3786"
             ],
             [
              0.5555555555555556,
              "#d8576b"
             ],
             [
              0.6666666666666666,
              "#ed7953"
             ],
             [
              0.7777777777777778,
              "#fb9f3a"
             ],
             [
              0.8888888888888888,
              "#fdca26"
             ],
             [
              1,
              "#f0f921"
             ]
            ],
            "type": "contour"
           }
          ],
          "contourcarpet": [
           {
            "colorbar": {
             "outlinewidth": 0,
             "ticks": ""
            },
            "type": "contourcarpet"
           }
          ],
          "heatmap": [
           {
            "colorbar": {
             "outlinewidth": 0,
             "ticks": ""
            },
            "colorscale": [
             [
              0,
              "#0d0887"
             ],
             [
              0.1111111111111111,
              "#46039f"
             ],
             [
              0.2222222222222222,
              "#7201a8"
             ],
             [
              0.3333333333333333,
              "#9c179e"
             ],
             [
              0.4444444444444444,
              "#bd3786"
             ],
             [
              0.5555555555555556,
              "#d8576b"
             ],
             [
              0.6666666666666666,
              "#ed7953"
             ],
             [
              0.7777777777777778,
              "#fb9f3a"
             ],
             [
              0.8888888888888888,
              "#fdca26"
             ],
             [
              1,
              "#f0f921"
             ]
            ],
            "type": "heatmap"
           }
          ],
          "heatmapgl": [
           {
            "colorbar": {
             "outlinewidth": 0,
             "ticks": ""
            },
            "colorscale": [
             [
              0,
              "#0d0887"
             ],
             [
              0.1111111111111111,
              "#46039f"
             ],
             [
              0.2222222222222222,
              "#7201a8"
             ],
             [
              0.3333333333333333,
              "#9c179e"
             ],
             [
              0.4444444444444444,
              "#bd3786"
             ],
             [
              0.5555555555555556,
              "#d8576b"
             ],
             [
              0.6666666666666666,
              "#ed7953"
             ],
             [
              0.7777777777777778,
              "#fb9f3a"
             ],
             [
              0.8888888888888888,
              "#fdca26"
             ],
             [
              1,
              "#f0f921"
             ]
            ],
            "type": "heatmapgl"
           }
          ],
          "histogram": [
           {
            "marker": {
             "colorbar": {
              "outlinewidth": 0,
              "ticks": ""
             }
            },
            "type": "histogram"
           }
          ],
          "histogram2d": [
           {
            "colorbar": {
             "outlinewidth": 0,
             "ticks": ""
            },
            "colorscale": [
             [
              0,
              "#0d0887"
             ],
             [
              0.1111111111111111,
              "#46039f"
             ],
             [
              0.2222222222222222,
              "#7201a8"
             ],
             [
              0.3333333333333333,
              "#9c179e"
             ],
             [
              0.4444444444444444,
              "#bd3786"
             ],
             [
              0.5555555555555556,
              "#d8576b"
             ],
             [
              0.6666666666666666,
              "#ed7953"
             ],
             [
              0.7777777777777778,
              "#fb9f3a"
             ],
             [
              0.8888888888888888,
              "#fdca26"
             ],
             [
              1,
              "#f0f921"
             ]
            ],
            "type": "histogram2d"
           }
          ],
          "histogram2dcontour": [
           {
            "colorbar": {
             "outlinewidth": 0,
             "ticks": ""
            },
            "colorscale": [
             [
              0,
              "#0d0887"
             ],
             [
              0.1111111111111111,
              "#46039f"
             ],
             [
              0.2222222222222222,
              "#7201a8"
             ],
             [
              0.3333333333333333,
              "#9c179e"
             ],
             [
              0.4444444444444444,
              "#bd3786"
             ],
             [
              0.5555555555555556,
              "#d8576b"
             ],
             [
              0.6666666666666666,
              "#ed7953"
             ],
             [
              0.7777777777777778,
              "#fb9f3a"
             ],
             [
              0.8888888888888888,
              "#fdca26"
             ],
             [
              1,
              "#f0f921"
             ]
            ],
            "type": "histogram2dcontour"
           }
          ],
          "mesh3d": [
           {
            "colorbar": {
             "outlinewidth": 0,
             "ticks": ""
            },
            "type": "mesh3d"
           }
          ],
          "parcoords": [
           {
            "line": {
             "colorbar": {
              "outlinewidth": 0,
              "ticks": ""
             }
            },
            "type": "parcoords"
           }
          ],
          "pie": [
           {
            "automargin": true,
            "type": "pie"
           }
          ],
          "scatter": [
           {
            "marker": {
             "colorbar": {
              "outlinewidth": 0,
              "ticks": ""
             }
            },
            "type": "scatter"
           }
          ],
          "scatter3d": [
           {
            "line": {
             "colorbar": {
              "outlinewidth": 0,
              "ticks": ""
             }
            },
            "marker": {
             "colorbar": {
              "outlinewidth": 0,
              "ticks": ""
             }
            },
            "type": "scatter3d"
           }
          ],
          "scattercarpet": [
           {
            "marker": {
             "colorbar": {
              "outlinewidth": 0,
              "ticks": ""
             }
            },
            "type": "scattercarpet"
           }
          ],
          "scattergeo": [
           {
            "marker": {
             "colorbar": {
              "outlinewidth": 0,
              "ticks": ""
             }
            },
            "type": "scattergeo"
           }
          ],
          "scattergl": [
           {
            "marker": {
             "colorbar": {
              "outlinewidth": 0,
              "ticks": ""
             }
            },
            "type": "scattergl"
           }
          ],
          "scattermapbox": [
           {
            "marker": {
             "colorbar": {
              "outlinewidth": 0,
              "ticks": ""
             }
            },
            "type": "scattermapbox"
           }
          ],
          "scatterpolar": [
           {
            "marker": {
             "colorbar": {
              "outlinewidth": 0,
              "ticks": ""
             }
            },
            "type": "scatterpolar"
           }
          ],
          "scatterpolargl": [
           {
            "marker": {
             "colorbar": {
              "outlinewidth": 0,
              "ticks": ""
             }
            },
            "type": "scatterpolargl"
           }
          ],
          "scatterternary": [
           {
            "marker": {
             "colorbar": {
              "outlinewidth": 0,
              "ticks": ""
             }
            },
            "type": "scatterternary"
           }
          ],
          "surface": [
           {
            "colorbar": {
             "outlinewidth": 0,
             "ticks": ""
            },
            "colorscale": [
             [
              0,
              "#0d0887"
             ],
             [
              0.1111111111111111,
              "#46039f"
             ],
             [
              0.2222222222222222,
              "#7201a8"
             ],
             [
              0.3333333333333333,
              "#9c179e"
             ],
             [
              0.4444444444444444,
              "#bd3786"
             ],
             [
              0.5555555555555556,
              "#d8576b"
             ],
             [
              0.6666666666666666,
              "#ed7953"
             ],
             [
              0.7777777777777778,
              "#fb9f3a"
             ],
             [
              0.8888888888888888,
              "#fdca26"
             ],
             [
              1,
              "#f0f921"
             ]
            ],
            "type": "surface"
           }
          ],
          "table": [
           {
            "cells": {
             "fill": {
              "color": "#EBF0F8"
             },
             "line": {
              "color": "white"
             }
            },
            "header": {
             "fill": {
              "color": "#C8D4E3"
             },
             "line": {
              "color": "white"
             }
            },
            "type": "table"
           }
          ]
         },
         "layout": {
          "annotationdefaults": {
           "arrowcolor": "#2a3f5f",
           "arrowhead": 0,
           "arrowwidth": 1
          },
          "autotypenumbers": "strict",
          "coloraxis": {
           "colorbar": {
            "outlinewidth": 0,
            "ticks": ""
           }
          },
          "colorscale": {
           "diverging": [
            [
             0,
             "#8e0152"
            ],
            [
             0.1,
             "#c51b7d"
            ],
            [
             0.2,
             "#de77ae"
            ],
            [
             0.3,
             "#f1b6da"
            ],
            [
             0.4,
             "#fde0ef"
            ],
            [
             0.5,
             "#f7f7f7"
            ],
            [
             0.6,
             "#e6f5d0"
            ],
            [
             0.7,
             "#b8e186"
            ],
            [
             0.8,
             "#7fbc41"
            ],
            [
             0.9,
             "#4d9221"
            ],
            [
             1,
             "#276419"
            ]
           ],
           "sequential": [
            [
             0,
             "#0d0887"
            ],
            [
             0.1111111111111111,
             "#46039f"
            ],
            [
             0.2222222222222222,
             "#7201a8"
            ],
            [
             0.3333333333333333,
             "#9c179e"
            ],
            [
             0.4444444444444444,
             "#bd3786"
            ],
            [
             0.5555555555555556,
             "#d8576b"
            ],
            [
             0.6666666666666666,
             "#ed7953"
            ],
            [
             0.7777777777777778,
             "#fb9f3a"
            ],
            [
             0.8888888888888888,
             "#fdca26"
            ],
            [
             1,
             "#f0f921"
            ]
           ],
           "sequentialminus": [
            [
             0,
             "#0d0887"
            ],
            [
             0.1111111111111111,
             "#46039f"
            ],
            [
             0.2222222222222222,
             "#7201a8"
            ],
            [
             0.3333333333333333,
             "#9c179e"
            ],
            [
             0.4444444444444444,
             "#bd3786"
            ],
            [
             0.5555555555555556,
             "#d8576b"
            ],
            [
             0.6666666666666666,
             "#ed7953"
            ],
            [
             0.7777777777777778,
             "#fb9f3a"
            ],
            [
             0.8888888888888888,
             "#fdca26"
            ],
            [
             1,
             "#f0f921"
            ]
           ]
          },
          "colorway": [
           "#636efa",
           "#EF553B",
           "#00cc96",
           "#ab63fa",
           "#FFA15A",
           "#19d3f3",
           "#FF6692",
           "#B6E880",
           "#FF97FF",
           "#FECB52"
          ],
          "font": {
           "color": "#2a3f5f"
          },
          "geo": {
           "bgcolor": "white",
           "lakecolor": "white",
           "landcolor": "#E5ECF6",
           "showlakes": true,
           "showland": true,
           "subunitcolor": "white"
          },
          "hoverlabel": {
           "align": "left"
          },
          "hovermode": "closest",
          "mapbox": {
           "style": "light"
          },
          "paper_bgcolor": "white",
          "plot_bgcolor": "#E5ECF6",
          "polar": {
           "angularaxis": {
            "gridcolor": "white",
            "linecolor": "white",
            "ticks": ""
           },
           "bgcolor": "#E5ECF6",
           "radialaxis": {
            "gridcolor": "white",
            "linecolor": "white",
            "ticks": ""
           }
          },
          "scene": {
           "xaxis": {
            "backgroundcolor": "#E5ECF6",
            "gridcolor": "white",
            "gridwidth": 2,
            "linecolor": "white",
            "showbackground": true,
            "ticks": "",
            "zerolinecolor": "white"
           },
           "yaxis": {
            "backgroundcolor": "#E5ECF6",
            "gridcolor": "white",
            "gridwidth": 2,
            "linecolor": "white",
            "showbackground": true,
            "ticks": "",
            "zerolinecolor": "white"
           },
           "zaxis": {
            "backgroundcolor": "#E5ECF6",
            "gridcolor": "white",
            "gridwidth": 2,
            "linecolor": "white",
            "showbackground": true,
            "ticks": "",
            "zerolinecolor": "white"
           }
          },
          "shapedefaults": {
           "line": {
            "color": "#2a3f5f"
           }
          },
          "ternary": {
           "aaxis": {
            "gridcolor": "white",
            "linecolor": "white",
            "ticks": ""
           },
           "baxis": {
            "gridcolor": "white",
            "linecolor": "white",
            "ticks": ""
           },
           "bgcolor": "#E5ECF6",
           "caxis": {
            "gridcolor": "white",
            "linecolor": "white",
            "ticks": ""
           }
          },
          "title": {
           "x": 0.05
          },
          "xaxis": {
           "automargin": true,
           "gridcolor": "white",
           "linecolor": "white",
           "ticks": "",
           "title": {
            "standoff": 15
           },
           "zerolinecolor": "white",
           "zerolinewidth": 2
          },
          "yaxis": {
           "automargin": true,
           "gridcolor": "white",
           "linecolor": "white",
           "ticks": "",
           "title": {
            "standoff": 15
           },
           "zerolinecolor": "white",
           "zerolinewidth": 2
          }
         }
        },
        "title": {
         "font": {
          "color": "#4D5663"
         },
         "text": "Histogram of Sector allocation"
        },
        "xaxis": {
         "anchor": "y",
         "domain": [
          0,
          0.45
         ],
         "gridcolor": "#E1E5ED",
         "showgrid": true,
         "tickfont": {
          "color": "#4D5663"
         },
         "title": {
          "font": {
           "color": "#4D5663"
          },
          "text": ""
         },
         "zerolinecolor": "#E1E5ED"
        },
        "xaxis10": {
         "anchor": "y10",
         "domain": [
          0.55,
          1
         ],
         "gridcolor": "#E1E5ED",
         "showgrid": true,
         "tickfont": {
          "color": "#4D5663"
         },
         "title": {
          "font": {
           "color": "#4D5663"
          },
          "text": ""
         },
         "zerolinecolor": "#E1E5ED"
        },
        "xaxis11": {
         "anchor": "y11",
         "domain": [
          0,
          0.45
         ],
         "gridcolor": "#E1E5ED",
         "showgrid": true,
         "tickfont": {
          "color": "#4D5663"
         },
         "title": {
          "font": {
           "color": "#4D5663"
          },
          "text": ""
         },
         "zerolinecolor": "#E1E5ED"
        },
        "xaxis12": {
         "anchor": "y12",
         "domain": [
          0.55,
          1
         ],
         "gridcolor": "#E1E5ED",
         "showgrid": true,
         "tickfont": {
          "color": "#4D5663"
         },
         "title": {
          "font": {
           "color": "#4D5663"
          },
          "text": ""
         },
         "zerolinecolor": "#E1E5ED"
        },
        "xaxis2": {
         "anchor": "y2",
         "domain": [
          0.55,
          1
         ],
         "gridcolor": "#E1E5ED",
         "showgrid": true,
         "tickfont": {
          "color": "#4D5663"
         },
         "title": {
          "font": {
           "color": "#4D5663"
          },
          "text": ""
         },
         "zerolinecolor": "#E1E5ED"
        },
        "xaxis3": {
         "anchor": "y3",
         "domain": [
          0,
          0.45
         ],
         "gridcolor": "#E1E5ED",
         "showgrid": true,
         "tickfont": {
          "color": "#4D5663"
         },
         "title": {
          "font": {
           "color": "#4D5663"
          },
          "text": ""
         },
         "zerolinecolor": "#E1E5ED"
        },
        "xaxis4": {
         "anchor": "y4",
         "domain": [
          0.55,
          1
         ],
         "gridcolor": "#E1E5ED",
         "showgrid": true,
         "tickfont": {
          "color": "#4D5663"
         },
         "title": {
          "font": {
           "color": "#4D5663"
          },
          "text": ""
         },
         "zerolinecolor": "#E1E5ED"
        },
        "xaxis5": {
         "anchor": "y5",
         "domain": [
          0,
          0.45
         ],
         "gridcolor": "#E1E5ED",
         "showgrid": true,
         "tickfont": {
          "color": "#4D5663"
         },
         "title": {
          "font": {
           "color": "#4D5663"
          },
          "text": ""
         },
         "zerolinecolor": "#E1E5ED"
        },
        "xaxis6": {
         "anchor": "y6",
         "domain": [
          0.55,
          1
         ],
         "gridcolor": "#E1E5ED",
         "showgrid": true,
         "tickfont": {
          "color": "#4D5663"
         },
         "title": {
          "font": {
           "color": "#4D5663"
          },
          "text": ""
         },
         "zerolinecolor": "#E1E5ED"
        },
        "xaxis7": {
         "anchor": "y7",
         "domain": [
          0,
          0.45
         ],
         "gridcolor": "#E1E5ED",
         "showgrid": true,
         "tickfont": {
          "color": "#4D5663"
         },
         "title": {
          "font": {
           "color": "#4D5663"
          },
          "text": ""
         },
         "zerolinecolor": "#E1E5ED"
        },
        "xaxis8": {
         "anchor": "y8",
         "domain": [
          0.55,
          1
         ],
         "gridcolor": "#E1E5ED",
         "showgrid": true,
         "tickfont": {
          "color": "#4D5663"
         },
         "title": {
          "font": {
           "color": "#4D5663"
          },
          "text": ""
         },
         "zerolinecolor": "#E1E5ED"
        },
        "xaxis9": {
         "anchor": "y9",
         "domain": [
          0,
          0.45
         ],
         "gridcolor": "#E1E5ED",
         "showgrid": true,
         "tickfont": {
          "color": "#4D5663"
         },
         "title": {
          "font": {
           "color": "#4D5663"
          },
          "text": ""
         },
         "zerolinecolor": "#E1E5ED"
        },
        "yaxis": {
         "anchor": "x",
         "domain": [
          0.875,
          1
         ],
         "gridcolor": "#E1E5ED",
         "showgrid": true,
         "tickfont": {
          "color": "#4D5663"
         },
         "title": {
          "font": {
           "color": "#4D5663"
          },
          "text": ""
         },
         "zerolinecolor": "#E1E5ED"
        },
        "yaxis10": {
         "anchor": "x10",
         "domain": [
          0.175,
          0.3
         ],
         "gridcolor": "#E1E5ED",
         "showgrid": true,
         "tickfont": {
          "color": "#4D5663"
         },
         "title": {
          "font": {
           "color": "#4D5663"
          },
          "text": ""
         },
         "zerolinecolor": "#E1E5ED"
        },
        "yaxis11": {
         "anchor": "x11",
         "domain": [
          0,
          0.125
         ],
         "gridcolor": "#E1E5ED",
         "showgrid": true,
         "tickfont": {
          "color": "#4D5663"
         },
         "title": {
          "font": {
           "color": "#4D5663"
          },
          "text": ""
         },
         "zerolinecolor": "#E1E5ED"
        },
        "yaxis12": {
         "anchor": "x12",
         "domain": [
          0,
          0.125
         ],
         "gridcolor": "#E1E5ED",
         "showgrid": true,
         "tickfont": {
          "color": "#4D5663"
         },
         "title": {
          "font": {
           "color": "#4D5663"
          },
          "text": ""
         },
         "zerolinecolor": "#E1E5ED"
        },
        "yaxis2": {
         "anchor": "x2",
         "domain": [
          0.875,
          1
         ],
         "gridcolor": "#E1E5ED",
         "showgrid": true,
         "tickfont": {
          "color": "#4D5663"
         },
         "title": {
          "font": {
           "color": "#4D5663"
          },
          "text": ""
         },
         "zerolinecolor": "#E1E5ED"
        },
        "yaxis3": {
         "anchor": "x3",
         "domain": [
          0.7,
          0.825
         ],
         "gridcolor": "#E1E5ED",
         "showgrid": true,
         "tickfont": {
          "color": "#4D5663"
         },
         "title": {
          "font": {
           "color": "#4D5663"
          },
          "text": ""
         },
         "zerolinecolor": "#E1E5ED"
        },
        "yaxis4": {
         "anchor": "x4",
         "domain": [
          0.7,
          0.825
         ],
         "gridcolor": "#E1E5ED",
         "showgrid": true,
         "tickfont": {
          "color": "#4D5663"
         },
         "title": {
          "font": {
           "color": "#4D5663"
          },
          "text": ""
         },
         "zerolinecolor": "#E1E5ED"
        },
        "yaxis5": {
         "anchor": "x5",
         "domain": [
          0.525,
          0.65
         ],
         "gridcolor": "#E1E5ED",
         "showgrid": true,
         "tickfont": {
          "color": "#4D5663"
         },
         "title": {
          "font": {
           "color": "#4D5663"
          },
          "text": ""
         },
         "zerolinecolor": "#E1E5ED"
        },
        "yaxis6": {
         "anchor": "x6",
         "domain": [
          0.525,
          0.65
         ],
         "gridcolor": "#E1E5ED",
         "showgrid": true,
         "tickfont": {
          "color": "#4D5663"
         },
         "title": {
          "font": {
           "color": "#4D5663"
          },
          "text": ""
         },
         "zerolinecolor": "#E1E5ED"
        },
        "yaxis7": {
         "anchor": "x7",
         "domain": [
          0.35,
          0.475
         ],
         "gridcolor": "#E1E5ED",
         "showgrid": true,
         "tickfont": {
          "color": "#4D5663"
         },
         "title": {
          "font": {
           "color": "#4D5663"
          },
          "text": ""
         },
         "zerolinecolor": "#E1E5ED"
        },
        "yaxis8": {
         "anchor": "x8",
         "domain": [
          0.35,
          0.475
         ],
         "gridcolor": "#E1E5ED",
         "showgrid": true,
         "tickfont": {
          "color": "#4D5663"
         },
         "title": {
          "font": {
           "color": "#4D5663"
          },
          "text": ""
         },
         "zerolinecolor": "#E1E5ED"
        },
        "yaxis9": {
         "anchor": "x9",
         "domain": [
          0.175,
          0.3
         ],
         "gridcolor": "#E1E5ED",
         "showgrid": true,
         "tickfont": {
          "color": "#4D5663"
         },
         "title": {
          "font": {
           "color": "#4D5663"
          },
          "text": ""
         },
         "zerolinecolor": "#E1E5ED"
        }
       }
      },
      "text/html": [
       "<div>                            <div id=\"dd3ea56d-df02-425d-b65d-b5a899954b1c\" class=\"plotly-graph-div\" style=\"height:525px; width:100%;\"></div>            <script type=\"text/javascript\">                require([\"plotly\"], function(Plotly) {                    window.PLOTLYENV=window.PLOTLYENV || {};\n",
       "                    window.PLOTLYENV.BASE_URL='https://plot.ly';                                    if (document.getElementById(\"dd3ea56d-df02-425d-b65d-b5a899954b1c\")) {                    Plotly.newPlot(                        \"dd3ea56d-df02-425d-b65d-b5a899954b1c\",                        [{\"histfunc\": \"count\", \"histnorm\": \"\", \"marker\": {\"color\": \"rgba(255, 153, 51, 1.0)\", \"line\": {\"color\": \"#4D5663\", \"width\": 1.3}}, \"name\": \"Real Estate\", \"opacity\": 0.8, \"orientation\": \"v\", \"type\": \"histogram\", \"x\": [0.013300001, 0.0326, 0.0, 0.0135, 0.0352, 0.0, 0.0, null, 0.0247, 0.0, 0.0, 0.0143, 0.0, 0.0561, 0.0, 0.0, 0.0, 0.0185, 0.0, 0.0, 0.0, 0.03, 0.0, 0.0, 0.0, 0.0992, null, 0.097399995, 0.0401, 0.8752, 0.0, 0.0, 0.0, 0.0, null, 0.0297, 0.0, 0.0, 0.0, 0.0, 0.2149, null, 0.0, null, 0.007900001, 0.0, 0.0, null, 0.0081, 0.0, 0.0034999999999999996, 0.2509, 0.0, 0.0, 0.0, 0.1167, 0.0, 0.0, 0.0, 0.0, 0.0, 0.036, 0.0045, 0.0, 0.0, 0.0, 0.0, 0.0497, 0.0, 0.0, 0.1689, 0.0, 0.0, 0.0, 0.04, 0.0, 0.0, 0.0, 0.0293, 0.0, 0.0861, 0.0092, 0.0068, 0.0, 0.0, 0.0, 0.0069999998, 0.016900001, 0.0, 0.0292, 0.0, 0.0, 0.0, 0.0519, 0.0373, 0.0, 0.051999997, 0.0, 0.0027, 0.0128, 0.0596, 0.0, 0.0036000002, 0.0, 0.0, 0.0, 0.643, 0.032, 0.0, 0.0, 0.0015, 0.0519, 0.0, 0.0, 0.0, 0.0, 0.0, 0.0, 0.0, 0.0089, 0.0, 0.0, 0.0, 0.0, 0.0093, 0.0, 0.0047999998, 0.0, 0.0, 0.0, 0.19229999, 0.0, 0.0, 0.0, 0.016, 0.0, 0.0, 0.0, 0.0, null, null, 0.0308, 0.0], \"xaxis\": \"x\", \"yaxis\": \"y\"}, {\"histfunc\": \"count\", \"histnorm\": \"\", \"marker\": {\"color\": \"rgba(55, 128, 191, 1.0)\", \"line\": {\"color\": \"#4D5663\", \"width\": 1.3}}, \"name\": \"Consumer Discretionary\", \"opacity\": 0.8, \"orientation\": \"v\", \"type\": \"histogram\", \"x\": [0.1167, 0.188, 0.0, 0.0, 0.1446, 0.0, 0.24110001, null, 0.0083, 0.1447, 0.0, 0.19860001, 0.0, 0.0, 0.2379, 0.0, 0.134, 0.0784, 0.0195, 0.0541, 0.0, 0.1262, 0.0, 0.0696, 0.0, 0.01, 0.0365, 0.0, 0.0926, 0.0507, 0.0, 0.3183, 0.0, 0.0, 0.0438, 0.119399995, 0.0, 0.0201, 0.0, 0.0, 0.1243, null, 0.0109, 0.0027, 0.1424, 0.0, 0.0189, 0.0987, 0.066300005, 0.0, 0.1607, 0.1576, 0.0968, 0.031400003, 0.43, 0.066, 0.1034, 0.08930001, 0.24139999, 0.0162, 0.4312, 0.70669997, 0.061300002, 0.0296, 0.0, 0.0885, 0.3552, 0.37080002, 0.32599998, 0.0128, 0.0, 0.036199998, 0.0573, 0.2608, 0.0375, 0.0348, 0.0, 0.0168, 0.1175, 0.0, 0.4084, 0.0215, 0.3955, 0.42810002, 0.0636, 0.0, 0.0346, 0.136, 0.3047, 0.122600004, 0.0, 0.0, 0.0788, 0.0, 0.3053, 0.19299999, 0.0, 0.0, 0.0963, 0.099700004, 0.0322, 0.71410006, 0.0, 0.0, 0.053200003, 0.0307, 0.0008, 0.123900004, 0.0, 0.0456, 0.0327, 0.0, 0.0, 0.0, 0.074099995, 0.36180001, 0.0, 0.0, 0.0761, 0.0, 0.4055, 0.0106, 0.092700005, 0.4394, 0.114700004, 0.1737, 0.1389, 0.1371, 0.1093, 0.022, 0.0106, 0.024400001, 0.72410005, 0.0, 0.1266, 0.1509, 0.30719998, 0.0478, 0.0143, null, null, 0.105900005, 0.1062], \"xaxis\": \"x2\", \"yaxis\": \"y2\"}, {\"histfunc\": \"count\", \"histnorm\": \"\", \"marker\": {\"color\": \"rgba(50, 171, 96, 1.0)\", \"line\": {\"color\": \"#4D5663\", \"width\": 1.3}}, \"name\": \"Materials\", \"opacity\": 0.8, \"orientation\": \"v\", \"type\": \"histogram\", \"x\": [0.0, 0.0, 0.0106, 0.5034, 0.0, 0.0, 0.0, null, 0.004, 0.42290002, 0.18959999, 0.0833, 0.0, 0.0, 0.13229999, 0.0, 0.012200001, 0.5172, 0.0, 0.074200004, 0.078, 0.026500002, 0.0, 0.0, 0.0, 0.0, 0.2173, 0.0, 0.0127, 0.0, 0.0392, 0.1157, 0.026800001, 0.0, null, 0.0374, 0.0, 0.0186, 0.113400005, 0.48810002, 0.0452, null, 0.16870001, null, 0.0, 0.0, 0.0126, null, 0.089700006, 0.0, 0.0395, 0.59150004, 0.2043, 0.02, 0.0598, 0.0, 0.00029999999, 0.0, 0.0, 0.0382, 0.0191, 0.0, 0.0, 0.0, 0.1534, 0.0, 0.088599995, 0.0, 0.0, 0.0, 0.0, 0.0776, 0.088599995, 0.4455, 0.0, 0.0, 0.0153, 0.0, 0.0385, 0.0, 0.42200002, 0.0399, 0.0105, 0.0, 0.0077, 0.31370002, 0.35709998, 0.0044, 0.0, 0.0199, 0.1547, 0.0, 0.0, 0.0461, 0.0, 0.0, 0.0, 0.0723, 0.10479999, 0.0, 0.0508, 0.0, 0.16319999, 0.0852, 0.0, 0.0, 0.0, 0.0253, 0.0, 0.5527, 0.48389998, 0.0461, 0.0, 0.0, 0.0, 0.0557, 0.0, 0.0, 0.0, 0.0, 0.086, 0.39, 0.0, 0.0, 0.177, 0.0, 0.0, 0.020599999, 0.0719, 0.5567, 0.0, 0.0836, 0.0, 0.0, 0.0, 0.0, 0.0016, 0.0, 0.0, null, null, 0.077, 0.0], \"xaxis\": \"x3\", \"yaxis\": \"y3\"}, {\"histfunc\": \"count\", \"histnorm\": \"\", \"marker\": {\"color\": \"rgba(128, 0, 128, 1.0)\", \"line\": {\"color\": \"#4D5663\", \"width\": 1.3}}, \"name\": \"Consumer Staples\", \"opacity\": 0.8, \"orientation\": \"v\", \"type\": \"histogram\", \"x\": [0.011, 0.0094, 0.0, 0.1543, 0.0, 0.0, 0.012200001, null, 0.0019, 0.0, 0.0, 0.0, 0.0, 0.0, 0.0, 0.0, 0.0, 0.0429, 0.0112, 0.2897, 0.0, 0.056700002, 0.0, 0.0, 0.0, 0.0, 0.2737, 0.0, 0.0, 0.0, 0.0215, 0.0, 0.0, 0.0, null, 0.077, 0.0, 0.0013, 0.0, 0.0681, 0.0335, null, 0.0, null, 0.0225, 0.0, 0.0, null, 0.0, 0.0, null, 0.0, 0.0, 0.0, 0.0, 0.21110001, 0.0, 0.0128, 0.24340001, 0.0, 0.0, 0.032, 0.0, 0.0, 0.0, 0.0027, 0.0, 0.0539, 0.2852, 0.0, 0.0, 0.0, 0.0793, 0.0, 0.0986, 0.0, 0.0, 0.0, 0.0765, 0.0, 0.0001, 0.004, 0.051599998, 0.5719, 0.0168, 0.35799998, 0.1313, 0.028299998, 0.6088, 0.0365, 0.0297, 0.0, 0.0, 0.0, 0.0273, 0.045, 0.0, 0.0099, 0.0433, 0.0, 0.2552, 0.19709998, 0.0038, 0.0354, 0.0425, 0.0, 0.0, 0.0677, 0.0, 0.10560001, 0.14899999, 0.0, 0.0, 0.0, 0.5232, 0.0, 0.0, 0.0, 0.2131, 0.0, 0.0, 0.0, 0.0334, 0.0344, 0.0, 0.08180001, 0.0953, 0.0, 0.0, 0.0682, 0.0, 0.0, 0.2177, 0.0, 0.065, 0.020399999, 0.0269, 0.013099999, 0.0, null, null, 0.093100004, 0.0], \"xaxis\": \"x4\", \"yaxis\": \"y4\"}, {\"histfunc\": \"count\", \"histnorm\": \"\", \"marker\": {\"color\": \"rgba(219, 64, 82, 1.0)\", \"line\": {\"color\": \"#4D5663\", \"width\": 1.3}}, \"name\": \"Information Technology\", \"opacity\": 0.8, \"orientation\": \"v\", \"type\": \"histogram\", \"x\": [0.22940001, 0.3208, 0.1966, 0.0, 0.3411, 0.9295, 0.32, null, 0.7041, 0.1321, 0.052399997, 0.4325, 0.42540002, 0.0018000001, 0.3196, 0.9249, 0.4109, 0.0, 0.4962, 0.0, 0.0249, 0.2408, 0.6147, 0.4366, 0.8119, 0.7376, null, 0.6833, 0.3196, 0.0, 0.021300001, 0.3429, 0.0, 1.0, 0.23420000000000002, 0.1958, 0.08, 0.5905, 0.0, 0.0, 0.18049999, 0.8859, 0.008, null, 0.318, 0.0, 0.0, 0.5534, 0.19399999, 0.696, 0.3639, 0.0, 0.0, 0.3498, 0.3795, 0.0, 0.2182, 0.403, 0.0, 0.0, 0.3183, 0.1179, 0.6381, 0.46330002, 0.0, 0.6367, 0.3532, 0.1586, 0.0085, 0.0, 0.0016, 0.435, 0.0173, 0.0937, 0.0, 0.8086, 0.041500002, 0.1989, 0.19680001, 0.3076, 0.0002, 0.4027, 0.127, 0.0, 0.3318, 0.0, 0.0046, 0.3406, 0.0865, 0.098500006, 0.0, 0.4267, 0.22389999, 0.0, 0.29770002, 0.2832, 0.0, 0.0, 0.2125, 0.7046, 0.0, 0.0, 0.0461, 0.0, 0.5701, 0.6891, 0.0, 0.2458, 0.0, 0.0, 0.0058999998, 0.0, 1.0, 0.0, 0.244, 0.4343, 0.66269994, 0.0037, 0.1594, 0.0045, 0.2658, 0.0018000001, 0.3943, 0.045100003, 0.2502, 0.2456, 0.0608, 0.3339, 0.3577, 0.0, 0.0184, 0.0, 0.030299999, 0.9261, 0.271, 0.4714, 0.3632, 0.8527, 0.1391, null, null, 0.0959, 0.6405], \"xaxis\": \"x5\", \"yaxis\": \"y5\"}, {\"histfunc\": \"count\", \"histnorm\": \"\", \"marker\": {\"color\": \"rgba(0, 128, 128, 1.0)\", \"line\": {\"color\": \"#4D5663\", \"width\": 1.3}}, \"name\": \"Communication Services\", \"opacity\": 0.8, \"orientation\": \"v\", \"type\": \"histogram\", \"x\": [0.2945, 0.3168, 0.0, 0.0, 0.2393, 0.0019, 0.1385, 0.0022, 0.0039, 0.0, 0.0, 0.0, 0.0, 0.2459, 0.0, 0.0, 0.0937, 0.0, 0.0, 0.0, 0.0, 0.1148, 0.0, 0.060900003, 0.0, 0.1533, null, 0.2062, 0.0, 0.0, 0.0, 0.064899996, 0.0, 0.0, 0.7119, 0.1021, 0.92, 0.0, 0.0, 0.0, 0.0004, null, 0.0, 0.9951000000000001, 0.12979999, 0.0, 0.0, 0.1993, 0.0, 0.0128999995, null, 0.0, 0.0, 0.0063, 0.0505, 0.0, 0.0, 0.099300005, 0.0, 0.0, 0.048, 0.075500004, 0.0155, 0.0991, 0.0, 0.17819999, 0.071100004, 0.3189, 0.36560002, 0.0, 0.0352, 0.0, 0.0, 0.0, 0.0, 0.1566, 0.0, 0.7843, 0.1039, 0.6924, 0.0, 0.1221, 0.3398, 0.0, 0.0862, 0.0, 0.0, 0.111899994, 0.0, 0.06, 0.0, 0.0, 0.055, 0.0, 0.2586, 0.347, 0.0, 0.0, 0.18, 0.1221, 0.0, 0.0, 0.0, 0.0, 0.0619, 0.0706, 0.0, 0.090299994, 0.0, 0.0, 0.003, 0.0, 0.0, 0.0, 0.1497, 0.0523, 0.0, 0.0025, 0.4035, 0.0, 0.091400005, 0.0019, 0.42009997, 0.4573, 0.0161, 0.32799998, 0.0547, 0.19680001, 0.0, 0.0, 0.0396, 0.0, 0.0, 0.001, 0.1338, 0.081499994, 0.1423, 0.0523, 0.0092, null, null, 0.0541, 0.23719999], \"xaxis\": \"x6\", \"yaxis\": \"y6\"}, {\"histfunc\": \"count\", \"histnorm\": \"\", \"marker\": {\"color\": \"rgba(255, 255, 51, 1.0)\", \"line\": {\"color\": \"#4D5663\", \"width\": 1.3}}, \"name\": \"Financials\", \"opacity\": 0.8, \"orientation\": \"v\", \"type\": \"histogram\", \"x\": [0.0221, 0.0748, 0.0, 0.0005, 0.2155, 0.0, 0.024400001, null, 0.0034, 0.0, 0.0, 0.0, 0.0, 0.0, 0.0, 0.0, 0.045, 0.0, 0.0, 0.0, 0.0, 0.12979999, 0.3198, 0.4329, 0.1664, 0.0, null, 0.0, 0.0, 0.003, 0.0, 0.0, 0.0, 0.0, null, 0.1702, 0.0, 0.0, 0.0188, 0.0, 0.0032, null, 0.0, null, 0.1027, 0.0, 0.0, null, 0.0, 0.0, null, 0.0, 0.0, 0.0, 0.0, 0.003, 0.0, 0.355, 0.0529, 0.0, 0.0061000003, 0.028399998, 0.0, 0.0, 0.0, 0.0, 0.0, 0.044499997, 0.0, 0.0, 0.0, 0.0, 0.0, 0.0, 0.0923, 0.0, 0.0, 0.0, 0.1699, 0.0, 0.0001, 0.044299997, 0.056399997, 0.0, 0.38529998, 0.0, 0.0, 0.0417, 0.0, 0.2058, 0.0, 0.0, 0.0, 0.0, 0.0475, 0.0763, 0.0, 0.0, 0.0377, 0.0, 0.0, 0.0, 0.0, 0.0, 0.2603, 0.0, 0.0, 0.1486, 0.0, 0.0, 0.0087, 0.0, 0.0, 0.0, 0.0, 0.0, 0.2891, 0.0, 0.032899998, 0.0, 0.0, 0.111499995, 0.0, 0.0, 0.0, 0.0572, 0.0, 0.0, 0.0, 0.0, 0.0, 0.0, 0.0, 0.0, 0.1106, 0.2322, 0.0106, 0.0061000003, 0.79580003, null, null, 0.18540001, 0.0161], \"xaxis\": \"x7\", \"yaxis\": \"y7\"}, {\"histfunc\": \"count\", \"histnorm\": \"\", \"marker\": {\"color\": \"rgba(128, 128, 0, 1.0)\", \"line\": {\"color\": \"#4D5663\", \"width\": 1.3}}, \"name\": \"Utilities\", \"opacity\": 0.8, \"orientation\": \"v\", \"type\": \"histogram\", \"x\": [0.0, 0.0, 0.5608, 0.045700002, 0.0, 0.0, 0.0, 0.3686, 0.2236, 0.0, 0.028900001, 0.0988, 0.0, 0.2598, 0.0496, 0.0, 0.020599999, 0.0, 0.0, 0.0, 0.1768, 0.0227, 0.0, 0.0, 0.0, 0.0, null, 0.0, 0.28440002, 0.0, 0.2131, 0.0, 0.3782, 0.0, null, 0.023699999, 0.0, 0.0, 0.0165, 0.0, 0.067600004, null, 0.41830003, null, 0.0176, 0.42470002, 0.5855, null, 0.2713, 0.0, 0.09380000000000001, 0.0, 0.0, 0.3092, 0.0, 0.0, 0.1278, 0.0011999999, 0.0, 0.2244, 0.0, 0.0, 0.0, 0.0, 0.0, 0.0, 0.0, 0.0, 0.0, 0.0, 0.365, 0.0, 0.0, 0.0, 0.0, 0.0, 0.92480004, 0.0, 0.023699999, 0.0, 0.0, 0.0, 0.0, 0.0, 0.0369, 0.0, 0.0468, 0.0365, 0.0, 0.0275, 0.0, 0.0, 0.048, 0.0, 0.0, 0.0, 0.0, 0.31440002, 0.0, 0.0, 0.0, 0.0, 0.0428, 0.0, 0.012, 0.0, 0.0, 0.023599999, 0.8611, 0.056900002, 0.0417, 0.0, 0.0, 0.3787, 0.0, 0.0, 0.0, 0.48490003, 0.0, 0.8958, 0.0, 0.073, 0.0, 0.0, 0.1197, 0.0, 0.0, 0.0913, 0.2523, 0.0, 0.3323, 0.4802, 0.0, 0.0, 0.0117999995, 0.0041, 0.0075, 0.0026, 0.0, null, null, 0.040700004, 0.0], \"xaxis\": \"x8\", \"yaxis\": \"y8\"}, {\"histfunc\": \"count\", \"histnorm\": \"\", \"marker\": {\"color\": \"rgba(251, 128, 114, 1.0)\", \"line\": {\"color\": \"#4D5663\", \"width\": 1.3}}, \"name\": \"Industrials\", \"opacity\": 0.8, \"orientation\": \"v\", \"type\": \"histogram\", \"x\": [0.020399999, 0.0, 0.225, 0.0085, 0.0, 0.0686, 0.2514, 0.36340000000000006, 0.0231, 0.30040002, 0.7225, 0.16389999, 0.4381, 0.3305, 0.233, 0.075100005, 0.1816, 0.0098, 0.3834, 0.0107, 0.59529996, 0.090299994, 0.0655, 0.0, 0.0, 0.0, 0.2048, 0.013200001, 0.22610001, 0.0067, 0.5834, 0.1582, 0.5937, 0.0, 0.0102, 0.1033, 0.0, 0.2739, 0.1504, 0.0, 0.3222, 0.111, 0.3395, null, 0.064, 0.4134, 0.3829, 0.10460000000000001, 0.3556, 0.2489, 0.2912, 0.0, 0.016900001, 0.2525, 0.0802, 0.0, 0.5503, 0.039300002, 0.0, 0.6042, 0.17719999, 0.0, 0.2041, 0.198, 0.0, 0.087799996, 0.1319, 0.0036000002, 0.0, 0.0, 0.1418, 0.45119998, 0.0701, 0.2, 0.0482, 0.0, 0.0064999997, 0.0, 0.105100006, 0.0, 0.0828, 0.0787, 0.0125, 0.0, 0.056399997, 0.32819998, 0.1612, 0.0714, 0.0, 0.1526, 0.7456, 0.4389, 0.5381, 0.0, 0.0, 0.0556, 0.0, 0.6034, 0.0229, 0.0153, 0.0, 0.027, 0.60400003, 0.8367, 0.0, 0.0, 0.0, 0.08180001, 0.0377, 0.0, 0.0809, 0.0, 0.0, 0.41990003, 0.0089, 0.0958, 0.0482, 0.38950002, 0.0, 0.0215, 0.1513, 0.3397, 0.0, 0.0021, 0.2753, 0.061, 0.006, 0.1997, 0.20879999, 0.257, 0.16510001, 0.41169998, 0.0, 0.0729, 0.038399998, 0.0115, 0.0392, 0.0074, 0.041500002, null, null, 0.16540001, 0.0], \"xaxis\": \"x9\", \"yaxis\": \"y9\"}, {\"histfunc\": \"count\", \"histnorm\": \"\", \"marker\": {\"color\": \"rgba(128, 177, 211, 1.0)\", \"line\": {\"color\": \"#4D5663\", \"width\": 1.3}}, \"name\": \"Energy\", \"opacity\": 0.8, \"orientation\": \"v\", \"type\": \"histogram\", \"x\": [0.0, 0.0, 0.0069999998, 0.2741, 0.0, 0.0, 0.0, 0.20829999999999999, 0.0007, 0.0, 0.0066000004, 0.0086, 0.0057, 0.0748, 0.0276, 0.0, 0.0081, 0.33330002, 0.0, 0.0, 0.0, 0.026400002, 0.0, 0.0, 0.0, 0.0, null, 0.0, 0.024400001, 0.0, 0.0, 0.0, 0.0013, 0.0, null, 0.0235, 0.0, 0.0, 0.7008, 0.4438, 0.0074, null, 0.0545, null, 0.0, 0.1619, 0.0, 0.0019, 0.0150999995, 0.0, null, 0.0, 0.682, 0.0308, 0.0, 0.0, 0.0, 0.0, 0.0, 0.0, 0.0, 0.0, 0.0, 0.0, 0.84660006, 0.0, 0.0, 0.0, 0.0, 0.0, 0.2874, 0.0, 0.0, 0.0, 0.0, 0.0, 0.012, 0.0, 0.023699999, 0.0, 0.0001, 0.0007, 0.0, 0.0, 0.0152, 0.0, 0.25620002, 0.0015, 0.0, 0.0999, 0.0, 0.0058, 0.0561, 0.0, 0.0, 0.0, 0.0, 0.0, 0.0, 0.0, 0.0, 0.0, 0.1365, 0.038900000000000004, 0.0, 0.0, 0.0, 0.026700001, 0.1012, 0.2393, 0.1865, 0.0, 0.0, 0.2014, 0.0, 0.0, 0.0, 0.119399995, 0.0, 0.069299996, 0.0, 0.0716, 0.0, 0.0, 0.0377, 0.0, 0.0, 0.0, 0.0, 0.0, 0.2417, 0.0, 0.0, 0.0, 0.0, 0.0, 0.0, 0.0, 0.0, null, null, 0.0401, 0.0], \"xaxis\": \"x10\", \"yaxis\": \"y10\"}, {\"histfunc\": \"count\", \"histnorm\": \"\", \"marker\": {\"color\": \"rgba(128, 177, 211, 0.8999999999999999)\", \"line\": {\"color\": \"#4D5663\", \"width\": 1.3}}, \"name\": \"Health Care\", \"opacity\": 0.8, \"orientation\": \"v\", \"type\": \"histogram\", \"x\": [0.2927, 0.057600003, 0.0, 0.0, 0.0242, 0.0, 0.0124, null, 0.0023, 0.0, 0.0, 0.0, 0.1308, 0.031, 0.0, 0.0, 0.0939, 0.0, 0.089700006, 0.5713, 0.125, 0.1359, 0.0, 0.0, 0.0217, 0.0, 0.24530000000000002, 0.0, 0.0, 0.057, 0.1216, 0.0, 0.0, 0.0, null, 0.1178, 0.0, 0.0956, 0.0, 0.0, 0.0007, null, 0.0, null, 0.195, 0.0, 0.0, 0.016200000000000003, 0.0, 0.0422, null, 0.0, 0.0, 0.0, 0.0, 0.6032, 0.0, 0.0, 0.4623, 0.1169, 0.0, 0.0034999999, 0.0766, 0.20989999, 0.0, 0.0058999998, 0.0, 0.0, 0.0147, 0.9872, 0.0, 0.0, 0.6876, 0.0, 0.6834, 0.0, 0.0, 0.0, 0.115, 0.0, 0.0001, 0.277, 0.0, 0.0, 0.0, 0.0, 0.0011, 0.21069999, 0.0, 0.1475, 0.07, 0.1286, 0.0, 0.90190005, 0.026199998, 0.0, 0.948, 0.0, 0.2998, 0.0456, 0.60220003, 0.0618, 0.0, 0.0, 0.0, 0.20950001, 0.35619998, 0.1344, 0.0, 0.0, 0.0062, 0.90190005, 0.0, 0.0, 0.0, 0.0, 0.0, 0.0, 0.1149, 0.0, 0.0, 0.0, 0.0596, 0.0218, 0.0, 0.0525, 0.6395, 0.020599999, 0.0, 0.096099995, 0.0, 0.0, 0.0279, 0.0, 0.22680001, 0.028099999, 0.1015, 0.018, 0.0, null, null, 0.1116, 0.0], \"xaxis\": \"x11\", \"yaxis\": \"y11\"}],                        {\"barmode\": \"overlay\", \"legend\": {\"bgcolor\": \"#F5F6F9\", \"font\": {\"color\": \"#4D5663\"}}, \"paper_bgcolor\": \"#F5F6F9\", \"plot_bgcolor\": \"#F5F6F9\", \"template\": {\"data\": {\"bar\": [{\"error_x\": {\"color\": \"#2a3f5f\"}, \"error_y\": {\"color\": \"#2a3f5f\"}, \"marker\": {\"line\": {\"color\": \"#E5ECF6\", \"width\": 0.5}}, \"type\": \"bar\"}], \"barpolar\": [{\"marker\": {\"line\": {\"color\": \"#E5ECF6\", \"width\": 0.5}}, \"type\": \"barpolar\"}], \"carpet\": [{\"aaxis\": {\"endlinecolor\": \"#2a3f5f\", \"gridcolor\": \"white\", \"linecolor\": \"white\", \"minorgridcolor\": \"white\", \"startlinecolor\": \"#2a3f5f\"}, \"baxis\": {\"endlinecolor\": \"#2a3f5f\", \"gridcolor\": \"white\", \"linecolor\": \"white\", \"minorgridcolor\": \"white\", \"startlinecolor\": \"#2a3f5f\"}, \"type\": \"carpet\"}], \"choropleth\": [{\"colorbar\": {\"outlinewidth\": 0, \"ticks\": \"\"}, \"type\": \"choropleth\"}], \"contour\": [{\"colorbar\": {\"outlinewidth\": 0, \"ticks\": \"\"}, \"colorscale\": [[0.0, \"#0d0887\"], [0.1111111111111111, \"#46039f\"], [0.2222222222222222, \"#7201a8\"], [0.3333333333333333, \"#9c179e\"], [0.4444444444444444, \"#bd3786\"], [0.5555555555555556, \"#d8576b\"], [0.6666666666666666, \"#ed7953\"], [0.7777777777777778, \"#fb9f3a\"], [0.8888888888888888, \"#fdca26\"], [1.0, \"#f0f921\"]], \"type\": \"contour\"}], \"contourcarpet\": [{\"colorbar\": {\"outlinewidth\": 0, \"ticks\": \"\"}, \"type\": \"contourcarpet\"}], \"heatmap\": [{\"colorbar\": {\"outlinewidth\": 0, \"ticks\": \"\"}, \"colorscale\": [[0.0, \"#0d0887\"], [0.1111111111111111, \"#46039f\"], [0.2222222222222222, \"#7201a8\"], [0.3333333333333333, \"#9c179e\"], [0.4444444444444444, \"#bd3786\"], [0.5555555555555556, \"#d8576b\"], [0.6666666666666666, \"#ed7953\"], [0.7777777777777778, \"#fb9f3a\"], [0.8888888888888888, \"#fdca26\"], [1.0, \"#f0f921\"]], \"type\": \"heatmap\"}], \"heatmapgl\": [{\"colorbar\": {\"outlinewidth\": 0, \"ticks\": \"\"}, \"colorscale\": [[0.0, \"#0d0887\"], [0.1111111111111111, \"#46039f\"], [0.2222222222222222, \"#7201a8\"], [0.3333333333333333, \"#9c179e\"], [0.4444444444444444, \"#bd3786\"], [0.5555555555555556, \"#d8576b\"], [0.6666666666666666, \"#ed7953\"], [0.7777777777777778, \"#fb9f3a\"], [0.8888888888888888, \"#fdca26\"], [1.0, \"#f0f921\"]], \"type\": \"heatmapgl\"}], \"histogram\": [{\"marker\": {\"colorbar\": {\"outlinewidth\": 0, \"ticks\": \"\"}}, \"type\": \"histogram\"}], \"histogram2d\": [{\"colorbar\": {\"outlinewidth\": 0, \"ticks\": \"\"}, \"colorscale\": [[0.0, \"#0d0887\"], [0.1111111111111111, \"#46039f\"], [0.2222222222222222, \"#7201a8\"], [0.3333333333333333, \"#9c179e\"], [0.4444444444444444, \"#bd3786\"], [0.5555555555555556, \"#d8576b\"], [0.6666666666666666, \"#ed7953\"], [0.7777777777777778, \"#fb9f3a\"], [0.8888888888888888, \"#fdca26\"], [1.0, \"#f0f921\"]], \"type\": \"histogram2d\"}], \"histogram2dcontour\": [{\"colorbar\": {\"outlinewidth\": 0, \"ticks\": \"\"}, \"colorscale\": [[0.0, \"#0d0887\"], [0.1111111111111111, \"#46039f\"], [0.2222222222222222, \"#7201a8\"], [0.3333333333333333, \"#9c179e\"], [0.4444444444444444, \"#bd3786\"], [0.5555555555555556, \"#d8576b\"], [0.6666666666666666, \"#ed7953\"], [0.7777777777777778, \"#fb9f3a\"], [0.8888888888888888, \"#fdca26\"], [1.0, \"#f0f921\"]], \"type\": \"histogram2dcontour\"}], \"mesh3d\": [{\"colorbar\": {\"outlinewidth\": 0, \"ticks\": \"\"}, \"type\": \"mesh3d\"}], \"parcoords\": [{\"line\": {\"colorbar\": {\"outlinewidth\": 0, \"ticks\": \"\"}}, \"type\": \"parcoords\"}], \"pie\": [{\"automargin\": true, \"type\": \"pie\"}], \"scatter\": [{\"marker\": {\"colorbar\": {\"outlinewidth\": 0, \"ticks\": \"\"}}, \"type\": \"scatter\"}], \"scatter3d\": [{\"line\": {\"colorbar\": {\"outlinewidth\": 0, \"ticks\": \"\"}}, \"marker\": {\"colorbar\": {\"outlinewidth\": 0, \"ticks\": \"\"}}, \"type\": \"scatter3d\"}], \"scattercarpet\": [{\"marker\": {\"colorbar\": {\"outlinewidth\": 0, \"ticks\": \"\"}}, \"type\": \"scattercarpet\"}], \"scattergeo\": [{\"marker\": {\"colorbar\": {\"outlinewidth\": 0, \"ticks\": \"\"}}, \"type\": \"scattergeo\"}], \"scattergl\": [{\"marker\": {\"colorbar\": {\"outlinewidth\": 0, \"ticks\": \"\"}}, \"type\": \"scattergl\"}], \"scattermapbox\": [{\"marker\": {\"colorbar\": {\"outlinewidth\": 0, \"ticks\": \"\"}}, \"type\": \"scattermapbox\"}], \"scatterpolar\": [{\"marker\": {\"colorbar\": {\"outlinewidth\": 0, \"ticks\": \"\"}}, \"type\": \"scatterpolar\"}], \"scatterpolargl\": [{\"marker\": {\"colorbar\": {\"outlinewidth\": 0, \"ticks\": \"\"}}, \"type\": \"scatterpolargl\"}], \"scatterternary\": [{\"marker\": {\"colorbar\": {\"outlinewidth\": 0, \"ticks\": \"\"}}, \"type\": \"scatterternary\"}], \"surface\": [{\"colorbar\": {\"outlinewidth\": 0, \"ticks\": \"\"}, \"colorscale\": [[0.0, \"#0d0887\"], [0.1111111111111111, \"#46039f\"], [0.2222222222222222, \"#7201a8\"], [0.3333333333333333, \"#9c179e\"], [0.4444444444444444, \"#bd3786\"], [0.5555555555555556, \"#d8576b\"], [0.6666666666666666, \"#ed7953\"], [0.7777777777777778, \"#fb9f3a\"], [0.8888888888888888, \"#fdca26\"], [1.0, \"#f0f921\"]], \"type\": \"surface\"}], \"table\": [{\"cells\": {\"fill\": {\"color\": \"#EBF0F8\"}, \"line\": {\"color\": \"white\"}}, \"header\": {\"fill\": {\"color\": \"#C8D4E3\"}, \"line\": {\"color\": \"white\"}}, \"type\": \"table\"}]}, \"layout\": {\"annotationdefaults\": {\"arrowcolor\": \"#2a3f5f\", \"arrowhead\": 0, \"arrowwidth\": 1}, \"autotypenumbers\": \"strict\", \"coloraxis\": {\"colorbar\": {\"outlinewidth\": 0, \"ticks\": \"\"}}, \"colorscale\": {\"diverging\": [[0, \"#8e0152\"], [0.1, \"#c51b7d\"], [0.2, \"#de77ae\"], [0.3, \"#f1b6da\"], [0.4, \"#fde0ef\"], [0.5, \"#f7f7f7\"], [0.6, \"#e6f5d0\"], [0.7, \"#b8e186\"], [0.8, \"#7fbc41\"], [0.9, \"#4d9221\"], [1, \"#276419\"]], \"sequential\": [[0.0, \"#0d0887\"], [0.1111111111111111, \"#46039f\"], [0.2222222222222222, \"#7201a8\"], [0.3333333333333333, \"#9c179e\"], [0.4444444444444444, \"#bd3786\"], [0.5555555555555556, \"#d8576b\"], [0.6666666666666666, \"#ed7953\"], [0.7777777777777778, \"#fb9f3a\"], [0.8888888888888888, \"#fdca26\"], [1.0, \"#f0f921\"]], \"sequentialminus\": [[0.0, \"#0d0887\"], [0.1111111111111111, \"#46039f\"], [0.2222222222222222, \"#7201a8\"], [0.3333333333333333, \"#9c179e\"], [0.4444444444444444, \"#bd3786\"], [0.5555555555555556, \"#d8576b\"], [0.6666666666666666, \"#ed7953\"], [0.7777777777777778, \"#fb9f3a\"], [0.8888888888888888, \"#fdca26\"], [1.0, \"#f0f921\"]]}, \"colorway\": [\"#636efa\", \"#EF553B\", \"#00cc96\", \"#ab63fa\", \"#FFA15A\", \"#19d3f3\", \"#FF6692\", \"#B6E880\", \"#FF97FF\", \"#FECB52\"], \"font\": {\"color\": \"#2a3f5f\"}, \"geo\": {\"bgcolor\": \"white\", \"lakecolor\": \"white\", \"landcolor\": \"#E5ECF6\", \"showlakes\": true, \"showland\": true, \"subunitcolor\": \"white\"}, \"hoverlabel\": {\"align\": \"left\"}, \"hovermode\": \"closest\", \"mapbox\": {\"style\": \"light\"}, \"paper_bgcolor\": \"white\", \"plot_bgcolor\": \"#E5ECF6\", \"polar\": {\"angularaxis\": {\"gridcolor\": \"white\", \"linecolor\": \"white\", \"ticks\": \"\"}, \"bgcolor\": \"#E5ECF6\", \"radialaxis\": {\"gridcolor\": \"white\", \"linecolor\": \"white\", \"ticks\": \"\"}}, \"scene\": {\"xaxis\": {\"backgroundcolor\": \"#E5ECF6\", \"gridcolor\": \"white\", \"gridwidth\": 2, \"linecolor\": \"white\", \"showbackground\": true, \"ticks\": \"\", \"zerolinecolor\": \"white\"}, \"yaxis\": {\"backgroundcolor\": \"#E5ECF6\", \"gridcolor\": \"white\", \"gridwidth\": 2, \"linecolor\": \"white\", \"showbackground\": true, \"ticks\": \"\", \"zerolinecolor\": \"white\"}, \"zaxis\": {\"backgroundcolor\": \"#E5ECF6\", \"gridcolor\": \"white\", \"gridwidth\": 2, \"linecolor\": \"white\", \"showbackground\": true, \"ticks\": \"\", \"zerolinecolor\": \"white\"}}, \"shapedefaults\": {\"line\": {\"color\": \"#2a3f5f\"}}, \"ternary\": {\"aaxis\": {\"gridcolor\": \"white\", \"linecolor\": \"white\", \"ticks\": \"\"}, \"baxis\": {\"gridcolor\": \"white\", \"linecolor\": \"white\", \"ticks\": \"\"}, \"bgcolor\": \"#E5ECF6\", \"caxis\": {\"gridcolor\": \"white\", \"linecolor\": \"white\", \"ticks\": \"\"}}, \"title\": {\"x\": 0.05}, \"xaxis\": {\"automargin\": true, \"gridcolor\": \"white\", \"linecolor\": \"white\", \"ticks\": \"\", \"title\": {\"standoff\": 15}, \"zerolinecolor\": \"white\", \"zerolinewidth\": 2}, \"yaxis\": {\"automargin\": true, \"gridcolor\": \"white\", \"linecolor\": \"white\", \"ticks\": \"\", \"title\": {\"standoff\": 15}, \"zerolinecolor\": \"white\", \"zerolinewidth\": 2}}}, \"title\": {\"font\": {\"color\": \"#4D5663\"}, \"text\": \"Histogram of Sector allocation\"}, \"xaxis\": {\"anchor\": \"y\", \"domain\": [0.0, 0.45], \"gridcolor\": \"#E1E5ED\", \"showgrid\": true, \"tickfont\": {\"color\": \"#4D5663\"}, \"title\": {\"font\": {\"color\": \"#4D5663\"}, \"text\": \"\"}, \"zerolinecolor\": \"#E1E5ED\"}, \"xaxis10\": {\"anchor\": \"y10\", \"domain\": [0.55, 1.0], \"gridcolor\": \"#E1E5ED\", \"showgrid\": true, \"tickfont\": {\"color\": \"#4D5663\"}, \"title\": {\"font\": {\"color\": \"#4D5663\"}, \"text\": \"\"}, \"zerolinecolor\": \"#E1E5ED\"}, \"xaxis11\": {\"anchor\": \"y11\", \"domain\": [0.0, 0.45], \"gridcolor\": \"#E1E5ED\", \"showgrid\": true, \"tickfont\": {\"color\": \"#4D5663\"}, \"title\": {\"font\": {\"color\": \"#4D5663\"}, \"text\": \"\"}, \"zerolinecolor\": \"#E1E5ED\"}, \"xaxis12\": {\"anchor\": \"y12\", \"domain\": [0.55, 1.0], \"gridcolor\": \"#E1E5ED\", \"showgrid\": true, \"tickfont\": {\"color\": \"#4D5663\"}, \"title\": {\"font\": {\"color\": \"#4D5663\"}, \"text\": \"\"}, \"zerolinecolor\": \"#E1E5ED\"}, \"xaxis2\": {\"anchor\": \"y2\", \"domain\": [0.55, 1.0], \"gridcolor\": \"#E1E5ED\", \"showgrid\": true, \"tickfont\": {\"color\": \"#4D5663\"}, \"title\": {\"font\": {\"color\": \"#4D5663\"}, \"text\": \"\"}, \"zerolinecolor\": \"#E1E5ED\"}, \"xaxis3\": {\"anchor\": \"y3\", \"domain\": [0.0, 0.45], \"gridcolor\": \"#E1E5ED\", \"showgrid\": true, \"tickfont\": {\"color\": \"#4D5663\"}, \"title\": {\"font\": {\"color\": \"#4D5663\"}, \"text\": \"\"}, \"zerolinecolor\": \"#E1E5ED\"}, \"xaxis4\": {\"anchor\": \"y4\", \"domain\": [0.55, 1.0], \"gridcolor\": \"#E1E5ED\", \"showgrid\": true, \"tickfont\": {\"color\": \"#4D5663\"}, \"title\": {\"font\": {\"color\": \"#4D5663\"}, \"text\": \"\"}, \"zerolinecolor\": \"#E1E5ED\"}, \"xaxis5\": {\"anchor\": \"y5\", \"domain\": [0.0, 0.45], \"gridcolor\": \"#E1E5ED\", \"showgrid\": true, \"tickfont\": {\"color\": \"#4D5663\"}, \"title\": {\"font\": {\"color\": \"#4D5663\"}, \"text\": \"\"}, \"zerolinecolor\": \"#E1E5ED\"}, \"xaxis6\": {\"anchor\": \"y6\", \"domain\": [0.55, 1.0], \"gridcolor\": \"#E1E5ED\", \"showgrid\": true, \"tickfont\": {\"color\": \"#4D5663\"}, \"title\": {\"font\": {\"color\": \"#4D5663\"}, \"text\": \"\"}, \"zerolinecolor\": \"#E1E5ED\"}, \"xaxis7\": {\"anchor\": \"y7\", \"domain\": [0.0, 0.45], \"gridcolor\": \"#E1E5ED\", \"showgrid\": true, \"tickfont\": {\"color\": \"#4D5663\"}, \"title\": {\"font\": {\"color\": \"#4D5663\"}, \"text\": \"\"}, \"zerolinecolor\": \"#E1E5ED\"}, \"xaxis8\": {\"anchor\": \"y8\", \"domain\": [0.55, 1.0], \"gridcolor\": \"#E1E5ED\", \"showgrid\": true, \"tickfont\": {\"color\": \"#4D5663\"}, \"title\": {\"font\": {\"color\": \"#4D5663\"}, \"text\": \"\"}, \"zerolinecolor\": \"#E1E5ED\"}, \"xaxis9\": {\"anchor\": \"y9\", \"domain\": [0.0, 0.45], \"gridcolor\": \"#E1E5ED\", \"showgrid\": true, \"tickfont\": {\"color\": \"#4D5663\"}, \"title\": {\"font\": {\"color\": \"#4D5663\"}, \"text\": \"\"}, \"zerolinecolor\": \"#E1E5ED\"}, \"yaxis\": {\"anchor\": \"x\", \"domain\": [0.875, 1.0], \"gridcolor\": \"#E1E5ED\", \"showgrid\": true, \"tickfont\": {\"color\": \"#4D5663\"}, \"title\": {\"font\": {\"color\": \"#4D5663\"}, \"text\": \"\"}, \"zerolinecolor\": \"#E1E5ED\"}, \"yaxis10\": {\"anchor\": \"x10\", \"domain\": [0.175, 0.3], \"gridcolor\": \"#E1E5ED\", \"showgrid\": true, \"tickfont\": {\"color\": \"#4D5663\"}, \"title\": {\"font\": {\"color\": \"#4D5663\"}, \"text\": \"\"}, \"zerolinecolor\": \"#E1E5ED\"}, \"yaxis11\": {\"anchor\": \"x11\", \"domain\": [0.0, 0.125], \"gridcolor\": \"#E1E5ED\", \"showgrid\": true, \"tickfont\": {\"color\": \"#4D5663\"}, \"title\": {\"font\": {\"color\": \"#4D5663\"}, \"text\": \"\"}, \"zerolinecolor\": \"#E1E5ED\"}, \"yaxis12\": {\"anchor\": \"x12\", \"domain\": [0.0, 0.125], \"gridcolor\": \"#E1E5ED\", \"showgrid\": true, \"tickfont\": {\"color\": \"#4D5663\"}, \"title\": {\"font\": {\"color\": \"#4D5663\"}, \"text\": \"\"}, \"zerolinecolor\": \"#E1E5ED\"}, \"yaxis2\": {\"anchor\": \"x2\", \"domain\": [0.875, 1.0], \"gridcolor\": \"#E1E5ED\", \"showgrid\": true, \"tickfont\": {\"color\": \"#4D5663\"}, \"title\": {\"font\": {\"color\": \"#4D5663\"}, \"text\": \"\"}, \"zerolinecolor\": \"#E1E5ED\"}, \"yaxis3\": {\"anchor\": \"x3\", \"domain\": [0.7, 0.825], \"gridcolor\": \"#E1E5ED\", \"showgrid\": true, \"tickfont\": {\"color\": \"#4D5663\"}, \"title\": {\"font\": {\"color\": \"#4D5663\"}, \"text\": \"\"}, \"zerolinecolor\": \"#E1E5ED\"}, \"yaxis4\": {\"anchor\": \"x4\", \"domain\": [0.7, 0.825], \"gridcolor\": \"#E1E5ED\", \"showgrid\": true, \"tickfont\": {\"color\": \"#4D5663\"}, \"title\": {\"font\": {\"color\": \"#4D5663\"}, \"text\": \"\"}, \"zerolinecolor\": \"#E1E5ED\"}, \"yaxis5\": {\"anchor\": \"x5\", \"domain\": [0.525, 0.65], \"gridcolor\": \"#E1E5ED\", \"showgrid\": true, \"tickfont\": {\"color\": \"#4D5663\"}, \"title\": {\"font\": {\"color\": \"#4D5663\"}, \"text\": \"\"}, \"zerolinecolor\": \"#E1E5ED\"}, \"yaxis6\": {\"anchor\": \"x6\", \"domain\": [0.525, 0.65], \"gridcolor\": \"#E1E5ED\", \"showgrid\": true, \"tickfont\": {\"color\": \"#4D5663\"}, \"title\": {\"font\": {\"color\": \"#4D5663\"}, \"text\": \"\"}, \"zerolinecolor\": \"#E1E5ED\"}, \"yaxis7\": {\"anchor\": \"x7\", \"domain\": [0.35, 0.475], \"gridcolor\": \"#E1E5ED\", \"showgrid\": true, \"tickfont\": {\"color\": \"#4D5663\"}, \"title\": {\"font\": {\"color\": \"#4D5663\"}, \"text\": \"\"}, \"zerolinecolor\": \"#E1E5ED\"}, \"yaxis8\": {\"anchor\": \"x8\", \"domain\": [0.35, 0.475], \"gridcolor\": \"#E1E5ED\", \"showgrid\": true, \"tickfont\": {\"color\": \"#4D5663\"}, \"title\": {\"font\": {\"color\": \"#4D5663\"}, \"text\": \"\"}, \"zerolinecolor\": \"#E1E5ED\"}, \"yaxis9\": {\"anchor\": \"x9\", \"domain\": [0.175, 0.3], \"gridcolor\": \"#E1E5ED\", \"showgrid\": true, \"tickfont\": {\"color\": \"#4D5663\"}, \"title\": {\"font\": {\"color\": \"#4D5663\"}, \"text\": \"\"}, \"zerolinecolor\": \"#E1E5ED\"}},                        {\"showLink\": true, \"linkText\": \"Export to plot.ly\", \"plotlyServerURL\": \"https://plot.ly\", \"responsive\": true}                    ).then(function(){\n",
       "                            \n",
       "var gd = document.getElementById('dd3ea56d-df02-425d-b65d-b5a899954b1c');\n",
       "var x = new MutationObserver(function (mutations, observer) {{\n",
       "        var display = window.getComputedStyle(gd).display;\n",
       "        if (!display || display === 'none') {{\n",
       "            console.log([gd, 'removed!']);\n",
       "            Plotly.purge(gd);\n",
       "            observer.disconnect();\n",
       "        }}\n",
       "}});\n",
       "\n",
       "// Listen for the removal of the full notebook cells\n",
       "var notebookContainer = gd.closest('#notebook-container');\n",
       "if (notebookContainer) {{\n",
       "    x.observe(notebookContainer, {childList: true});\n",
       "}}\n",
       "\n",
       "// Listen for the clearing of the current output cell\n",
       "var outputEl = gd.closest('.output');\n",
       "if (outputEl) {{\n",
       "    x.observe(outputEl, {childList: true});\n",
       "}}\n",
       "\n",
       "                        })                };                });            </script>        </div>"
      ]
     },
     "metadata": {},
     "output_type": "display_data"
    }
   ],
   "source": [
    "# create a sector list\n",
    "sector_list = ['Real Estate', 'Consumer Discretionary', 'Materials', 'Consumer Staples', 'Information Technology',\n",
    "               'Communication Services','Financials','Utilities','Industrials', 'Energy', 'Health Care']\n",
    "\n",
    "# plot the histogram of sector allocations\n",
    "dataset[sector_list].iplot(kind='histogram', title ='Histogram of Sector allocation',subplots=True)"
   ]
  },
  {
   "cell_type": "markdown",
   "id": "elder-border",
   "metadata": {},
   "source": [
    "# Data wrangling"
   ]
  },
  {
   "cell_type": "markdown",
   "id": "opening-gates",
   "metadata": {},
   "source": [
    "After removing irrelevant variables and missing data points, we are left with 89 ETFs and 13 variables. The following table shows selected variables and we can see they have different scales."
   ]
  },
  {
   "cell_type": "code",
   "execution_count": 22,
   "id": "waiting-judges",
   "metadata": {},
   "outputs": [],
   "source": [
    "# remove Issuer, AUM, Expense Ratio, 3-Mo TR and Segment Column\n",
    "dataset2 = dataset.drop(['Issuer', 'AUM', 'Expense Ratio', '3-Mo TR', 'Segment'], axis=1)"
   ]
  },
  {
   "cell_type": "code",
   "execution_count": 23,
   "id": "original-comfort",
   "metadata": {},
   "outputs": [],
   "source": [
    "# remove ETFs missing price data\n",
    "dataset3 = dataset2[dataset2['Return'].notna()]\n",
    "\n",
    "# remove ETFs missing sector data\n",
    "dataset4 = dataset3[dataset3['Total Sector Allocation'].notna()]\n",
    "\n",
    "# sectors with N/A should actually be 0\n",
    "dataset4[sector_list]=dataset4[sector_list].fillna(0)\n",
    "\n",
    "# drop the Total Sector Allocation column\n",
    "dataset_final = dataset4.drop(['Total Sector Allocation'],axis=1)"
   ]
  },
  {
   "cell_type": "code",
   "execution_count": 24,
   "id": "arranged-mambo",
   "metadata": {},
   "outputs": [
    {
     "data": {
      "text/html": [
       "<div>\n",
       "<style scoped>\n",
       "    .dataframe tbody tr th:only-of-type {\n",
       "        vertical-align: middle;\n",
       "    }\n",
       "\n",
       "    .dataframe tbody tr th {\n",
       "        vertical-align: top;\n",
       "    }\n",
       "\n",
       "    .dataframe thead th {\n",
       "        text-align: right;\n",
       "    }\n",
       "</style>\n",
       "<table border=\"1\" class=\"dataframe\">\n",
       "  <thead>\n",
       "    <tr style=\"text-align: right;\">\n",
       "      <th></th>\n",
       "      <th>Return</th>\n",
       "      <th>Volatility</th>\n",
       "      <th>Real Estate</th>\n",
       "      <th>Consumer Discretionary</th>\n",
       "      <th>Materials</th>\n",
       "      <th>Consumer Staples</th>\n",
       "      <th>Information Technology</th>\n",
       "      <th>Communication Services</th>\n",
       "      <th>Financials</th>\n",
       "      <th>Utilities</th>\n",
       "      <th>Industrials</th>\n",
       "      <th>Energy</th>\n",
       "      <th>Health Care</th>\n",
       "    </tr>\n",
       "    <tr>\n",
       "      <th>Fund Name</th>\n",
       "      <th></th>\n",
       "      <th></th>\n",
       "      <th></th>\n",
       "      <th></th>\n",
       "      <th></th>\n",
       "      <th></th>\n",
       "      <th></th>\n",
       "      <th></th>\n",
       "      <th></th>\n",
       "      <th></th>\n",
       "      <th></th>\n",
       "      <th></th>\n",
       "      <th></th>\n",
       "    </tr>\n",
       "  </thead>\n",
       "  <tbody>\n",
       "    <tr>\n",
       "      <th>ARK Innovation ETF</th>\n",
       "      <td>0.424166</td>\n",
       "      <td>0.429980</td>\n",
       "      <td>0.0133</td>\n",
       "      <td>0.1167</td>\n",
       "      <td>0.0000</td>\n",
       "      <td>0.0110</td>\n",
       "      <td>0.2294</td>\n",
       "      <td>0.2945</td>\n",
       "      <td>0.0221</td>\n",
       "      <td>0.0000</td>\n",
       "      <td>0.0204</td>\n",
       "      <td>0.0000</td>\n",
       "      <td>0.2927</td>\n",
       "    </tr>\n",
       "    <tr>\n",
       "      <th>ARK Next Generation Internet ETF</th>\n",
       "      <td>0.476103</td>\n",
       "      <td>0.393839</td>\n",
       "      <td>0.0326</td>\n",
       "      <td>0.1880</td>\n",
       "      <td>0.0000</td>\n",
       "      <td>0.0094</td>\n",
       "      <td>0.3208</td>\n",
       "      <td>0.3168</td>\n",
       "      <td>0.0748</td>\n",
       "      <td>0.0000</td>\n",
       "      <td>0.0000</td>\n",
       "      <td>0.0000</td>\n",
       "      <td>0.0576</td>\n",
       "    </tr>\n",
       "    <tr>\n",
       "      <th>iShares Global Clean Energy ETF</th>\n",
       "      <td>0.390705</td>\n",
       "      <td>0.377971</td>\n",
       "      <td>0.0000</td>\n",
       "      <td>0.0000</td>\n",
       "      <td>0.0106</td>\n",
       "      <td>0.0000</td>\n",
       "      <td>0.1966</td>\n",
       "      <td>0.0000</td>\n",
       "      <td>0.0000</td>\n",
       "      <td>0.5608</td>\n",
       "      <td>0.2250</td>\n",
       "      <td>0.0070</td>\n",
       "      <td>0.0000</td>\n",
       "    </tr>\n",
       "    <tr>\n",
       "      <th>FlexShares Morningstar Global Upstream Natural Resources Ind…</th>\n",
       "      <td>0.141864</td>\n",
       "      <td>0.295510</td>\n",
       "      <td>0.0135</td>\n",
       "      <td>0.0000</td>\n",
       "      <td>0.5034</td>\n",
       "      <td>0.1543</td>\n",
       "      <td>0.0000</td>\n",
       "      <td>0.0000</td>\n",
       "      <td>0.0005</td>\n",
       "      <td>0.0457</td>\n",
       "      <td>0.0085</td>\n",
       "      <td>0.2741</td>\n",
       "      <td>0.0000</td>\n",
       "    </tr>\n",
       "    <tr>\n",
       "      <th>ARK Fintech Innovation ETF</th>\n",
       "      <td>0.401354</td>\n",
       "      <td>0.340954</td>\n",
       "      <td>0.0352</td>\n",
       "      <td>0.1446</td>\n",
       "      <td>0.0000</td>\n",
       "      <td>0.0000</td>\n",
       "      <td>0.3411</td>\n",
       "      <td>0.2393</td>\n",
       "      <td>0.2155</td>\n",
       "      <td>0.0000</td>\n",
       "      <td>0.0000</td>\n",
       "      <td>0.0000</td>\n",
       "      <td>0.0242</td>\n",
       "    </tr>\n",
       "  </tbody>\n",
       "</table>\n",
       "</div>"
      ],
      "text/plain": [
       "                                                      Return  Volatility  \\\n",
       "Fund Name                                                                  \n",
       "ARK Innovation ETF                                  0.424166    0.429980   \n",
       "ARK Next Generation Internet ETF                    0.476103    0.393839   \n",
       "iShares Global Clean Energy ETF                     0.390705    0.377971   \n",
       "FlexShares Morningstar Global Upstream Natural ...  0.141864    0.295510   \n",
       "ARK Fintech Innovation ETF                          0.401354    0.340954   \n",
       "\n",
       "                                                    Real Estate  \\\n",
       "Fund Name                                                         \n",
       "ARK Innovation ETF                                       0.0133   \n",
       "ARK Next Generation Internet ETF                         0.0326   \n",
       "iShares Global Clean Energy ETF                          0.0000   \n",
       "FlexShares Morningstar Global Upstream Natural ...       0.0135   \n",
       "ARK Fintech Innovation ETF                               0.0352   \n",
       "\n",
       "                                                    Consumer Discretionary  \\\n",
       "Fund Name                                                                    \n",
       "ARK Innovation ETF                                                  0.1167   \n",
       "ARK Next Generation Internet ETF                                    0.1880   \n",
       "iShares Global Clean Energy ETF                                     0.0000   \n",
       "FlexShares Morningstar Global Upstream Natural ...                  0.0000   \n",
       "ARK Fintech Innovation ETF                                          0.1446   \n",
       "\n",
       "                                                    Materials  \\\n",
       "Fund Name                                                       \n",
       "ARK Innovation ETF                                     0.0000   \n",
       "ARK Next Generation Internet ETF                       0.0000   \n",
       "iShares Global Clean Energy ETF                        0.0106   \n",
       "FlexShares Morningstar Global Upstream Natural ...     0.5034   \n",
       "ARK Fintech Innovation ETF                             0.0000   \n",
       "\n",
       "                                                    Consumer Staples  \\\n",
       "Fund Name                                                              \n",
       "ARK Innovation ETF                                            0.0110   \n",
       "ARK Next Generation Internet ETF                              0.0094   \n",
       "iShares Global Clean Energy ETF                               0.0000   \n",
       "FlexShares Morningstar Global Upstream Natural ...            0.1543   \n",
       "ARK Fintech Innovation ETF                                    0.0000   \n",
       "\n",
       "                                                    Information Technology  \\\n",
       "Fund Name                                                                    \n",
       "ARK Innovation ETF                                                  0.2294   \n",
       "ARK Next Generation Internet ETF                                    0.3208   \n",
       "iShares Global Clean Energy ETF                                     0.1966   \n",
       "FlexShares Morningstar Global Upstream Natural ...                  0.0000   \n",
       "ARK Fintech Innovation ETF                                          0.3411   \n",
       "\n",
       "                                                    Communication Services  \\\n",
       "Fund Name                                                                    \n",
       "ARK Innovation ETF                                                  0.2945   \n",
       "ARK Next Generation Internet ETF                                    0.3168   \n",
       "iShares Global Clean Energy ETF                                     0.0000   \n",
       "FlexShares Morningstar Global Upstream Natural ...                  0.0000   \n",
       "ARK Fintech Innovation ETF                                          0.2393   \n",
       "\n",
       "                                                    Financials  Utilities  \\\n",
       "Fund Name                                                                   \n",
       "ARK Innovation ETF                                      0.0221     0.0000   \n",
       "ARK Next Generation Internet ETF                        0.0748     0.0000   \n",
       "iShares Global Clean Energy ETF                         0.0000     0.5608   \n",
       "FlexShares Morningstar Global Upstream Natural ...      0.0005     0.0457   \n",
       "ARK Fintech Innovation ETF                              0.2155     0.0000   \n",
       "\n",
       "                                                    Industrials  Energy  \\\n",
       "Fund Name                                                                 \n",
       "ARK Innovation ETF                                       0.0204  0.0000   \n",
       "ARK Next Generation Internet ETF                         0.0000  0.0000   \n",
       "iShares Global Clean Energy ETF                          0.2250  0.0070   \n",
       "FlexShares Morningstar Global Upstream Natural ...       0.0085  0.2741   \n",
       "ARK Fintech Innovation ETF                               0.0000  0.0000   \n",
       "\n",
       "                                                    Health Care  \n",
       "Fund Name                                                        \n",
       "ARK Innovation ETF                                       0.2927  \n",
       "ARK Next Generation Internet ETF                         0.0576  \n",
       "iShares Global Clean Energy ETF                          0.0000  \n",
       "FlexShares Morningstar Global Upstream Natural ...       0.0000  \n",
       "ARK Fintech Innovation ETF                               0.0242  "
      ]
     },
     "execution_count": 24,
     "metadata": {},
     "output_type": "execute_result"
    }
   ],
   "source": [
    "# display the first five rows of the dataset\n",
    "dataset_final.head()"
   ]
  },
  {
   "cell_type": "code",
   "execution_count": 25,
   "id": "separate-reviewer",
   "metadata": {},
   "outputs": [
    {
     "data": {
      "text/html": [
       "<div>\n",
       "<style scoped>\n",
       "    .dataframe tbody tr th:only-of-type {\n",
       "        vertical-align: middle;\n",
       "    }\n",
       "\n",
       "    .dataframe tbody tr th {\n",
       "        vertical-align: top;\n",
       "    }\n",
       "\n",
       "    .dataframe thead th {\n",
       "        text-align: right;\n",
       "    }\n",
       "</style>\n",
       "<table border=\"1\" class=\"dataframe\">\n",
       "  <thead>\n",
       "    <tr style=\"text-align: right;\">\n",
       "      <th></th>\n",
       "      <th>Return</th>\n",
       "      <th>Volatility</th>\n",
       "      <th>Real Estate</th>\n",
       "      <th>Consumer Discretionary</th>\n",
       "      <th>Materials</th>\n",
       "      <th>Consumer Staples</th>\n",
       "      <th>Information Technology</th>\n",
       "      <th>Communication Services</th>\n",
       "      <th>Financials</th>\n",
       "      <th>Utilities</th>\n",
       "      <th>Industrials</th>\n",
       "      <th>Energy</th>\n",
       "      <th>Health Care</th>\n",
       "    </tr>\n",
       "  </thead>\n",
       "  <tbody>\n",
       "    <tr>\n",
       "      <th>count</th>\n",
       "      <td>89.000000</td>\n",
       "      <td>89.000000</td>\n",
       "      <td>89.000000</td>\n",
       "      <td>89.000000</td>\n",
       "      <td>89.000000</td>\n",
       "      <td>89.000000</td>\n",
       "      <td>89.000000</td>\n",
       "      <td>89.000000</td>\n",
       "      <td>89.000000</td>\n",
       "      <td>89.000000</td>\n",
       "      <td>89.000000</td>\n",
       "      <td>89.000000</td>\n",
       "      <td>89.000000</td>\n",
       "    </tr>\n",
       "    <tr>\n",
       "      <th>mean</th>\n",
       "      <td>0.245428</td>\n",
       "      <td>0.318821</td>\n",
       "      <td>0.024197</td>\n",
       "      <td>0.105833</td>\n",
       "      <td>0.094169</td>\n",
       "      <td>0.041090</td>\n",
       "      <td>0.224549</td>\n",
       "      <td>0.074581</td>\n",
       "      <td>0.036721</td>\n",
       "      <td>0.100458</td>\n",
       "      <td>0.186128</td>\n",
       "      <td>0.052563</td>\n",
       "      <td>0.057957</td>\n",
       "    </tr>\n",
       "    <tr>\n",
       "      <th>std</th>\n",
       "      <td>0.136423</td>\n",
       "      <td>0.086153</td>\n",
       "      <td>0.079511</td>\n",
       "      <td>0.154984</td>\n",
       "      <td>0.164688</td>\n",
       "      <td>0.095168</td>\n",
       "      <td>0.256215</td>\n",
       "      <td>0.169129</td>\n",
       "      <td>0.092800</td>\n",
       "      <td>0.189447</td>\n",
       "      <td>0.197897</td>\n",
       "      <td>0.130109</td>\n",
       "      <td>0.148436</td>\n",
       "    </tr>\n",
       "    <tr>\n",
       "      <th>min</th>\n",
       "      <td>-0.219544</td>\n",
       "      <td>0.182013</td>\n",
       "      <td>0.000000</td>\n",
       "      <td>0.000000</td>\n",
       "      <td>0.000000</td>\n",
       "      <td>0.000000</td>\n",
       "      <td>0.000000</td>\n",
       "      <td>0.000000</td>\n",
       "      <td>0.000000</td>\n",
       "      <td>0.000000</td>\n",
       "      <td>0.000000</td>\n",
       "      <td>0.000000</td>\n",
       "      <td>0.000000</td>\n",
       "    </tr>\n",
       "    <tr>\n",
       "      <th>25%</th>\n",
       "      <td>0.172213</td>\n",
       "      <td>0.273782</td>\n",
       "      <td>0.000000</td>\n",
       "      <td>0.000000</td>\n",
       "      <td>0.000000</td>\n",
       "      <td>0.000000</td>\n",
       "      <td>0.000000</td>\n",
       "      <td>0.000000</td>\n",
       "      <td>0.000000</td>\n",
       "      <td>0.000000</td>\n",
       "      <td>0.010200</td>\n",
       "      <td>0.000000</td>\n",
       "      <td>0.000000</td>\n",
       "    </tr>\n",
       "    <tr>\n",
       "      <th>50%</th>\n",
       "      <td>0.229112</td>\n",
       "      <td>0.296295</td>\n",
       "      <td>0.000000</td>\n",
       "      <td>0.036500</td>\n",
       "      <td>0.010500</td>\n",
       "      <td>0.000000</td>\n",
       "      <td>0.158600</td>\n",
       "      <td>0.000000</td>\n",
       "      <td>0.000000</td>\n",
       "      <td>0.000000</td>\n",
       "      <td>0.131900</td>\n",
       "      <td>0.000000</td>\n",
       "      <td>0.000000</td>\n",
       "    </tr>\n",
       "    <tr>\n",
       "      <th>75%</th>\n",
       "      <td>0.336411</td>\n",
       "      <td>0.340954</td>\n",
       "      <td>0.008100</td>\n",
       "      <td>0.134000</td>\n",
       "      <td>0.088600</td>\n",
       "      <td>0.029700</td>\n",
       "      <td>0.363900</td>\n",
       "      <td>0.071100</td>\n",
       "      <td>0.003400</td>\n",
       "      <td>0.093800</td>\n",
       "      <td>0.322200</td>\n",
       "      <td>0.023500</td>\n",
       "      <td>0.042200</td>\n",
       "    </tr>\n",
       "    <tr>\n",
       "      <th>max</th>\n",
       "      <td>0.537810</td>\n",
       "      <td>0.864715</td>\n",
       "      <td>0.643000</td>\n",
       "      <td>0.714100</td>\n",
       "      <td>0.591500</td>\n",
       "      <td>0.571900</td>\n",
       "      <td>0.929500</td>\n",
       "      <td>0.995100</td>\n",
       "      <td>0.432900</td>\n",
       "      <td>0.924800</td>\n",
       "      <td>0.745600</td>\n",
       "      <td>0.700800</td>\n",
       "      <td>0.948000</td>\n",
       "    </tr>\n",
       "  </tbody>\n",
       "</table>\n",
       "</div>"
      ],
      "text/plain": [
       "          Return  Volatility  Real Estate  Consumer Discretionary  Materials  \\\n",
       "count  89.000000   89.000000    89.000000               89.000000  89.000000   \n",
       "mean    0.245428    0.318821     0.024197                0.105833   0.094169   \n",
       "std     0.136423    0.086153     0.079511                0.154984   0.164688   \n",
       "min    -0.219544    0.182013     0.000000                0.000000   0.000000   \n",
       "25%     0.172213    0.273782     0.000000                0.000000   0.000000   \n",
       "50%     0.229112    0.296295     0.000000                0.036500   0.010500   \n",
       "75%     0.336411    0.340954     0.008100                0.134000   0.088600   \n",
       "max     0.537810    0.864715     0.643000                0.714100   0.591500   \n",
       "\n",
       "       Consumer Staples  Information Technology  Communication Services  \\\n",
       "count         89.000000               89.000000               89.000000   \n",
       "mean           0.041090                0.224549                0.074581   \n",
       "std            0.095168                0.256215                0.169129   \n",
       "min            0.000000                0.000000                0.000000   \n",
       "25%            0.000000                0.000000                0.000000   \n",
       "50%            0.000000                0.158600                0.000000   \n",
       "75%            0.029700                0.363900                0.071100   \n",
       "max            0.571900                0.929500                0.995100   \n",
       "\n",
       "       Financials  Utilities  Industrials     Energy  Health Care  \n",
       "count   89.000000  89.000000    89.000000  89.000000    89.000000  \n",
       "mean     0.036721   0.100458     0.186128   0.052563     0.057957  \n",
       "std      0.092800   0.189447     0.197897   0.130109     0.148436  \n",
       "min      0.000000   0.000000     0.000000   0.000000     0.000000  \n",
       "25%      0.000000   0.000000     0.010200   0.000000     0.000000  \n",
       "50%      0.000000   0.000000     0.131900   0.000000     0.000000  \n",
       "75%      0.003400   0.093800     0.322200   0.023500     0.042200  \n",
       "max      0.432900   0.924800     0.745600   0.700800     0.948000  "
      ]
     },
     "execution_count": 25,
     "metadata": {},
     "output_type": "execute_result"
    }
   ],
   "source": [
    "# describe the data\n",
    "dataset_final.describe()"
   ]
  },
  {
   "cell_type": "markdown",
   "id": "familiar-turning",
   "metadata": {},
   "source": [
    "# Data transformation"
   ]
  },
  {
   "cell_type": "markdown",
   "id": "occupied-toolbox",
   "metadata": {},
   "source": [
    "K Means Clustering aims to group data points (ETFs) into clusters. Each of these clusters will have a center, and each of the data points is associated with the center that is closest to it. Mathematically, we want to minimize the distance of individual data point to its closet center. Using Euclidean distance, the distance can be calculated as:\n",
    "\n",
    "$$\\mbox{Distance}^{(n,k)} = \\sqrt{\\sum_{m=1}^{M}(x^n_m-c^k_m)^2}$$\n",
    "\n",
    ", where:\n",
    "\n",
    "\n",
    "* $x^n = n$th data point for $n = 1$ to $N$\n",
    "* $c^k = k$th center for $k = 1$ to $K$\n",
    "* $m = m$th feature for $m = 1$ to $M$"
   ]
  },
  {
   "cell_type": "markdown",
   "id": "premium-screen",
   "metadata": {},
   "source": [
    "Each data point $n$ is then associated with the nearest center:\n",
    "\n",
    "$$\\underset{k}{\\mbox{argmin}}\\mbox{Distance}^{(n, k)}$$"
   ]
  },
  {
   "cell_type": "markdown",
   "id": "brown-briefing",
   "metadata": {},
   "source": [
    "Given that K Means Clustering uses distance to identify similar points for clustering, it does not work well when the scales across features are widely different, or with higher dimension data like the 13 variables we have here. Therefore, feature scaling and dimension reduction should be explored."
   ]
  },
  {
   "cell_type": "markdown",
   "id": "guilty-affiliate",
   "metadata": {},
   "source": [
    "## Feature scaling"
   ]
  },
  {
   "cell_type": "markdown",
   "id": "junior-thanksgiving",
   "metadata": {},
   "source": [
    "The idea of feature scaling is to make sure that features are on a similar scale. Here, I use StandardScaler, which is calculated as:"
   ]
  },
  {
   "cell_type": "markdown",
   "id": "missing-growth",
   "metadata": {},
   "source": [
    "$$x_\\mbox{i_scaled} =\\frac{x_i-\\bar{x}}{\\sigma}$$\n",
    "\n",
    ", where:\n",
    "* $x_i$ is the $i$th data point of the feature\n",
    "* $\\bar{x}$ is the mean\n",
    "* $\\sigma$ is the standard deviation.\n",
    "\n",
    "It rescales the features to be approximately standard normally distributed. The data is transformed to have a mean of 0 and a standard deviation of 1.\n",
    "After rescaling, we can see the mean and standard deviation of each feature are close to 0 and 1, respectively."
   ]
  },
  {
   "cell_type": "code",
   "execution_count": 26,
   "id": "above-initial",
   "metadata": {},
   "outputs": [],
   "source": [
    "# scale the dataset\n",
    "from sklearn.preprocessing import StandardScaler\n",
    "scaler = StandardScaler()\n",
    "scaler.fit(dataset_final)\n",
    "dataset_scaled = scaler.transform(dataset_final)"
   ]
  },
  {
   "cell_type": "code",
   "execution_count": 27,
   "id": "looking-signature",
   "metadata": {},
   "outputs": [
    {
     "data": {
      "text/html": [
       "<div>\n",
       "<style scoped>\n",
       "    .dataframe tbody tr th:only-of-type {\n",
       "        vertical-align: middle;\n",
       "    }\n",
       "\n",
       "    .dataframe tbody tr th {\n",
       "        vertical-align: top;\n",
       "    }\n",
       "\n",
       "    .dataframe thead th {\n",
       "        text-align: right;\n",
       "    }\n",
       "</style>\n",
       "<table border=\"1\" class=\"dataframe\">\n",
       "  <thead>\n",
       "    <tr style=\"text-align: right;\">\n",
       "      <th></th>\n",
       "      <th>Return</th>\n",
       "      <th>Volatility</th>\n",
       "      <th>Real Estate</th>\n",
       "      <th>Consumer Discretionary</th>\n",
       "      <th>Materials</th>\n",
       "      <th>Consumer Staples</th>\n",
       "      <th>Information Technology</th>\n",
       "      <th>Communication Services</th>\n",
       "      <th>Financials</th>\n",
       "      <th>Utilities</th>\n",
       "      <th>Industrials</th>\n",
       "      <th>Energy</th>\n",
       "      <th>Health Care</th>\n",
       "    </tr>\n",
       "  </thead>\n",
       "  <tbody>\n",
       "    <tr>\n",
       "      <th>count</th>\n",
       "      <td>8.900000e+01</td>\n",
       "      <td>8.900000e+01</td>\n",
       "      <td>8.900000e+01</td>\n",
       "      <td>8.900000e+01</td>\n",
       "      <td>8.900000e+01</td>\n",
       "      <td>8.900000e+01</td>\n",
       "      <td>8.900000e+01</td>\n",
       "      <td>8.900000e+01</td>\n",
       "      <td>8.900000e+01</td>\n",
       "      <td>8.900000e+01</td>\n",
       "      <td>8.900000e+01</td>\n",
       "      <td>8.900000e+01</td>\n",
       "      <td>8.900000e+01</td>\n",
       "    </tr>\n",
       "    <tr>\n",
       "      <th>mean</th>\n",
       "      <td>2.869116e-17</td>\n",
       "      <td>3.156027e-16</td>\n",
       "      <td>-1.871162e-17</td>\n",
       "      <td>-9.979533e-17</td>\n",
       "      <td>9.979533e-18</td>\n",
       "      <td>-8.607347e-17</td>\n",
       "      <td>-5.987720e-17</td>\n",
       "      <td>-2.681999e-17</td>\n",
       "      <td>2.494883e-17</td>\n",
       "      <td>-6.237208e-17</td>\n",
       "      <td>-2.058279e-16</td>\n",
       "      <td>6.860929e-18</td>\n",
       "      <td>5.613487e-18</td>\n",
       "    </tr>\n",
       "    <tr>\n",
       "      <th>std</th>\n",
       "      <td>1.005666e+00</td>\n",
       "      <td>1.005666e+00</td>\n",
       "      <td>1.005666e+00</td>\n",
       "      <td>1.005666e+00</td>\n",
       "      <td>1.005666e+00</td>\n",
       "      <td>1.005666e+00</td>\n",
       "      <td>1.005666e+00</td>\n",
       "      <td>1.005666e+00</td>\n",
       "      <td>1.005666e+00</td>\n",
       "      <td>1.005666e+00</td>\n",
       "      <td>1.005666e+00</td>\n",
       "      <td>1.005666e+00</td>\n",
       "      <td>1.005666e+00</td>\n",
       "    </tr>\n",
       "    <tr>\n",
       "      <th>min</th>\n",
       "      <td>-3.427618e+00</td>\n",
       "      <td>-1.596960e+00</td>\n",
       "      <td>-3.060410e-01</td>\n",
       "      <td>-6.867296e-01</td>\n",
       "      <td>-5.750386e-01</td>\n",
       "      <td>-4.342066e-01</td>\n",
       "      <td>-8.813756e-01</td>\n",
       "      <td>-4.434702e-01</td>\n",
       "      <td>-3.979465e-01</td>\n",
       "      <td>-5.332776e-01</td>\n",
       "      <td>-9.458570e-01</td>\n",
       "      <td>-4.062806e-01</td>\n",
       "      <td>-3.926661e-01</td>\n",
       "    </tr>\n",
       "    <tr>\n",
       "      <th>25%</th>\n",
       "      <td>-5.397113e-01</td>\n",
       "      <td>-5.257396e-01</td>\n",
       "      <td>-3.060410e-01</td>\n",
       "      <td>-6.867296e-01</td>\n",
       "      <td>-5.750386e-01</td>\n",
       "      <td>-4.342066e-01</td>\n",
       "      <td>-8.813756e-01</td>\n",
       "      <td>-4.434702e-01</td>\n",
       "      <td>-3.979465e-01</td>\n",
       "      <td>-5.332776e-01</td>\n",
       "      <td>-8.940231e-01</td>\n",
       "      <td>-4.062806e-01</td>\n",
       "      <td>-3.926661e-01</td>\n",
       "    </tr>\n",
       "    <tr>\n",
       "      <th>50%</th>\n",
       "      <td>-1.202709e-01</td>\n",
       "      <td>-2.629406e-01</td>\n",
       "      <td>-3.060410e-01</td>\n",
       "      <td>-4.498874e-01</td>\n",
       "      <td>-5.109205e-01</td>\n",
       "      <td>-4.342066e-01</td>\n",
       "      <td>-2.588571e-01</td>\n",
       "      <td>-4.434702e-01</td>\n",
       "      <td>-3.979465e-01</td>\n",
       "      <td>-5.332776e-01</td>\n",
       "      <td>-2.755738e-01</td>\n",
       "      <td>-4.062806e-01</td>\n",
       "      <td>-3.926661e-01</td>\n",
       "    </tr>\n",
       "    <tr>\n",
       "      <th>75%</th>\n",
       "      <td>6.706991e-01</td>\n",
       "      <td>2.583630e-01</td>\n",
       "      <td>-2.035915e-01</td>\n",
       "      <td>1.827736e-01</td>\n",
       "      <td>-3.400423e-02</td>\n",
       "      <td>-1.203597e-01</td>\n",
       "      <td>5.469628e-01</td>\n",
       "      <td>-2.069797e-02</td>\n",
       "      <td>-3.611009e-01</td>\n",
       "      <td>-3.534587e-02</td>\n",
       "      <td>6.914839e-01</td>\n",
       "      <td>-2.246394e-01</td>\n",
       "      <td>-1.067572e-01</td>\n",
       "    </tr>\n",
       "    <tr>\n",
       "      <th>max</th>\n",
       "      <td>2.155348e+00</td>\n",
       "      <td>6.372238e+00</td>\n",
       "      <td>7.826677e+00</td>\n",
       "      <td>3.946944e+00</td>\n",
       "      <td>3.036946e+00</td>\n",
       "      <td>5.609197e+00</td>\n",
       "      <td>2.766991e+00</td>\n",
       "      <td>5.473557e+00</td>\n",
       "      <td>4.293358e+00</td>\n",
       "      <td>4.375968e+00</td>\n",
       "      <td>2.843098e+00</td>\n",
       "      <td>5.010493e+00</td>\n",
       "      <td>6.030121e+00</td>\n",
       "    </tr>\n",
       "  </tbody>\n",
       "</table>\n",
       "</div>"
      ],
      "text/plain": [
       "             Return    Volatility   Real Estate  Consumer Discretionary  \\\n",
       "count  8.900000e+01  8.900000e+01  8.900000e+01            8.900000e+01   \n",
       "mean   2.869116e-17  3.156027e-16 -1.871162e-17           -9.979533e-17   \n",
       "std    1.005666e+00  1.005666e+00  1.005666e+00            1.005666e+00   \n",
       "min   -3.427618e+00 -1.596960e+00 -3.060410e-01           -6.867296e-01   \n",
       "25%   -5.397113e-01 -5.257396e-01 -3.060410e-01           -6.867296e-01   \n",
       "50%   -1.202709e-01 -2.629406e-01 -3.060410e-01           -4.498874e-01   \n",
       "75%    6.706991e-01  2.583630e-01 -2.035915e-01            1.827736e-01   \n",
       "max    2.155348e+00  6.372238e+00  7.826677e+00            3.946944e+00   \n",
       "\n",
       "          Materials  Consumer Staples  Information Technology  \\\n",
       "count  8.900000e+01      8.900000e+01            8.900000e+01   \n",
       "mean   9.979533e-18     -8.607347e-17           -5.987720e-17   \n",
       "std    1.005666e+00      1.005666e+00            1.005666e+00   \n",
       "min   -5.750386e-01     -4.342066e-01           -8.813756e-01   \n",
       "25%   -5.750386e-01     -4.342066e-01           -8.813756e-01   \n",
       "50%   -5.109205e-01     -4.342066e-01           -2.588571e-01   \n",
       "75%   -3.400423e-02     -1.203597e-01            5.469628e-01   \n",
       "max    3.036946e+00      5.609197e+00            2.766991e+00   \n",
       "\n",
       "       Communication Services    Financials     Utilities   Industrials  \\\n",
       "count            8.900000e+01  8.900000e+01  8.900000e+01  8.900000e+01   \n",
       "mean            -2.681999e-17  2.494883e-17 -6.237208e-17 -2.058279e-16   \n",
       "std              1.005666e+00  1.005666e+00  1.005666e+00  1.005666e+00   \n",
       "min             -4.434702e-01 -3.979465e-01 -5.332776e-01 -9.458570e-01   \n",
       "25%             -4.434702e-01 -3.979465e-01 -5.332776e-01 -8.940231e-01   \n",
       "50%             -4.434702e-01 -3.979465e-01 -5.332776e-01 -2.755738e-01   \n",
       "75%             -2.069797e-02 -3.611009e-01 -3.534587e-02  6.914839e-01   \n",
       "max              5.473557e+00  4.293358e+00  4.375968e+00  2.843098e+00   \n",
       "\n",
       "             Energy   Health Care  \n",
       "count  8.900000e+01  8.900000e+01  \n",
       "mean   6.860929e-18  5.613487e-18  \n",
       "std    1.005666e+00  1.005666e+00  \n",
       "min   -4.062806e-01 -3.926661e-01  \n",
       "25%   -4.062806e-01 -3.926661e-01  \n",
       "50%   -4.062806e-01 -3.926661e-01  \n",
       "75%   -2.246394e-01 -1.067572e-01  \n",
       "max    5.010493e+00  6.030121e+00  "
      ]
     },
     "execution_count": 27,
     "metadata": {},
     "output_type": "execute_result"
    }
   ],
   "source": [
    "# describe the scaled dataset\n",
    "data=pd.DataFrame(dataset_scaled, columns = dataset_final.columns, index=dataset_final.index)\n",
    "data.describe()"
   ]
  },
  {
   "cell_type": "markdown",
   "id": "armed-shakespeare",
   "metadata": {},
   "source": [
    "## Dimension reduction"
   ]
  },
  {
   "cell_type": "markdown",
   "id": "sufficient-production",
   "metadata": {},
   "source": [
    "Principal Component Analysis (PCA) is a dimensionality-reduction method that transforms a large set of variables into a smaller one that still contains most of the information in the large set. Mathematically, for a dataset $X$ with $M$ features, we want to find a sequence of $P$ orthogonal unit vectors $\\alpha_p$, for $p = 1$ to $P$, that can explain as much as possible of the variance in the data:\n",
    "\n",
    "1. Taking linear combinations of the M original variables: $X\\alpha_p$, for $p = 1$ to $P$, where $\\alpha_p$ is an $M\\times 1$ column vector \n",
    "2. Each of these linear combinations explains as much as possible of the variance in the data: $\\underset{\\alpha_p}{\\mbox{max}}V_p$, where $V_p = \\mathbb{V}(X\\alpha_p)$, with $V_i \\geq V_j$ if $i<j$.\n",
    "3. Each linear combination has unit length: $\\alpha_p^{\\mbox{T}}\\alpha_p = 1$ $\\forall p$\n",
    "4. Each linear combination is uncorrelated with all the others: $\\alpha_i^{\\mbox{T}}\\alpha_j = 0$ $\\forall i\\neq j$.\n"
   ]
  },
  {
   "cell_type": "markdown",
   "id": "bibliographic-unemployment",
   "metadata": {},
   "source": [
    "As an example, assuming we want to conduct a PCA with 2 components, i.e. $P = 2$. We start by focusing on the first linear combination with maximum variance. This is a constrained optimization problem where our goal is:"
   ]
  },
  {
   "cell_type": "markdown",
   "id": "indonesian-password",
   "metadata": {},
   "source": [
    "$$\\underset{\\alpha_1}{\\mbox{max}}\\mathbb{V}(X\\alpha_1)  \\qquad \\mbox{  s.t.  }\\qquad \\alpha_1^{\\mbox{T}}\\alpha_1 = 1$$\n",
    "\n",
    "<center>, where $\\alpha_1$ is an $M\\times 1$ column vector</center>\n"
   ]
  },
  {
   "cell_type": "markdown",
   "id": "exterior-peter",
   "metadata": {},
   "source": [
    "The Lagrangian is:"
   ]
  },
  {
   "cell_type": "markdown",
   "id": "figured-timing",
   "metadata": {},
   "source": [
    "$$ L = (X\\alpha_1)^{\\mbox{T}}X\\alpha_1 - \\lambda_1(\\alpha_1^{\\mbox{T}}\\alpha_1-1)$$\n",
    "$$ = \\alpha_1^{\\mbox{T}}\\Sigma\\alpha_1 - \\lambda_1(\\alpha_1^{\\mbox{T}}\\alpha_1-1)$$\n",
    "\n",
    "<center>, where $\\Sigma$ is the variance matrix </center> "
   ]
  },
  {
   "cell_type": "markdown",
   "id": "urban-switch",
   "metadata": {},
   "source": [
    "Take the first derivative and set to zero:\n",
    "\n",
    "$$\\frac{\\partial L}{\\partial \\alpha_1} = \\Sigma\\alpha_1 - \\lambda_1\\alpha_1 = 0 \\rightarrow (\\Sigma - \\lambda_1I_M)\\alpha_1 = 0$$\n",
    "\n",
    "<center>, where $I_M$ is an identity matrix of size $M$ </center>"
   ]
  },
  {
   "cell_type": "markdown",
   "id": "million-photographer",
   "metadata": {},
   "source": [
    "Recall our goal is to maximize $\\mathbb{V}(X\\alpha_1)$. This is equal to maximizing $\\lambda_1$ because:"
   ]
  },
  {
   "cell_type": "markdown",
   "id": "alternative-disclaimer",
   "metadata": {},
   "source": [
    "$$\\mathbb{V}(X\\alpha_1)=\\alpha_1^{\\mbox{T}}\\Sigma\\alpha_1 = \\lambda_1\\alpha_1^{\\mbox{T}}\\alpha_1 = \\lambda_1$$"
   ]
  },
  {
   "cell_type": "markdown",
   "id": "industrial-document",
   "metadata": {},
   "source": [
    "Therefore, $\\lambda_1$ = largest eigenvalue, $\\alpha_1$ = corresponding eigenvector.  "
   ]
  },
  {
   "cell_type": "markdown",
   "id": "bottom-number",
   "metadata": {},
   "source": [
    "To find the second linear combination, we need to take a further constraint into account:"
   ]
  },
  {
   "cell_type": "markdown",
   "id": "designed-windows",
   "metadata": {},
   "source": [
    "$$\\underset{\\alpha_2}{\\mbox{max}}\\mathbb{V}(X\\alpha_2)  \\qquad \\mbox{  s.t.  }\\qquad \\alpha_2^{\\mbox{T}}\\alpha_2 = 1 \\mbox{ and } \\alpha_2^{\\mbox{T}}\\alpha_1=0$$"
   ]
  },
  {
   "cell_type": "markdown",
   "id": "dying-dubai",
   "metadata": {},
   "source": [
    "The Lagrangian is:\n",
    "\n",
    "$$ L = (X\\alpha_2)^{\\mbox{T}}X\\alpha_2 - \\lambda_2(\\alpha_2^{\\mbox{T}}\\alpha_2-1)-\\theta\\alpha_2^{\\mbox{T}}\\alpha_1$$\n",
    "$$ = \\alpha_2^{\\mbox{T}}\\Sigma\\alpha_2 - \\lambda_2(\\alpha_2^{\\mbox{T}}\\alpha_2-1)-\\theta\\alpha_2^{\\mbox{T}}\\alpha_1$$"
   ]
  },
  {
   "cell_type": "markdown",
   "id": "floppy-gossip",
   "metadata": {},
   "source": [
    "Take the first derivative and set to zero:\n",
    "\n",
    "$$\\frac{\\partial L}{\\partial \\alpha_2} = \\Sigma\\alpha_2 - \\lambda_2\\alpha_2 - \\theta_2\\alpha_1 = 0$$ \n",
    "$$\\rightarrow\\alpha_1^{\\mbox{T}}\\Sigma\\alpha_2 - \\lambda_2\\alpha_1^{\\mbox{T}}\\alpha_2 - \\theta_2\\alpha_1^{\\mbox{T}}\\alpha_1 = 0$$\n",
    "$$\\rightarrow 0 + 0 + \\theta_2\\times 1 = 0$$\n",
    "$$\\rightarrow \\theta = 0$$\n",
    "\n",
    "Therefore,\n",
    "$$(\\Sigma - \\lambda_2I_M)\\alpha_2 = 0$$\n",
    "\n",
    "$\\lambda_2$ = second largest eigenvalue, $\\alpha_2$ = corresponding eigenvector.  \n"
   ]
  },
  {
   "cell_type": "markdown",
   "id": "advised-translation",
   "metadata": {},
   "source": [
    "From the PCA performed on the thematic ETF dataset below, we can see as the number of components goes up, the better the variance can be explained. "
   ]
  },
  {
   "cell_type": "code",
   "execution_count": 28,
   "id": "foreign-stand",
   "metadata": {},
   "outputs": [
    {
     "data": {
      "application/vnd.plotly.v1+json": {
       "config": {
        "linkText": "Export to plot.ly",
        "plotlyServerURL": "https://plot.ly",
        "showLink": true
       },
       "data": [
        {
         "line": {
          "color": "rgba(255, 153, 51, 1.0)",
          "dash": "solid",
          "shape": "linear",
          "width": 1.3
         },
         "mode": "lines",
         "name": "0",
         "text": "",
         "type": "scatter",
         "x": [
          1,
          2,
          3,
          4,
          5,
          6,
          7,
          8,
          9,
          10,
          11,
          12,
          13
         ],
         "y": [
          0.19120564044949465,
          0.34041535685572916,
          0.452055267032996,
          0.5492352900627298,
          0.6433811570441554,
          0.7252667845165442,
          0.7923132684154182,
          0.8500952076529161,
          0.8989935867962916,
          0.9389764264393733,
          0.9743219204463084,
          0.9999806404290901,
          1
         ]
        }
       ],
       "layout": {
        "legend": {
         "bgcolor": "#F5F6F9",
         "font": {
          "color": "#4D5663"
         }
        },
        "paper_bgcolor": "#F5F6F9",
        "plot_bgcolor": "#F5F6F9",
        "template": {
         "data": {
          "bar": [
           {
            "error_x": {
             "color": "#2a3f5f"
            },
            "error_y": {
             "color": "#2a3f5f"
            },
            "marker": {
             "line": {
              "color": "#E5ECF6",
              "width": 0.5
             }
            },
            "type": "bar"
           }
          ],
          "barpolar": [
           {
            "marker": {
             "line": {
              "color": "#E5ECF6",
              "width": 0.5
             }
            },
            "type": "barpolar"
           }
          ],
          "carpet": [
           {
            "aaxis": {
             "endlinecolor": "#2a3f5f",
             "gridcolor": "white",
             "linecolor": "white",
             "minorgridcolor": "white",
             "startlinecolor": "#2a3f5f"
            },
            "baxis": {
             "endlinecolor": "#2a3f5f",
             "gridcolor": "white",
             "linecolor": "white",
             "minorgridcolor": "white",
             "startlinecolor": "#2a3f5f"
            },
            "type": "carpet"
           }
          ],
          "choropleth": [
           {
            "colorbar": {
             "outlinewidth": 0,
             "ticks": ""
            },
            "type": "choropleth"
           }
          ],
          "contour": [
           {
            "colorbar": {
             "outlinewidth": 0,
             "ticks": ""
            },
            "colorscale": [
             [
              0,
              "#0d0887"
             ],
             [
              0.1111111111111111,
              "#46039f"
             ],
             [
              0.2222222222222222,
              "#7201a8"
             ],
             [
              0.3333333333333333,
              "#9c179e"
             ],
             [
              0.4444444444444444,
              "#bd3786"
             ],
             [
              0.5555555555555556,
              "#d8576b"
             ],
             [
              0.6666666666666666,
              "#ed7953"
             ],
             [
              0.7777777777777778,
              "#fb9f3a"
             ],
             [
              0.8888888888888888,
              "#fdca26"
             ],
             [
              1,
              "#f0f921"
             ]
            ],
            "type": "contour"
           }
          ],
          "contourcarpet": [
           {
            "colorbar": {
             "outlinewidth": 0,
             "ticks": ""
            },
            "type": "contourcarpet"
           }
          ],
          "heatmap": [
           {
            "colorbar": {
             "outlinewidth": 0,
             "ticks": ""
            },
            "colorscale": [
             [
              0,
              "#0d0887"
             ],
             [
              0.1111111111111111,
              "#46039f"
             ],
             [
              0.2222222222222222,
              "#7201a8"
             ],
             [
              0.3333333333333333,
              "#9c179e"
             ],
             [
              0.4444444444444444,
              "#bd3786"
             ],
             [
              0.5555555555555556,
              "#d8576b"
             ],
             [
              0.6666666666666666,
              "#ed7953"
             ],
             [
              0.7777777777777778,
              "#fb9f3a"
             ],
             [
              0.8888888888888888,
              "#fdca26"
             ],
             [
              1,
              "#f0f921"
             ]
            ],
            "type": "heatmap"
           }
          ],
          "heatmapgl": [
           {
            "colorbar": {
             "outlinewidth": 0,
             "ticks": ""
            },
            "colorscale": [
             [
              0,
              "#0d0887"
             ],
             [
              0.1111111111111111,
              "#46039f"
             ],
             [
              0.2222222222222222,
              "#7201a8"
             ],
             [
              0.3333333333333333,
              "#9c179e"
             ],
             [
              0.4444444444444444,
              "#bd3786"
             ],
             [
              0.5555555555555556,
              "#d8576b"
             ],
             [
              0.6666666666666666,
              "#ed7953"
             ],
             [
              0.7777777777777778,
              "#fb9f3a"
             ],
             [
              0.8888888888888888,
              "#fdca26"
             ],
             [
              1,
              "#f0f921"
             ]
            ],
            "type": "heatmapgl"
           }
          ],
          "histogram": [
           {
            "marker": {
             "colorbar": {
              "outlinewidth": 0,
              "ticks": ""
             }
            },
            "type": "histogram"
           }
          ],
          "histogram2d": [
           {
            "colorbar": {
             "outlinewidth": 0,
             "ticks": ""
            },
            "colorscale": [
             [
              0,
              "#0d0887"
             ],
             [
              0.1111111111111111,
              "#46039f"
             ],
             [
              0.2222222222222222,
              "#7201a8"
             ],
             [
              0.3333333333333333,
              "#9c179e"
             ],
             [
              0.4444444444444444,
              "#bd3786"
             ],
             [
              0.5555555555555556,
              "#d8576b"
             ],
             [
              0.6666666666666666,
              "#ed7953"
             ],
             [
              0.7777777777777778,
              "#fb9f3a"
             ],
             [
              0.8888888888888888,
              "#fdca26"
             ],
             [
              1,
              "#f0f921"
             ]
            ],
            "type": "histogram2d"
           }
          ],
          "histogram2dcontour": [
           {
            "colorbar": {
             "outlinewidth": 0,
             "ticks": ""
            },
            "colorscale": [
             [
              0,
              "#0d0887"
             ],
             [
              0.1111111111111111,
              "#46039f"
             ],
             [
              0.2222222222222222,
              "#7201a8"
             ],
             [
              0.3333333333333333,
              "#9c179e"
             ],
             [
              0.4444444444444444,
              "#bd3786"
             ],
             [
              0.5555555555555556,
              "#d8576b"
             ],
             [
              0.6666666666666666,
              "#ed7953"
             ],
             [
              0.7777777777777778,
              "#fb9f3a"
             ],
             [
              0.8888888888888888,
              "#fdca26"
             ],
             [
              1,
              "#f0f921"
             ]
            ],
            "type": "histogram2dcontour"
           }
          ],
          "mesh3d": [
           {
            "colorbar": {
             "outlinewidth": 0,
             "ticks": ""
            },
            "type": "mesh3d"
           }
          ],
          "parcoords": [
           {
            "line": {
             "colorbar": {
              "outlinewidth": 0,
              "ticks": ""
             }
            },
            "type": "parcoords"
           }
          ],
          "pie": [
           {
            "automargin": true,
            "type": "pie"
           }
          ],
          "scatter": [
           {
            "marker": {
             "colorbar": {
              "outlinewidth": 0,
              "ticks": ""
             }
            },
            "type": "scatter"
           }
          ],
          "scatter3d": [
           {
            "line": {
             "colorbar": {
              "outlinewidth": 0,
              "ticks": ""
             }
            },
            "marker": {
             "colorbar": {
              "outlinewidth": 0,
              "ticks": ""
             }
            },
            "type": "scatter3d"
           }
          ],
          "scattercarpet": [
           {
            "marker": {
             "colorbar": {
              "outlinewidth": 0,
              "ticks": ""
             }
            },
            "type": "scattercarpet"
           }
          ],
          "scattergeo": [
           {
            "marker": {
             "colorbar": {
              "outlinewidth": 0,
              "ticks": ""
             }
            },
            "type": "scattergeo"
           }
          ],
          "scattergl": [
           {
            "marker": {
             "colorbar": {
              "outlinewidth": 0,
              "ticks": ""
             }
            },
            "type": "scattergl"
           }
          ],
          "scattermapbox": [
           {
            "marker": {
             "colorbar": {
              "outlinewidth": 0,
              "ticks": ""
             }
            },
            "type": "scattermapbox"
           }
          ],
          "scatterpolar": [
           {
            "marker": {
             "colorbar": {
              "outlinewidth": 0,
              "ticks": ""
             }
            },
            "type": "scatterpolar"
           }
          ],
          "scatterpolargl": [
           {
            "marker": {
             "colorbar": {
              "outlinewidth": 0,
              "ticks": ""
             }
            },
            "type": "scatterpolargl"
           }
          ],
          "scatterternary": [
           {
            "marker": {
             "colorbar": {
              "outlinewidth": 0,
              "ticks": ""
             }
            },
            "type": "scatterternary"
           }
          ],
          "surface": [
           {
            "colorbar": {
             "outlinewidth": 0,
             "ticks": ""
            },
            "colorscale": [
             [
              0,
              "#0d0887"
             ],
             [
              0.1111111111111111,
              "#46039f"
             ],
             [
              0.2222222222222222,
              "#7201a8"
             ],
             [
              0.3333333333333333,
              "#9c179e"
             ],
             [
              0.4444444444444444,
              "#bd3786"
             ],
             [
              0.5555555555555556,
              "#d8576b"
             ],
             [
              0.6666666666666666,
              "#ed7953"
             ],
             [
              0.7777777777777778,
              "#fb9f3a"
             ],
             [
              0.8888888888888888,
              "#fdca26"
             ],
             [
              1,
              "#f0f921"
             ]
            ],
            "type": "surface"
           }
          ],
          "table": [
           {
            "cells": {
             "fill": {
              "color": "#EBF0F8"
             },
             "line": {
              "color": "white"
             }
            },
            "header": {
             "fill": {
              "color": "#C8D4E3"
             },
             "line": {
              "color": "white"
             }
            },
            "type": "table"
           }
          ]
         },
         "layout": {
          "annotationdefaults": {
           "arrowcolor": "#2a3f5f",
           "arrowhead": 0,
           "arrowwidth": 1
          },
          "autotypenumbers": "strict",
          "coloraxis": {
           "colorbar": {
            "outlinewidth": 0,
            "ticks": ""
           }
          },
          "colorscale": {
           "diverging": [
            [
             0,
             "#8e0152"
            ],
            [
             0.1,
             "#c51b7d"
            ],
            [
             0.2,
             "#de77ae"
            ],
            [
             0.3,
             "#f1b6da"
            ],
            [
             0.4,
             "#fde0ef"
            ],
            [
             0.5,
             "#f7f7f7"
            ],
            [
             0.6,
             "#e6f5d0"
            ],
            [
             0.7,
             "#b8e186"
            ],
            [
             0.8,
             "#7fbc41"
            ],
            [
             0.9,
             "#4d9221"
            ],
            [
             1,
             "#276419"
            ]
           ],
           "sequential": [
            [
             0,
             "#0d0887"
            ],
            [
             0.1111111111111111,
             "#46039f"
            ],
            [
             0.2222222222222222,
             "#7201a8"
            ],
            [
             0.3333333333333333,
             "#9c179e"
            ],
            [
             0.4444444444444444,
             "#bd3786"
            ],
            [
             0.5555555555555556,
             "#d8576b"
            ],
            [
             0.6666666666666666,
             "#ed7953"
            ],
            [
             0.7777777777777778,
             "#fb9f3a"
            ],
            [
             0.8888888888888888,
             "#fdca26"
            ],
            [
             1,
             "#f0f921"
            ]
           ],
           "sequentialminus": [
            [
             0,
             "#0d0887"
            ],
            [
             0.1111111111111111,
             "#46039f"
            ],
            [
             0.2222222222222222,
             "#7201a8"
            ],
            [
             0.3333333333333333,
             "#9c179e"
            ],
            [
             0.4444444444444444,
             "#bd3786"
            ],
            [
             0.5555555555555556,
             "#d8576b"
            ],
            [
             0.6666666666666666,
             "#ed7953"
            ],
            [
             0.7777777777777778,
             "#fb9f3a"
            ],
            [
             0.8888888888888888,
             "#fdca26"
            ],
            [
             1,
             "#f0f921"
            ]
           ]
          },
          "colorway": [
           "#636efa",
           "#EF553B",
           "#00cc96",
           "#ab63fa",
           "#FFA15A",
           "#19d3f3",
           "#FF6692",
           "#B6E880",
           "#FF97FF",
           "#FECB52"
          ],
          "font": {
           "color": "#2a3f5f"
          },
          "geo": {
           "bgcolor": "white",
           "lakecolor": "white",
           "landcolor": "#E5ECF6",
           "showlakes": true,
           "showland": true,
           "subunitcolor": "white"
          },
          "hoverlabel": {
           "align": "left"
          },
          "hovermode": "closest",
          "mapbox": {
           "style": "light"
          },
          "paper_bgcolor": "white",
          "plot_bgcolor": "#E5ECF6",
          "polar": {
           "angularaxis": {
            "gridcolor": "white",
            "linecolor": "white",
            "ticks": ""
           },
           "bgcolor": "#E5ECF6",
           "radialaxis": {
            "gridcolor": "white",
            "linecolor": "white",
            "ticks": ""
           }
          },
          "scene": {
           "xaxis": {
            "backgroundcolor": "#E5ECF6",
            "gridcolor": "white",
            "gridwidth": 2,
            "linecolor": "white",
            "showbackground": true,
            "ticks": "",
            "zerolinecolor": "white"
           },
           "yaxis": {
            "backgroundcolor": "#E5ECF6",
            "gridcolor": "white",
            "gridwidth": 2,
            "linecolor": "white",
            "showbackground": true,
            "ticks": "",
            "zerolinecolor": "white"
           },
           "zaxis": {
            "backgroundcolor": "#E5ECF6",
            "gridcolor": "white",
            "gridwidth": 2,
            "linecolor": "white",
            "showbackground": true,
            "ticks": "",
            "zerolinecolor": "white"
           }
          },
          "shapedefaults": {
           "line": {
            "color": "#2a3f5f"
           }
          },
          "ternary": {
           "aaxis": {
            "gridcolor": "white",
            "linecolor": "white",
            "ticks": ""
           },
           "baxis": {
            "gridcolor": "white",
            "linecolor": "white",
            "ticks": ""
           },
           "bgcolor": "#E5ECF6",
           "caxis": {
            "gridcolor": "white",
            "linecolor": "white",
            "ticks": ""
           }
          },
          "title": {
           "x": 0.05
          },
          "xaxis": {
           "automargin": true,
           "gridcolor": "white",
           "linecolor": "white",
           "ticks": "",
           "title": {
            "standoff": 15
           },
           "zerolinecolor": "white",
           "zerolinewidth": 2
          },
          "yaxis": {
           "automargin": true,
           "gridcolor": "white",
           "linecolor": "white",
           "ticks": "",
           "title": {
            "standoff": 15
           },
           "zerolinecolor": "white",
           "zerolinewidth": 2
          }
         }
        },
        "title": {
         "font": {
          "color": "#4D5663"
         },
         "text": "Principal Compoent Analysis on Thematic ETF dataset"
        },
        "xaxis": {
         "gridcolor": "#E1E5ED",
         "showgrid": true,
         "tickfont": {
          "color": "#4D5663"
         },
         "title": {
          "font": {
           "color": "#4D5663"
          },
          "text": "Number of Components"
         },
         "zerolinecolor": "#E1E5ED"
        },
        "yaxis": {
         "gridcolor": "#E1E5ED",
         "showgrid": true,
         "tickfont": {
          "color": "#4D5663"
         },
         "title": {
          "font": {
           "color": "#4D5663"
          },
          "text": "Cumulative Explained Variance"
         },
         "zerolinecolor": "#E1E5ED"
        }
       }
      },
      "text/html": [
       "<div>                            <div id=\"af32adec-e053-49e5-9b8d-9ceb084c66c3\" class=\"plotly-graph-div\" style=\"height:525px; width:100%;\"></div>            <script type=\"text/javascript\">                require([\"plotly\"], function(Plotly) {                    window.PLOTLYENV=window.PLOTLYENV || {};\n",
       "                    window.PLOTLYENV.BASE_URL='https://plot.ly';                                    if (document.getElementById(\"af32adec-e053-49e5-9b8d-9ceb084c66c3\")) {                    Plotly.newPlot(                        \"af32adec-e053-49e5-9b8d-9ceb084c66c3\",                        [{\"line\": {\"color\": \"rgba(255, 153, 51, 1.0)\", \"dash\": \"solid\", \"shape\": \"linear\", \"width\": 1.3}, \"mode\": \"lines\", \"name\": \"0\", \"text\": \"\", \"type\": \"scatter\", \"x\": [1, 2, 3, 4, 5, 6, 7, 8, 9, 10, 11, 12, 13], \"y\": [0.19120564044949465, 0.34041535685572916, 0.452055267032996, 0.5492352900627298, 0.6433811570441554, 0.7252667845165442, 0.7923132684154182, 0.8500952076529161, 0.8989935867962916, 0.9389764264393733, 0.9743219204463084, 0.9999806404290901, 1.0]}],                        {\"legend\": {\"bgcolor\": \"#F5F6F9\", \"font\": {\"color\": \"#4D5663\"}}, \"paper_bgcolor\": \"#F5F6F9\", \"plot_bgcolor\": \"#F5F6F9\", \"template\": {\"data\": {\"bar\": [{\"error_x\": {\"color\": \"#2a3f5f\"}, \"error_y\": {\"color\": \"#2a3f5f\"}, \"marker\": {\"line\": {\"color\": \"#E5ECF6\", \"width\": 0.5}}, \"type\": \"bar\"}], \"barpolar\": [{\"marker\": {\"line\": {\"color\": \"#E5ECF6\", \"width\": 0.5}}, \"type\": \"barpolar\"}], \"carpet\": [{\"aaxis\": {\"endlinecolor\": \"#2a3f5f\", \"gridcolor\": \"white\", \"linecolor\": \"white\", \"minorgridcolor\": \"white\", \"startlinecolor\": \"#2a3f5f\"}, \"baxis\": {\"endlinecolor\": \"#2a3f5f\", \"gridcolor\": \"white\", \"linecolor\": \"white\", \"minorgridcolor\": \"white\", \"startlinecolor\": \"#2a3f5f\"}, \"type\": \"carpet\"}], \"choropleth\": [{\"colorbar\": {\"outlinewidth\": 0, \"ticks\": \"\"}, \"type\": \"choropleth\"}], \"contour\": [{\"colorbar\": {\"outlinewidth\": 0, \"ticks\": \"\"}, \"colorscale\": [[0.0, \"#0d0887\"], [0.1111111111111111, \"#46039f\"], [0.2222222222222222, \"#7201a8\"], [0.3333333333333333, \"#9c179e\"], [0.4444444444444444, \"#bd3786\"], [0.5555555555555556, \"#d8576b\"], [0.6666666666666666, \"#ed7953\"], [0.7777777777777778, \"#fb9f3a\"], [0.8888888888888888, \"#fdca26\"], [1.0, \"#f0f921\"]], \"type\": \"contour\"}], \"contourcarpet\": [{\"colorbar\": {\"outlinewidth\": 0, \"ticks\": \"\"}, \"type\": \"contourcarpet\"}], \"heatmap\": [{\"colorbar\": {\"outlinewidth\": 0, \"ticks\": \"\"}, \"colorscale\": [[0.0, \"#0d0887\"], [0.1111111111111111, \"#46039f\"], [0.2222222222222222, \"#7201a8\"], [0.3333333333333333, \"#9c179e\"], [0.4444444444444444, \"#bd3786\"], [0.5555555555555556, \"#d8576b\"], [0.6666666666666666, \"#ed7953\"], [0.7777777777777778, \"#fb9f3a\"], [0.8888888888888888, \"#fdca26\"], [1.0, \"#f0f921\"]], \"type\": \"heatmap\"}], \"heatmapgl\": [{\"colorbar\": {\"outlinewidth\": 0, \"ticks\": \"\"}, \"colorscale\": [[0.0, \"#0d0887\"], [0.1111111111111111, \"#46039f\"], [0.2222222222222222, \"#7201a8\"], [0.3333333333333333, \"#9c179e\"], [0.4444444444444444, \"#bd3786\"], [0.5555555555555556, \"#d8576b\"], [0.6666666666666666, \"#ed7953\"], [0.7777777777777778, \"#fb9f3a\"], [0.8888888888888888, \"#fdca26\"], [1.0, \"#f0f921\"]], \"type\": \"heatmapgl\"}], \"histogram\": [{\"marker\": {\"colorbar\": {\"outlinewidth\": 0, \"ticks\": \"\"}}, \"type\": \"histogram\"}], \"histogram2d\": [{\"colorbar\": {\"outlinewidth\": 0, \"ticks\": \"\"}, \"colorscale\": [[0.0, \"#0d0887\"], [0.1111111111111111, \"#46039f\"], [0.2222222222222222, \"#7201a8\"], [0.3333333333333333, \"#9c179e\"], [0.4444444444444444, \"#bd3786\"], [0.5555555555555556, \"#d8576b\"], [0.6666666666666666, \"#ed7953\"], [0.7777777777777778, \"#fb9f3a\"], [0.8888888888888888, \"#fdca26\"], [1.0, \"#f0f921\"]], \"type\": \"histogram2d\"}], \"histogram2dcontour\": [{\"colorbar\": {\"outlinewidth\": 0, \"ticks\": \"\"}, \"colorscale\": [[0.0, \"#0d0887\"], [0.1111111111111111, \"#46039f\"], [0.2222222222222222, \"#7201a8\"], [0.3333333333333333, \"#9c179e\"], [0.4444444444444444, \"#bd3786\"], [0.5555555555555556, \"#d8576b\"], [0.6666666666666666, \"#ed7953\"], [0.7777777777777778, \"#fb9f3a\"], [0.8888888888888888, \"#fdca26\"], [1.0, \"#f0f921\"]], \"type\": \"histogram2dcontour\"}], \"mesh3d\": [{\"colorbar\": {\"outlinewidth\": 0, \"ticks\": \"\"}, \"type\": \"mesh3d\"}], \"parcoords\": [{\"line\": {\"colorbar\": {\"outlinewidth\": 0, \"ticks\": \"\"}}, \"type\": \"parcoords\"}], \"pie\": [{\"automargin\": true, \"type\": \"pie\"}], \"scatter\": [{\"marker\": {\"colorbar\": {\"outlinewidth\": 0, \"ticks\": \"\"}}, \"type\": \"scatter\"}], \"scatter3d\": [{\"line\": {\"colorbar\": {\"outlinewidth\": 0, \"ticks\": \"\"}}, \"marker\": {\"colorbar\": {\"outlinewidth\": 0, \"ticks\": \"\"}}, \"type\": \"scatter3d\"}], \"scattercarpet\": [{\"marker\": {\"colorbar\": {\"outlinewidth\": 0, \"ticks\": \"\"}}, \"type\": \"scattercarpet\"}], \"scattergeo\": [{\"marker\": {\"colorbar\": {\"outlinewidth\": 0, \"ticks\": \"\"}}, \"type\": \"scattergeo\"}], \"scattergl\": [{\"marker\": {\"colorbar\": {\"outlinewidth\": 0, \"ticks\": \"\"}}, \"type\": \"scattergl\"}], \"scattermapbox\": [{\"marker\": {\"colorbar\": {\"outlinewidth\": 0, \"ticks\": \"\"}}, \"type\": \"scattermapbox\"}], \"scatterpolar\": [{\"marker\": {\"colorbar\": {\"outlinewidth\": 0, \"ticks\": \"\"}}, \"type\": \"scatterpolar\"}], \"scatterpolargl\": [{\"marker\": {\"colorbar\": {\"outlinewidth\": 0, \"ticks\": \"\"}}, \"type\": \"scatterpolargl\"}], \"scatterternary\": [{\"marker\": {\"colorbar\": {\"outlinewidth\": 0, \"ticks\": \"\"}}, \"type\": \"scatterternary\"}], \"surface\": [{\"colorbar\": {\"outlinewidth\": 0, \"ticks\": \"\"}, \"colorscale\": [[0.0, \"#0d0887\"], [0.1111111111111111, \"#46039f\"], [0.2222222222222222, \"#7201a8\"], [0.3333333333333333, \"#9c179e\"], [0.4444444444444444, \"#bd3786\"], [0.5555555555555556, \"#d8576b\"], [0.6666666666666666, \"#ed7953\"], [0.7777777777777778, \"#fb9f3a\"], [0.8888888888888888, \"#fdca26\"], [1.0, \"#f0f921\"]], \"type\": \"surface\"}], \"table\": [{\"cells\": {\"fill\": {\"color\": \"#EBF0F8\"}, \"line\": {\"color\": \"white\"}}, \"header\": {\"fill\": {\"color\": \"#C8D4E3\"}, \"line\": {\"color\": \"white\"}}, \"type\": \"table\"}]}, \"layout\": {\"annotationdefaults\": {\"arrowcolor\": \"#2a3f5f\", \"arrowhead\": 0, \"arrowwidth\": 1}, \"autotypenumbers\": \"strict\", \"coloraxis\": {\"colorbar\": {\"outlinewidth\": 0, \"ticks\": \"\"}}, \"colorscale\": {\"diverging\": [[0, \"#8e0152\"], [0.1, \"#c51b7d\"], [0.2, \"#de77ae\"], [0.3, \"#f1b6da\"], [0.4, \"#fde0ef\"], [0.5, \"#f7f7f7\"], [0.6, \"#e6f5d0\"], [0.7, \"#b8e186\"], [0.8, \"#7fbc41\"], [0.9, \"#4d9221\"], [1, \"#276419\"]], \"sequential\": [[0.0, \"#0d0887\"], [0.1111111111111111, \"#46039f\"], [0.2222222222222222, \"#7201a8\"], [0.3333333333333333, \"#9c179e\"], [0.4444444444444444, \"#bd3786\"], [0.5555555555555556, \"#d8576b\"], [0.6666666666666666, \"#ed7953\"], [0.7777777777777778, \"#fb9f3a\"], [0.8888888888888888, \"#fdca26\"], [1.0, \"#f0f921\"]], \"sequentialminus\": [[0.0, \"#0d0887\"], [0.1111111111111111, \"#46039f\"], [0.2222222222222222, \"#7201a8\"], [0.3333333333333333, \"#9c179e\"], [0.4444444444444444, \"#bd3786\"], [0.5555555555555556, \"#d8576b\"], [0.6666666666666666, \"#ed7953\"], [0.7777777777777778, \"#fb9f3a\"], [0.8888888888888888, \"#fdca26\"], [1.0, \"#f0f921\"]]}, \"colorway\": [\"#636efa\", \"#EF553B\", \"#00cc96\", \"#ab63fa\", \"#FFA15A\", \"#19d3f3\", \"#FF6692\", \"#B6E880\", \"#FF97FF\", \"#FECB52\"], \"font\": {\"color\": \"#2a3f5f\"}, \"geo\": {\"bgcolor\": \"white\", \"lakecolor\": \"white\", \"landcolor\": \"#E5ECF6\", \"showlakes\": true, \"showland\": true, \"subunitcolor\": \"white\"}, \"hoverlabel\": {\"align\": \"left\"}, \"hovermode\": \"closest\", \"mapbox\": {\"style\": \"light\"}, \"paper_bgcolor\": \"white\", \"plot_bgcolor\": \"#E5ECF6\", \"polar\": {\"angularaxis\": {\"gridcolor\": \"white\", \"linecolor\": \"white\", \"ticks\": \"\"}, \"bgcolor\": \"#E5ECF6\", \"radialaxis\": {\"gridcolor\": \"white\", \"linecolor\": \"white\", \"ticks\": \"\"}}, \"scene\": {\"xaxis\": {\"backgroundcolor\": \"#E5ECF6\", \"gridcolor\": \"white\", \"gridwidth\": 2, \"linecolor\": \"white\", \"showbackground\": true, \"ticks\": \"\", \"zerolinecolor\": \"white\"}, \"yaxis\": {\"backgroundcolor\": \"#E5ECF6\", \"gridcolor\": \"white\", \"gridwidth\": 2, \"linecolor\": \"white\", \"showbackground\": true, \"ticks\": \"\", \"zerolinecolor\": \"white\"}, \"zaxis\": {\"backgroundcolor\": \"#E5ECF6\", \"gridcolor\": \"white\", \"gridwidth\": 2, \"linecolor\": \"white\", \"showbackground\": true, \"ticks\": \"\", \"zerolinecolor\": \"white\"}}, \"shapedefaults\": {\"line\": {\"color\": \"#2a3f5f\"}}, \"ternary\": {\"aaxis\": {\"gridcolor\": \"white\", \"linecolor\": \"white\", \"ticks\": \"\"}, \"baxis\": {\"gridcolor\": \"white\", \"linecolor\": \"white\", \"ticks\": \"\"}, \"bgcolor\": \"#E5ECF6\", \"caxis\": {\"gridcolor\": \"white\", \"linecolor\": \"white\", \"ticks\": \"\"}}, \"title\": {\"x\": 0.05}, \"xaxis\": {\"automargin\": true, \"gridcolor\": \"white\", \"linecolor\": \"white\", \"ticks\": \"\", \"title\": {\"standoff\": 15}, \"zerolinecolor\": \"white\", \"zerolinewidth\": 2}, \"yaxis\": {\"automargin\": true, \"gridcolor\": \"white\", \"linecolor\": \"white\", \"ticks\": \"\", \"title\": {\"standoff\": 15}, \"zerolinecolor\": \"white\", \"zerolinewidth\": 2}}}, \"title\": {\"font\": {\"color\": \"#4D5663\"}, \"text\": \"Principal Compoent Analysis on Thematic ETF dataset\"}, \"xaxis\": {\"gridcolor\": \"#E1E5ED\", \"showgrid\": true, \"tickfont\": {\"color\": \"#4D5663\"}, \"title\": {\"font\": {\"color\": \"#4D5663\"}, \"text\": \"Number of Components\"}, \"zerolinecolor\": \"#E1E5ED\"}, \"yaxis\": {\"gridcolor\": \"#E1E5ED\", \"showgrid\": true, \"tickfont\": {\"color\": \"#4D5663\"}, \"title\": {\"font\": {\"color\": \"#4D5663\"}, \"text\": \"Cumulative Explained Variance\"}, \"zerolinecolor\": \"#E1E5ED\"}},                        {\"showLink\": true, \"linkText\": \"Export to plot.ly\", \"plotlyServerURL\": \"https://plot.ly\", \"responsive\": true}                    ).then(function(){\n",
       "                            \n",
       "var gd = document.getElementById('af32adec-e053-49e5-9b8d-9ceb084c66c3');\n",
       "var x = new MutationObserver(function (mutations, observer) {{\n",
       "        var display = window.getComputedStyle(gd).display;\n",
       "        if (!display || display === 'none') {{\n",
       "            console.log([gd, 'removed!']);\n",
       "            Plotly.purge(gd);\n",
       "            observer.disconnect();\n",
       "        }}\n",
       "}});\n",
       "\n",
       "// Listen for the removal of the full notebook cells\n",
       "var notebookContainer = gd.closest('#notebook-container');\n",
       "if (notebookContainer) {{\n",
       "    x.observe(notebookContainer, {childList: true});\n",
       "}}\n",
       "\n",
       "// Listen for the clearing of the current output cell\n",
       "var outputEl = gd.closest('.output');\n",
       "if (outputEl) {{\n",
       "    x.observe(outputEl, {childList: true});\n",
       "}}\n",
       "\n",
       "                        })                };                });            </script>        </div>"
      ]
     },
     "metadata": {},
     "output_type": "display_data"
    }
   ],
   "source": [
    "# import libraries\n",
    "from sklearn.decomposition import PCA\n",
    "\n",
    "# initiate an empty dataframe\n",
    "pca_var = pd.DataFrame()\n",
    "\n",
    "# performance PCA for a varying number of components\n",
    "for i in range(1,len(dataset_final.columns)+1):\n",
    "    pca = PCA(n_components=i)\n",
    "    pca_result = pca.fit_transform(dataset_scaled)\n",
    "    var = pd.Series(np.sum(pca.explained_variance_ratio_), name=i)\n",
    "    pca_var=pca_var.append(var)\n",
    "\n",
    "# plot   \n",
    "pca_var.iplot(title='Principal Compoent Analysis on Thematic ETF dataset', xTitle='Number of Components', yTitle='Cumulative Explained Variance')"
   ]
  },
  {
   "cell_type": "markdown",
   "id": "purple-poison",
   "metadata": {},
   "source": [
    "Usually we would set a minimum threshold for variance explained and then select the smallest number of components that can meet the threshold. However, in this project, I will explore the impact that the number of components can have on K Means Clustering. "
   ]
  },
  {
   "cell_type": "markdown",
   "id": "armed-innocent",
   "metadata": {},
   "source": [
    "# K Means Clustering"
   ]
  },
  {
   "cell_type": "markdown",
   "id": "satisfactory-voluntary",
   "metadata": {},
   "source": [
    "In K Means Clustering, adding up all the squared distances to the nearest center gives us a measure of total distance called \"error\". If we plot this error against the number of clusters K, we get a scree plot. We can see that there's no \"elbow\" in the scree plots beyond 4 PCA components. An \"elbow\" is where the error falls dramatically and then levels off. The x-axis of the elbow is the best number of clusters we are looking for. If the error only gradually falls (no elbow) then there is no obvious best K using this methodology."
   ]
  },
  {
   "cell_type": "code",
   "execution_count": 29,
   "id": "vulnerable-barrier",
   "metadata": {
    "scrolled": false
   },
   "outputs": [
    {
     "data": {
      "application/vnd.plotly.v1+json": {
       "config": {
        "plotlyServerURL": "https://plot.ly"
       },
       "data": [
        {
         "name": "1 PCA components",
         "type": "scatter",
         "xaxis": "x2",
         "y": [
          221.2249260000652,
          42.00745271772612,
          22.138726199133238,
          14.665249297062921,
          7.3382361960537414,
          5.555521566924689,
          4.2997675302726766,
          3.1059850430053393,
          2.0551173680355164,
          1.6182193951300563,
          1.308494184796986,
          1.0908350760465937,
          0.8683737114743943,
          0.7409328146645976,
          0.624351872895972,
          0.5632257596522661,
          0.4230963345307271,
          0.3574821692282284,
          0.30197122078589983
         ],
         "yaxis": "y2"
        },
        {
         "name": "2 PCA components",
         "type": "scatter",
         "xaxis": "x3",
         "y": [
          393.8605678820788,
          213.8370729182495,
          100.48192808378967,
          78.40714964670103,
          56.92639129447656,
          45.60225145134852,
          40.10434891537586,
          36.24887874270173,
          30.802415798130657,
          28.400924351075762,
          25.02012155269708,
          22.450589948385396,
          19.166326125927274,
          16.702315344924944,
          15.155254681031124,
          14.671897332366632,
          13.507274286364106,
          11.687413460227312,
          10.657069846168849
         ],
         "yaxis": "y3"
        },
        {
         "name": "3 PCA components",
         "type": "scatter",
         "xaxis": "x4",
         "y": [
          523.0279439571766,
          342.7492730730371,
          227.73444490297348,
          134.9401160785399,
          107.75007916018457,
          82.55695584874012,
          69.40938430885022,
          61.81987625529786,
          56.990461594519616,
          51.93237118430152,
          50.548035652306105,
          45.73816364453241,
          42.56502097918412,
          38.344242019172796,
          34.62302497826238,
          32.4071155017964,
          30.80321581560015,
          29.66316704733601,
          26.577226974455233
         ],
         "yaxis": "y4"
        },
        {
         "name": "4 PCA components",
         "type": "scatter",
         "xaxis": "x5",
         "y": [
          635.4652306025787,
          454.77402084197337,
          332.7314710880374,
          238.09091297533394,
          179.52783362049064,
          146.93135994074768,
          128.6065864950541,
          111.04045258098425,
          99.70986474944593,
          90.87110112172023,
          85.44857548554032,
          78.1243136269393,
          70.98710347509447,
          66.39132390323458,
          60.98130704511952,
          58.42276921874038,
          53.31630579356242,
          51.37255815924866,
          48.04337819654191
         ],
         "yaxis": "y5"
        },
        {
         "name": "5 PCA components",
         "type": "scatter",
         "xaxis": "x6",
         "y": [
          744.3919987000883,
          563.6487905585404,
          435.4885032179611,
          335.3450784126386,
          270.8610400193261,
          206.51489124144217,
          179.99707264642456,
          159.93968668503842,
          143.4173107869562,
          130.92662421218375,
          116.33127206789673,
          105.5713197056615,
          101.24728466871721,
          90.22217245035709,
          87.89490408446959,
          79.60764906490166,
          75.72431433886837,
          71.64622937918749,
          67.39650453439576
         ],
         "yaxis": "y6"
        },
        {
         "name": "6 PCA components",
         "type": "scatter",
         "xaxis": "x7",
         "y": [
          839.1336696856422,
          658.3868130972355,
          529.746235960598,
          429.11017595701037,
          361.9106868032121,
          294.01381171727525,
          240.34947389626387,
          216.57137204344298,
          199.22089393525218,
          178.0517907719524,
          155.62980346211933,
          143.25733972308214,
          129.22705759206966,
          119.09044888370131,
          112.73125527959449,
          106.5076419756974,
          97.22353604297754,
          94.87131544072808,
          85.01939069060151
         ],
         "yaxis": "y7"
        },
        {
         "name": "7 PCA components",
         "type": "scatter",
         "xaxis": "x8",
         "y": [
          916.7064515566395,
          735.8192984174013,
          607.035975506055,
          510.176796099175,
          438.80174049272557,
          371.8379740738154,
          307.57490172021903,
          265.7525243379386,
          232.28224829712278,
          209.74964417364086,
          185.03872389223625,
          167.30217662595857,
          147.1631979130635,
          145.13152110757346,
          128.3868866330036,
          117.55186616410768,
          114.1622454742597,
          107.21296033345322,
          97.10322457143374
         ],
         "yaxis": "y8"
        },
        {
         "name": "8 PCA components",
         "type": "scatter",
         "xaxis": "x9",
         "y": [
          983.5601552544244,
          802.6247346303484,
          674.0948132827989,
          569.886862896774,
          500.52841739774846,
          433.09057995910723,
          380.0510274990395,
          327.8691050232886,
          295.22102901962376,
          269.98816484728826,
          234.74742564104932,
          216.83669843147268,
          189.00702561941065,
          170.14701596191136,
          159.26167986853508,
          147.7848812704702,
          143.4921017317128,
          131.38983427879515,
          129.00886165458675
         ],
         "yaxis": "y9"
        },
        {
         "name": "9 PCA components",
         "type": "scatter",
         "xaxis": "x10",
         "y": [
          1040.13557992331,
          858.0448095502584,
          728.261202248181,
          623.607670888745,
          555.2564282495732,
          482.72041305499874,
          424.6479045221833,
          371.2089813756982,
          335.6730674887624,
          298.55650664500945,
          267.30258454092325,
          228.4255915824338,
          210.46806551485776,
          202.76329847283947,
          179.58310711303437,
          173.45113814211393,
          160.86678455190597,
          152.14215025589633,
          139.87313725869714
         ],
         "yaxis": "y10"
        },
        {
         "name": "10 PCA components",
         "type": "scatter",
         "xaxis": "x11",
         "y": [
          1086.3957253903554,
          904.2928172438254,
          774.8275454679256,
          669.4955829019681,
          608.0050044419232,
          543.9960795789211,
          478.0955680465499,
          426.3124430689324,
          377.41646743242126,
          339.8689217930176,
          297.92244847243006,
          275.04456523906634,
          246.11576635413738,
          226.21870084379262,
          215.95249146260258,
          202.38352699409637,
          190.02125639863328,
          173.8700633456722,
          162.34512391119958
         ],
         "yaxis": "y11"
        },
        {
         "name": "11 PCA components",
         "type": "scatter",
         "xaxis": "x12",
         "y": [
          1127.2904619563794,
          945.1516774459184,
          815.0025799244004,
          717.6123908751379,
          634.7976223535459,
          567.2013005256874,
          531.9118874932768,
          452.7115916089066,
          406.2438023058395,
          372.3779356622132,
          332.4964931100533,
          303.8251927940378,
          275.65350908637373,
          250.90265662070075,
          238.58315442076574,
          221.60272288020096,
          204.97264172593074,
          194.34808084408988,
          178.6170120390719
         ],
         "yaxis": "y12"
        },
        {
         "name": "12 PCA components",
         "type": "scatter",
         "xaxis": "x13",
         "y": [
          1156.9776009764578,
          974.8375512236172,
          844.4162091802546,
          763.5012185209416,
          661.7999633769219,
          597.4007843625609,
          529.8729332435711,
          483.1147279050784,
          435.11204472402613,
          399.290646901943,
          358.4182131096544,
          311.611107532132,
          302.8348966059095,
          272.00236257690864,
          253.11919484082196,
          233.74046039829295,
          220.42440221725062,
          206.16432430470596,
          180.82670275513772
         ],
         "yaxis": "y13"
        },
        {
         "name": "13 PCA components",
         "type": "scatter",
         "xaxis": "x14",
         "y": [
          1157.0000000000005,
          976.1853508960512,
          844.4385704471246,
          744.8542994338115,
          662.0094603528481,
          596.2711444289715,
          539.3251783719563,
          486.33740324679053,
          433.4284018791598,
          398.18851416553565,
          355.2875074249965,
          310.38594546263244,
          290.3459622827127,
          260.1730866594551,
          251.5753189912782,
          228.11518150907014,
          212.00973125300618,
          205.4140343967367,
          191.85901429039689
         ],
         "yaxis": "y14"
        }
       ],
       "layout": {
        "template": {
         "data": {
          "bar": [
           {
            "error_x": {
             "color": "#2a3f5f"
            },
            "error_y": {
             "color": "#2a3f5f"
            },
            "marker": {
             "line": {
              "color": "#E5ECF6",
              "width": 0.5
             }
            },
            "type": "bar"
           }
          ],
          "barpolar": [
           {
            "marker": {
             "line": {
              "color": "#E5ECF6",
              "width": 0.5
             }
            },
            "type": "barpolar"
           }
          ],
          "carpet": [
           {
            "aaxis": {
             "endlinecolor": "#2a3f5f",
             "gridcolor": "white",
             "linecolor": "white",
             "minorgridcolor": "white",
             "startlinecolor": "#2a3f5f"
            },
            "baxis": {
             "endlinecolor": "#2a3f5f",
             "gridcolor": "white",
             "linecolor": "white",
             "minorgridcolor": "white",
             "startlinecolor": "#2a3f5f"
            },
            "type": "carpet"
           }
          ],
          "choropleth": [
           {
            "colorbar": {
             "outlinewidth": 0,
             "ticks": ""
            },
            "type": "choropleth"
           }
          ],
          "contour": [
           {
            "colorbar": {
             "outlinewidth": 0,
             "ticks": ""
            },
            "colorscale": [
             [
              0,
              "#0d0887"
             ],
             [
              0.1111111111111111,
              "#46039f"
             ],
             [
              0.2222222222222222,
              "#7201a8"
             ],
             [
              0.3333333333333333,
              "#9c179e"
             ],
             [
              0.4444444444444444,
              "#bd3786"
             ],
             [
              0.5555555555555556,
              "#d8576b"
             ],
             [
              0.6666666666666666,
              "#ed7953"
             ],
             [
              0.7777777777777778,
              "#fb9f3a"
             ],
             [
              0.8888888888888888,
              "#fdca26"
             ],
             [
              1,
              "#f0f921"
             ]
            ],
            "type": "contour"
           }
          ],
          "contourcarpet": [
           {
            "colorbar": {
             "outlinewidth": 0,
             "ticks": ""
            },
            "type": "contourcarpet"
           }
          ],
          "heatmap": [
           {
            "colorbar": {
             "outlinewidth": 0,
             "ticks": ""
            },
            "colorscale": [
             [
              0,
              "#0d0887"
             ],
             [
              0.1111111111111111,
              "#46039f"
             ],
             [
              0.2222222222222222,
              "#7201a8"
             ],
             [
              0.3333333333333333,
              "#9c179e"
             ],
             [
              0.4444444444444444,
              "#bd3786"
             ],
             [
              0.5555555555555556,
              "#d8576b"
             ],
             [
              0.6666666666666666,
              "#ed7953"
             ],
             [
              0.7777777777777778,
              "#fb9f3a"
             ],
             [
              0.8888888888888888,
              "#fdca26"
             ],
             [
              1,
              "#f0f921"
             ]
            ],
            "type": "heatmap"
           }
          ],
          "heatmapgl": [
           {
            "colorbar": {
             "outlinewidth": 0,
             "ticks": ""
            },
            "colorscale": [
             [
              0,
              "#0d0887"
             ],
             [
              0.1111111111111111,
              "#46039f"
             ],
             [
              0.2222222222222222,
              "#7201a8"
             ],
             [
              0.3333333333333333,
              "#9c179e"
             ],
             [
              0.4444444444444444,
              "#bd3786"
             ],
             [
              0.5555555555555556,
              "#d8576b"
             ],
             [
              0.6666666666666666,
              "#ed7953"
             ],
             [
              0.7777777777777778,
              "#fb9f3a"
             ],
             [
              0.8888888888888888,
              "#fdca26"
             ],
             [
              1,
              "#f0f921"
             ]
            ],
            "type": "heatmapgl"
           }
          ],
          "histogram": [
           {
            "marker": {
             "colorbar": {
              "outlinewidth": 0,
              "ticks": ""
             }
            },
            "type": "histogram"
           }
          ],
          "histogram2d": [
           {
            "colorbar": {
             "outlinewidth": 0,
             "ticks": ""
            },
            "colorscale": [
             [
              0,
              "#0d0887"
             ],
             [
              0.1111111111111111,
              "#46039f"
             ],
             [
              0.2222222222222222,
              "#7201a8"
             ],
             [
              0.3333333333333333,
              "#9c179e"
             ],
             [
              0.4444444444444444,
              "#bd3786"
             ],
             [
              0.5555555555555556,
              "#d8576b"
             ],
             [
              0.6666666666666666,
              "#ed7953"
             ],
             [
              0.7777777777777778,
              "#fb9f3a"
             ],
             [
              0.8888888888888888,
              "#fdca26"
             ],
             [
              1,
              "#f0f921"
             ]
            ],
            "type": "histogram2d"
           }
          ],
          "histogram2dcontour": [
           {
            "colorbar": {
             "outlinewidth": 0,
             "ticks": ""
            },
            "colorscale": [
             [
              0,
              "#0d0887"
             ],
             [
              0.1111111111111111,
              "#46039f"
             ],
             [
              0.2222222222222222,
              "#7201a8"
             ],
             [
              0.3333333333333333,
              "#9c179e"
             ],
             [
              0.4444444444444444,
              "#bd3786"
             ],
             [
              0.5555555555555556,
              "#d8576b"
             ],
             [
              0.6666666666666666,
              "#ed7953"
             ],
             [
              0.7777777777777778,
              "#fb9f3a"
             ],
             [
              0.8888888888888888,
              "#fdca26"
             ],
             [
              1,
              "#f0f921"
             ]
            ],
            "type": "histogram2dcontour"
           }
          ],
          "mesh3d": [
           {
            "colorbar": {
             "outlinewidth": 0,
             "ticks": ""
            },
            "type": "mesh3d"
           }
          ],
          "parcoords": [
           {
            "line": {
             "colorbar": {
              "outlinewidth": 0,
              "ticks": ""
             }
            },
            "type": "parcoords"
           }
          ],
          "pie": [
           {
            "automargin": true,
            "type": "pie"
           }
          ],
          "scatter": [
           {
            "marker": {
             "colorbar": {
              "outlinewidth": 0,
              "ticks": ""
             }
            },
            "type": "scatter"
           }
          ],
          "scatter3d": [
           {
            "line": {
             "colorbar": {
              "outlinewidth": 0,
              "ticks": ""
             }
            },
            "marker": {
             "colorbar": {
              "outlinewidth": 0,
              "ticks": ""
             }
            },
            "type": "scatter3d"
           }
          ],
          "scattercarpet": [
           {
            "marker": {
             "colorbar": {
              "outlinewidth": 0,
              "ticks": ""
             }
            },
            "type": "scattercarpet"
           }
          ],
          "scattergeo": [
           {
            "marker": {
             "colorbar": {
              "outlinewidth": 0,
              "ticks": ""
             }
            },
            "type": "scattergeo"
           }
          ],
          "scattergl": [
           {
            "marker": {
             "colorbar": {
              "outlinewidth": 0,
              "ticks": ""
             }
            },
            "type": "scattergl"
           }
          ],
          "scattermapbox": [
           {
            "marker": {
             "colorbar": {
              "outlinewidth": 0,
              "ticks": ""
             }
            },
            "type": "scattermapbox"
           }
          ],
          "scatterpolar": [
           {
            "marker": {
             "colorbar": {
              "outlinewidth": 0,
              "ticks": ""
             }
            },
            "type": "scatterpolar"
           }
          ],
          "scatterpolargl": [
           {
            "marker": {
             "colorbar": {
              "outlinewidth": 0,
              "ticks": ""
             }
            },
            "type": "scatterpolargl"
           }
          ],
          "scatterternary": [
           {
            "marker": {
             "colorbar": {
              "outlinewidth": 0,
              "ticks": ""
             }
            },
            "type": "scatterternary"
           }
          ],
          "surface": [
           {
            "colorbar": {
             "outlinewidth": 0,
             "ticks": ""
            },
            "colorscale": [
             [
              0,
              "#0d0887"
             ],
             [
              0.1111111111111111,
              "#46039f"
             ],
             [
              0.2222222222222222,
              "#7201a8"
             ],
             [
              0.3333333333333333,
              "#9c179e"
             ],
             [
              0.4444444444444444,
              "#bd3786"
             ],
             [
              0.5555555555555556,
              "#d8576b"
             ],
             [
              0.6666666666666666,
              "#ed7953"
             ],
             [
              0.7777777777777778,
              "#fb9f3a"
             ],
             [
              0.8888888888888888,
              "#fdca26"
             ],
             [
              1,
              "#f0f921"
             ]
            ],
            "type": "surface"
           }
          ],
          "table": [
           {
            "cells": {
             "fill": {
              "color": "#EBF0F8"
             },
             "line": {
              "color": "white"
             }
            },
            "header": {
             "fill": {
              "color": "#C8D4E3"
             },
             "line": {
              "color": "white"
             }
            },
            "type": "table"
           }
          ]
         },
         "layout": {
          "annotationdefaults": {
           "arrowcolor": "#2a3f5f",
           "arrowhead": 0,
           "arrowwidth": 1
          },
          "autotypenumbers": "strict",
          "coloraxis": {
           "colorbar": {
            "outlinewidth": 0,
            "ticks": ""
           }
          },
          "colorscale": {
           "diverging": [
            [
             0,
             "#8e0152"
            ],
            [
             0.1,
             "#c51b7d"
            ],
            [
             0.2,
             "#de77ae"
            ],
            [
             0.3,
             "#f1b6da"
            ],
            [
             0.4,
             "#fde0ef"
            ],
            [
             0.5,
             "#f7f7f7"
            ],
            [
             0.6,
             "#e6f5d0"
            ],
            [
             0.7,
             "#b8e186"
            ],
            [
             0.8,
             "#7fbc41"
            ],
            [
             0.9,
             "#4d9221"
            ],
            [
             1,
             "#276419"
            ]
           ],
           "sequential": [
            [
             0,
             "#0d0887"
            ],
            [
             0.1111111111111111,
             "#46039f"
            ],
            [
             0.2222222222222222,
             "#7201a8"
            ],
            [
             0.3333333333333333,
             "#9c179e"
            ],
            [
             0.4444444444444444,
             "#bd3786"
            ],
            [
             0.5555555555555556,
             "#d8576b"
            ],
            [
             0.6666666666666666,
             "#ed7953"
            ],
            [
             0.7777777777777778,
             "#fb9f3a"
            ],
            [
             0.8888888888888888,
             "#fdca26"
            ],
            [
             1,
             "#f0f921"
            ]
           ],
           "sequentialminus": [
            [
             0,
             "#0d0887"
            ],
            [
             0.1111111111111111,
             "#46039f"
            ],
            [
             0.2222222222222222,
             "#7201a8"
            ],
            [
             0.3333333333333333,
             "#9c179e"
            ],
            [
             0.4444444444444444,
             "#bd3786"
            ],
            [
             0.5555555555555556,
             "#d8576b"
            ],
            [
             0.6666666666666666,
             "#ed7953"
            ],
            [
             0.7777777777777778,
             "#fb9f3a"
            ],
            [
             0.8888888888888888,
             "#fdca26"
            ],
            [
             1,
             "#f0f921"
            ]
           ]
          },
          "colorway": [
           "#636efa",
           "#EF553B",
           "#00cc96",
           "#ab63fa",
           "#FFA15A",
           "#19d3f3",
           "#FF6692",
           "#B6E880",
           "#FF97FF",
           "#FECB52"
          ],
          "font": {
           "color": "#2a3f5f"
          },
          "geo": {
           "bgcolor": "white",
           "lakecolor": "white",
           "landcolor": "#E5ECF6",
           "showlakes": true,
           "showland": true,
           "subunitcolor": "white"
          },
          "hoverlabel": {
           "align": "left"
          },
          "hovermode": "closest",
          "mapbox": {
           "style": "light"
          },
          "paper_bgcolor": "white",
          "plot_bgcolor": "#E5ECF6",
          "polar": {
           "angularaxis": {
            "gridcolor": "white",
            "linecolor": "white",
            "ticks": ""
           },
           "bgcolor": "#E5ECF6",
           "radialaxis": {
            "gridcolor": "white",
            "linecolor": "white",
            "ticks": ""
           }
          },
          "scene": {
           "xaxis": {
            "backgroundcolor": "#E5ECF6",
            "gridcolor": "white",
            "gridwidth": 2,
            "linecolor": "white",
            "showbackground": true,
            "ticks": "",
            "zerolinecolor": "white"
           },
           "yaxis": {
            "backgroundcolor": "#E5ECF6",
            "gridcolor": "white",
            "gridwidth": 2,
            "linecolor": "white",
            "showbackground": true,
            "ticks": "",
            "zerolinecolor": "white"
           },
           "zaxis": {
            "backgroundcolor": "#E5ECF6",
            "gridcolor": "white",
            "gridwidth": 2,
            "linecolor": "white",
            "showbackground": true,
            "ticks": "",
            "zerolinecolor": "white"
           }
          },
          "shapedefaults": {
           "line": {
            "color": "#2a3f5f"
           }
          },
          "ternary": {
           "aaxis": {
            "gridcolor": "white",
            "linecolor": "white",
            "ticks": ""
           },
           "baxis": {
            "gridcolor": "white",
            "linecolor": "white",
            "ticks": ""
           },
           "bgcolor": "#E5ECF6",
           "caxis": {
            "gridcolor": "white",
            "linecolor": "white",
            "ticks": ""
           }
          },
          "title": {
           "x": 0.05
          },
          "xaxis": {
           "automargin": true,
           "gridcolor": "white",
           "linecolor": "white",
           "ticks": "",
           "title": {
            "standoff": 15
           },
           "zerolinecolor": "white",
           "zerolinewidth": 2
          },
          "yaxis": {
           "automargin": true,
           "gridcolor": "white",
           "linecolor": "white",
           "ticks": "",
           "title": {
            "standoff": 15
           },
           "zerolinecolor": "white",
           "zerolinewidth": 2
          }
         }
        },
        "title": {
         "text": "K Means Clustering Scree Plots by varying number of PCA components"
        },
        "xaxis": {
         "anchor": "y",
         "domain": [
          0,
          0.2888888888888889
         ]
        },
        "xaxis10": {
         "anchor": "y10",
         "domain": [
          0,
          0.2888888888888889
         ]
        },
        "xaxis11": {
         "anchor": "y11",
         "domain": [
          0.35555555555555557,
          0.6444444444444445
         ]
        },
        "xaxis12": {
         "anchor": "y12",
         "domain": [
          0.7111111111111111,
          1
         ]
        },
        "xaxis13": {
         "anchor": "y13",
         "domain": [
          0,
          0.2888888888888889
         ]
        },
        "xaxis14": {
         "anchor": "y14",
         "domain": [
          0.35555555555555557,
          0.6444444444444445
         ]
        },
        "xaxis15": {
         "anchor": "y15",
         "domain": [
          0.7111111111111111,
          1
         ]
        },
        "xaxis2": {
         "anchor": "y2",
         "domain": [
          0.35555555555555557,
          0.6444444444444445
         ]
        },
        "xaxis3": {
         "anchor": "y3",
         "domain": [
          0.7111111111111111,
          1
         ]
        },
        "xaxis4": {
         "anchor": "y4",
         "domain": [
          0,
          0.2888888888888889
         ]
        },
        "xaxis5": {
         "anchor": "y5",
         "domain": [
          0.35555555555555557,
          0.6444444444444445
         ]
        },
        "xaxis6": {
         "anchor": "y6",
         "domain": [
          0.7111111111111111,
          1
         ]
        },
        "xaxis7": {
         "anchor": "y7",
         "domain": [
          0,
          0.2888888888888889
         ]
        },
        "xaxis8": {
         "anchor": "y8",
         "domain": [
          0.35555555555555557,
          0.6444444444444445
         ]
        },
        "xaxis9": {
         "anchor": "y9",
         "domain": [
          0.7111111111111111,
          1
         ]
        },
        "yaxis": {
         "anchor": "x",
         "domain": [
          0.848,
          1
         ]
        },
        "yaxis10": {
         "anchor": "x10",
         "domain": [
          0.212,
          0.364
         ]
        },
        "yaxis11": {
         "anchor": "x11",
         "domain": [
          0.212,
          0.364
         ]
        },
        "yaxis12": {
         "anchor": "x12",
         "domain": [
          0.212,
          0.364
         ]
        },
        "yaxis13": {
         "anchor": "x13",
         "domain": [
          0,
          0.152
         ]
        },
        "yaxis14": {
         "anchor": "x14",
         "domain": [
          0,
          0.152
         ]
        },
        "yaxis15": {
         "anchor": "x15",
         "domain": [
          0,
          0.152
         ]
        },
        "yaxis2": {
         "anchor": "x2",
         "domain": [
          0.848,
          1
         ]
        },
        "yaxis3": {
         "anchor": "x3",
         "domain": [
          0.848,
          1
         ]
        },
        "yaxis4": {
         "anchor": "x4",
         "domain": [
          0.6359999999999999,
          0.7879999999999999
         ]
        },
        "yaxis5": {
         "anchor": "x5",
         "domain": [
          0.6359999999999999,
          0.7879999999999999
         ]
        },
        "yaxis6": {
         "anchor": "x6",
         "domain": [
          0.6359999999999999,
          0.7879999999999999
         ]
        },
        "yaxis7": {
         "anchor": "x7",
         "domain": [
          0.424,
          0.576
         ]
        },
        "yaxis8": {
         "anchor": "x8",
         "domain": [
          0.424,
          0.576
         ]
        },
        "yaxis9": {
         "anchor": "x9",
         "domain": [
          0.424,
          0.576
         ]
        }
       }
      },
      "text/html": [
       "<div>                            <div id=\"766644aa-512c-44c1-ab3f-27761be996c0\" class=\"plotly-graph-div\" style=\"height:525px; width:100%;\"></div>            <script type=\"text/javascript\">                require([\"plotly\"], function(Plotly) {                    window.PLOTLYENV=window.PLOTLYENV || {};                                    if (document.getElementById(\"766644aa-512c-44c1-ab3f-27761be996c0\")) {                    Plotly.newPlot(                        \"766644aa-512c-44c1-ab3f-27761be996c0\",                        [{\"name\": \"1 PCA components\", \"type\": \"scatter\", \"xaxis\": \"x2\", \"y\": [221.2249260000652, 42.00745271772612, 22.138726199133238, 14.665249297062921, 7.3382361960537414, 5.555521566924689, 4.2997675302726766, 3.1059850430053393, 2.0551173680355164, 1.6182193951300563, 1.308494184796986, 1.0908350760465937, 0.8683737114743943, 0.7409328146645976, 0.624351872895972, 0.5632257596522661, 0.4230963345307271, 0.3574821692282284, 0.30197122078589983], \"yaxis\": \"y2\"}, {\"name\": \"2 PCA components\", \"type\": \"scatter\", \"xaxis\": \"x3\", \"y\": [393.8605678820788, 213.8370729182495, 100.48192808378967, 78.40714964670103, 56.92639129447656, 45.60225145134852, 40.10434891537586, 36.24887874270173, 30.802415798130657, 28.400924351075762, 25.02012155269708, 22.450589948385396, 19.166326125927274, 16.702315344924944, 15.155254681031124, 14.671897332366632, 13.507274286364106, 11.687413460227312, 10.657069846168849], \"yaxis\": \"y3\"}, {\"name\": \"3 PCA components\", \"type\": \"scatter\", \"xaxis\": \"x4\", \"y\": [523.0279439571766, 342.7492730730371, 227.73444490297348, 134.9401160785399, 107.75007916018457, 82.55695584874012, 69.40938430885022, 61.81987625529786, 56.990461594519616, 51.93237118430152, 50.548035652306105, 45.73816364453241, 42.56502097918412, 38.344242019172796, 34.62302497826238, 32.4071155017964, 30.80321581560015, 29.66316704733601, 26.577226974455233], \"yaxis\": \"y4\"}, {\"name\": \"4 PCA components\", \"type\": \"scatter\", \"xaxis\": \"x5\", \"y\": [635.4652306025787, 454.77402084197337, 332.7314710880374, 238.09091297533394, 179.52783362049064, 146.93135994074768, 128.6065864950541, 111.04045258098425, 99.70986474944593, 90.87110112172023, 85.44857548554032, 78.1243136269393, 70.98710347509447, 66.39132390323458, 60.98130704511952, 58.42276921874038, 53.31630579356242, 51.37255815924866, 48.04337819654191], \"yaxis\": \"y5\"}, {\"name\": \"5 PCA components\", \"type\": \"scatter\", \"xaxis\": \"x6\", \"y\": [744.3919987000883, 563.6487905585404, 435.4885032179611, 335.3450784126386, 270.8610400193261, 206.51489124144217, 179.99707264642456, 159.93968668503842, 143.4173107869562, 130.92662421218375, 116.33127206789673, 105.5713197056615, 101.24728466871721, 90.22217245035709, 87.89490408446959, 79.60764906490166, 75.72431433886837, 71.64622937918749, 67.39650453439576], \"yaxis\": \"y6\"}, {\"name\": \"6 PCA components\", \"type\": \"scatter\", \"xaxis\": \"x7\", \"y\": [839.1336696856422, 658.3868130972355, 529.746235960598, 429.11017595701037, 361.9106868032121, 294.01381171727525, 240.34947389626387, 216.57137204344298, 199.22089393525218, 178.0517907719524, 155.62980346211933, 143.25733972308214, 129.22705759206966, 119.09044888370131, 112.73125527959449, 106.5076419756974, 97.22353604297754, 94.87131544072808, 85.01939069060151], \"yaxis\": \"y7\"}, {\"name\": \"7 PCA components\", \"type\": \"scatter\", \"xaxis\": \"x8\", \"y\": [916.7064515566395, 735.8192984174013, 607.035975506055, 510.176796099175, 438.80174049272557, 371.8379740738154, 307.57490172021903, 265.7525243379386, 232.28224829712278, 209.74964417364086, 185.03872389223625, 167.30217662595857, 147.1631979130635, 145.13152110757346, 128.3868866330036, 117.55186616410768, 114.1622454742597, 107.21296033345322, 97.10322457143374], \"yaxis\": \"y8\"}, {\"name\": \"8 PCA components\", \"type\": \"scatter\", \"xaxis\": \"x9\", \"y\": [983.5601552544244, 802.6247346303484, 674.0948132827989, 569.886862896774, 500.52841739774846, 433.09057995910723, 380.0510274990395, 327.8691050232886, 295.22102901962376, 269.98816484728826, 234.74742564104932, 216.83669843147268, 189.00702561941065, 170.14701596191136, 159.26167986853508, 147.7848812704702, 143.4921017317128, 131.38983427879515, 129.00886165458675], \"yaxis\": \"y9\"}, {\"name\": \"9 PCA components\", \"type\": \"scatter\", \"xaxis\": \"x10\", \"y\": [1040.13557992331, 858.0448095502584, 728.261202248181, 623.607670888745, 555.2564282495732, 482.72041305499874, 424.6479045221833, 371.2089813756982, 335.6730674887624, 298.55650664500945, 267.30258454092325, 228.4255915824338, 210.46806551485776, 202.76329847283947, 179.58310711303437, 173.45113814211393, 160.86678455190597, 152.14215025589633, 139.87313725869714], \"yaxis\": \"y10\"}, {\"name\": \"10 PCA components\", \"type\": \"scatter\", \"xaxis\": \"x11\", \"y\": [1086.3957253903554, 904.2928172438254, 774.8275454679256, 669.4955829019681, 608.0050044419232, 543.9960795789211, 478.0955680465499, 426.3124430689324, 377.41646743242126, 339.8689217930176, 297.92244847243006, 275.04456523906634, 246.11576635413738, 226.21870084379262, 215.95249146260258, 202.38352699409637, 190.02125639863328, 173.8700633456722, 162.34512391119958], \"yaxis\": \"y11\"}, {\"name\": \"11 PCA components\", \"type\": \"scatter\", \"xaxis\": \"x12\", \"y\": [1127.2904619563794, 945.1516774459184, 815.0025799244004, 717.6123908751379, 634.7976223535459, 567.2013005256874, 531.9118874932768, 452.7115916089066, 406.2438023058395, 372.3779356622132, 332.4964931100533, 303.8251927940378, 275.65350908637373, 250.90265662070075, 238.58315442076574, 221.60272288020096, 204.97264172593074, 194.34808084408988, 178.6170120390719], \"yaxis\": \"y12\"}, {\"name\": \"12 PCA components\", \"type\": \"scatter\", \"xaxis\": \"x13\", \"y\": [1156.9776009764578, 974.8375512236172, 844.4162091802546, 763.5012185209416, 661.7999633769219, 597.4007843625609, 529.8729332435711, 483.1147279050784, 435.11204472402613, 399.290646901943, 358.4182131096544, 311.611107532132, 302.8348966059095, 272.00236257690864, 253.11919484082196, 233.74046039829295, 220.42440221725062, 206.16432430470596, 180.82670275513772], \"yaxis\": \"y13\"}, {\"name\": \"13 PCA components\", \"type\": \"scatter\", \"xaxis\": \"x14\", \"y\": [1157.0000000000005, 976.1853508960512, 844.4385704471246, 744.8542994338115, 662.0094603528481, 596.2711444289715, 539.3251783719563, 486.33740324679053, 433.4284018791598, 398.18851416553565, 355.2875074249965, 310.38594546263244, 290.3459622827127, 260.1730866594551, 251.5753189912782, 228.11518150907014, 212.00973125300618, 205.4140343967367, 191.85901429039689], \"yaxis\": \"y14\"}],                        {\"template\": {\"data\": {\"bar\": [{\"error_x\": {\"color\": \"#2a3f5f\"}, \"error_y\": {\"color\": \"#2a3f5f\"}, \"marker\": {\"line\": {\"color\": \"#E5ECF6\", \"width\": 0.5}}, \"type\": \"bar\"}], \"barpolar\": [{\"marker\": {\"line\": {\"color\": \"#E5ECF6\", \"width\": 0.5}}, \"type\": \"barpolar\"}], \"carpet\": [{\"aaxis\": {\"endlinecolor\": \"#2a3f5f\", \"gridcolor\": \"white\", \"linecolor\": \"white\", \"minorgridcolor\": \"white\", \"startlinecolor\": \"#2a3f5f\"}, \"baxis\": {\"endlinecolor\": \"#2a3f5f\", \"gridcolor\": \"white\", \"linecolor\": \"white\", \"minorgridcolor\": \"white\", \"startlinecolor\": \"#2a3f5f\"}, \"type\": \"carpet\"}], \"choropleth\": [{\"colorbar\": {\"outlinewidth\": 0, \"ticks\": \"\"}, \"type\": \"choropleth\"}], \"contour\": [{\"colorbar\": {\"outlinewidth\": 0, \"ticks\": \"\"}, \"colorscale\": [[0.0, \"#0d0887\"], [0.1111111111111111, \"#46039f\"], [0.2222222222222222, \"#7201a8\"], [0.3333333333333333, \"#9c179e\"], [0.4444444444444444, \"#bd3786\"], [0.5555555555555556, \"#d8576b\"], [0.6666666666666666, \"#ed7953\"], [0.7777777777777778, \"#fb9f3a\"], [0.8888888888888888, \"#fdca26\"], [1.0, \"#f0f921\"]], \"type\": \"contour\"}], \"contourcarpet\": [{\"colorbar\": {\"outlinewidth\": 0, \"ticks\": \"\"}, \"type\": \"contourcarpet\"}], \"heatmap\": [{\"colorbar\": {\"outlinewidth\": 0, \"ticks\": \"\"}, \"colorscale\": [[0.0, \"#0d0887\"], [0.1111111111111111, \"#46039f\"], [0.2222222222222222, \"#7201a8\"], [0.3333333333333333, \"#9c179e\"], [0.4444444444444444, \"#bd3786\"], [0.5555555555555556, \"#d8576b\"], [0.6666666666666666, \"#ed7953\"], [0.7777777777777778, \"#fb9f3a\"], [0.8888888888888888, \"#fdca26\"], [1.0, \"#f0f921\"]], \"type\": \"heatmap\"}], \"heatmapgl\": [{\"colorbar\": {\"outlinewidth\": 0, \"ticks\": \"\"}, \"colorscale\": [[0.0, \"#0d0887\"], [0.1111111111111111, \"#46039f\"], [0.2222222222222222, \"#7201a8\"], [0.3333333333333333, \"#9c179e\"], [0.4444444444444444, \"#bd3786\"], [0.5555555555555556, \"#d8576b\"], [0.6666666666666666, \"#ed7953\"], [0.7777777777777778, \"#fb9f3a\"], [0.8888888888888888, \"#fdca26\"], [1.0, \"#f0f921\"]], \"type\": \"heatmapgl\"}], \"histogram\": [{\"marker\": {\"colorbar\": {\"outlinewidth\": 0, \"ticks\": \"\"}}, \"type\": \"histogram\"}], \"histogram2d\": [{\"colorbar\": {\"outlinewidth\": 0, \"ticks\": \"\"}, \"colorscale\": [[0.0, \"#0d0887\"], [0.1111111111111111, \"#46039f\"], [0.2222222222222222, \"#7201a8\"], [0.3333333333333333, \"#9c179e\"], [0.4444444444444444, \"#bd3786\"], [0.5555555555555556, \"#d8576b\"], [0.6666666666666666, \"#ed7953\"], [0.7777777777777778, \"#fb9f3a\"], [0.8888888888888888, \"#fdca26\"], [1.0, \"#f0f921\"]], \"type\": \"histogram2d\"}], \"histogram2dcontour\": [{\"colorbar\": {\"outlinewidth\": 0, \"ticks\": \"\"}, \"colorscale\": [[0.0, \"#0d0887\"], [0.1111111111111111, \"#46039f\"], [0.2222222222222222, \"#7201a8\"], [0.3333333333333333, \"#9c179e\"], [0.4444444444444444, \"#bd3786\"], [0.5555555555555556, \"#d8576b\"], [0.6666666666666666, \"#ed7953\"], [0.7777777777777778, \"#fb9f3a\"], [0.8888888888888888, \"#fdca26\"], [1.0, \"#f0f921\"]], \"type\": \"histogram2dcontour\"}], \"mesh3d\": [{\"colorbar\": {\"outlinewidth\": 0, \"ticks\": \"\"}, \"type\": \"mesh3d\"}], \"parcoords\": [{\"line\": {\"colorbar\": {\"outlinewidth\": 0, \"ticks\": \"\"}}, \"type\": \"parcoords\"}], \"pie\": [{\"automargin\": true, \"type\": \"pie\"}], \"scatter\": [{\"marker\": {\"colorbar\": {\"outlinewidth\": 0, \"ticks\": \"\"}}, \"type\": \"scatter\"}], \"scatter3d\": [{\"line\": {\"colorbar\": {\"outlinewidth\": 0, \"ticks\": \"\"}}, \"marker\": {\"colorbar\": {\"outlinewidth\": 0, \"ticks\": \"\"}}, \"type\": \"scatter3d\"}], \"scattercarpet\": [{\"marker\": {\"colorbar\": {\"outlinewidth\": 0, \"ticks\": \"\"}}, \"type\": \"scattercarpet\"}], \"scattergeo\": [{\"marker\": {\"colorbar\": {\"outlinewidth\": 0, \"ticks\": \"\"}}, \"type\": \"scattergeo\"}], \"scattergl\": [{\"marker\": {\"colorbar\": {\"outlinewidth\": 0, \"ticks\": \"\"}}, \"type\": \"scattergl\"}], \"scattermapbox\": [{\"marker\": {\"colorbar\": {\"outlinewidth\": 0, \"ticks\": \"\"}}, \"type\": \"scattermapbox\"}], \"scatterpolar\": [{\"marker\": {\"colorbar\": {\"outlinewidth\": 0, \"ticks\": \"\"}}, \"type\": \"scatterpolar\"}], \"scatterpolargl\": [{\"marker\": {\"colorbar\": {\"outlinewidth\": 0, \"ticks\": \"\"}}, \"type\": \"scatterpolargl\"}], \"scatterternary\": [{\"marker\": {\"colorbar\": {\"outlinewidth\": 0, \"ticks\": \"\"}}, \"type\": \"scatterternary\"}], \"surface\": [{\"colorbar\": {\"outlinewidth\": 0, \"ticks\": \"\"}, \"colorscale\": [[0.0, \"#0d0887\"], [0.1111111111111111, \"#46039f\"], [0.2222222222222222, \"#7201a8\"], [0.3333333333333333, \"#9c179e\"], [0.4444444444444444, \"#bd3786\"], [0.5555555555555556, \"#d8576b\"], [0.6666666666666666, \"#ed7953\"], [0.7777777777777778, \"#fb9f3a\"], [0.8888888888888888, \"#fdca26\"], [1.0, \"#f0f921\"]], \"type\": \"surface\"}], \"table\": [{\"cells\": {\"fill\": {\"color\": \"#EBF0F8\"}, \"line\": {\"color\": \"white\"}}, \"header\": {\"fill\": {\"color\": \"#C8D4E3\"}, \"line\": {\"color\": \"white\"}}, \"type\": \"table\"}]}, \"layout\": {\"annotationdefaults\": {\"arrowcolor\": \"#2a3f5f\", \"arrowhead\": 0, \"arrowwidth\": 1}, \"autotypenumbers\": \"strict\", \"coloraxis\": {\"colorbar\": {\"outlinewidth\": 0, \"ticks\": \"\"}}, \"colorscale\": {\"diverging\": [[0, \"#8e0152\"], [0.1, \"#c51b7d\"], [0.2, \"#de77ae\"], [0.3, \"#f1b6da\"], [0.4, \"#fde0ef\"], [0.5, \"#f7f7f7\"], [0.6, \"#e6f5d0\"], [0.7, \"#b8e186\"], [0.8, \"#7fbc41\"], [0.9, \"#4d9221\"], [1, \"#276419\"]], \"sequential\": [[0.0, \"#0d0887\"], [0.1111111111111111, \"#46039f\"], [0.2222222222222222, \"#7201a8\"], [0.3333333333333333, \"#9c179e\"], [0.4444444444444444, \"#bd3786\"], [0.5555555555555556, \"#d8576b\"], [0.6666666666666666, \"#ed7953\"], [0.7777777777777778, \"#fb9f3a\"], [0.8888888888888888, \"#fdca26\"], [1.0, \"#f0f921\"]], \"sequentialminus\": [[0.0, \"#0d0887\"], [0.1111111111111111, \"#46039f\"], [0.2222222222222222, \"#7201a8\"], [0.3333333333333333, \"#9c179e\"], [0.4444444444444444, \"#bd3786\"], [0.5555555555555556, \"#d8576b\"], [0.6666666666666666, \"#ed7953\"], [0.7777777777777778, \"#fb9f3a\"], [0.8888888888888888, \"#fdca26\"], [1.0, \"#f0f921\"]]}, \"colorway\": [\"#636efa\", \"#EF553B\", \"#00cc96\", \"#ab63fa\", \"#FFA15A\", \"#19d3f3\", \"#FF6692\", \"#B6E880\", \"#FF97FF\", \"#FECB52\"], \"font\": {\"color\": \"#2a3f5f\"}, \"geo\": {\"bgcolor\": \"white\", \"lakecolor\": \"white\", \"landcolor\": \"#E5ECF6\", \"showlakes\": true, \"showland\": true, \"subunitcolor\": \"white\"}, \"hoverlabel\": {\"align\": \"left\"}, \"hovermode\": \"closest\", \"mapbox\": {\"style\": \"light\"}, \"paper_bgcolor\": \"white\", \"plot_bgcolor\": \"#E5ECF6\", \"polar\": {\"angularaxis\": {\"gridcolor\": \"white\", \"linecolor\": \"white\", \"ticks\": \"\"}, \"bgcolor\": \"#E5ECF6\", \"radialaxis\": {\"gridcolor\": \"white\", \"linecolor\": \"white\", \"ticks\": \"\"}}, \"scene\": {\"xaxis\": {\"backgroundcolor\": \"#E5ECF6\", \"gridcolor\": \"white\", \"gridwidth\": 2, \"linecolor\": \"white\", \"showbackground\": true, \"ticks\": \"\", \"zerolinecolor\": \"white\"}, \"yaxis\": {\"backgroundcolor\": \"#E5ECF6\", \"gridcolor\": \"white\", \"gridwidth\": 2, \"linecolor\": \"white\", \"showbackground\": true, \"ticks\": \"\", \"zerolinecolor\": \"white\"}, \"zaxis\": {\"backgroundcolor\": \"#E5ECF6\", \"gridcolor\": \"white\", \"gridwidth\": 2, \"linecolor\": \"white\", \"showbackground\": true, \"ticks\": \"\", \"zerolinecolor\": \"white\"}}, \"shapedefaults\": {\"line\": {\"color\": \"#2a3f5f\"}}, \"ternary\": {\"aaxis\": {\"gridcolor\": \"white\", \"linecolor\": \"white\", \"ticks\": \"\"}, \"baxis\": {\"gridcolor\": \"white\", \"linecolor\": \"white\", \"ticks\": \"\"}, \"bgcolor\": \"#E5ECF6\", \"caxis\": {\"gridcolor\": \"white\", \"linecolor\": \"white\", \"ticks\": \"\"}}, \"title\": {\"x\": 0.05}, \"xaxis\": {\"automargin\": true, \"gridcolor\": \"white\", \"linecolor\": \"white\", \"ticks\": \"\", \"title\": {\"standoff\": 15}, \"zerolinecolor\": \"white\", \"zerolinewidth\": 2}, \"yaxis\": {\"automargin\": true, \"gridcolor\": \"white\", \"linecolor\": \"white\", \"ticks\": \"\", \"title\": {\"standoff\": 15}, \"zerolinecolor\": \"white\", \"zerolinewidth\": 2}}}, \"title\": {\"text\": \"K Means Clustering Scree Plots by varying number of PCA components\"}, \"xaxis\": {\"anchor\": \"y\", \"domain\": [0.0, 0.2888888888888889]}, \"xaxis10\": {\"anchor\": \"y10\", \"domain\": [0.0, 0.2888888888888889]}, \"xaxis11\": {\"anchor\": \"y11\", \"domain\": [0.35555555555555557, 0.6444444444444445]}, \"xaxis12\": {\"anchor\": \"y12\", \"domain\": [0.7111111111111111, 1.0]}, \"xaxis13\": {\"anchor\": \"y13\", \"domain\": [0.0, 0.2888888888888889]}, \"xaxis14\": {\"anchor\": \"y14\", \"domain\": [0.35555555555555557, 0.6444444444444445]}, \"xaxis15\": {\"anchor\": \"y15\", \"domain\": [0.7111111111111111, 1.0]}, \"xaxis2\": {\"anchor\": \"y2\", \"domain\": [0.35555555555555557, 0.6444444444444445]}, \"xaxis3\": {\"anchor\": \"y3\", \"domain\": [0.7111111111111111, 1.0]}, \"xaxis4\": {\"anchor\": \"y4\", \"domain\": [0.0, 0.2888888888888889]}, \"xaxis5\": {\"anchor\": \"y5\", \"domain\": [0.35555555555555557, 0.6444444444444445]}, \"xaxis6\": {\"anchor\": \"y6\", \"domain\": [0.7111111111111111, 1.0]}, \"xaxis7\": {\"anchor\": \"y7\", \"domain\": [0.0, 0.2888888888888889]}, \"xaxis8\": {\"anchor\": \"y8\", \"domain\": [0.35555555555555557, 0.6444444444444445]}, \"xaxis9\": {\"anchor\": \"y9\", \"domain\": [0.7111111111111111, 1.0]}, \"yaxis\": {\"anchor\": \"x\", \"domain\": [0.848, 1.0]}, \"yaxis10\": {\"anchor\": \"x10\", \"domain\": [0.212, 0.364]}, \"yaxis11\": {\"anchor\": \"x11\", \"domain\": [0.212, 0.364]}, \"yaxis12\": {\"anchor\": \"x12\", \"domain\": [0.212, 0.364]}, \"yaxis13\": {\"anchor\": \"x13\", \"domain\": [0.0, 0.152]}, \"yaxis14\": {\"anchor\": \"x14\", \"domain\": [0.0, 0.152]}, \"yaxis15\": {\"anchor\": \"x15\", \"domain\": [0.0, 0.152]}, \"yaxis2\": {\"anchor\": \"x2\", \"domain\": [0.848, 1.0]}, \"yaxis3\": {\"anchor\": \"x3\", \"domain\": [0.848, 1.0]}, \"yaxis4\": {\"anchor\": \"x4\", \"domain\": [0.6359999999999999, 0.7879999999999999]}, \"yaxis5\": {\"anchor\": \"x5\", \"domain\": [0.6359999999999999, 0.7879999999999999]}, \"yaxis6\": {\"anchor\": \"x6\", \"domain\": [0.6359999999999999, 0.7879999999999999]}, \"yaxis7\": {\"anchor\": \"x7\", \"domain\": [0.424, 0.576]}, \"yaxis8\": {\"anchor\": \"x8\", \"domain\": [0.424, 0.576]}, \"yaxis9\": {\"anchor\": \"x9\", \"domain\": [0.424, 0.576]}},                        {\"responsive\": true}                    ).then(function(){\n",
       "                            \n",
       "var gd = document.getElementById('766644aa-512c-44c1-ab3f-27761be996c0');\n",
       "var x = new MutationObserver(function (mutations, observer) {{\n",
       "        var display = window.getComputedStyle(gd).display;\n",
       "        if (!display || display === 'none') {{\n",
       "            console.log([gd, 'removed!']);\n",
       "            Plotly.purge(gd);\n",
       "            observer.disconnect();\n",
       "        }}\n",
       "}});\n",
       "\n",
       "// Listen for the removal of the full notebook cells\n",
       "var notebookContainer = gd.closest('#notebook-container');\n",
       "if (notebookContainer) {{\n",
       "    x.observe(notebookContainer, {childList: true});\n",
       "}}\n",
       "\n",
       "// Listen for the clearing of the current output cell\n",
       "var outputEl = gd.closest('.output');\n",
       "if (outputEl) {{\n",
       "    x.observe(outputEl, {childList: true});\n",
       "}}\n",
       "\n",
       "                        })                };                });            </script>        </div>"
      ]
     },
     "metadata": {},
     "output_type": "display_data"
    }
   ],
   "source": [
    "# import libraries\n",
    "from sklearn.cluster import KMeans\n",
    "from plotly.subplots import make_subplots\n",
    "import math\n",
    "\n",
    "# create subplots\n",
    "fig=make_subplots(rows=math.ceil(len(dataset_final.columns)/3), cols=3)\n",
    "\n",
    "# perform PCA for a varying number of components\n",
    "for i in range(1,len(dataset_final.columns)+1):\n",
    "    pca = PCA(n_components=i)\n",
    "    pca_result = pca.fit_transform(dataset_scaled)\n",
    "    \n",
    "    # perform K Means Clustering by varying number of clusters\n",
    "    error, cluster =[], []\n",
    "    for k in range(1,20):\n",
    "        km = KMeans(n_clusters=k)\n",
    "        km = km.fit(pca_result)\n",
    "        error.append(km.inertia_)\n",
    "        cluster.append(k)\n",
    "    \n",
    "    # plotting\n",
    "    fig.add_scatter(y=error, row=int(i/3)+1, col=i%3+1, name=str(i)+' PCA components')\n",
    "\n",
    "# output plots\n",
    "fig.update_layout(title='K Means Clustering Scree Plots by varying number of PCA components')\n",
    "fig.show()\n",
    "\n",
    "\n"
   ]
  },
  {
   "cell_type": "markdown",
   "id": "federal-lebanon",
   "metadata": {},
   "source": [
    "The higher the number of PCA components, the more information I get to preserve from the original features. Therefore, I am incentivized to maximize the number of PCA components among scree plots with an elbow. In this case, 4 PCA components and 4 clusters looks like the optimal option. I cannot plot a 6-dimension graph, so I randomly use two of the features for visualization. Each color represents one cluster. "
   ]
  },
  {
   "cell_type": "code",
   "execution_count": 31,
   "id": "directed-wheat",
   "metadata": {},
   "outputs": [
    {
     "data": {
      "application/vnd.plotly.v1+json": {
       "config": {
        "linkText": "Export to plot.ly",
        "plotlyServerURL": "https://plot.ly",
        "showLink": true
       },
       "data": [
        {
         "marker": {
          "color": "rgba(255, 153, 51, 1.0)",
          "line": {
           "width": 1.3
          },
          "opacity": 0.8,
          "size": 12,
          "symbol": "circle"
         },
         "mode": "markers",
         "name": "1.0",
         "text": [
          "ARK Innovation ETF",
          "ARK Next Generation Internet ETF",
          "ARK Fintech Innovation ETF",
          "First Trust NASDAQ Cybersecurity ETF",
          "ARK Autonomous Technology & Robotics ETF",
          "Invesco Solar ETF",
          "Global X Lithium & Battery Tech ETF",
          "First Trust NASDAQ Clean Edge Green Energy Index Fund",
          "Global X Robotics & Artificial Intelligence ETF",
          "Invesco WilderHill Clean Energy ETF",
          "ETFMG Prime Cyber Security ETF",
          "SPDR S&P Kensho New Economies Composite ETF",
          "ROBO Global Robotics and Automation Index ETF",
          "ETFMG Prime Mobile Payments ETF",
          "Amplify Transformational Data Sharing ETF",
          "Global X FinTech ETF",
          "Defiance Next Gen Connectivity ETF",
          "First Trust Indxx NextG ETF",
          "ALPS Clean Energy ETF",
          "Global X Autonomous & Electric Vehicles ETF",
          "VanEck Vectors Video Gaming and eSports ETF",
          "iShares MSCI ACWI Low Carbon Target ETF",
          "3D Printing ETF",
          "Invesco MSCI Sustainable Future ETF",
          "Global X Social Media ETF",
          "iShares Robotics and Artificial Intelligence Multisector ETF",
          "Invesco Global Clean Energy ETF",
          "Global X Internet of Things ETF",
          "VanEck Vectors Low Carbon Energy ETF",
          "SPDR S&P Kensho Clean Power ETF",
          "iShares Self-Driving EV and Tech ETF",
          "Siren Nasdaq NexGen Economy ETF",
          "SPDR S&P Kensho Smart Mobility ETF",
          "Global X E-commerce ETF",
          "First Trust Nasdaq Artificial Intelligence and Robotics ETF",
          "Global X Artificial Intelligence & Technology ETF",
          "KraneShares Electric Vehicles and Future Mobility Index ETF",
          "Global X Millennial Consumer ETF",
          "Wedbush ETFMG Video Game Tech ETF",
          "SPDR MSCI ACWI Low Carbon Target ETF",
          "Principal Millennials Index ETF",
          "First Trust Indxx Innovative Transaction & Process ETF",
          "Direxion Daily Robotics, Artificial Intelligence, & Automati…",
          "Capital Link Global Fintech Leaders ETF",
          "Ecofin Digital Payments Infrastructure Fund",
          "Capital Link Global Green Energy Transport and Technology Le…"
         ],
         "textfont": {
          "color": "#4D5663"
         },
         "type": "scatter",
         "x": [
          0.4299797632493233,
          0.39383910982305925,
          0.34095388106110885,
          0.2790046140041837,
          0.3486747168860525,
          0.4953558846379382,
          0.39598864819692997,
          0.439532695924087,
          0.3125368208668191,
          0.47746441342856827,
          0.27378163006496614,
          0.332955520388999,
          0.2933912972559272,
          0.3353719489163694,
          0.38449092100544807,
          0.3308556841712247,
          0.2759254957636811,
          0.25525253647844526,
          0.40008856169638785,
          0.31945791419634073,
          0.2736205058518233,
          0.2405208189463781,
          0.3587771022030233,
          0.30182527428773787,
          0.3035841298760148,
          0.2801704671832908,
          0.3608990521036176,
          0.30505177629253283,
          0.3581462846695539,
          0.4285856920122476,
          0.29629500941808634,
          0.28216549370711724,
          0.37695572336247274,
          0.29415802780756894,
          0.2993327055662574,
          0.275157063561245,
          0.32744030524677803,
          0.2892240686000495,
          0.3168504878024814,
          0.23691155027735672,
          0.2613817535818415,
          0.28690015646215566,
          0.8647154456511704,
          0.2537028583482845,
          0.3058378857633558,
          0.2961424136782339
         ],
         "y": [
          0.42416646255105217,
          0.4761026020510557,
          0.4013538256723381,
          0.2042838714620041,
          0.42609614367391857,
          0.5251039387504817,
          0.41510203801012935,
          0.5211561404388372,
          0.25064358101121376,
          0.5220933863528026,
          0.1667276849590944,
          0.3457931336901161,
          0.23048896138785646,
          0.227670473056667,
          0.5378100398998122,
          0.22230180300979008,
          0.19256655938491996,
          0.21085344094955927,
          0.4347495285912746,
          0.3489549489696715,
          0.38290648033060104,
          0.18282627994561773,
          0.2406837707722047,
          0.2496256268751085,
          0.3412146507936178,
          0.26223058492370654,
          0.42681758388783275,
          0.28527824617305186,
          0.39985481714662363,
          0.5196344817448124,
          0.32826927221767965,
          0.37743753398272495,
          0.3750491481900706,
          0.30483722108172784,
          0.22361128162395927,
          0.2847472837579841,
          0.3380758873787497,
          0.2564863293879127,
          0.39903918468594757,
          0.18280915216204718,
          0.26359031520074816,
          0.18579528112517774,
          0.3293023124425327,
          0.22857263420216967,
          0.23231906854096662,
          0.31969406106674025
         ]
        },
        {
         "marker": {
          "color": "rgba(55, 128, 191, 1.0)",
          "line": {
           "width": 1.3
          },
          "opacity": 0.8,
          "size": 12,
          "symbol": "circle"
         },
         "mode": "markers",
         "name": "2.0",
         "text": [
          "iShares Global Clean Energy ETF",
          "iShares Global Infrastructure ETF",
          "Global X U.S. Infrastructure Development ETF",
          "FlexShares STOXX Global Broad Infrastructure Index Fund",
          "Invesco Water Resources ETF",
          "First Trust Water ETF",
          "Invesco S&P Global Water Index ETF",
          "iShares U.S. Infrastructure ETF",
          "SPDR S&P Global Infrastructure ETF",
          "First Trust Global Wind Energy ETF",
          "First Trust NASDAQ Clean Edge Smart Grid Infrastructure Inde…",
          "Invesco Global Water ETF",
          "ProShares DJ Brookfield Global Infrastructure ETF",
          "Global X Renewable Energy Producers ETF",
          "VanEck Vectors Environmental Services ETF",
          "SPDR S&P Kensho Intelligent Structures ETF",
          "Ecofin Global Water ESG Fund",
          "VanEck Vectors Uranium+Nuclear Energy ETF",
          "iShares Emerging Markets Infrastructure ETF",
          "Legg Mason Global Infrastructure ETF"
         ],
         "textfont": {
          "color": "#4D5663"
         },
         "type": "scatter",
         "x": [
          0.3779707174335468,
          0.27792064947272005,
          0.35617774966348237,
          0.2346349652736105,
          0.27778237995183386,
          0.2864170212048757,
          0.25551995915913506,
          0.31088776514019884,
          0.2835833167286232,
          0.27934397820122847,
          0.3167788694107227,
          0.24422275979052047,
          0.25656674515819955,
          0.25712613761816344,
          0.2910693139959904,
          0.3206376277866392,
          0.26286991032524554,
          0.2375602961766041,
          0.280870984686949,
          0.22225601558947217
         ],
         "y": [
          0.3907054837346373,
          0.05635454345027724,
          0.25953200991885716,
          0.10880526500738386,
          0.22230460942183217,
          0.23821082358502288,
          0.2097505578092742,
          0.17790130121430736,
          0.056901821505215056,
          0.26350681116076435,
          0.3364108242862458,
          0.19291003251700256,
          0.05906812162149233,
          0.12176575927218569,
          0.19021675557716922,
          0.23124451295069237,
          0.22008763971735168,
          0.06490104099375515,
          -0.033405271495533295,
          0.06659097391120894
         ]
        },
        {
         "marker": {
          "color": "rgba(50, 171, 96, 1.0)",
          "line": {
           "width": 1.3
          },
          "opacity": 0.8,
          "size": 12,
          "symbol": "circle"
         },
         "mode": "markers",
         "name": "3.0",
         "text": [
          "FlexShares Morningstar Global Upstream Natural Resources Ind…",
          "SPDR S&P Global Natural Resources ETF",
          "VanEck Vectors Agribusiness ETF",
          "Global X Uranium ETF",
          "SPDR S&P North American Natural Resources ETF",
          "iShares Global Timber & Forestry ETF",
          "iShares North American Natural Resources ETF",
          "Columbia Emerging Markets Consumer ETF",
          "Amplify Lithium & Battery Technology ETF",
          "Invesco MSCI Global Timber ETF",
          "Columbia India Consumer ETF",
          "iShares MSCI Global Agriculture Producers ETF",
          "VanEck Vectors Natural Resources ETF",
          "Global X Health & Wellness ETF",
          "First Trust Indxx Global Natural Resources Income ETF",
          "IQ Global Resources ETF",
          "KraneShares MSCI One Belt One Road Index ETF",
          "First Trust Indxx Global Agriculture ETF"
         ],
         "textfont": {
          "color": "#4D5663"
         },
         "type": "scatter",
         "x": [
          0.2955097470166918,
          0.32145106939117996,
          0.2595136042892328,
          0.3319058207891523,
          0.3246379351622246,
          0.32743334801289425,
          0.3721342066236388,
          0.2555647160885352,
          0.35455719207959685,
          0.29443293721329794,
          0.29674485946919205,
          0.27062827191108635,
          0.29187554870072124,
          0.26199527964508623,
          0.3161128905876638,
          0.18201265847093323,
          0.2584765566334281,
          0.2868696486092506
         ],
         "y": [
          0.14186447091283383,
          0.13857844646384998,
          0.20891896753274963,
          0.31815286712042834,
          0.1910649504778863,
          0.2321907011673563,
          0.048217321083921405,
          0.11245488528976999,
          0.17221331272888607,
          0.2161038483924691,
          0.11875936572965706,
          0.22911225213903919,
          0.1858159576025371,
          0.1699328326696079,
          0.16418217268167656,
          0.11462755002553626,
          0.1747770478446764,
          0.16157971147113215
         ]
        },
        {
         "marker": {
          "color": "rgba(128, 0, 128, 1.0)",
          "line": {
           "width": 1.3
          },
          "opacity": 0.8,
          "size": 12,
          "symbol": "circle"
         },
         "mode": "markers",
         "name": "0.0",
         "text": [
          "ETFMG Alternative Harvest ETF",
          "AdvisorShares Pure Cannabis ETF",
          "ProShares Pet Care ETF",
          "Global X Aging Population ETF",
          "The Long-Term Care ETF"
         ],
         "textfont": {
          "color": "#4D5663"
         },
         "type": "scatter",
         "x": [
          0.5377791872135085,
          0.46438069433010354,
          0.2587996121842458,
          0.22524767461562756,
          0.36751185713096246
         ],
         "y": [
          -0.21954394810846,
          -0.04834725655988281,
          0.30896278510658237,
          0.164705300860023,
          0.10023616001394164
         ]
        }
       ],
       "layout": {
        "legend": {
         "bgcolor": "#F5F6F9",
         "font": {
          "color": "#4D5663"
         }
        },
        "paper_bgcolor": "#F5F6F9",
        "plot_bgcolor": "#F5F6F9",
        "showlegend": false,
        "template": {
         "data": {
          "bar": [
           {
            "error_x": {
             "color": "#2a3f5f"
            },
            "error_y": {
             "color": "#2a3f5f"
            },
            "marker": {
             "line": {
              "color": "#E5ECF6",
              "width": 0.5
             }
            },
            "type": "bar"
           }
          ],
          "barpolar": [
           {
            "marker": {
             "line": {
              "color": "#E5ECF6",
              "width": 0.5
             }
            },
            "type": "barpolar"
           }
          ],
          "carpet": [
           {
            "aaxis": {
             "endlinecolor": "#2a3f5f",
             "gridcolor": "white",
             "linecolor": "white",
             "minorgridcolor": "white",
             "startlinecolor": "#2a3f5f"
            },
            "baxis": {
             "endlinecolor": "#2a3f5f",
             "gridcolor": "white",
             "linecolor": "white",
             "minorgridcolor": "white",
             "startlinecolor": "#2a3f5f"
            },
            "type": "carpet"
           }
          ],
          "choropleth": [
           {
            "colorbar": {
             "outlinewidth": 0,
             "ticks": ""
            },
            "type": "choropleth"
           }
          ],
          "contour": [
           {
            "colorbar": {
             "outlinewidth": 0,
             "ticks": ""
            },
            "colorscale": [
             [
              0,
              "#0d0887"
             ],
             [
              0.1111111111111111,
              "#46039f"
             ],
             [
              0.2222222222222222,
              "#7201a8"
             ],
             [
              0.3333333333333333,
              "#9c179e"
             ],
             [
              0.4444444444444444,
              "#bd3786"
             ],
             [
              0.5555555555555556,
              "#d8576b"
             ],
             [
              0.6666666666666666,
              "#ed7953"
             ],
             [
              0.7777777777777778,
              "#fb9f3a"
             ],
             [
              0.8888888888888888,
              "#fdca26"
             ],
             [
              1,
              "#f0f921"
             ]
            ],
            "type": "contour"
           }
          ],
          "contourcarpet": [
           {
            "colorbar": {
             "outlinewidth": 0,
             "ticks": ""
            },
            "type": "contourcarpet"
           }
          ],
          "heatmap": [
           {
            "colorbar": {
             "outlinewidth": 0,
             "ticks": ""
            },
            "colorscale": [
             [
              0,
              "#0d0887"
             ],
             [
              0.1111111111111111,
              "#46039f"
             ],
             [
              0.2222222222222222,
              "#7201a8"
             ],
             [
              0.3333333333333333,
              "#9c179e"
             ],
             [
              0.4444444444444444,
              "#bd3786"
             ],
             [
              0.5555555555555556,
              "#d8576b"
             ],
             [
              0.6666666666666666,
              "#ed7953"
             ],
             [
              0.7777777777777778,
              "#fb9f3a"
             ],
             [
              0.8888888888888888,
              "#fdca26"
             ],
             [
              1,
              "#f0f921"
             ]
            ],
            "type": "heatmap"
           }
          ],
          "heatmapgl": [
           {
            "colorbar": {
             "outlinewidth": 0,
             "ticks": ""
            },
            "colorscale": [
             [
              0,
              "#0d0887"
             ],
             [
              0.1111111111111111,
              "#46039f"
             ],
             [
              0.2222222222222222,
              "#7201a8"
             ],
             [
              0.3333333333333333,
              "#9c179e"
             ],
             [
              0.4444444444444444,
              "#bd3786"
             ],
             [
              0.5555555555555556,
              "#d8576b"
             ],
             [
              0.6666666666666666,
              "#ed7953"
             ],
             [
              0.7777777777777778,
              "#fb9f3a"
             ],
             [
              0.8888888888888888,
              "#fdca26"
             ],
             [
              1,
              "#f0f921"
             ]
            ],
            "type": "heatmapgl"
           }
          ],
          "histogram": [
           {
            "marker": {
             "colorbar": {
              "outlinewidth": 0,
              "ticks": ""
             }
            },
            "type": "histogram"
           }
          ],
          "histogram2d": [
           {
            "colorbar": {
             "outlinewidth": 0,
             "ticks": ""
            },
            "colorscale": [
             [
              0,
              "#0d0887"
             ],
             [
              0.1111111111111111,
              "#46039f"
             ],
             [
              0.2222222222222222,
              "#7201a8"
             ],
             [
              0.3333333333333333,
              "#9c179e"
             ],
             [
              0.4444444444444444,
              "#bd3786"
             ],
             [
              0.5555555555555556,
              "#d8576b"
             ],
             [
              0.6666666666666666,
              "#ed7953"
             ],
             [
              0.7777777777777778,
              "#fb9f3a"
             ],
             [
              0.8888888888888888,
              "#fdca26"
             ],
             [
              1,
              "#f0f921"
             ]
            ],
            "type": "histogram2d"
           }
          ],
          "histogram2dcontour": [
           {
            "colorbar": {
             "outlinewidth": 0,
             "ticks": ""
            },
            "colorscale": [
             [
              0,
              "#0d0887"
             ],
             [
              0.1111111111111111,
              "#46039f"
             ],
             [
              0.2222222222222222,
              "#7201a8"
             ],
             [
              0.3333333333333333,
              "#9c179e"
             ],
             [
              0.4444444444444444,
              "#bd3786"
             ],
             [
              0.5555555555555556,
              "#d8576b"
             ],
             [
              0.6666666666666666,
              "#ed7953"
             ],
             [
              0.7777777777777778,
              "#fb9f3a"
             ],
             [
              0.8888888888888888,
              "#fdca26"
             ],
             [
              1,
              "#f0f921"
             ]
            ],
            "type": "histogram2dcontour"
           }
          ],
          "mesh3d": [
           {
            "colorbar": {
             "outlinewidth": 0,
             "ticks": ""
            },
            "type": "mesh3d"
           }
          ],
          "parcoords": [
           {
            "line": {
             "colorbar": {
              "outlinewidth": 0,
              "ticks": ""
             }
            },
            "type": "parcoords"
           }
          ],
          "pie": [
           {
            "automargin": true,
            "type": "pie"
           }
          ],
          "scatter": [
           {
            "marker": {
             "colorbar": {
              "outlinewidth": 0,
              "ticks": ""
             }
            },
            "type": "scatter"
           }
          ],
          "scatter3d": [
           {
            "line": {
             "colorbar": {
              "outlinewidth": 0,
              "ticks": ""
             }
            },
            "marker": {
             "colorbar": {
              "outlinewidth": 0,
              "ticks": ""
             }
            },
            "type": "scatter3d"
           }
          ],
          "scattercarpet": [
           {
            "marker": {
             "colorbar": {
              "outlinewidth": 0,
              "ticks": ""
             }
            },
            "type": "scattercarpet"
           }
          ],
          "scattergeo": [
           {
            "marker": {
             "colorbar": {
              "outlinewidth": 0,
              "ticks": ""
             }
            },
            "type": "scattergeo"
           }
          ],
          "scattergl": [
           {
            "marker": {
             "colorbar": {
              "outlinewidth": 0,
              "ticks": ""
             }
            },
            "type": "scattergl"
           }
          ],
          "scattermapbox": [
           {
            "marker": {
             "colorbar": {
              "outlinewidth": 0,
              "ticks": ""
             }
            },
            "type": "scattermapbox"
           }
          ],
          "scatterpolar": [
           {
            "marker": {
             "colorbar": {
              "outlinewidth": 0,
              "ticks": ""
             }
            },
            "type": "scatterpolar"
           }
          ],
          "scatterpolargl": [
           {
            "marker": {
             "colorbar": {
              "outlinewidth": 0,
              "ticks": ""
             }
            },
            "type": "scatterpolargl"
           }
          ],
          "scatterternary": [
           {
            "marker": {
             "colorbar": {
              "outlinewidth": 0,
              "ticks": ""
             }
            },
            "type": "scatterternary"
           }
          ],
          "surface": [
           {
            "colorbar": {
             "outlinewidth": 0,
             "ticks": ""
            },
            "colorscale": [
             [
              0,
              "#0d0887"
             ],
             [
              0.1111111111111111,
              "#46039f"
             ],
             [
              0.2222222222222222,
              "#7201a8"
             ],
             [
              0.3333333333333333,
              "#9c179e"
             ],
             [
              0.4444444444444444,
              "#bd3786"
             ],
             [
              0.5555555555555556,
              "#d8576b"
             ],
             [
              0.6666666666666666,
              "#ed7953"
             ],
             [
              0.7777777777777778,
              "#fb9f3a"
             ],
             [
              0.8888888888888888,
              "#fdca26"
             ],
             [
              1,
              "#f0f921"
             ]
            ],
            "type": "surface"
           }
          ],
          "table": [
           {
            "cells": {
             "fill": {
              "color": "#EBF0F8"
             },
             "line": {
              "color": "white"
             }
            },
            "header": {
             "fill": {
              "color": "#C8D4E3"
             },
             "line": {
              "color": "white"
             }
            },
            "type": "table"
           }
          ]
         },
         "layout": {
          "annotationdefaults": {
           "arrowcolor": "#2a3f5f",
           "arrowhead": 0,
           "arrowwidth": 1
          },
          "autotypenumbers": "strict",
          "coloraxis": {
           "colorbar": {
            "outlinewidth": 0,
            "ticks": ""
           }
          },
          "colorscale": {
           "diverging": [
            [
             0,
             "#8e0152"
            ],
            [
             0.1,
             "#c51b7d"
            ],
            [
             0.2,
             "#de77ae"
            ],
            [
             0.3,
             "#f1b6da"
            ],
            [
             0.4,
             "#fde0ef"
            ],
            [
             0.5,
             "#f7f7f7"
            ],
            [
             0.6,
             "#e6f5d0"
            ],
            [
             0.7,
             "#b8e186"
            ],
            [
             0.8,
             "#7fbc41"
            ],
            [
             0.9,
             "#4d9221"
            ],
            [
             1,
             "#276419"
            ]
           ],
           "sequential": [
            [
             0,
             "#0d0887"
            ],
            [
             0.1111111111111111,
             "#46039f"
            ],
            [
             0.2222222222222222,
             "#7201a8"
            ],
            [
             0.3333333333333333,
             "#9c179e"
            ],
            [
             0.4444444444444444,
             "#bd3786"
            ],
            [
             0.5555555555555556,
             "#d8576b"
            ],
            [
             0.6666666666666666,
             "#ed7953"
            ],
            [
             0.7777777777777778,
             "#fb9f3a"
            ],
            [
             0.8888888888888888,
             "#fdca26"
            ],
            [
             1,
             "#f0f921"
            ]
           ],
           "sequentialminus": [
            [
             0,
             "#0d0887"
            ],
            [
             0.1111111111111111,
             "#46039f"
            ],
            [
             0.2222222222222222,
             "#7201a8"
            ],
            [
             0.3333333333333333,
             "#9c179e"
            ],
            [
             0.4444444444444444,
             "#bd3786"
            ],
            [
             0.5555555555555556,
             "#d8576b"
            ],
            [
             0.6666666666666666,
             "#ed7953"
            ],
            [
             0.7777777777777778,
             "#fb9f3a"
            ],
            [
             0.8888888888888888,
             "#fdca26"
            ],
            [
             1,
             "#f0f921"
            ]
           ]
          },
          "colorway": [
           "#636efa",
           "#EF553B",
           "#00cc96",
           "#ab63fa",
           "#FFA15A",
           "#19d3f3",
           "#FF6692",
           "#B6E880",
           "#FF97FF",
           "#FECB52"
          ],
          "font": {
           "color": "#2a3f5f"
          },
          "geo": {
           "bgcolor": "white",
           "lakecolor": "white",
           "landcolor": "#E5ECF6",
           "showlakes": true,
           "showland": true,
           "subunitcolor": "white"
          },
          "hoverlabel": {
           "align": "left"
          },
          "hovermode": "closest",
          "mapbox": {
           "style": "light"
          },
          "paper_bgcolor": "white",
          "plot_bgcolor": "#E5ECF6",
          "polar": {
           "angularaxis": {
            "gridcolor": "white",
            "linecolor": "white",
            "ticks": ""
           },
           "bgcolor": "#E5ECF6",
           "radialaxis": {
            "gridcolor": "white",
            "linecolor": "white",
            "ticks": ""
           }
          },
          "scene": {
           "xaxis": {
            "backgroundcolor": "#E5ECF6",
            "gridcolor": "white",
            "gridwidth": 2,
            "linecolor": "white",
            "showbackground": true,
            "ticks": "",
            "zerolinecolor": "white"
           },
           "yaxis": {
            "backgroundcolor": "#E5ECF6",
            "gridcolor": "white",
            "gridwidth": 2,
            "linecolor": "white",
            "showbackground": true,
            "ticks": "",
            "zerolinecolor": "white"
           },
           "zaxis": {
            "backgroundcolor": "#E5ECF6",
            "gridcolor": "white",
            "gridwidth": 2,
            "linecolor": "white",
            "showbackground": true,
            "ticks": "",
            "zerolinecolor": "white"
           }
          },
          "shapedefaults": {
           "line": {
            "color": "#2a3f5f"
           }
          },
          "ternary": {
           "aaxis": {
            "gridcolor": "white",
            "linecolor": "white",
            "ticks": ""
           },
           "baxis": {
            "gridcolor": "white",
            "linecolor": "white",
            "ticks": ""
           },
           "bgcolor": "#E5ECF6",
           "caxis": {
            "gridcolor": "white",
            "linecolor": "white",
            "ticks": ""
           }
          },
          "title": {
           "x": 0.05
          },
          "xaxis": {
           "automargin": true,
           "gridcolor": "white",
           "linecolor": "white",
           "ticks": "",
           "title": {
            "standoff": 15
           },
           "zerolinecolor": "white",
           "zerolinewidth": 2
          },
          "yaxis": {
           "automargin": true,
           "gridcolor": "white",
           "linecolor": "white",
           "ticks": "",
           "title": {
            "standoff": 15
           },
           "zerolinecolor": "white",
           "zerolinewidth": 2
          }
         }
        },
        "title": {
         "font": {
          "color": "#4D5663"
         },
         "text": "Thematic ETF Clusters"
        },
        "xaxis": {
         "gridcolor": "#E1E5ED",
         "showgrid": true,
         "tickfont": {
          "color": "#4D5663"
         },
         "title": {
          "font": {
           "color": "#4D5663"
          },
          "text": "Volatility"
         },
         "zerolinecolor": "#E1E5ED"
        },
        "yaxis": {
         "gridcolor": "#E1E5ED",
         "showgrid": true,
         "tickfont": {
          "color": "#4D5663"
         },
         "title": {
          "font": {
           "color": "#4D5663"
          },
          "text": "Return"
         },
         "zerolinecolor": "#E1E5ED"
        }
       }
      },
      "text/html": [
       "<div>                            <div id=\"80b891a0-6cc9-4e98-86df-e739d0fbc7f8\" class=\"plotly-graph-div\" style=\"height:525px; width:100%;\"></div>            <script type=\"text/javascript\">                require([\"plotly\"], function(Plotly) {                    window.PLOTLYENV=window.PLOTLYENV || {};\n",
       "                    window.PLOTLYENV.BASE_URL='https://plot.ly';                                    if (document.getElementById(\"80b891a0-6cc9-4e98-86df-e739d0fbc7f8\")) {                    Plotly.newPlot(                        \"80b891a0-6cc9-4e98-86df-e739d0fbc7f8\",                        [{\"marker\": {\"color\": \"rgba(255, 153, 51, 1.0)\", \"line\": {\"width\": 1.3}, \"opacity\": 0.8, \"size\": 12, \"symbol\": \"circle\"}, \"mode\": \"markers\", \"name\": \"1.0\", \"text\": [\"ARK Innovation ETF\", \"ARK Next Generation Internet ETF\", \"ARK Fintech Innovation ETF\", \"First Trust NASDAQ Cybersecurity ETF\", \"ARK Autonomous Technology & Robotics ETF\", \"Invesco Solar ETF\", \"Global X Lithium & Battery Tech ETF\", \"First Trust NASDAQ Clean Edge Green Energy Index Fund\", \"Global X Robotics & Artificial Intelligence ETF\", \"Invesco WilderHill Clean Energy ETF\", \"ETFMG Prime Cyber Security ETF\", \"SPDR S&P Kensho New Economies Composite ETF\", \"ROBO Global Robotics and Automation Index ETF\", \"ETFMG Prime Mobile Payments ETF\", \"Amplify Transformational Data Sharing ETF\", \"Global X FinTech ETF\", \"Defiance Next Gen Connectivity ETF\", \"First Trust Indxx NextG ETF\", \"ALPS Clean Energy ETF\", \"Global X Autonomous & Electric Vehicles ETF\", \"VanEck Vectors Video Gaming and eSports ETF\", \"iShares MSCI ACWI Low Carbon Target ETF\", \"3D Printing ETF\", \"Invesco MSCI Sustainable Future ETF\", \"Global X Social Media ETF\", \"iShares Robotics and Artificial Intelligence Multisector ETF\", \"Invesco Global Clean Energy ETF\", \"Global X Internet of Things ETF\", \"VanEck Vectors Low Carbon Energy ETF\", \"SPDR S&P Kensho Clean Power ETF\", \"iShares Self-Driving EV and Tech ETF\", \"Siren Nasdaq NexGen Economy ETF\", \"SPDR S&P Kensho Smart Mobility ETF\", \"Global X E-commerce ETF\", \"First Trust Nasdaq Artificial Intelligence and Robotics ETF\", \"Global X Artificial Intelligence & Technology ETF\", \"KraneShares Electric Vehicles and Future Mobility Index ETF\", \"Global X Millennial Consumer ETF\", \"Wedbush ETFMG Video Game Tech ETF\", \"SPDR MSCI ACWI Low Carbon Target ETF\", \"Principal Millennials Index ETF\", \"First Trust Indxx Innovative Transaction & Process ETF\", \"Direxion Daily Robotics, Artificial Intelligence, & Automati\\u2026\", \"Capital Link Global Fintech Leaders ETF\", \"Ecofin Digital Payments Infrastructure Fund\", \"Capital Link Global Green Energy Transport and Technology Le\\u2026\"], \"textfont\": {\"color\": \"#4D5663\"}, \"type\": \"scatter\", \"x\": [0.4299797632493233, 0.39383910982305925, 0.34095388106110885, 0.2790046140041837, 0.3486747168860525, 0.4953558846379382, 0.39598864819692997, 0.439532695924087, 0.3125368208668191, 0.47746441342856827, 0.27378163006496614, 0.332955520388999, 0.2933912972559272, 0.3353719489163694, 0.38449092100544807, 0.3308556841712247, 0.2759254957636811, 0.25525253647844526, 0.40008856169638785, 0.31945791419634073, 0.2736205058518233, 0.2405208189463781, 0.3587771022030233, 0.30182527428773787, 0.3035841298760148, 0.2801704671832908, 0.3608990521036176, 0.30505177629253283, 0.3581462846695539, 0.4285856920122476, 0.29629500941808634, 0.28216549370711724, 0.37695572336247274, 0.29415802780756894, 0.2993327055662574, 0.275157063561245, 0.32744030524677803, 0.2892240686000495, 0.3168504878024814, 0.23691155027735672, 0.2613817535818415, 0.28690015646215566, 0.8647154456511704, 0.2537028583482845, 0.3058378857633558, 0.2961424136782339], \"y\": [0.42416646255105217, 0.4761026020510557, 0.4013538256723381, 0.2042838714620041, 0.42609614367391857, 0.5251039387504817, 0.41510203801012935, 0.5211561404388372, 0.25064358101121376, 0.5220933863528026, 0.1667276849590944, 0.3457931336901161, 0.23048896138785646, 0.227670473056667, 0.5378100398998122, 0.22230180300979008, 0.19256655938491996, 0.21085344094955927, 0.4347495285912746, 0.3489549489696715, 0.38290648033060104, 0.18282627994561773, 0.2406837707722047, 0.2496256268751085, 0.3412146507936178, 0.26223058492370654, 0.42681758388783275, 0.28527824617305186, 0.39985481714662363, 0.5196344817448124, 0.32826927221767965, 0.37743753398272495, 0.3750491481900706, 0.30483722108172784, 0.22361128162395927, 0.2847472837579841, 0.3380758873787497, 0.2564863293879127, 0.39903918468594757, 0.18280915216204718, 0.26359031520074816, 0.18579528112517774, 0.3293023124425327, 0.22857263420216967, 0.23231906854096662, 0.31969406106674025]}, {\"marker\": {\"color\": \"rgba(55, 128, 191, 1.0)\", \"line\": {\"width\": 1.3}, \"opacity\": 0.8, \"size\": 12, \"symbol\": \"circle\"}, \"mode\": \"markers\", \"name\": \"2.0\", \"text\": [\"iShares Global Clean Energy ETF\", \"iShares Global Infrastructure ETF\", \"Global X U.S. Infrastructure Development ETF\", \"FlexShares STOXX Global Broad Infrastructure Index Fund\", \"Invesco Water Resources ETF\", \"First Trust Water ETF\", \"Invesco S&P Global Water Index ETF\", \"iShares U.S. Infrastructure ETF\", \"SPDR S&P Global Infrastructure ETF\", \"First Trust Global Wind Energy ETF\", \"First Trust NASDAQ Clean Edge Smart Grid Infrastructure Inde\\u2026\", \"Invesco Global Water ETF\", \"ProShares DJ Brookfield Global Infrastructure ETF\", \"Global X Renewable Energy Producers ETF\", \"VanEck Vectors Environmental Services ETF\", \"SPDR S&P Kensho Intelligent Structures ETF\", \"Ecofin Global Water ESG Fund\", \"VanEck Vectors Uranium+Nuclear Energy ETF\", \"iShares Emerging Markets Infrastructure ETF\", \"Legg Mason Global Infrastructure ETF\"], \"textfont\": {\"color\": \"#4D5663\"}, \"type\": \"scatter\", \"x\": [0.3779707174335468, 0.27792064947272005, 0.35617774966348237, 0.2346349652736105, 0.27778237995183386, 0.2864170212048757, 0.25551995915913506, 0.31088776514019884, 0.2835833167286232, 0.27934397820122847, 0.3167788694107227, 0.24422275979052047, 0.25656674515819955, 0.25712613761816344, 0.2910693139959904, 0.3206376277866392, 0.26286991032524554, 0.2375602961766041, 0.280870984686949, 0.22225601558947217], \"y\": [0.3907054837346373, 0.05635454345027724, 0.25953200991885716, 0.10880526500738386, 0.22230460942183217, 0.23821082358502288, 0.2097505578092742, 0.17790130121430736, 0.056901821505215056, 0.26350681116076435, 0.3364108242862458, 0.19291003251700256, 0.05906812162149233, 0.12176575927218569, 0.19021675557716922, 0.23124451295069237, 0.22008763971735168, 0.06490104099375515, -0.033405271495533295, 0.06659097391120894]}, {\"marker\": {\"color\": \"rgba(50, 171, 96, 1.0)\", \"line\": {\"width\": 1.3}, \"opacity\": 0.8, \"size\": 12, \"symbol\": \"circle\"}, \"mode\": \"markers\", \"name\": \"3.0\", \"text\": [\"FlexShares Morningstar Global Upstream Natural Resources Ind\\u2026\", \"SPDR S&P Global Natural Resources ETF\", \"VanEck Vectors Agribusiness ETF\", \"Global X Uranium ETF\", \"SPDR S&P North American Natural Resources ETF\", \"iShares Global Timber & Forestry ETF\", \"iShares North American Natural Resources ETF\", \"Columbia Emerging Markets Consumer ETF\", \"Amplify Lithium & Battery Technology ETF\", \"Invesco MSCI Global Timber ETF\", \"Columbia India Consumer ETF\", \"iShares MSCI Global Agriculture Producers ETF\", \"VanEck Vectors Natural Resources ETF\", \"Global X Health & Wellness ETF\", \"First Trust Indxx Global Natural Resources Income ETF\", \"IQ Global Resources ETF\", \"KraneShares MSCI One Belt One Road Index ETF\", \"First Trust Indxx Global Agriculture ETF\"], \"textfont\": {\"color\": \"#4D5663\"}, \"type\": \"scatter\", \"x\": [0.2955097470166918, 0.32145106939117996, 0.2595136042892328, 0.3319058207891523, 0.3246379351622246, 0.32743334801289425, 0.3721342066236388, 0.2555647160885352, 0.35455719207959685, 0.29443293721329794, 0.29674485946919205, 0.27062827191108635, 0.29187554870072124, 0.26199527964508623, 0.3161128905876638, 0.18201265847093323, 0.2584765566334281, 0.2868696486092506], \"y\": [0.14186447091283383, 0.13857844646384998, 0.20891896753274963, 0.31815286712042834, 0.1910649504778863, 0.2321907011673563, 0.048217321083921405, 0.11245488528976999, 0.17221331272888607, 0.2161038483924691, 0.11875936572965706, 0.22911225213903919, 0.1858159576025371, 0.1699328326696079, 0.16418217268167656, 0.11462755002553626, 0.1747770478446764, 0.16157971147113215]}, {\"marker\": {\"color\": \"rgba(128, 0, 128, 1.0)\", \"line\": {\"width\": 1.3}, \"opacity\": 0.8, \"size\": 12, \"symbol\": \"circle\"}, \"mode\": \"markers\", \"name\": \"0.0\", \"text\": [\"ETFMG Alternative Harvest ETF\", \"AdvisorShares Pure Cannabis ETF\", \"ProShares Pet Care ETF\", \"Global X Aging Population ETF\", \"The Long-Term Care ETF\"], \"textfont\": {\"color\": \"#4D5663\"}, \"type\": \"scatter\", \"x\": [0.5377791872135085, 0.46438069433010354, 0.2587996121842458, 0.22524767461562756, 0.36751185713096246], \"y\": [-0.21954394810846, -0.04834725655988281, 0.30896278510658237, 0.164705300860023, 0.10023616001394164]}],                        {\"legend\": {\"bgcolor\": \"#F5F6F9\", \"font\": {\"color\": \"#4D5663\"}}, \"paper_bgcolor\": \"#F5F6F9\", \"plot_bgcolor\": \"#F5F6F9\", \"showlegend\": false, \"template\": {\"data\": {\"bar\": [{\"error_x\": {\"color\": \"#2a3f5f\"}, \"error_y\": {\"color\": \"#2a3f5f\"}, \"marker\": {\"line\": {\"color\": \"#E5ECF6\", \"width\": 0.5}}, \"type\": \"bar\"}], \"barpolar\": [{\"marker\": {\"line\": {\"color\": \"#E5ECF6\", \"width\": 0.5}}, \"type\": \"barpolar\"}], \"carpet\": [{\"aaxis\": {\"endlinecolor\": \"#2a3f5f\", \"gridcolor\": \"white\", \"linecolor\": \"white\", \"minorgridcolor\": \"white\", \"startlinecolor\": \"#2a3f5f\"}, \"baxis\": {\"endlinecolor\": \"#2a3f5f\", \"gridcolor\": \"white\", \"linecolor\": \"white\", \"minorgridcolor\": \"white\", \"startlinecolor\": \"#2a3f5f\"}, \"type\": \"carpet\"}], \"choropleth\": [{\"colorbar\": {\"outlinewidth\": 0, \"ticks\": \"\"}, \"type\": \"choropleth\"}], \"contour\": [{\"colorbar\": {\"outlinewidth\": 0, \"ticks\": \"\"}, \"colorscale\": [[0.0, \"#0d0887\"], [0.1111111111111111, \"#46039f\"], [0.2222222222222222, \"#7201a8\"], [0.3333333333333333, \"#9c179e\"], [0.4444444444444444, \"#bd3786\"], [0.5555555555555556, \"#d8576b\"], [0.6666666666666666, \"#ed7953\"], [0.7777777777777778, \"#fb9f3a\"], [0.8888888888888888, \"#fdca26\"], [1.0, \"#f0f921\"]], \"type\": \"contour\"}], \"contourcarpet\": [{\"colorbar\": {\"outlinewidth\": 0, \"ticks\": \"\"}, \"type\": \"contourcarpet\"}], \"heatmap\": [{\"colorbar\": {\"outlinewidth\": 0, \"ticks\": \"\"}, \"colorscale\": [[0.0, \"#0d0887\"], [0.1111111111111111, \"#46039f\"], [0.2222222222222222, \"#7201a8\"], [0.3333333333333333, \"#9c179e\"], [0.4444444444444444, \"#bd3786\"], [0.5555555555555556, \"#d8576b\"], [0.6666666666666666, \"#ed7953\"], [0.7777777777777778, \"#fb9f3a\"], [0.8888888888888888, \"#fdca26\"], [1.0, \"#f0f921\"]], \"type\": \"heatmap\"}], \"heatmapgl\": [{\"colorbar\": {\"outlinewidth\": 0, \"ticks\": \"\"}, \"colorscale\": [[0.0, \"#0d0887\"], [0.1111111111111111, \"#46039f\"], [0.2222222222222222, \"#7201a8\"], [0.3333333333333333, \"#9c179e\"], [0.4444444444444444, \"#bd3786\"], [0.5555555555555556, \"#d8576b\"], [0.6666666666666666, \"#ed7953\"], [0.7777777777777778, \"#fb9f3a\"], [0.8888888888888888, \"#fdca26\"], [1.0, \"#f0f921\"]], \"type\": \"heatmapgl\"}], \"histogram\": [{\"marker\": {\"colorbar\": {\"outlinewidth\": 0, \"ticks\": \"\"}}, \"type\": \"histogram\"}], \"histogram2d\": [{\"colorbar\": {\"outlinewidth\": 0, \"ticks\": \"\"}, \"colorscale\": [[0.0, \"#0d0887\"], [0.1111111111111111, \"#46039f\"], [0.2222222222222222, \"#7201a8\"], [0.3333333333333333, \"#9c179e\"], [0.4444444444444444, \"#bd3786\"], [0.5555555555555556, \"#d8576b\"], [0.6666666666666666, \"#ed7953\"], [0.7777777777777778, \"#fb9f3a\"], [0.8888888888888888, \"#fdca26\"], [1.0, \"#f0f921\"]], \"type\": \"histogram2d\"}], \"histogram2dcontour\": [{\"colorbar\": {\"outlinewidth\": 0, \"ticks\": \"\"}, \"colorscale\": [[0.0, \"#0d0887\"], [0.1111111111111111, \"#46039f\"], [0.2222222222222222, \"#7201a8\"], [0.3333333333333333, \"#9c179e\"], [0.4444444444444444, \"#bd3786\"], [0.5555555555555556, \"#d8576b\"], [0.6666666666666666, \"#ed7953\"], [0.7777777777777778, \"#fb9f3a\"], [0.8888888888888888, \"#fdca26\"], [1.0, \"#f0f921\"]], \"type\": \"histogram2dcontour\"}], \"mesh3d\": [{\"colorbar\": {\"outlinewidth\": 0, \"ticks\": \"\"}, \"type\": \"mesh3d\"}], \"parcoords\": [{\"line\": {\"colorbar\": {\"outlinewidth\": 0, \"ticks\": \"\"}}, \"type\": \"parcoords\"}], \"pie\": [{\"automargin\": true, \"type\": \"pie\"}], \"scatter\": [{\"marker\": {\"colorbar\": {\"outlinewidth\": 0, \"ticks\": \"\"}}, \"type\": \"scatter\"}], \"scatter3d\": [{\"line\": {\"colorbar\": {\"outlinewidth\": 0, \"ticks\": \"\"}}, \"marker\": {\"colorbar\": {\"outlinewidth\": 0, \"ticks\": \"\"}}, \"type\": \"scatter3d\"}], \"scattercarpet\": [{\"marker\": {\"colorbar\": {\"outlinewidth\": 0, \"ticks\": \"\"}}, \"type\": \"scattercarpet\"}], \"scattergeo\": [{\"marker\": {\"colorbar\": {\"outlinewidth\": 0, \"ticks\": \"\"}}, \"type\": \"scattergeo\"}], \"scattergl\": [{\"marker\": {\"colorbar\": {\"outlinewidth\": 0, \"ticks\": \"\"}}, \"type\": \"scattergl\"}], \"scattermapbox\": [{\"marker\": {\"colorbar\": {\"outlinewidth\": 0, \"ticks\": \"\"}}, \"type\": \"scattermapbox\"}], \"scatterpolar\": [{\"marker\": {\"colorbar\": {\"outlinewidth\": 0, \"ticks\": \"\"}}, \"type\": \"scatterpolar\"}], \"scatterpolargl\": [{\"marker\": {\"colorbar\": {\"outlinewidth\": 0, \"ticks\": \"\"}}, \"type\": \"scatterpolargl\"}], \"scatterternary\": [{\"marker\": {\"colorbar\": {\"outlinewidth\": 0, \"ticks\": \"\"}}, \"type\": \"scatterternary\"}], \"surface\": [{\"colorbar\": {\"outlinewidth\": 0, \"ticks\": \"\"}, \"colorscale\": [[0.0, \"#0d0887\"], [0.1111111111111111, \"#46039f\"], [0.2222222222222222, \"#7201a8\"], [0.3333333333333333, \"#9c179e\"], [0.4444444444444444, \"#bd3786\"], [0.5555555555555556, \"#d8576b\"], [0.6666666666666666, \"#ed7953\"], [0.7777777777777778, \"#fb9f3a\"], [0.8888888888888888, \"#fdca26\"], [1.0, \"#f0f921\"]], \"type\": \"surface\"}], \"table\": [{\"cells\": {\"fill\": {\"color\": \"#EBF0F8\"}, \"line\": {\"color\": \"white\"}}, \"header\": {\"fill\": {\"color\": \"#C8D4E3\"}, \"line\": {\"color\": \"white\"}}, \"type\": \"table\"}]}, \"layout\": {\"annotationdefaults\": {\"arrowcolor\": \"#2a3f5f\", \"arrowhead\": 0, \"arrowwidth\": 1}, \"autotypenumbers\": \"strict\", \"coloraxis\": {\"colorbar\": {\"outlinewidth\": 0, \"ticks\": \"\"}}, \"colorscale\": {\"diverging\": [[0, \"#8e0152\"], [0.1, \"#c51b7d\"], [0.2, \"#de77ae\"], [0.3, \"#f1b6da\"], [0.4, \"#fde0ef\"], [0.5, \"#f7f7f7\"], [0.6, \"#e6f5d0\"], [0.7, \"#b8e186\"], [0.8, \"#7fbc41\"], [0.9, \"#4d9221\"], [1, \"#276419\"]], \"sequential\": [[0.0, \"#0d0887\"], [0.1111111111111111, \"#46039f\"], [0.2222222222222222, \"#7201a8\"], [0.3333333333333333, \"#9c179e\"], [0.4444444444444444, \"#bd3786\"], [0.5555555555555556, \"#d8576b\"], [0.6666666666666666, \"#ed7953\"], [0.7777777777777778, \"#fb9f3a\"], [0.8888888888888888, \"#fdca26\"], [1.0, \"#f0f921\"]], \"sequentialminus\": [[0.0, \"#0d0887\"], [0.1111111111111111, \"#46039f\"], [0.2222222222222222, \"#7201a8\"], [0.3333333333333333, \"#9c179e\"], [0.4444444444444444, \"#bd3786\"], [0.5555555555555556, \"#d8576b\"], [0.6666666666666666, \"#ed7953\"], [0.7777777777777778, \"#fb9f3a\"], [0.8888888888888888, \"#fdca26\"], [1.0, \"#f0f921\"]]}, \"colorway\": [\"#636efa\", \"#EF553B\", \"#00cc96\", \"#ab63fa\", \"#FFA15A\", \"#19d3f3\", \"#FF6692\", \"#B6E880\", \"#FF97FF\", \"#FECB52\"], \"font\": {\"color\": \"#2a3f5f\"}, \"geo\": {\"bgcolor\": \"white\", \"lakecolor\": \"white\", \"landcolor\": \"#E5ECF6\", \"showlakes\": true, \"showland\": true, \"subunitcolor\": \"white\"}, \"hoverlabel\": {\"align\": \"left\"}, \"hovermode\": \"closest\", \"mapbox\": {\"style\": \"light\"}, \"paper_bgcolor\": \"white\", \"plot_bgcolor\": \"#E5ECF6\", \"polar\": {\"angularaxis\": {\"gridcolor\": \"white\", \"linecolor\": \"white\", \"ticks\": \"\"}, \"bgcolor\": \"#E5ECF6\", \"radialaxis\": {\"gridcolor\": \"white\", \"linecolor\": \"white\", \"ticks\": \"\"}}, \"scene\": {\"xaxis\": {\"backgroundcolor\": \"#E5ECF6\", \"gridcolor\": \"white\", \"gridwidth\": 2, \"linecolor\": \"white\", \"showbackground\": true, \"ticks\": \"\", \"zerolinecolor\": \"white\"}, \"yaxis\": {\"backgroundcolor\": \"#E5ECF6\", \"gridcolor\": \"white\", \"gridwidth\": 2, \"linecolor\": \"white\", \"showbackground\": true, \"ticks\": \"\", \"zerolinecolor\": \"white\"}, \"zaxis\": {\"backgroundcolor\": \"#E5ECF6\", \"gridcolor\": \"white\", \"gridwidth\": 2, \"linecolor\": \"white\", \"showbackground\": true, \"ticks\": \"\", \"zerolinecolor\": \"white\"}}, \"shapedefaults\": {\"line\": {\"color\": \"#2a3f5f\"}}, \"ternary\": {\"aaxis\": {\"gridcolor\": \"white\", \"linecolor\": \"white\", \"ticks\": \"\"}, \"baxis\": {\"gridcolor\": \"white\", \"linecolor\": \"white\", \"ticks\": \"\"}, \"bgcolor\": \"#E5ECF6\", \"caxis\": {\"gridcolor\": \"white\", \"linecolor\": \"white\", \"ticks\": \"\"}}, \"title\": {\"x\": 0.05}, \"xaxis\": {\"automargin\": true, \"gridcolor\": \"white\", \"linecolor\": \"white\", \"ticks\": \"\", \"title\": {\"standoff\": 15}, \"zerolinecolor\": \"white\", \"zerolinewidth\": 2}, \"yaxis\": {\"automargin\": true, \"gridcolor\": \"white\", \"linecolor\": \"white\", \"ticks\": \"\", \"title\": {\"standoff\": 15}, \"zerolinecolor\": \"white\", \"zerolinewidth\": 2}}}, \"title\": {\"font\": {\"color\": \"#4D5663\"}, \"text\": \"Thematic ETF Clusters\"}, \"xaxis\": {\"gridcolor\": \"#E1E5ED\", \"showgrid\": true, \"tickfont\": {\"color\": \"#4D5663\"}, \"title\": {\"font\": {\"color\": \"#4D5663\"}, \"text\": \"Volatility\"}, \"zerolinecolor\": \"#E1E5ED\"}, \"yaxis\": {\"gridcolor\": \"#E1E5ED\", \"showgrid\": true, \"tickfont\": {\"color\": \"#4D5663\"}, \"title\": {\"font\": {\"color\": \"#4D5663\"}, \"text\": \"Return\"}, \"zerolinecolor\": \"#E1E5ED\"}},                        {\"showLink\": true, \"linkText\": \"Export to plot.ly\", \"plotlyServerURL\": \"https://plot.ly\", \"responsive\": true}                    ).then(function(){\n",
       "                            \n",
       "var gd = document.getElementById('80b891a0-6cc9-4e98-86df-e739d0fbc7f8');\n",
       "var x = new MutationObserver(function (mutations, observer) {{\n",
       "        var display = window.getComputedStyle(gd).display;\n",
       "        if (!display || display === 'none') {{\n",
       "            console.log([gd, 'removed!']);\n",
       "            Plotly.purge(gd);\n",
       "            observer.disconnect();\n",
       "        }}\n",
       "}});\n",
       "\n",
       "// Listen for the removal of the full notebook cells\n",
       "var notebookContainer = gd.closest('#notebook-container');\n",
       "if (notebookContainer) {{\n",
       "    x.observe(notebookContainer, {childList: true});\n",
       "}}\n",
       "\n",
       "// Listen for the clearing of the current output cell\n",
       "var outputEl = gd.closest('.output');\n",
       "if (outputEl) {{\n",
       "    x.observe(outputEl, {childList: true});\n",
       "}}\n",
       "\n",
       "                        })                };                });            </script>        </div>"
      ]
     },
     "metadata": {},
     "output_type": "display_data"
    }
   ],
   "source": [
    "# Ignore warnings\n",
    "import warnings\n",
    "warnings.filterwarnings('ignore')\n",
    "\n",
    "# PCA analysis with 4 components\n",
    "pca_final = PCA(n_components=4)\n",
    "pca_final_result = pca_final.fit_transform(dataset_scaled)\n",
    "\n",
    "# K Means Clustering with 4 clusters\n",
    "km_final = KMeans(n_clusters=4).fit(pca_final_result)\n",
    "\n",
    "# plotting\n",
    "dataset_final['label'] = km_final.labels_\n",
    "dataset_final['ticker'] = dataset_final.index\n",
    "dataset_final[['label']] = dataset_final[['label']].astype('float64', copy=False) #converting label column to float64 to be able to use in plotly\n",
    "dataset_final.iplot(kind='scatter', x='Volatility',y='Return', mode ='markers', categories='label', text='ticker',\n",
    "                   title='Thematic ETF Clusters', xTitle='Volatility', yTitle='Return', legend=False)\n"
   ]
  },
  {
   "cell_type": "markdown",
   "id": "engaging-syntax",
   "metadata": {},
   "source": [
    "Although this 2-D graph cannot fully illustrate the similarities, we can see that those ETFs seem to cluster according to Return and Volatility to some extent. The table below more clearly lists out the ETFs in each of the clusters."
   ]
  },
  {
   "cell_type": "code",
   "execution_count": 32,
   "id": "impossible-boost",
   "metadata": {},
   "outputs": [
    {
     "data": {
      "text/html": [
       "<div>\n",
       "<style scoped>\n",
       "    .dataframe tbody tr th:only-of-type {\n",
       "        vertical-align: middle;\n",
       "    }\n",
       "\n",
       "    .dataframe tbody tr th {\n",
       "        vertical-align: top;\n",
       "    }\n",
       "\n",
       "    .dataframe thead th {\n",
       "        text-align: right;\n",
       "    }\n",
       "</style>\n",
       "<table border=\"1\" class=\"dataframe\">\n",
       "  <thead>\n",
       "    <tr style=\"text-align: right;\">\n",
       "      <th></th>\n",
       "      <th>Cluster 1</th>\n",
       "      <th>Cluster 2</th>\n",
       "      <th>Cluster 3</th>\n",
       "      <th>Cluster 4</th>\n",
       "    </tr>\n",
       "  </thead>\n",
       "  <tbody>\n",
       "    <tr>\n",
       "      <th>0</th>\n",
       "      <td>ETFMG Alternative Harvest ETF</td>\n",
       "      <td>ARK Innovation ETF</td>\n",
       "      <td>iShares Global Clean Energy ETF</td>\n",
       "      <td>FlexShares Morningstar Global Upstream Natural...</td>\n",
       "    </tr>\n",
       "    <tr>\n",
       "      <th>1</th>\n",
       "      <td>AdvisorShares Pure Cannabis ETF</td>\n",
       "      <td>ARK Next Generation Internet ETF</td>\n",
       "      <td>iShares Global Infrastructure ETF</td>\n",
       "      <td>SPDR S&amp;P Global Natural Resources ETF</td>\n",
       "    </tr>\n",
       "    <tr>\n",
       "      <th>2</th>\n",
       "      <td>ProShares Pet Care ETF</td>\n",
       "      <td>ARK Fintech Innovation ETF</td>\n",
       "      <td>Global X U.S. Infrastructure Development ETF</td>\n",
       "      <td>VanEck Vectors Agribusiness ETF</td>\n",
       "    </tr>\n",
       "    <tr>\n",
       "      <th>3</th>\n",
       "      <td>Global X Aging Population ETF</td>\n",
       "      <td>First Trust NASDAQ Cybersecurity ETF</td>\n",
       "      <td>FlexShares STOXX Global Broad Infrastructure I...</td>\n",
       "      <td>Global X Uranium ETF</td>\n",
       "    </tr>\n",
       "    <tr>\n",
       "      <th>4</th>\n",
       "      <td>The Long-Term Care ETF</td>\n",
       "      <td>ARK Autonomous Technology &amp; Robotics ETF</td>\n",
       "      <td>Invesco Water Resources ETF</td>\n",
       "      <td>SPDR S&amp;P North American Natural Resources ETF</td>\n",
       "    </tr>\n",
       "    <tr>\n",
       "      <th>5</th>\n",
       "      <td></td>\n",
       "      <td>Invesco Solar ETF</td>\n",
       "      <td>First Trust Water ETF</td>\n",
       "      <td>iShares Global Timber &amp; Forestry ETF</td>\n",
       "    </tr>\n",
       "    <tr>\n",
       "      <th>6</th>\n",
       "      <td></td>\n",
       "      <td>Global X Lithium &amp; Battery Tech ETF</td>\n",
       "      <td>Invesco S&amp;P Global Water Index ETF</td>\n",
       "      <td>iShares North American Natural Resources ETF</td>\n",
       "    </tr>\n",
       "    <tr>\n",
       "      <th>7</th>\n",
       "      <td></td>\n",
       "      <td>First Trust NASDAQ Clean Edge Green Energy Ind...</td>\n",
       "      <td>iShares U.S. Infrastructure ETF</td>\n",
       "      <td>Columbia Emerging Markets Consumer ETF</td>\n",
       "    </tr>\n",
       "    <tr>\n",
       "      <th>8</th>\n",
       "      <td></td>\n",
       "      <td>Global X Robotics &amp; Artificial Intelligence ETF</td>\n",
       "      <td>SPDR S&amp;P Global Infrastructure ETF</td>\n",
       "      <td>Amplify Lithium &amp; Battery Technology ETF</td>\n",
       "    </tr>\n",
       "    <tr>\n",
       "      <th>9</th>\n",
       "      <td></td>\n",
       "      <td>Invesco WilderHill Clean Energy ETF</td>\n",
       "      <td>First Trust Global Wind Energy ETF</td>\n",
       "      <td>Invesco MSCI Global Timber ETF</td>\n",
       "    </tr>\n",
       "    <tr>\n",
       "      <th>10</th>\n",
       "      <td></td>\n",
       "      <td>ETFMG Prime Cyber Security ETF</td>\n",
       "      <td>First Trust NASDAQ Clean Edge Smart Grid Infra...</td>\n",
       "      <td>Columbia India Consumer ETF</td>\n",
       "    </tr>\n",
       "    <tr>\n",
       "      <th>11</th>\n",
       "      <td></td>\n",
       "      <td>SPDR S&amp;P Kensho New Economies Composite ETF</td>\n",
       "      <td>Invesco Global Water ETF</td>\n",
       "      <td>iShares MSCI Global Agriculture Producers ETF</td>\n",
       "    </tr>\n",
       "    <tr>\n",
       "      <th>12</th>\n",
       "      <td></td>\n",
       "      <td>ROBO Global Robotics and Automation Index ETF</td>\n",
       "      <td>ProShares DJ Brookfield Global Infrastructure ETF</td>\n",
       "      <td>VanEck Vectors Natural Resources ETF</td>\n",
       "    </tr>\n",
       "    <tr>\n",
       "      <th>13</th>\n",
       "      <td></td>\n",
       "      <td>ETFMG Prime Mobile Payments ETF</td>\n",
       "      <td>Global X Renewable Energy Producers ETF</td>\n",
       "      <td>Global X Health &amp; Wellness ETF</td>\n",
       "    </tr>\n",
       "    <tr>\n",
       "      <th>14</th>\n",
       "      <td></td>\n",
       "      <td>Amplify Transformational Data Sharing ETF</td>\n",
       "      <td>VanEck Vectors Environmental Services ETF</td>\n",
       "      <td>First Trust Indxx Global Natural Resources Inc...</td>\n",
       "    </tr>\n",
       "    <tr>\n",
       "      <th>15</th>\n",
       "      <td></td>\n",
       "      <td>Global X FinTech ETF</td>\n",
       "      <td>SPDR S&amp;P Kensho Intelligent Structures ETF</td>\n",
       "      <td>IQ Global Resources ETF</td>\n",
       "    </tr>\n",
       "    <tr>\n",
       "      <th>16</th>\n",
       "      <td></td>\n",
       "      <td>Defiance Next Gen Connectivity ETF</td>\n",
       "      <td>Ecofin Global Water ESG Fund</td>\n",
       "      <td>KraneShares MSCI One Belt One Road Index ETF</td>\n",
       "    </tr>\n",
       "    <tr>\n",
       "      <th>17</th>\n",
       "      <td></td>\n",
       "      <td>First Trust Indxx NextG ETF</td>\n",
       "      <td>VanEck Vectors Uranium+Nuclear Energy ETF</td>\n",
       "      <td>First Trust Indxx Global Agriculture ETF</td>\n",
       "    </tr>\n",
       "    <tr>\n",
       "      <th>18</th>\n",
       "      <td></td>\n",
       "      <td>ALPS Clean Energy ETF</td>\n",
       "      <td>iShares Emerging Markets Infrastructure ETF</td>\n",
       "      <td></td>\n",
       "    </tr>\n",
       "    <tr>\n",
       "      <th>19</th>\n",
       "      <td></td>\n",
       "      <td>Global X Autonomous &amp; Electric Vehicles ETF</td>\n",
       "      <td>Legg Mason Global Infrastructure ETF</td>\n",
       "      <td></td>\n",
       "    </tr>\n",
       "    <tr>\n",
       "      <th>20</th>\n",
       "      <td></td>\n",
       "      <td>VanEck Vectors Video Gaming and eSports ETF</td>\n",
       "      <td></td>\n",
       "      <td></td>\n",
       "    </tr>\n",
       "    <tr>\n",
       "      <th>21</th>\n",
       "      <td></td>\n",
       "      <td>iShares MSCI ACWI Low Carbon Target ETF</td>\n",
       "      <td></td>\n",
       "      <td></td>\n",
       "    </tr>\n",
       "    <tr>\n",
       "      <th>22</th>\n",
       "      <td></td>\n",
       "      <td>3D Printing ETF</td>\n",
       "      <td></td>\n",
       "      <td></td>\n",
       "    </tr>\n",
       "    <tr>\n",
       "      <th>23</th>\n",
       "      <td></td>\n",
       "      <td>Invesco MSCI Sustainable Future ETF</td>\n",
       "      <td></td>\n",
       "      <td></td>\n",
       "    </tr>\n",
       "    <tr>\n",
       "      <th>24</th>\n",
       "      <td></td>\n",
       "      <td>Global X Social Media ETF</td>\n",
       "      <td></td>\n",
       "      <td></td>\n",
       "    </tr>\n",
       "    <tr>\n",
       "      <th>25</th>\n",
       "      <td></td>\n",
       "      <td>iShares Robotics and Artificial Intelligence M...</td>\n",
       "      <td></td>\n",
       "      <td></td>\n",
       "    </tr>\n",
       "    <tr>\n",
       "      <th>26</th>\n",
       "      <td></td>\n",
       "      <td>Invesco Global Clean Energy ETF</td>\n",
       "      <td></td>\n",
       "      <td></td>\n",
       "    </tr>\n",
       "    <tr>\n",
       "      <th>27</th>\n",
       "      <td></td>\n",
       "      <td>Global X Internet of Things ETF</td>\n",
       "      <td></td>\n",
       "      <td></td>\n",
       "    </tr>\n",
       "    <tr>\n",
       "      <th>28</th>\n",
       "      <td></td>\n",
       "      <td>VanEck Vectors Low Carbon Energy ETF</td>\n",
       "      <td></td>\n",
       "      <td></td>\n",
       "    </tr>\n",
       "    <tr>\n",
       "      <th>29</th>\n",
       "      <td></td>\n",
       "      <td>SPDR S&amp;P Kensho Clean Power ETF</td>\n",
       "      <td></td>\n",
       "      <td></td>\n",
       "    </tr>\n",
       "    <tr>\n",
       "      <th>30</th>\n",
       "      <td></td>\n",
       "      <td>iShares Self-Driving EV and Tech ETF</td>\n",
       "      <td></td>\n",
       "      <td></td>\n",
       "    </tr>\n",
       "    <tr>\n",
       "      <th>31</th>\n",
       "      <td></td>\n",
       "      <td>Siren Nasdaq NexGen Economy ETF</td>\n",
       "      <td></td>\n",
       "      <td></td>\n",
       "    </tr>\n",
       "    <tr>\n",
       "      <th>32</th>\n",
       "      <td></td>\n",
       "      <td>SPDR S&amp;P Kensho Smart Mobility ETF</td>\n",
       "      <td></td>\n",
       "      <td></td>\n",
       "    </tr>\n",
       "    <tr>\n",
       "      <th>33</th>\n",
       "      <td></td>\n",
       "      <td>Global X E-commerce ETF</td>\n",
       "      <td></td>\n",
       "      <td></td>\n",
       "    </tr>\n",
       "    <tr>\n",
       "      <th>34</th>\n",
       "      <td></td>\n",
       "      <td>First Trust Nasdaq Artificial Intelligence and...</td>\n",
       "      <td></td>\n",
       "      <td></td>\n",
       "    </tr>\n",
       "    <tr>\n",
       "      <th>35</th>\n",
       "      <td></td>\n",
       "      <td>Global X Artificial Intelligence &amp; Technology ETF</td>\n",
       "      <td></td>\n",
       "      <td></td>\n",
       "    </tr>\n",
       "    <tr>\n",
       "      <th>36</th>\n",
       "      <td></td>\n",
       "      <td>KraneShares Electric Vehicles and Future Mobil...</td>\n",
       "      <td></td>\n",
       "      <td></td>\n",
       "    </tr>\n",
       "    <tr>\n",
       "      <th>37</th>\n",
       "      <td></td>\n",
       "      <td>Global X Millennial Consumer ETF</td>\n",
       "      <td></td>\n",
       "      <td></td>\n",
       "    </tr>\n",
       "    <tr>\n",
       "      <th>38</th>\n",
       "      <td></td>\n",
       "      <td>Wedbush ETFMG Video Game Tech ETF</td>\n",
       "      <td></td>\n",
       "      <td></td>\n",
       "    </tr>\n",
       "    <tr>\n",
       "      <th>39</th>\n",
       "      <td></td>\n",
       "      <td>SPDR MSCI ACWI Low Carbon Target ETF</td>\n",
       "      <td></td>\n",
       "      <td></td>\n",
       "    </tr>\n",
       "    <tr>\n",
       "      <th>40</th>\n",
       "      <td></td>\n",
       "      <td>Principal Millennials Index ETF</td>\n",
       "      <td></td>\n",
       "      <td></td>\n",
       "    </tr>\n",
       "    <tr>\n",
       "      <th>41</th>\n",
       "      <td></td>\n",
       "      <td>First Trust Indxx Innovative Transaction &amp; Pro...</td>\n",
       "      <td></td>\n",
       "      <td></td>\n",
       "    </tr>\n",
       "    <tr>\n",
       "      <th>42</th>\n",
       "      <td></td>\n",
       "      <td>Direxion Daily Robotics, Artificial Intelligen...</td>\n",
       "      <td></td>\n",
       "      <td></td>\n",
       "    </tr>\n",
       "    <tr>\n",
       "      <th>43</th>\n",
       "      <td></td>\n",
       "      <td>Capital Link Global Fintech Leaders ETF</td>\n",
       "      <td></td>\n",
       "      <td></td>\n",
       "    </tr>\n",
       "    <tr>\n",
       "      <th>44</th>\n",
       "      <td></td>\n",
       "      <td>Ecofin Digital Payments Infrastructure Fund</td>\n",
       "      <td></td>\n",
       "      <td></td>\n",
       "    </tr>\n",
       "    <tr>\n",
       "      <th>45</th>\n",
       "      <td></td>\n",
       "      <td>Capital Link Global Green Energy Transport and...</td>\n",
       "      <td></td>\n",
       "      <td></td>\n",
       "    </tr>\n",
       "  </tbody>\n",
       "</table>\n",
       "</div>"
      ],
      "text/plain": [
       "                          Cluster 1  \\\n",
       "0     ETFMG Alternative Harvest ETF   \n",
       "1   AdvisorShares Pure Cannabis ETF   \n",
       "2            ProShares Pet Care ETF   \n",
       "3     Global X Aging Population ETF   \n",
       "4            The Long-Term Care ETF   \n",
       "5                                     \n",
       "6                                     \n",
       "7                                     \n",
       "8                                     \n",
       "9                                     \n",
       "10                                    \n",
       "11                                    \n",
       "12                                    \n",
       "13                                    \n",
       "14                                    \n",
       "15                                    \n",
       "16                                    \n",
       "17                                    \n",
       "18                                    \n",
       "19                                    \n",
       "20                                    \n",
       "21                                    \n",
       "22                                    \n",
       "23                                    \n",
       "24                                    \n",
       "25                                    \n",
       "26                                    \n",
       "27                                    \n",
       "28                                    \n",
       "29                                    \n",
       "30                                    \n",
       "31                                    \n",
       "32                                    \n",
       "33                                    \n",
       "34                                    \n",
       "35                                    \n",
       "36                                    \n",
       "37                                    \n",
       "38                                    \n",
       "39                                    \n",
       "40                                    \n",
       "41                                    \n",
       "42                                    \n",
       "43                                    \n",
       "44                                    \n",
       "45                                    \n",
       "\n",
       "                                            Cluster 2  \\\n",
       "0                                  ARK Innovation ETF   \n",
       "1                    ARK Next Generation Internet ETF   \n",
       "2                          ARK Fintech Innovation ETF   \n",
       "3                First Trust NASDAQ Cybersecurity ETF   \n",
       "4            ARK Autonomous Technology & Robotics ETF   \n",
       "5                                   Invesco Solar ETF   \n",
       "6                 Global X Lithium & Battery Tech ETF   \n",
       "7   First Trust NASDAQ Clean Edge Green Energy Ind...   \n",
       "8     Global X Robotics & Artificial Intelligence ETF   \n",
       "9                 Invesco WilderHill Clean Energy ETF   \n",
       "10                     ETFMG Prime Cyber Security ETF   \n",
       "11        SPDR S&P Kensho New Economies Composite ETF   \n",
       "12      ROBO Global Robotics and Automation Index ETF   \n",
       "13                    ETFMG Prime Mobile Payments ETF   \n",
       "14          Amplify Transformational Data Sharing ETF   \n",
       "15                               Global X FinTech ETF   \n",
       "16                 Defiance Next Gen Connectivity ETF   \n",
       "17                        First Trust Indxx NextG ETF   \n",
       "18                              ALPS Clean Energy ETF   \n",
       "19        Global X Autonomous & Electric Vehicles ETF   \n",
       "20        VanEck Vectors Video Gaming and eSports ETF   \n",
       "21            iShares MSCI ACWI Low Carbon Target ETF   \n",
       "22                                    3D Printing ETF   \n",
       "23                Invesco MSCI Sustainable Future ETF   \n",
       "24                          Global X Social Media ETF   \n",
       "25  iShares Robotics and Artificial Intelligence M...   \n",
       "26                    Invesco Global Clean Energy ETF   \n",
       "27                    Global X Internet of Things ETF   \n",
       "28               VanEck Vectors Low Carbon Energy ETF   \n",
       "29                    SPDR S&P Kensho Clean Power ETF   \n",
       "30               iShares Self-Driving EV and Tech ETF   \n",
       "31                    Siren Nasdaq NexGen Economy ETF   \n",
       "32                 SPDR S&P Kensho Smart Mobility ETF   \n",
       "33                            Global X E-commerce ETF   \n",
       "34  First Trust Nasdaq Artificial Intelligence and...   \n",
       "35  Global X Artificial Intelligence & Technology ETF   \n",
       "36  KraneShares Electric Vehicles and Future Mobil...   \n",
       "37                   Global X Millennial Consumer ETF   \n",
       "38                  Wedbush ETFMG Video Game Tech ETF   \n",
       "39               SPDR MSCI ACWI Low Carbon Target ETF   \n",
       "40                    Principal Millennials Index ETF   \n",
       "41  First Trust Indxx Innovative Transaction & Pro...   \n",
       "42  Direxion Daily Robotics, Artificial Intelligen...   \n",
       "43            Capital Link Global Fintech Leaders ETF   \n",
       "44        Ecofin Digital Payments Infrastructure Fund   \n",
       "45  Capital Link Global Green Energy Transport and...   \n",
       "\n",
       "                                            Cluster 3  \\\n",
       "0                     iShares Global Clean Energy ETF   \n",
       "1                   iShares Global Infrastructure ETF   \n",
       "2        Global X U.S. Infrastructure Development ETF   \n",
       "3   FlexShares STOXX Global Broad Infrastructure I...   \n",
       "4                         Invesco Water Resources ETF   \n",
       "5                               First Trust Water ETF   \n",
       "6                  Invesco S&P Global Water Index ETF   \n",
       "7                     iShares U.S. Infrastructure ETF   \n",
       "8                  SPDR S&P Global Infrastructure ETF   \n",
       "9                  First Trust Global Wind Energy ETF   \n",
       "10  First Trust NASDAQ Clean Edge Smart Grid Infra...   \n",
       "11                           Invesco Global Water ETF   \n",
       "12  ProShares DJ Brookfield Global Infrastructure ETF   \n",
       "13            Global X Renewable Energy Producers ETF   \n",
       "14          VanEck Vectors Environmental Services ETF   \n",
       "15         SPDR S&P Kensho Intelligent Structures ETF   \n",
       "16                       Ecofin Global Water ESG Fund   \n",
       "17          VanEck Vectors Uranium+Nuclear Energy ETF   \n",
       "18        iShares Emerging Markets Infrastructure ETF   \n",
       "19               Legg Mason Global Infrastructure ETF   \n",
       "20                                                      \n",
       "21                                                      \n",
       "22                                                      \n",
       "23                                                      \n",
       "24                                                      \n",
       "25                                                      \n",
       "26                                                      \n",
       "27                                                      \n",
       "28                                                      \n",
       "29                                                      \n",
       "30                                                      \n",
       "31                                                      \n",
       "32                                                      \n",
       "33                                                      \n",
       "34                                                      \n",
       "35                                                      \n",
       "36                                                      \n",
       "37                                                      \n",
       "38                                                      \n",
       "39                                                      \n",
       "40                                                      \n",
       "41                                                      \n",
       "42                                                      \n",
       "43                                                      \n",
       "44                                                      \n",
       "45                                                      \n",
       "\n",
       "                                            Cluster 4  \n",
       "0   FlexShares Morningstar Global Upstream Natural...  \n",
       "1               SPDR S&P Global Natural Resources ETF  \n",
       "2                     VanEck Vectors Agribusiness ETF  \n",
       "3                                Global X Uranium ETF  \n",
       "4       SPDR S&P North American Natural Resources ETF  \n",
       "5                iShares Global Timber & Forestry ETF  \n",
       "6        iShares North American Natural Resources ETF  \n",
       "7              Columbia Emerging Markets Consumer ETF  \n",
       "8            Amplify Lithium & Battery Technology ETF  \n",
       "9                      Invesco MSCI Global Timber ETF  \n",
       "10                        Columbia India Consumer ETF  \n",
       "11      iShares MSCI Global Agriculture Producers ETF  \n",
       "12               VanEck Vectors Natural Resources ETF  \n",
       "13                     Global X Health & Wellness ETF  \n",
       "14  First Trust Indxx Global Natural Resources Inc...  \n",
       "15                            IQ Global Resources ETF  \n",
       "16       KraneShares MSCI One Belt One Road Index ETF  \n",
       "17           First Trust Indxx Global Agriculture ETF  \n",
       "18                                                     \n",
       "19                                                     \n",
       "20                                                     \n",
       "21                                                     \n",
       "22                                                     \n",
       "23                                                     \n",
       "24                                                     \n",
       "25                                                     \n",
       "26                                                     \n",
       "27                                                     \n",
       "28                                                     \n",
       "29                                                     \n",
       "30                                                     \n",
       "31                                                     \n",
       "32                                                     \n",
       "33                                                     \n",
       "34                                                     \n",
       "35                                                     \n",
       "36                                                     \n",
       "37                                                     \n",
       "38                                                     \n",
       "39                                                     \n",
       "40                                                     \n",
       "41                                                     \n",
       "42                                                     \n",
       "43                                                     \n",
       "44                                                     \n",
       "45                                                     "
      ]
     },
     "execution_count": 32,
     "metadata": {},
     "output_type": "execute_result"
    }
   ],
   "source": [
    "# create an empty dataframe\n",
    "labels=pd.DataFrame()\n",
    "\n",
    "# generate a table for ETFs within each cluster\n",
    "for i in range(0,max(km_final.labels_)+1):\n",
    "    label = pd.Series(dataset_final.loc[dataset_final['label'] == i].index, name='Cluster '+str(i+1))\n",
    "    labels=pd.concat([labels,label], axis=1)\n",
    "\n",
    "# replace NaN with blank cell\n",
    "labels = labels.replace(np.nan,'',regex=True)\n",
    "\n",
    "# print the table\n",
    "labels"
   ]
  },
  {
   "cell_type": "code",
   "execution_count": 33,
   "id": "clean-norfolk",
   "metadata": {},
   "outputs": [],
   "source": [
    "# export the tables to png file\n",
    "import dataframe_image as dfi\n",
    "dfi.export(labels,'labels.png')"
   ]
  },
  {
   "cell_type": "markdown",
   "id": "extreme-tennessee",
   "metadata": {},
   "source": [
    "A browse of individual ETFs reveals the mega trends within each of the clusters: \n",
    "* Cluster 1: natural resources and agriculture\n",
    "* Cluster 2: energy transition and automation\n",
    "* Cluster 3: clean energy and infrastructure\n",
    "* Cluster 4: aging population\n",
    "\n",
    "Cluster 2 is a big group. Another K Means Clustering may be performed to this cluster if we want to further break it down to smaller clusters."
   ]
  },
  {
   "cell_type": "markdown",
   "id": "upset-freedom",
   "metadata": {},
   "source": [
    "# Closing Thoughts"
   ]
  },
  {
   "cell_type": "markdown",
   "id": "forty-match",
   "metadata": {},
   "source": [
    "By simply supplying price and sector data of thematic ETFs, K Means Clustering appears to effectively identify 4 distinctive clusters. The popular mega trends are:  natural resources and agriculture, energy transition and automation, clean energy and infrastructure, and aging population. The \"energy transition and automation\" cluster is significantly larger than the other 3 clusters and another K Means Clustering can be conducted if a further split is needed. The research can potentially be improved by incorporating more thematic funds and individual stock holdings. Applying Natural Language Processing on the names of the ETFs may also shed some insight."
   ]
  }
 ],
 "metadata": {
  "hide_input": false,
  "kernelspec": {
   "display_name": "Python 3",
   "language": "python",
   "name": "python3"
  },
  "language_info": {
   "codemirror_mode": {
    "name": "ipython",
    "version": 3
   },
   "file_extension": ".py",
   "mimetype": "text/x-python",
   "name": "python",
   "nbconvert_exporter": "python",
   "pygments_lexer": "ipython3",
   "version": "3.8.5"
  },
  "latex_envs": {
   "LaTeX_envs_menu_present": true,
   "autoclose": false,
   "autocomplete": true,
   "bibliofile": "biblio.bib",
   "cite_by": "apalike",
   "current_citInitial": 1,
   "eqLabelWithNumbers": true,
   "eqNumInitial": 1,
   "hotkeys": {
    "equation": "Ctrl-E",
    "itemize": "Ctrl-I"
   },
   "labels_anchors": false,
   "latex_user_defs": false,
   "report_style_numbering": false,
   "user_envs_cfg": false
  },
  "toc": {
   "base_numbering": 1,
   "nav_menu": {},
   "number_sections": true,
   "sideBar": true,
   "skip_h1_title": false,
   "title_cell": "Table of Contents",
   "title_sidebar": "Contents",
   "toc_cell": false,
   "toc_position": {},
   "toc_section_display": true,
   "toc_window_display": false
  }
 },
 "nbformat": 4,
 "nbformat_minor": 5
}
